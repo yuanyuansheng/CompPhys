{
 "cells": [
  {
   "cell_type": "markdown",
   "metadata": {},
   "source": [
    "# Topics\n",
    "\n",
    "## 1. Variables\n",
    "## 2. Loops"
   ]
  },
  {
   "cell_type": "markdown",
   "metadata": {},
   "source": [
    "## Variables -- Equality vs. Assignment"
   ]
  },
  {
   "cell_type": "code",
   "execution_count": 1,
   "metadata": {},
   "outputs": [
    {
     "data": {
      "text/plain": [
       "11"
      ]
     },
     "execution_count": 1,
     "metadata": {},
     "output_type": "execute_result"
    }
   ],
   "source": [
    "a = 10\n",
    "a = a + 1  \n",
    "a"
   ]
  },
  {
   "cell_type": "code",
   "execution_count": 2,
   "metadata": {},
   "outputs": [
    {
     "data": {
      "text/plain": [
       "False"
      ]
     },
     "execution_count": 2,
     "metadata": {},
     "output_type": "execute_result"
    }
   ],
   "source": [
    "a = 10\n",
    "a == a+1"
   ]
  },
  {
   "cell_type": "code",
   "execution_count": 4,
   "metadata": {},
   "outputs": [
    {
     "name": "stdout",
     "output_type": "stream",
     "text": [
      "1.6666666666666667\n",
      "1.0\n"
     ]
    }
   ],
   "source": [
    "# float vs. int\n",
    "a = 5\n",
    "b = 3\n",
    "print(a/b)\n",
    "c = 5.\n",
    "d = 3.\n",
    "print(c//d)"
   ]
  },
  {
   "cell_type": "code",
   "execution_count": 5,
   "metadata": {},
   "outputs": [
    {
     "name": "stdout",
     "output_type": "stream",
     "text": [
      "hello world\n"
     ]
    }
   ],
   "source": [
    "# str\n",
    "a = 'hello'\n",
    "space = ' '\n",
    "b = 'world'\n",
    "print(a + space + b)\n"
   ]
  },
  {
   "cell_type": "code",
   "execution_count": 6,
   "metadata": {},
   "outputs": [
    {
     "name": "stdout",
     "output_type": "stream",
     "text": [
      "True\n",
      "False\n",
      "True\n",
      "True\n",
      "False\n"
     ]
    }
   ],
   "source": [
    "# Boolean variables/expressions are those that evaluate to True or False.\n",
    "a = 2\n",
    "print(a < a+1)\n",
    "print(a > a+1)\n",
    "print(a != a+1)\n",
    "print(a <= a+1)\n",
    "print(not a <= a+1)"
   ]
  },
  {
   "cell_type": "code",
   "execution_count": 7,
   "metadata": {},
   "outputs": [
    {
     "data": {
      "text/plain": [
       "bool"
      ]
     },
     "execution_count": 7,
     "metadata": {},
     "output_type": "execute_result"
    }
   ],
   "source": [
    "#A variable that is either True or False is a boolean type variable.\n",
    "b = a < a+1\n",
    "type(b)"
   ]
  },
  {
   "cell_type": "code",
   "execution_count": 8,
   "metadata": {},
   "outputs": [
    {
     "name": "stdout",
     "output_type": "stream",
     "text": [
      "1\n",
      "0\n"
     ]
    }
   ],
   "source": [
    "# True or False equivalent to 1 or 0\n",
    "a = 10\n",
    "print(int(a < a+1))\n",
    "print(int(a > a+1))\n"
   ]
  },
  {
   "cell_type": "code",
   "execution_count": 9,
   "metadata": {},
   "outputs": [
    {
     "name": "stdout",
     "output_type": "stream",
     "text": [
      "12\n"
     ]
    }
   ],
   "source": [
    "a = 10\n",
    "inc = 2\n",
    "a += inc\n",
    "print(a)"
   ]
  },
  {
   "cell_type": "code",
   "execution_count": 10,
   "metadata": {},
   "outputs": [
    {
     "name": "stdout",
     "output_type": "stream",
     "text": [
      "8\n",
      "16\n",
      "8.0\n"
     ]
    }
   ],
   "source": [
    "a = 10\n",
    "chng = 2\n",
    "a -= chng\n",
    "print(a)\n",
    "a *= chng\n",
    "print(a)\n",
    "a /= chng\n",
    "print(a)"
   ]
  },
  {
   "cell_type": "markdown",
   "metadata": {},
   "source": [
    "# Loops"
   ]
  },
  {
   "cell_type": "code",
   "execution_count": 14,
   "metadata": {},
   "outputs": [
    {
     "name": "stdout",
     "output_type": "stream",
     "text": [
      "New iteration:\n",
      "In the loop: True\n",
      "  -20 -4.00\n",
      "\n",
      "New iteration:\n",
      "In the loop: True\n",
      "  -15  5.00\n",
      "\n",
      "New iteration:\n",
      "In the loop: True\n",
      "   -5 23.00\n",
      "\n",
      "New iteration:\n",
      "In the loop: True\n",
      "    5 41.00\n",
      "\n",
      "New iteration:\n",
      "In the loop: True\n",
      "   10 50.00\n",
      "\n",
      "New iteration:\n",
      "In the loop: True\n",
      "   15 59.00\n",
      "\n",
      "New iteration:\n",
      "In the loop: True\n",
      "   20 68.00\n",
      "\n",
      "20\n",
      "Done\n"
     ]
    }
   ],
   "source": [
    "# for loop and formatting\n",
    "Cdegrees = [-20, -15, -5, 5, 10, 15, 20]\n",
    "for C in Cdegrees:\n",
    "    print('New iteration:')\n",
    "    print(\"In the loop:\", C in Cdegrees)   # C in Cdegrees is an boolean expression.\n",
    "    F = (9.0/5)*C + 32.\n",
    "    print('{:5d} {:5.2f}'.format(C, F))\n",
    "    print()\n",
    "print(C)\n",
    "print(\"Done\")\n"
   ]
  },
  {
   "cell_type": "markdown",
   "metadata": {},
   "source": [
    "## Breakout: Do the above using a while loop"
   ]
  },
  {
   "cell_type": "code",
   "execution_count": 31,
   "metadata": {},
   "outputs": [
    {
     "name": "stdout",
     "output_type": "stream",
     "text": [
      "New iteration:\n",
      "In the loop: True\n",
      "  -20 -4.00\n",
      "\n",
      "New iteration:\n",
      "In the loop: True\n",
      "  -15  5.00\n",
      "\n",
      "New iteration:\n",
      "In the loop: True\n",
      "   -5 23.00\n",
      "\n",
      "New iteration:\n",
      "In the loop: True\n",
      "    5 41.00\n",
      "\n",
      "New iteration:\n",
      "In the loop: True\n",
      "   10 50.00\n",
      "\n",
      "New iteration:\n",
      "In the loop: True\n",
      "   15 59.00\n",
      "\n",
      "New iteration:\n",
      "In the loop: True\n",
      "   20 68.00\n",
      "\n"
     ]
    }
   ],
   "source": [
    "i = 0\n",
    "Cdegrees = [-20, -15, -5, 5, 10, 15, 20]\n",
    "while i < len(Cdegrees):\n",
    "    C = Cdegrees[i]\n",
    "    print('New iteration:')\n",
    "    print(\"In the loop:\", C in Cdegrees)   # C in Cdegrees is an boolean expression.\n",
    "    F = (9.0/5)*C + 32.\n",
    "    print('{:5d} {:5.2f}'.format(C, F))\n",
    "    print()\n",
    "    i += 1\n"
   ]
  },
  {
   "cell_type": "code",
   "execution_count": 15,
   "metadata": {},
   "outputs": [
    {
     "name": "stdout",
     "output_type": "stream",
     "text": [
      "   C   F\n",
      "  -20  -4.0\n",
      "  -15   5.0\n",
      "   -5  23.0\n",
      "    5  41.0\n",
      "   10  50.0\n",
      "   15  59.0\n",
      "   20  68.0\n"
     ]
    }
   ],
   "source": [
    "Cdegrees = [-20, -15, -5, 5, 10, 15, 20]\n",
    "index = 0\n",
    "\n",
    "print('   C   F')\n",
    "while index < len(Cdegrees):\n",
    "    C = Cdegrees[index]\n",
    "    F = (9.0/5)*C + 32.\n",
    "    print('{:5d} {:5.1f}'.format(C, F))\n",
    "    index += 1   "
   ]
  },
  {
   "cell_type": "raw",
   "metadata": {},
   "source": [
    "Be careful how set the condition of the while loop -- you can freeze your computer if you're not careful.  \n",
    "To demenstrate, see below.\n",
    "Don't try this at home (but if it happens, you will know what to do!)\n",
    "\n",
    "\"\"\"intentionally bad loop condition.  To shut down:\n",
    "1. Make sure all other notebooks are saved.\n",
    "2. Hit stop button (just right to the play button above) and watch if there response on the terminal when the notebook was launched.\n",
    "3. Go to the dashboard and hit the Shutdown button\n",
    "4. If it can't be stopped, go to the terminal and hit ctrl-C (the same on Windows?) \n",
    "\n",
    "Don't actually run this!!\n",
    "\n",
    "\"\"\"\n",
    "\n",
    "a = 0 \n",
    "while a > -1:\n",
    "    print 'ahhhhh!!!!!'"
   ]
  },
  {
   "cell_type": "code",
   "execution_count": 16,
   "metadata": {},
   "outputs": [
    {
     "name": "stdout",
     "output_type": "stream",
     "text": [
      "1.2342\n"
     ]
    }
   ],
   "source": [
    "v0 = 5\n",
    "g = 9.81\n",
    "t = 0.6\n",
    "y = v0*t - 0.5*g*t**2\n",
    "print(y)"
   ]
  },
  {
   "cell_type": "markdown",
   "metadata": {},
   "source": [
    "## Breakout Problem -- see slides"
   ]
  },
  {
   "cell_type": "code",
   "execution_count": 1,
   "metadata": {},
   "outputs": [
    {
     "name": "stdout",
     "output_type": "stream",
     "text": [
      "1.6349839001848923\n",
      "1.6349839001848923\n",
      "1.6449340668482264\n"
     ]
    }
   ],
   "source": [
    "# using for loop\n",
    "sum = 0\n",
    "for n in range(1, 101):\n",
    "    sum += 1/(n**2)\n",
    "print(sum)\n",
    "\n",
    "# using while loop\n",
    "i = 1\n",
    "sum2 = 0\n",
    "while i < 101:\n",
    "    sum2 += 1/(i**2)\n",
    "    i += 1\n",
    "print(sum2)\n",
    "\n",
    "import numpy as np\n",
    "print(np.pi**2/6)"
   ]
  },
  {
   "cell_type": "code",
   "execution_count": 25,
   "metadata": {},
   "outputs": [
    {
     "name": "stdout",
     "output_type": "stream",
     "text": [
      "With the for loop, the sum is 1.6349839001848923\n",
      "With the while loop, the sum is: 1.6349839001848923\n",
      "correct answer: 1.6449340668482264\n"
     ]
    }
   ],
   "source": [
    "'''\n",
    "\n",
    "Solution to Breakout\n",
    "\n",
    "'''\n",
    "\n",
    "from math import pi\n",
    "s = 0\n",
    "max = 100\n",
    "\n",
    "for i in range(max):\n",
    "    s += 1./(i+1)**2\n",
    "\n",
    "print('With the for loop, the sum is', s)\n",
    "\n",
    "\n",
    "#need to re-initialize i and s.\n",
    "i = 1\n",
    "s = 0   \n",
    "\n",
    "while i <= max:\n",
    "    s += 1./i**2\n",
    "    i = i+1\n",
    "\n",
    "print('With the while loop, the sum is:', s)\n",
    "\n",
    "#correct answer is pi^2/6.  Let's see how close we get:\n",
    "\n",
    "\n",
    "print('correct answer:', pi**2/6)"
   ]
  }
 ],
 "metadata": {
  "kernelspec": {
   "display_name": "Python 3",
   "language": "python",
   "name": "python3"
  },
  "language_info": {
   "codemirror_mode": {
    "name": "ipython",
    "version": 3
   },
   "file_extension": ".py",
   "mimetype": "text/x-python",
   "name": "python",
   "nbconvert_exporter": "python",
   "pygments_lexer": "ipython3",
   "version": "3.6.3"
  }
 },
 "nbformat": 4,
 "nbformat_minor": 1
}
