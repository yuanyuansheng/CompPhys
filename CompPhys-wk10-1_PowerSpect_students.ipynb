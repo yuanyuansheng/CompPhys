{
 "cells": [
  {
   "cell_type": "markdown",
   "metadata": {},
   "source": [
    "# Topics\n",
    "\n",
    "## 1. DFT and Power Spectrum\n",
    "## 2. Parseval's Theorem\n",
    "\n"
   ]
  },
  {
   "cell_type": "markdown",
   "metadata": {},
   "source": [
    "## In what follows:\n",
    "## tone_data: y_k\n",
    "## ft = np.fft(tone_data): Y_n"
   ]
  },
  {
   "cell_type": "markdown",
   "metadata": {},
   "source": [
    "## A[0] contains the zero-frequency term (the sum of the signal), which is always purely real for real inputs. Then A[1:n/2-1] contains the positive-frequency terms, and A[n/2:] contains the negative-frequency terms,  in order of decreasingly negative frequency. For an even number of input points, A[n/2] represents both positive and negative Nyquist frequency, and is also purely real for real input.\n",
    "\n",
    "Modified from: http://docs.scipy.org/doc/numpy/reference/routines.fft.html\n"
   ]
  },
  {
   "cell_type": "code",
   "execution_count": 1,
   "metadata": {
    "collapsed": true
   },
   "outputs": [],
   "source": [
    "%matplotlib inline\n",
    "\n",
    "import matplotlib.pyplot as plt\n",
    "import numpy as np\n",
    "from scipy.io.wavfile import read, write\n",
    "import os\n",
    "import subprocess as sub\n",
    "from IPython.lib.display import Audio\n",
    "\n",
    "from pdb import set_trace\n"
   ]
  },
  {
   "cell_type": "code",
   "execution_count": 2,
   "metadata": {},
   "outputs": [
    {
     "ename": "ModuleNotFoundError",
     "evalue": "No module named 'winsound'",
     "output_type": "error",
     "traceback": [
      "\u001b[0;31m---------------------------------------------------------------------------\u001b[0m",
      "\u001b[0;31mModuleNotFoundError\u001b[0m                       Traceback (most recent call last)",
      "\u001b[0;32m<ipython-input-2-35b1952b4a12>\u001b[0m in \u001b[0;36m<module>\u001b[0;34m()\u001b[0m\n\u001b[0;32m----> 1\u001b[0;31m \u001b[0;32mimport\u001b[0m \u001b[0mwinsound\u001b[0m\u001b[0;34m\u001b[0m\u001b[0m\n\u001b[0m\u001b[1;32m      2\u001b[0m \u001b[0;32mimport\u001b[0m \u001b[0mtime\u001b[0m\u001b[0;34m\u001b[0m\u001b[0m\n\u001b[1;32m      3\u001b[0m \u001b[0;34m\u001b[0m\u001b[0m\n\u001b[1;32m      4\u001b[0m \u001b[0;34m\u001b[0m\u001b[0m\n\u001b[1;32m      5\u001b[0m \u001b[0;32mdef\u001b[0m \u001b[0mplaysound\u001b[0m\u001b[0;34m(\u001b[0m\u001b[0mplayrate\u001b[0m\u001b[0;34m,\u001b[0m \u001b[0mnumpyArray\u001b[0m\u001b[0;34m)\u001b[0m\u001b[0;34m:\u001b[0m\u001b[0;34m\u001b[0m\u001b[0m\n",
      "\u001b[0;31mModuleNotFoundError\u001b[0m: No module named 'winsound'"
     ]
    }
   ],
   "source": [
    "import winsound\n",
    "import time\n",
    "\n",
    "\n",
    "def playsound(playrate, numpyArray):\n",
    "    write('temp.wav', playrate, numpyArray)\n",
    "    winsound.PlaySound('temp.wav', winsound.SND_ASYNC)\n",
    "    duration = len(numpyArray)/playrate\n",
    "    time.sleep(duration)\n",
    "    os.remove('temp.wav')"
   ]
  },
  {
   "cell_type": "markdown",
   "metadata": {},
   "source": [
    "## Breakout  \n",
    "- ### Write a function get_music(music_file, start_time, end_time) and it returns sample_rate, time_pts, sound_array"
   ]
  },
  {
   "cell_type": "code",
   "execution_count": null,
   "metadata": {
    "collapsed": true
   },
   "outputs": [],
   "source": [
    "def get_music(music_file, start_time, end_time):\n",
    "    rate, barry_white = read(music_file)\n",
    "    duration = end_time - start_time\n",
    "    time_pts = np.linspace(0, duration, duration*rate)\n",
    "    start_point = start_time*rate\n",
    "    end_point = end_time*rate\n",
    "    new_barry_white = barry_white[start_point: end_point]\n",
    "    return rate, time_pts, new_barry_white\n",
    "    "
   ]
  },
  {
   "cell_type": "code",
   "execution_count": null,
   "metadata": {
    "collapsed": true
   },
   "outputs": [],
   "source": [
    "start_time = 1\n",
    "end_time = 5\n",
    "\n",
    "\n",
    "sample_rate, time_pts, shortBW = get_music(\"BarryWhite30sec.wav\", start_time, end_time)\n",
    "print(\"sample_rate\", sample_rate)\n",
    "\n",
    "playsound(sample_rate, shortBW)\n",
    "\n",
    "# plotsound(time_pts, shortBW, s_lim = 3000)\n",
    "\n",
    "# check if sound file plays with Audio -- if necessary\n",
    "# Audio(shortBW, rate = sample_rate)\n"
   ]
  },
  {
   "cell_type": "code",
   "execution_count": null,
   "metadata": {
    "collapsed": true
   },
   "outputs": [],
   "source": [
    "# can we get Barry White back?\n",
    "\n",
    "# Here there are indeed real and imaginary parts for the FT.\n",
    "ft, freq = plot_fourier(sample_rate, shortBW, freq_lim = 5000.)\n",
    "BW_rec = np.int16(signal_rec(ft, filt = None))\n",
    "playsound(BW_rec, vol = 10)\n",
    "\n",
    "fig = plt.figure(figsize = (10, 8))\n",
    "# Note here I'm passing fig as an argument -- so that the original array and the \n",
    "# recovered array can be plotted on the same figure.\n",
    "plotsound(time_pts, shortBW, fig = fig, s_lim = 3000, plot_style = 'b-')\n",
    "plotsound(time_pts, BW_rec, fig = fig, s_lim = 3000, plot_style = 'gx')\n",
    "plt.show()"
   ]
  },
  {
   "cell_type": "markdown",
   "metadata": {},
   "source": [
    "## Breakout Exercise: Low-pass filter\n",
    "- ### Remove Fourier components with frequencies > 1000 Hz from Barry White; call the sound array with high frequency component removed BW_base.\n",
    "- ### Play the original shortBW and then BW_base\n",
    "- ### Plot shortBW and BW_base on the same figure, for time between [0, 0.02] sec."
   ]
  },
  {
   "cell_type": "code",
   "execution_count": null,
   "metadata": {
    "collapsed": true
   },
   "outputs": [],
   "source": [
    "def gen_tone(f, duration, sample_rate = 44100, amp = 2**13, play_sound = False):\n",
    "    time_pts = np.linspace(0, duration, duration*sample_rate)\n",
    "    tone_data = amp*np.sin(np.pi*2*f*time_pts)\n",
    "    return tone_data\n",
    "\n",
    "def plot_fourier(sample_rate, signal, freq_lim = 1000.):\n",
    "    ft = np.fft.fft(np.float(signal))\n",
    "    freq = np.fft.fftfreq(signal.shape[0], d = 1/sample_rate)\n",
    "    \n",
    "    plt.figure()\n",
    "    plt.title(\"Real Part of Inverse FT\")\n",
    "    plt.plot(freq, ft.real)\n",
    "    plt.xlim([-freq_lim, freq_lim])\n",
    "    \n",
    "    plt.figure()\n",
    "    plt.title(\"Imaginary Part of Inverse FT\")\n",
    "    plt.plot(freq, ft.imag)\n",
    "    plt.xlim([-freq_lim, freq_lim])\n",
    "    \n",
    "    return ft, freq"
   ]
  },
  {
   "cell_type": "code",
   "execution_count": null,
   "metadata": {
    "collapsed": true
   },
   "outputs": [],
   "source": []
  },
  {
   "cell_type": "markdown",
   "metadata": {},
   "source": [
    "## Breakout Exercise: High-pass filter\n",
    "- ### Remove Fourier components with frequencies < 1000 Hz from Barry White; call the sound array with low frequency component removed BW_base.\n",
    "- ### Play the original shortBW and then BW_hi_pitch\n",
    "- ### Plot shortBW and BW_base on the same figure, for time between [0, 0.02] sec."
   ]
  },
  {
   "cell_type": "code",
   "execution_count": null,
   "metadata": {
    "collapsed": true
   },
   "outputs": [],
   "source": []
  },
  {
   "cell_type": "code",
   "execution_count": null,
   "metadata": {
    "collapsed": true
   },
   "outputs": [],
   "source": [
    "# More base!\n",
    "BW_base = np.float64(BW_base)\n",
    "BW_hi_pitch = np.float64(BW_hi_pitch)\n",
    "\n",
    "# BW_base *= 4/np.sqrt(17.)\n",
    "# BW_hi_pitch *= 1/np.sqrt(17.)\n",
    "\n",
    "BW_base *= 2/np.sqrt(5.)\n",
    "BW_hi_pitch *= 1/np.sqrt(5.)\n",
    "\n",
    "\n",
    "Ultra_BW = np.int16(BW_base + BW_hi_pitch)\n",
    "\n",
    "playsound(shortBW, vol = 10)\n",
    "playsound(Ultra_BW, vol = 10)"
   ]
  },
  {
   "cell_type": "markdown",
   "metadata": {},
   "source": [
    "## Parseval's Theorem\n",
    "### (Show slides first!)"
   ]
  },
  {
   "cell_type": "code",
   "execution_count": null,
   "metadata": {
    "collapsed": true
   },
   "outputs": [],
   "source": [
    "%matplotlib inline\n",
    "'''\n",
    "\n",
    "Parseval's Theorem and Conservation of Energy.\n",
    "\n",
    "'''\n",
    "\n",
    "import matplotlib.pyplot as plt\n",
    "\n",
    "sample_rate = 44100.\n",
    "\n",
    "duration = 2.\n",
    "\n",
    "\n",
    "f = 440.\n",
    "time_pts = np.linspace(0, duration, duration*sample_rate)\n",
    "\n",
    "amp = 2**14\n",
    "tone_data = np.int16(amp*np.sin(np.pi*2*f*time_pts))\n",
    "\n",
    "# playsound(tone_data, vol = 0.5)\n",
    "\n",
    "\n",
    "ft = np.fft.fft(tone_data)\n",
    "freq = np.fft.fftfreq(tone_data.shape[0], d = 1/sample_rate)\n",
    "\n",
    "\n",
    "# Power spectrum\n",
    "# checking Persarvel's Theorem\n",
    "# B/c of the way np.fft is defined, the power spectrum is (|ft|/N)^2\n",
    "N = len(tone_data)\n",
    "print('N =', N)\n",
    "pwr = (ft * ft.conj())/N**2\n",
    "\n",
    "if pwr.imag.max() > 1e-15:\n",
    "    raise KeyboardInterrupt('Power is not real...something is wrong!!')\n",
    "\n",
    "plt.figure()\n",
    "plt.plot(freq, pwr.real, 'k-')\n",
    "plt.xlim([-1000, 1000])\n",
    "\n",
    "\n",
    "print(\"Power spectrum summed: {:g}\".format(pwr.sum()))\n",
    "print('Sum of data squared divided by N: {:g}'.format((tone_data**2).sum()/N))\n",
    "print('Sum of data squared divided by N: {:g}'.format((tone_data.astype(np.float)**2).sum()/N))\n",
    "\n"
   ]
  },
  {
   "cell_type": "code",
   "execution_count": null,
   "metadata": {
    "collapsed": true
   },
   "outputs": [],
   "source": [
    "'''\n",
    "\n",
    "Scipy's ready-made way of computing the (one-sided) power spectral density.\n",
    "\n",
    "\n",
    "It probably ends at Nyquist Frequency (since going further doesn't gain new information) -- if so that that's another\n",
    "advantage of using periodogram: it gets rid of four-fold redundancy, 1) +ve and -ve freq, 2) on the two sides of\n",
    "the Nyquist frequency.\n",
    "\n",
    "\n",
    "'''\n",
    "\n",
    "\n",
    "from scipy import signal\n",
    "\n",
    "# note the powers at the negative frequencies have been added to the powers of the corresponding \n",
    "# positive freqeuncies.\n",
    "f, psd = signal.periodogram(tone_data, sample_rate)\n",
    "df = 1./duration\n",
    "plt.figure()\n",
    "plt.plot(f, psd)\n",
    "plt.xlim([0, 1000])\n",
    "plt.show()\n",
    "# This should be N/2 + 1 (b/c of the zero-frequency term)\n",
    "print('len(psd)', len(psd))\n",
    "# sum of psd * df\n",
    "print('Power spectral density integrated: {:g}'.format((psd*df).sum()))\n",
    "\n",
    "plt.show()"
   ]
  },
  {
   "cell_type": "markdown",
   "metadata": {},
   "source": [
    "## Breakout: Two-frequency signal and PSD \n",
    "\n",
    "- ### Turn the above into a function the plot_psd(sound, sample_rate = 44100, duration = 0., freq_lim = 1000., pwr_lim = 3e7); it should return the power spectrum (psd)\n",
    "- ### Generate a sigal that has two frequency components (fundamental frequencey (1st harmonic) + 2nd harmonic)\n",
    "- ### Apply this funcion on a 2-freq sound and see if you get what you expected.\n",
    "- ### Apply this function to shortBW"
   ]
  },
  {
   "cell_type": "code",
   "execution_count": null,
   "metadata": {
    "collapsed": true
   },
   "outputs": [],
   "source": [
    "# psd stands for power spectrum density\n",
    "\n",
    "def plot_psd(sound, sample_rate = 44100, duration = 0., freq_lim = 10000., pwr_lim = 3e7):\n",
    "    f, psd = signal.periodogram(sound, sample_rate)\n",
    "    plt.figure()\n",
    "    plt.plot(f, psd)\n",
    "    plt.xlim([0, 1000])\n",
    "    plt.show()\n",
    "    return psd\n",
    "\n"
   ]
  },
  {
   "cell_type": "code",
   "execution_count": null,
   "metadata": {
    "collapsed": true
   },
   "outputs": [],
   "source": [
    "# two tone sound:\n",
    "f = 440.\n",
    "time_pts = np.linspace(0, duration, duration*sample_rate)\n",
    "amp = 2**14\n",
    "tone_data1 = np.int16(amp*np.sin(np.pi*2*f*time_pts))\n",
    "f2 = 880.\n",
    "tone_data2 = np.int16(amp*np.sin(np.pi*2*f2*time_pts))\n",
    "\n",
    "sound = tone_data1 + tone_data2\n",
    "plot_psd(sound, duration = duration)"
   ]
  },
  {
   "cell_type": "markdown",
   "metadata": {},
   "source": [
    "## Breakout -- Build a 3-band equalizer (may include this in HW06)\n",
    "## Write a function: equalizer(sample_rate, sound, wt1 = None, wt2 = None, wt3 = None, vol = 1.)\n",
    "- ### If any of the three weights is None, return input sound array; otherwise, do FT\n",
    "- ### Split FT into three frequency ranges, < 500 Hz, [500 Hz, 1000 Hz], > 1000 Hz\n",
    "- ### You can use signal_rec() to get the sound back for each of the frequency ranges\n",
    "- ### You need to normalize the weights -- how would you do it?\n",
    "- ### Put the three bands together according to the weight for each band, and get a new sound array.  If the weight ratio is 1:1:1, the new sound array should sound about the same as the original.\n",
    "- ### Return the new sound array.\n",
    "- ### Test it on the Barry White segment."
   ]
  },
  {
   "cell_type": "code",
   "execution_count": null,
   "metadata": {
    "collapsed": true
   },
   "outputs": [],
   "source": [
    "def signal_rec(ft, freq, filt = None, xlo = 0, xhi = 0.02):\n",
    "    import copy\n",
    "    ft_filt = copy.copy(ft)\n",
    "    try:\n",
    "        len(filt)\n",
    "    except:\n",
    "        # that is, it's OK to not have a filter\n",
    "        pass\n",
    "    else:\n",
    "        ft_filt *= filt\n",
    "\n",
    "    tone_data_rec = np.fft.ifft(ft_filt)\n",
    "    tone_data_rec = np.int16(tone_data_rec.real)\n",
    "\n",
    "    f1 = freq[freq > 0].min() \n",
    "    dur = 1/f1\n",
    "    \n",
    "    time_pts = np.linspace(0, dur, len(ft))\n",
    "    \n",
    "    plt.figure()\n",
    "    plt.title('Real Part of Inverse FT')\n",
    "    plt.plot(time_pts, tone_data_rec.real, 'b-')\n",
    "\n",
    "\n",
    "    plt.figure()\n",
    "    plt.title('Imaginary Part of Inverse FT')\n",
    "    plt.plot(time_pts, tone_data_rec.imag, 'r-')\n",
    "    print('max of the imaginary part', tone_data_rec.imag.max())\n",
    "\n",
    "    # Rejecting the imaginary part\n",
    "    tone_data_rec = tone_data_rec.real\n",
    "\n",
    "    plt.figure()\n",
    "    plt.plot(time_pts, tone_data_rec, 'g')\n",
    "    plt.xlim([xlo, xhi])\n",
    "\n",
    "\n",
    "    plt.show()\n",
    "    \n",
    "    return tone_data_rec"
   ]
  },
  {
   "cell_type": "code",
   "execution_count": null,
   "metadata": {
    "collapsed": true
   },
   "outputs": [],
   "source": [
    "def equalizer(sample_rate, sound, wt1 = None, wt2 = None, wt3 = None, vol = 1.):\n",
    "    if wt1 is None or wt2 is None or wt3 is None:\n",
    "        return\n",
    "    ft = np.fft.fft(sound)\n",
    "    freq = np.fft.fftfreq(sound.shape[0], d = 1/sample_rate)\n",
    "    \n",
    "    sumwt = np.sqrt(wt1**2 + wt2**2 + wt3**2)\n",
    "    filt1 = np.abs(freq) < 500.\n",
    "    tone_data_rec1 = wt1 * signal_rec(ft, freq, filt = filt1) / sumwt\n",
    "    \n",
    "    filt2_1 = np.abs(freq) >= 500\n",
    "    filt2_2 = np.abs(freq) < 1000\n",
    "    filt2 = filt2_1 * filt2_2\n",
    "    tone_data_rec2 = wt2 * signal_rec(ft, freq, filt = filt2) / sumwt\n",
    "    \n",
    "    filt3 = np.abs(freq) >= 1000\n",
    "    tone_data_rec3 = wt3 * signal_rec(ft, freq, filt = filt3) / sumwt\n",
    "    \n",
    "    return (tone_data_rec1 + tone_data_rec2 + tone_data_rec3).astype(np.int16)"
   ]
  },
  {
   "cell_type": "code",
   "execution_count": null,
   "metadata": {},
   "outputs": [],
   "source": [
    "sample_rate, barry = read(\"BarryWhite30sec.wav\")\n",
    "\n",
    "def playsound(playRate, na):\n",
    "    write('temp.wav', playRate, na)\n",
    "    os.system(\"afplay temp.wav\")\n",
    "    os.system(\"rm temp.wav\")\n",
    "    \n",
    "playsound(sample_rate, equalizer(sample_rate, barry, 2, 1 ,1))"
   ]
  }
 ],
 "metadata": {
  "kernelspec": {
   "display_name": "Python 3",
   "language": "python",
   "name": "python3"
  },
  "language_info": {
   "codemirror_mode": {
    "name": "ipython",
    "version": 3
   },
   "file_extension": ".py",
   "mimetype": "text/x-python",
   "name": "python",
   "nbconvert_exporter": "python",
   "pygments_lexer": "ipython3",
   "version": "3.6.3"
  }
 },
 "nbformat": 4,
 "nbformat_minor": 1
}
