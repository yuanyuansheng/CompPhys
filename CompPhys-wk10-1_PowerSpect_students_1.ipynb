{
 "cells": [
  {
   "cell_type": "markdown",
   "metadata": {},
   "source": [
    "# Topics\n",
    "\n",
    "## 1. DFT and Power Spectrum\n",
    "## 2. Parseval's Theorem\n",
    "\n"
   ]
  },
  {
   "cell_type": "markdown",
   "metadata": {},
   "source": [
    "## In what follows:\n",
    "## tone_data: y_k\n",
    "## ft = np.fft(tone_data): Y_n"
   ]
  },
  {
   "cell_type": "markdown",
   "metadata": {},
   "source": [
    "## A[0] contains the zero-frequency term (the sum of the signal), which is always purely real for real inputs. Then A[1:n/2-1] contains the positive-frequency terms, and A[n/2:] contains the negative-frequency terms,  in order of decreasingly negative frequency. For an even number of input points, A[n/2] represents both positive and negative Nyquist frequency, and is also purely real for real input.\n",
    "\n",
    "Modified from: http://docs.scipy.org/doc/numpy/reference/routines.fft.html\n"
   ]
  },
  {
   "cell_type": "code",
   "execution_count": 1,
   "metadata": {
    "collapsed": true
   },
   "outputs": [],
   "source": [
    "%matplotlib inline\n",
    "\n",
    "import matplotlib.pyplot as plt\n",
    "import numpy as np\n",
    "from scipy.io.wavfile import read, write\n",
    "import os\n",
    "import subprocess as sub\n",
    "from IPython.lib.display import Audio\n",
    "\n",
    "from pdb import set_trace\n"
   ]
  },
  {
   "cell_type": "code",
   "execution_count": 2,
   "metadata": {
    "collapsed": true
   },
   "outputs": [],
   "source": [
    "import winsound\n",
    "import time\n",
    "\n",
    "\n",
    "def playsound(playrate, numpyArray):\n",
    "    write('temp.wav', playrate, numpyArray)\n",
    "    winsound.PlaySound('temp.wav', winsound.SND_ASYNC)\n",
    "    duration = len(numpyArray)/playrate\n",
    "    time.sleep(duration)\n",
    "    os.remove('temp.wav')"
   ]
  },
  {
   "cell_type": "markdown",
   "metadata": {},
   "source": [
    "## Breakout  \n",
    "- ### Write a function get_music(music_file, start_time, end_time) and it returns sample_rate, time_pts, sound_array"
   ]
  },
  {
   "cell_type": "code",
   "execution_count": 12,
   "metadata": {
    "collapsed": true
   },
   "outputs": [],
   "source": [
    "def get_music(music_file, start_time, end_time):\n",
    "    rate, barry_white = read(music_file)\n",
    "    duration = end_time - start_time\n",
    "    time_pts = np.linspace(0, duration, duration*rate)\n",
    "    start_point = start_time*rate\n",
    "    end_point = end_time*rate\n",
    "    new_barry_white = barry_white[start_point: end_point]\n",
    "    return rate, time_pts, new_barry_white\n",
    "    "
   ]
  },
  {
   "cell_type": "code",
   "execution_count": 13,
   "metadata": {},
   "outputs": [
    {
     "name": "stdout",
     "output_type": "stream",
     "text": [
      "sample_rate 44100\n"
     ]
    }
   ],
   "source": [
    "start_time = 1\n",
    "end_time = 5\n",
    "\n",
    "\n",
    "sample_rate, time_pts, shortBW = get_music(\"BarryWhite30sec.wav\", start_time, end_time)\n",
    "print(\"sample_rate\", sample_rate)\n",
    "\n",
    "playsound(sample_rate, shortBW)\n",
    "\n",
    "# plotsound(time_pts, shortBW, s_lim = 3000)\n",
    "\n",
    "# check if sound file plays with Audio -- if necessary\n",
    "# Audio(shortBW, rate = sample_rate)\n"
   ]
  },
  {
   "cell_type": "code",
   "execution_count": null,
   "metadata": {
    "collapsed": true
   },
   "outputs": [],
   "source": [
    "# can we get Barry White back?\n",
    "\n",
    "# Here there are indeed real and imaginary parts for the FT.\n",
    "ft, freq = plot_fourier(sample_rate, shortBW, freq_lim = 5000.)\n",
    "BW_rec = np.int16(signal_rec(ft, filt = None))\n",
    "playsound(BW_rec, vol = 10)\n",
    "\n",
    "fig = plt.figure(figsize = (10, 8))\n",
    "# Note here I'm passing fig as an argument -- so that the original array and the \n",
    "# recovered array can be plotted on the same figure.\n",
    "plotsound(time_pts, shortBW, fig = fig, s_lim = 3000, plot_style = 'b-')\n",
    "plotsound(time_pts, BW_rec, fig = fig, s_lim = 3000, plot_style = 'gx')\n",
    "plt.show()"
   ]
  },
  {
   "cell_type": "markdown",
   "metadata": {},
   "source": [
    "## Breakout Exercise: Low-pass filter\n",
    "- ### Remove Fourier components with frequencies > 1000 Hz from Barry White; call the sound array with high frequency component removed BW_base.\n",
    "- ### Play the original shortBW and then BW_base\n",
    "- ### Plot shortBW and BW_base on the same figure, for time between [0, 0.02] sec."
   ]
  },
  {
   "cell_type": "code",
   "execution_count": 15,
   "metadata": {
    "collapsed": true
   },
   "outputs": [],
   "source": [
    "def gen_tone(f, duration, sample_rate = 44100, amp = 2**13, play_sound = False):\n",
    "    time_pts = np.linspace(0, duration, duration*sample_rate)\n",
    "    tone_data = amp*np.sin(np.pi*2*f*time_pts)\n",
    "    return tone_data\n",
    "\n",
    "def plot_fourier(sample_rate, signal, freq_lim = 1000.):\n",
    "    ft = np.fft.fft(np.float(signal))\n",
    "    freq = np.fft.fftfreq(signal.shape[0], d = 1/sample_rate)\n",
    "    \n",
    "    plt.figure()\n",
    "    plt.title(\"Real Part of Inverse FT\")\n",
    "    plt.plot(freq, ft.real)\n",
    "    plt.xlim([-freq_lim, freq_lim])\n",
    "    \n",
    "    plt.figure()\n",
    "    plt.title(\"Imaginary Part of Inverse FT\")\n",
    "    plt.plot(freq, ft.imag)\n",
    "    plt.xlim([-freq_lim, freq_lim])\n",
    "    \n",
    "    return ft, freq"
   ]
  },
  {
   "cell_type": "code",
   "execution_count": null,
   "metadata": {
    "collapsed": true
   },
   "outputs": [],
   "source": []
  },
  {
   "cell_type": "markdown",
   "metadata": {},
   "source": [
    "## Breakout Exercise: High-pass filter\n",
    "- ### Remove Fourier components with frequencies < 1000 Hz from Barry White; call the sound array with low frequency component removed BW_base.\n",
    "- ### Play the original shortBW and then BW_hi_pitch\n",
    "- ### Plot shortBW and BW_base on the same figure, for time between [0, 0.02] sec."
   ]
  },
  {
   "cell_type": "code",
   "execution_count": null,
   "metadata": {
    "collapsed": true
   },
   "outputs": [],
   "source": []
  },
  {
   "cell_type": "code",
   "execution_count": null,
   "metadata": {
    "collapsed": true
   },
   "outputs": [],
   "source": [
    "# More base!\n",
    "BW_base = np.float64(BW_base)\n",
    "BW_hi_pitch = np.float64(BW_hi_pitch)\n",
    "\n",
    "# BW_base *= 4/np.sqrt(17.)\n",
    "# BW_hi_pitch *= 1/np.sqrt(17.)\n",
    "\n",
    "BW_base *= 2/np.sqrt(5.)\n",
    "BW_hi_pitch *= 1/np.sqrt(5.)\n",
    "\n",
    "\n",
    "Ultra_BW = np.int16(BW_base + BW_hi_pitch)\n",
    "\n",
    "playsound(shortBW, vol = 10)\n",
    "playsound(Ultra_BW, vol = 10)"
   ]
  },
  {
   "cell_type": "markdown",
   "metadata": {},
   "source": [
    "## Parseval's Theorem\n",
    "### (Show slides first!)"
   ]
  },
  {
   "cell_type": "code",
   "execution_count": 25,
   "metadata": {},
   "outputs": [
    {
     "name": "stdout",
     "output_type": "stream",
     "text": [
      "N = 88200\n",
      "Power spectrum summed: 1.34206e+08+0j\n",
      "Sum of data squared divided by N: -1164.58\n",
      "Sum of data squared divided by N: 1.34206e+08\n"
     ]
    },
    {
     "name": "stderr",
     "output_type": "stream",
     "text": [
      "C:\\Users\\Andrew\\Anaconda3\\lib\\site-packages\\ipykernel_launcher.py:16: DeprecationWarning: object of type <class 'float'> cannot be safely interpreted as an integer.\n",
      "  app.launch_new_instance()\n"
     ]
    },
    {
     "data": {
      "image/png": "[encoded data removed]",
      "text/plain": [
       "<matplotlib.figure.Figure at 0x7e08fe77b8>"
      ]
     },
     "metadata": {},
     "output_type": "display_data"
    }
   ],
   "source": [
    "%matplotlib inline\n",
    "'''\n",
    "\n",
    "Parseval's Theorem and Conservation of Energy.\n",
    "\n",
    "'''\n",
    "\n",
    "import matplotlib.pyplot as plt\n",
    "\n",
    "sample_rate = 44100.\n",
    "\n",
    "duration = 2.\n",
    "\n",
    "\n",
    "f = 440.\n",
    "time_pts = np.linspace(0, duration, duration*sample_rate)\n",
    "\n",
    "amp = 2**14\n",
    "tone_data = np.int16(amp*np.sin(np.pi*2*f*time_pts))\n",
    "\n",
    "# playsound(tone_data, vol = 0.5)\n",
    "\n",
    "\n",
    "ft = np.fft.fft(tone_data)\n",
    "freq = np.fft.fftfreq(tone_data.shape[0], d = 1/sample_rate)\n",
    "\n",
    "\n",
    "# Power spectrum\n",
    "# checking Persarvel's Theorem\n",
    "# B/c of the way np.fft is defined, the power spectrum is (|ft|/N)^2\n",
    "N = len(tone_data)\n",
    "print('N =', N)\n",
    "pwr = (ft * ft.conj())/N**2\n",
    "\n",
    "if pwr.imag.max() > 1e-15:\n",
    "    raise KeyboardInterrupt('Power is not real...something is wrong!!')\n",
    "\n",
    "plt.figure()\n",
    "plt.plot(freq, pwr.real, 'k-')\n",
    "plt.xlim([-1000, 1000])\n",
    "\n",
    "\n",
    "print(\"Power spectrum summed: {:g}\".format(pwr.sum()))\n",
    "print('Sum of data squared divided by N: {:g}'.format((tone_data**2).sum()/N))\n",
    "print('Sum of data squared divided by N: {:g}'.format((tone_data.astype(np.float)**2).sum()/N))\n",
    "\n"
   ]
  },
  {
   "cell_type": "code",
   "execution_count": 17,
   "metadata": {},
   "outputs": [
    {
     "data": {
      "image/png": "[encoded data removed]",
      "text/plain": [
       "<matplotlib.figure.Figure at 0x7e08d1ea58>"
      ]
     },
     "metadata": {},
     "output_type": "display_data"
    },
    {
     "name": "stdout",
     "output_type": "stream",
     "text": [
      "len(psd) 44101\n",
      "Power spectral density integrated: 1.34206e+08\n"
     ]
    }
   ],
   "source": [
    "'''\n",
    "\n",
    "Scipy's ready-made way of computing the (one-sided) power spectral density.\n",
    "\n",
    "\n",
    "It probably ends at Nyquist Frequency (since going further doesn't gain new information) -- if so that that's another\n",
    "advantage of using periodogram: it gets rid of four-fold redundancy, 1) +ve and -ve freq, 2) on the two sides of\n",
    "the Nyquist frequency.\n",
    "\n",
    "\n",
    "'''\n",
    "\n",
    "\n",
    "from scipy import signal\n",
    "\n",
    "# note the powers at the negative frequencies have been added to the powers of the corresponding \n",
    "# positive freqeuncies.\n",
    "f, psd = signal.periodogram(tone_data, sample_rate)\n",
    "df = 1./duration\n",
    "plt.figure()\n",
    "plt.plot(f, psd)\n",
    "plt.xlim([0, 1000])\n",
    "plt.show()\n",
    "# This should be N/2 + 1 (b/c of the zero-frequency term)\n",
    "print('len(psd)', len(psd))\n",
    "# sum of psd * df\n",
    "print('Power spectral density integrated: {:g}'.format((psd*df).sum()))\n",
    "\n",
    "plt.show()"
   ]
  },
  {
   "cell_type": "markdown",
   "metadata": {},
   "source": [
    "## Breakout: Two-frequency signal and PSD \n",
    "\n",
    "- ### Turn the above into a function the plot_psd(sound, sample_rate = 44100, duration = 0., freq_lim = 1000., pwr_lim = 3e7); it should return the power spectrum (psd)\n",
    "- ### Generate a sigal that has two frequency components (fundamental frequencey (1st harmonic) + 2nd harmonic)\n",
    "- ### Apply this funcion on a 2-freq sound and see if you get what you expected.\n",
    "- ### Apply this function to shortBW"
   ]
  },
  {
   "cell_type": "code",
   "execution_count": 29,
   "metadata": {
    "collapsed": true
   },
   "outputs": [],
   "source": [
    "# psd stands for power spectrum density\n",
    "\n",
    "def plot_psd(sound, sample_rate = 44100, duration = 0., freq_lim = 10000., pwr_lim = 3e7):\n",
    "    f, psd = signal.periodogram(sound, sample_rate)\n",
    "    plt.figure()\n",
    "    plt.plot(f, psd)\n",
    "    plt.xlim([0, 1000])\n",
    "    plt.show()\n",
    "    return psd\n",
    "\n"
   ]
  },
  {
   "cell_type": "code",
   "execution_count": 30,
   "metadata": {},
   "outputs": [
    {
     "name": "stderr",
     "output_type": "stream",
     "text": [
      "C:\\Users\\Andrew\\Anaconda3\\lib\\site-packages\\ipykernel_launcher.py:3: DeprecationWarning: object of type <class 'float'> cannot be safely interpreted as an integer.\n",
      "  This is separate from the ipykernel package so we can avoid doing imports until\n"
     ]
    },
    {
     "data": {
      "image/png": "[encoded data removed]",
      "text/plain": [
       "<matplotlib.figure.Figure at 0x7e09042588>"
      ]
     },
     "metadata": {},
     "output_type": "display_data"
    },
    {
     "data": {
      "text/plain": [
       "array([  0.00000000e+00,   6.16678847e-07,   6.97229893e-07, ...,\n",
       "         1.08954194e-03,   9.95664508e-04,   3.60409496e-04], dtype=float32)"
      ]
     },
     "execution_count": 30,
     "metadata": {},
     "output_type": "execute_result"
    }
   ],
   "source": [
    "# two tone sound:\n",
    "f = 440.\n",
    "time_pts = np.linspace(0, duration, duration*sample_rate)\n",
    "amp = 2**14\n",
    "tone_data1 = np.int16(amp*np.sin(np.pi*2*f*time_pts))\n",
    "f2 = 880.\n",
    "tone_data2 = np.int16(amp*np.sin(np.pi*2*f2*time_pts))\n",
    "\n",
    "sound = tone_data1 + tone_data2\n",
    "plot_psd(sound, duration = duration)"
   ]
  },
  {
   "cell_type": "markdown",
   "metadata": {},
   "source": [
    "## Breakout -- Build a 3-band equalizer (may include this in HW06)\n",
    "## Write a function: equalizer(sample_rate, sound, wt1 = None, wt2 = None, wt3 = None, vol = 1.)\n",
    "- ### If any of the three weights is None, return input sound array; otherwise, do FT\n",
    "- ### Split FT into three frequency ranges, < 500 Hz, [500 Hz, 1000 Hz], > 1000 Hz\n",
    "- ### You can use signal_rec() to get the sound back for each of the frequency ranges\n",
    "- ### You need to normalize the weights -- how would you do it?\n",
    "- ### Put the three bands together according to the weight for each band, and get a new sound array.  If the weight ratio is 1:1:1, the new sound array should sound about the same as the original.\n",
    "- ### Return the new sound array.\n",
    "- ### Test it on the Barry White segment."
   ]
  },
  {
   "cell_type": "code",
   "execution_count": 3,
   "metadata": {
    "collapsed": true
   },
   "outputs": [],
   "source": [
    "def signal_rec(ft, freq, filt = None, xlo = 0, xhi = 0.02):\n",
    "    import copy\n",
    "    ft_filt = copy.copy(ft)\n",
    "    try:\n",
    "        len(filt)\n",
    "    except:\n",
    "        # that is, it's OK to not have a filter\n",
    "        pass\n",
    "    else:\n",
    "        ft_filt *= filt\n",
    "\n",
    "    tone_data_rec = np.fft.ifft(ft_filt)\n",
    "    tone_data_rec = np.int16(tone_data_rec.real)\n",
    "\n",
    "    f1 = freq[freq > 0].min() \n",
    "    dur = 1/f1\n",
    "    \n",
    "    time_pts = np.linspace(0, dur, len(ft))\n",
    "    \n",
    "    plt.figure()\n",
    "    plt.title('Real Part of Inverse FT')\n",
    "    plt.plot(time_pts, tone_data_rec.real, 'b-')\n",
    "\n",
    "\n",
    "    plt.figure()\n",
    "    plt.title('Imaginary Part of Inverse FT')\n",
    "    plt.plot(time_pts, tone_data_rec.imag, 'r-')\n",
    "    print('max of the imaginary part', tone_data_rec.imag.max())\n",
    "\n",
    "    # Rejecting the imaginary part\n",
    "    tone_data_rec = tone_data_rec.real\n",
    "\n",
    "    plt.figure()\n",
    "    plt.plot(time_pts, tone_data_rec, 'g')\n",
    "    plt.xlim([xlo, xhi])\n",
    "\n",
    "\n",
    "    plt.show()\n",
    "    \n",
    "    return tone_data_rec"
   ]
  },
  {
   "cell_type": "code",
   "execution_count": 8,
   "metadata": {
    "collapsed": true
   },
   "outputs": [],
   "source": [
    "def equalizer(sample_rate, sound, wt1 = None, wt2 = None, wt3 = None, vol = 1.):\n",
    "    if wt1 is None or wt2 is None or wt3 is None:\n",
    "        return\n",
    "    ft = np.fft.fft(sound)\n",
    "    freq = np.fft.fftfreq(sound.shape[0], d = 1/sample_rate)\n",
    "    \n",
    "    sumwt = wt1 + wt2+ wt3\n",
    "    filt1 = np.abs(freq) < 500.\n",
    "    tone_data_rec1 = wt1 * signal_rec(ft, freq, filt = filt1) / sumwt\n",
    "    \n",
    "    filt2_1 = np.abs(freq) >= 500\n",
    "    filt2_2 = np.abs(freq) < 1000\n",
    "    filt2 = filt2_1 * filt2_2\n",
    "    tone_data_rec2 = wt2 * signal_rec(ft, freq, filt = filt2) / sumwt\n",
    "    \n",
    "    filt3 = np.abs(freq) >= 1000\n",
    "    tone_data_rec3 = wt3 * signal_rec(ft, freq, filt = filt3) / sumwt\n",
    "    \n",
    "    return tone_data_rec1 + tone_data_rec2 + tone_data_rec3"
   ]
  },
  {
   "cell_type": "code",
   "execution_count": 9,
   "metadata": {},
   "outputs": [
    {
     "name": "stdout",
     "output_type": "stream",
     "text": [
      "max of the imaginary part 0\n"
     ]
    },
    {
     "data": {
      "image/png": "[encoded data removed]",
      "text/plain": [
       "<Figure size 432x288 with 1 Axes>"
      ]
     },
     "metadata": {},
     "output_type": "display_data"
    },
    {
     "data": {
      "image/png": "[encoded data removed]",
      "text/plain": [
       "<Figure size 432x288 with 1 Axes>"
      ]
     },
     "metadata": {},
     "output_type": "display_data"
    },
    {
     "data": {
      "image/png": "[encoded data removed]",
      "text/plain": [
       "<Figure size 432x288 with 1 Axes>"
      ]
     },
     "metadata": {},
     "output_type": "display_data"
    },
    {
     "name": "stdout",
     "output_type": "stream",
     "text": [
      "max of the imaginary part 0\n"
     ]
    },
    {
     "data": {
      "image/png": "[encoded data removed]",
      "text/plain": [
       "<Figure size 432x288 with 1 Axes>"
      ]
     },
     "metadata": {},
     "output_type": "display_data"
    },
    {
     "data": {
      "image/png": "[encoded data removed]",
      "text/plain": [
       "<Figure size 432x288 with 1 Axes>"
      ]
     },
     "metadata": {},
     "output_type": "display_data"
    },
    {
     "data": {
      "image/png": "[encoded data removed]",
      "text/plain": [
       "<Figure size 432x288 with 1 Axes>"
      ]
     },
     "metadata": {},
     "output_type": "display_data"
    },
    {
     "name": "stdout",
     "output_type": "stream",
     "text": [
      "max of the imaginary part 0\n"
     ]
    },
    {
     "data": {
      "image/png": "[encoded data removed]",
      "text/plain": [
       "<Figure size 432x288 with 1 Axes>"
      ]
     },
     "metadata": {},
     "output_type": "display_data"
    },
    {
     "data": {
      "image/png": "[encoded data removed]",
      "text/plain": [
       "<Figure size 432x288 with 1 Axes>"
      ]
     },
     "metadata": {},
     "output_type": "display_data"
    },
    {
     "data": {
      "image/png": "[encoded data removed]",
      "text/plain": [
       "<Figure size 432x288 with 1 Axes>"
      ]
     },
     "metadata": {},
     "output_type": "display_data"
    }
   ],
   "source": [
    "sample_rate, barry = read(\"BarryWhite30sec.wav\")\n",
    "\n",
    "playsound(sample_rate, equalizer(sample_rate, barry, 2, 1 ,1))"
   ]
  },
  {
   "cell_type": "markdown",
   "metadata": {},
   "source": [
    "## End of week11-1"
   ]
  },
  {
   "cell_type": "code",
   "execution_count": null,
   "metadata": {
    "collapsed": true
   },
   "outputs": [],
   "source": [
    "'''\n",
    "Largest int16\n",
    "\n",
    "'''\n",
    "\n",
    "import numpy as np\n",
    "\n",
    "# largest 16-bit integer: 2^16 - 1\n",
    "a = 2**16 - 1\n",
    "add_n = 1\n",
    "b = np.int16(a + add_n)\n",
    "print('largest int16:'.format(a))\n",
    "print('(largest int16) + {:d}:{:d}'.format(add_n, b))"
   ]
  },
  {
   "cell_type": "code",
   "execution_count": null,
   "metadata": {
    "collapsed": true
   },
   "outputs": [],
   "source": [
    "%matplotlib inline\n",
    "'''\n",
    "Trying to get the slider to work\n",
    "\n",
    "https://ipython.org/ipython-doc/3/api/generated/IPython.html.widgets.widget_float.html\n",
    "\n",
    "'''\n",
    "import numpy as np\n",
    "import matplotlib.pyplot as plt\n",
    "#from matplotlib.widgets import Slider, Button, RadioButtons\n",
    "\n",
    "\n",
    "\n",
    "start_time = 1\n",
    "end_time = 5\n",
    "sample_rate, time_pts, shortBW = get_BW(start_time, end_time)\n",
    "\n",
    "# sndarr = shortBW\n",
    "# vol = 0.1\n",
    "# sndarr = np.int16(vol*sndarr)\n",
    "\n",
    "# def playsound_sl(vol = 0.1):\n",
    "#     from scipy.io.wavfile import write\n",
    "#     import os\n",
    "#     write('tmp.wav', sample_rate, np.int16(vol*shortBW))\n",
    "#     os.system(\"afplay tmp.wav\") \n",
    "#     os.system(\"rm tmp.wav\") \n",
    "#     return\n",
    "\n",
    "vol_gl = 0.1\n",
    "\n",
    "def vol_control(vol = 0.1):\n",
    "    print vol\n",
    "    vol_gl = vol\n",
    "\n",
    "    return vol\n",
    "\n",
    "\n",
    "vol_slider = widgets.FloatSliderWidget(min=0.1, max=1., step=0.1, value=0.1)\n",
    "# b_slider = widgets.FloatSliderWidget(min=-5, max=5, step=0.3, value=0)\n",
    "w=widgets.interactive(vol_control, vol=vol_slider)\n",
    "display(w)\n",
    "\n",
    "\n",
    "# #playsound(sample_rate, shortBW, vol = 0.5)\n",
    "\n",
    "# # import IPython.html.widgets as widgets\n",
    "# # from IPython.display import display\n",
    "\n",
    "\n",
    "# playsound_sl(shortBW)\n",
    "\n",
    "\n"
   ]
  },
  {
   "cell_type": "code",
   "execution_count": null,
   "metadata": {
    "collapsed": true
   },
   "outputs": [],
   "source": [
    "print vol_gl\n",
    "playsound(shortBW, vol = vol)"
   ]
  },
  {
   "cell_type": "markdown",
   "metadata": {},
   "source": [
    "## Next HW: build your own 10 band equilizer."
   ]
  },
  {
   "cell_type": "code",
   "execution_count": null,
   "metadata": {
    "collapsed": true
   },
   "outputs": [],
   "source": [
    "filt = freq < 500\n",
    "ft_filt = filt * ft\n",
    "tone_filt = np.fft.ifft(ft_filt)\n",
    "time_pts = np.linspace(0, 2, 2*sample_rate)\n",
    "\n",
    "plt.plot(tone_filt.real)\n",
    "plt.figure()\n",
    "plt.plot(tone_filt.imag)\n",
    "plt.show()\n",
    "#playsound(44100, tone_filt)"
   ]
  },
  {
   "cell_type": "code",
   "execution_count": null,
   "metadata": {
    "collapsed": true
   },
   "outputs": [],
   "source": [
    "%matplotlib inline\n",
    "\n",
    "'''\n",
    "\n",
    "This should be part of HW05 -- original, don't change.\n",
    "\n",
    "Further improvement: define a __call__ so that objects of this class can also be used as a function that can applied\n",
    "to other sound arrays (such as Barry White).\n",
    "\n",
    "'''\n",
    "\n",
    "\n",
    "from pdb import set_trace\n",
    "\n",
    "import matplotlib.pyplot as plt\n",
    "import numpy as np\n",
    "from scipy.io.wavfile import read, write\n",
    "import os\n",
    "\n",
    "\n",
    "class Tone:\n",
    "\n",
    "\n",
    "\n",
    "    def __init__(self, f, duration, sample_rate = 44100):\n",
    "        self.f = f\n",
    "        self.dur = duration\n",
    "        self.sr = sample_rate\n",
    "        self.signal = np.zeros(self.dur*self.sr)\n",
    "        self.orig_signal = np.zeros(self.dur*self.sr)\n",
    "        self.overtones = {}\n",
    "        self.OT_num = 0\n",
    "\n",
    "        \n",
    "    def comb_tones(self, *weights):\n",
    "        \n",
    "        if len(weights) == 0:\n",
    "            weights = np.ones(self.OT_num + 1)/(self.OT_num + 1)\n",
    "            print 'weights', weights   \n",
    "        comb_signal = np.int16(self.orig_signal * weights[0])\n",
    "        for i, overtone in self.overtones.iteritems():\n",
    "            comb_signal += np.int16(weights[i-1] * overtone)\n",
    "        \n",
    "        self.signal = comb_signal\n",
    "    \n",
    "    \n",
    "    \n",
    "    def get_tone(self, play_sound = False):        \n",
    "        time_pts = np.linspace(0, self.dur, self.dur*self.sr)\n",
    "        amp = 2**14\n",
    "        signal = np.int16(amp*np.sin(np.pi*2*self.f*time_pts))\n",
    "        self.signal = signal\n",
    "        if self.OT_num < 1:\n",
    "            self.orig_signal = signal\n",
    "        #set_trace()\n",
    "        if play_sound:\n",
    "            self.playsound()\n",
    "    \n",
    "    \n",
    "        return signal\n",
    "  \n",
    "    def gen_overtone(self, multi, play_sound = False):\n",
    "        true_self_f = self.f\n",
    "        self.f *= multi\n",
    "        self.OT_num += 1\n",
    "        overtone = self.get_tone(play_sound = play_sound)\n",
    "        self.overtones[multi] = overtone\n",
    "        self.f = true_self_f\n",
    "        \n",
    "        return overtone\n",
    "    \n",
    "    \n",
    "\n",
    "    def playsound(self, vol = 0.05):\n",
    "        write('tmp.wav', self.sr, np.int16(self.signal*vol))\n",
    "        os.system(\"afplay tmp.wav\") \n",
    "        os.system(\"rm tmp.wav\") \n",
    "        return\n",
    "\n",
    "    def plot_fourier(self, freq_lim = 1000., amp_lim = 1e6):\n",
    "        '''\n",
    "        Given sample_rate and signal, plots the real and imaginary parts of DFT.\n",
    "        '''\n",
    "\n",
    "        sp = np.fft.fft(self.signal.astype(np.float))\n",
    "        freq = np.fft.fftfreq(self.signal.shape[-1], d = 1./self.sr)\n",
    "        plt.figure()\n",
    "        plt.plot(freq, sp.real, 'b.')\n",
    "        plt.xlim([-freq_lim, freq_lim])\n",
    "        plt.ylim([-amp_lim, amp_lim])\n",
    "\n",
    "        plt.figure()\n",
    "        plt.plot(freq, sp.imag, 'g.')\n",
    "        plt.xlim([-freq_lim, freq_lim])\n",
    "        plt.ylim([-amp_lim, amp_lim])\n",
    "\n",
    "        plt.show()\n",
    "        \n",
    "\n",
    "\n",
    "tone = Tone(440., 2.)\n",
    "print tone.f\n",
    "sound = tone.get_tone()\n",
    "tone.playsound()\n",
    "tone.plot_fourier()\n",
    "overtone = tone.gen_overtone(2, play_sound = True)\n",
    "overtone = tone.gen_overtone(3, play_sound = True)\n",
    "overtone = tone.gen_overtone(4, play_sound = True)\n",
    "\n",
    "print tone.OT_num\n",
    "\n",
    "#weights = np.sqrt(np.array([0.25, 0.25, 0.25, 0.25]))\n",
    "weights = np.array([0.25, 0.25, 0.25, 0.25])\n",
    "\n",
    "#weights = np.array([0.4, 0.4, 0.1, 0.1])\n",
    "\n",
    "tone.comb_tones(*weights)\n",
    "tone.playsound()\n",
    "tone.plot_fourier(freq_lim=2000.)\n",
    "\n",
    "\n"
   ]
  },
  {
   "cell_type": "code",
   "execution_count": null,
   "metadata": {
    "collapsed": true
   },
   "outputs": [],
   "source": [
    "%matplotlib inline\n",
    "\n",
    "'''\n",
    "\n",
    "This should be part of HW05\n",
    "\n",
    "Further improvement: define a __call__ so that objects of this class can also be used as a function that can applied\n",
    "to other sound arrays (such as Barry White).\n",
    "\n",
    "'''\n",
    "\n",
    "\n",
    "from pdb import set_trace\n",
    "\n",
    "import matplotlib.pyplot as plt\n",
    "import numpy as np\n",
    "from scipy.io.wavfile import read, write\n",
    "from scipy import signal\n",
    "import os\n",
    "\n",
    "\n",
    "class Tone:\n",
    "\n",
    "    def __init__(self, sample_rate = 44100):\n",
    "        self.f = 0.\n",
    "        self.dur = 0.\n",
    "        self.sr = sample_rate\n",
    "        self.signal = 0\n",
    "        self.orig_signal = 0\n",
    "        self.overtones = {}\n",
    "        self.OT_num = 0\n",
    "\n",
    "    def clear(self):\n",
    "        self.__init__()\n",
    "        \n",
    "    def comb_tones(self, *weights):\n",
    "        \n",
    "        if len(weights) == 0:\n",
    "            weights = np.sqrt(np.ones(self.OT_num + 1)/(self.OT_num + 1))\n",
    "            print 'weights', weights   \n",
    "        comb_signal = np.int16(self.orig_signal * weights[0])\n",
    "        for i, overtone in self.overtones.iteritems():\n",
    "            comb_signal += np.int16(weights[i-1] * overtone)\n",
    "        \n",
    "        self.signal = comb_signal\n",
    "        return self.signal\n",
    "    \n",
    "    \n",
    "    \n",
    "    def get_tone(self, f = 440, duration = 0.5, play_sound = False):  \n",
    "        self.f = f\n",
    "        self.dur = duration\n",
    "\n",
    "        time_pts = np.linspace(0, self.dur, self.dur*self.sr)\n",
    "        amp = 2**14\n",
    "        signal = np.int16(amp*np.sin(np.pi*2*self.f*time_pts))\n",
    "        self.signal = signal\n",
    "        if self.OT_num < 1:\n",
    "            self.orig_signal = signal\n",
    "        #set_trace()\n",
    "        if play_sound:\n",
    "            self.playsound()\n",
    "    \n",
    "    \n",
    "        return signal\n",
    "  \n",
    "    def gen_overtone(self, multi, play_sound = False):\n",
    "        true_self_f = self.f\n",
    "        self.f *= multi\n",
    "        print 'f in get_overtone', self.f\n",
    "        self.OT_num += 1\n",
    "        overtone = self.get_tone(f = self.f, duration = self.dur, play_sound = play_sound)\n",
    "        self.overtones[multi] = overtone\n",
    "        self.f = true_self_f\n",
    "        \n",
    "        #return overtone\n",
    "    \n",
    "    \n",
    "\n",
    "    def playsound(self, sound = None, sample_rate = 44100, vol = 0.05):\n",
    "        if sound == None:\n",
    "            write('tmp.wav', self.sr, np.int16(self.signal*vol))\n",
    "        else:\n",
    "            write('tmp.wav', sample_rate, np.int16(sound*vol))\n",
    "        os.system(\"afplay tmp.wav\") \n",
    "        os.system(\"rm tmp.wav\") \n",
    "        return\n",
    "\n",
    "    def plot_fourier(self, sound = None, sample_rate = 44100, freq_lim = 1000., amp_lim = 1e6):\n",
    "        '''\n",
    "        Given sample_rate and signal, plots the real and imaginary parts of DFT.\n",
    "        '''\n",
    "        if sound == None:\n",
    "            signal = self.signal.astype(np.float)\n",
    "            samp_rate = self.sr\n",
    "        else:\n",
    "            signal = sound\n",
    "            samp_rate = sample_rate\n",
    "        \n",
    "        sp = np.fft.fft(signal)\n",
    "        freq = np.fft.fftfreq(signal.shape[0], d = 1./samp_rate)\n",
    "        plt.figure()\n",
    "        plt.plot(freq, sp.real, 'b.')\n",
    "        plt.xlim([-freq_lim, freq_lim])\n",
    "        plt.ylim([-amp_lim, amp_lim])\n",
    "\n",
    "        plt.figure()\n",
    "        plt.plot(freq, sp.imag, 'g.')\n",
    "        plt.xlim([-freq_lim, freq_lim])\n",
    "        plt.ylim([-amp_lim, amp_lim])\n",
    "\n",
    "        plt.show()\n",
    "\n",
    "    def plot_psd(self, outside_signal = None, sample_rate = 44100, duration = 0., freq_lim = 1000., pwr_lim = 2e7):\n",
    "        \n",
    "        if outside_signal == None:\n",
    "            sound = self.signal.astype(np.float)\n",
    "            samp_rate = self.sr\n",
    "        else:\n",
    "            sound = outside_signal\n",
    "            samp_rate = sample_rate       \n",
    "            \n",
    "        duration = float(len(sound))/samp_rate\n",
    "        \n",
    "        f, Pxx_den = signal.periodogram(sound, samp_rate)\n",
    "        df = 1./duration\n",
    "        plt.figure()\n",
    "        plt.plot(f, Pxx_den)\n",
    "        plt.xlim([0, freq_lim])\n",
    "        plt.ylim([0, pwr_lim])\n",
    "\n",
    "        plt.show()\n",
    "\n",
    "    def plot_sound(self, t_lim = 0.02):\n",
    "        time_pts = np.arange(len(self.signal))/float(self.sr)\n",
    "        plt.figure()\n",
    "        plt.plot(time_pts, self.signal)\n",
    "        plt.xlim([0, t_lim])\n",
    "        plt.show()\n",
    "\n",
    "        \n",
    "        \n",
    "        \n",
    "def rich_tone(f, duration):\n",
    "    tone = Tone()\n",
    "\n",
    "    simple_tone = tone.get_tone(f, duration)\n",
    "    tone.gen_overtone(2)\n",
    "    tone.gen_overtone(3)\n",
    "    tone.gen_overtone(4)\n",
    "    rich_tone = tone.comb_tones()\n",
    "    print 'inside rich_tone', tone.f\n",
    "\n",
    "    #tone.clear()\n",
    "    return simple_tone, rich_tone, tone\n",
    "    \n",
    "    \n",
    "A_simp, A, tone = rich_tone(440., .5)\n",
    "tone.playsound()\n",
    "tone.plot_sound()\n",
    "tone.plot_psd(freq_lim = 3000.)\n",
    "B_simp, B, tone = rich_tone(493.88, .5)    \n",
    "tone.plot_psd(freq_lim = 3000.)\n",
    "D_simp, D, tone = rich_tone(587.33, .5)    \n",
    "tone.plot_psd(freq_lim = 3000.)\n",
    "G_simp, G, tone = rich_tone(784./2, .5)\n",
    "tone.plot_psd(freq_lim = 3000.)\n",
    "\n",
    "\n",
    "# D = tone.get_tone(587.33, .5)\n",
    "# tone.gen_overtone(2)\n",
    "# tone.gen_overtone(3)\n",
    "# tone.gen_overtone(4)\n",
    "# D = tone.comb_tones()\n",
    "\n",
    "# tone.clear()\n",
    "\n",
    "# A = tone.get_tone(440., 0.5)\n",
    "# tone.gen_overtone(2)\n",
    "# tone.gen_overtone(3)\n",
    "# tone.gen_overtone(4)\n",
    "# A = tone.comb_tones()\n",
    "\n",
    "# tone.clear()\n",
    "\n",
    "tone = Tone()\n",
    "song = np.concatenate((B, A, G, A, B, B, B, B, A, A, A, A))\n",
    "tone.plot_psd(song, freq_lim = 3000.)\n",
    "\n",
    "\n",
    "#tone.playsound()\n",
    "\n",
    "song = np.concatenate((B, A, G, A, B, B, B, B, A, A, A, A, B, D, D, D, D) ) #, D, D))\n",
    "tone.playsound(song, vol = 0.2)\n",
    "\n",
    "\n",
    "\n",
    "#playsound(sample_rate, song)\n",
    "\n",
    "# tone.plot_fourier()\n",
    "# overtone = tone.gen_overtone(2, play_sound = True)\n",
    "# overtone = tone.gen_overtone(3, play_sound = True)\n",
    "# overtone = tone.gen_overtone(4, play_sound = True)\n",
    "\n",
    "# print tone.OT_num\n",
    "\n",
    "# weights = np.sqrt(np.array([0.25, 0.25, 0.25, 0.25]))\n",
    "# #weights = np.array([0.25, 0.25, 0.25, 0.25])\n",
    "\n",
    "# #weights = np.array([0.4, 0.4, 0.1, 0.1])\n",
    "\n",
    "# tone.comb_tones(*weights)\n",
    "# tone.playsound()\n",
    "# tone.plot_fourier(freq_lim=2000.)\n",
    "\n",
    "\n"
   ]
  },
  {
   "cell_type": "code",
   "execution_count": null,
   "metadata": {
    "collapsed": true
   },
   "outputs": [],
   "source": [
    "Atone_freq = 440.\n",
    "tone1 = get_tone(44100, Atone_freq, 2., play_sound=True)"
   ]
  },
  {
   "cell_type": "code",
   "execution_count": null,
   "metadata": {
    "collapsed": true
   },
   "outputs": [],
   "source": [
    "sample_rate = 44100\n",
    "Atone_freq = 440.\n",
    "tone1 = get_tone(sample_rate, Atone_freq, 2.)\n",
    "tone2 = get_tone(sample_rate, Atone_freq*2, 2.)\n",
    "tone3 = get_tone(sample_rate, Atone_freq*3, 2.)\n",
    "\n",
    "sound = np.int16(0.75*tone1) + np.int16(0.25*tone2)\n",
    "\n",
    "\n",
    "\n",
    "sound = np.int16(0.75*tone1 + 0.25*tone2)\n",
    "\n",
    "\n",
    "# sound = np.int16(tone1 + 0.75*tone2)\n",
    "# sound = tone1/2 + tone2/2\n",
    "\n",
    "playsound(sample_rate, sound)\n",
    "# plot_fourier(44100, sound)\n",
    "# playsound(sampl_rate, sound)"
   ]
  },
  {
   "cell_type": "code",
   "execution_count": null,
   "metadata": {
    "collapsed": true
   },
   "outputs": [],
   "source": [
    "'''Play a tone at 880 Hz '''\n",
    "import numpy as np\n",
    "import os\n",
    "from scipy.io.wavfile import write\n",
    "import matplotlib.pyplot as plt\n",
    "\n",
    "\n",
    "f = 440.*2\n",
    "sample_rate = 44100.\n",
    "duration = 2\n",
    "time_pts = np.linspace(0, duration, duration*sample_rate)\n",
    "amp = 2**7\n",
    "Atone_data = amp*np.sin(np.pi*2*f*time_pts)\n",
    "\n",
    "\n",
    "\n",
    "# freq = 440.*2\n",
    "# sample_rate = 44100.\n",
    "# duration = 3\n",
    "# time_pts = np.linspace(0, duration, duration*sample_rate)\n",
    "# amp = 2**7\n",
    "# tone_data = amp*np.sin(np.pi*2*freq*time_pts)\n",
    "# tone_data = np.uint8(tone_data)\n",
    "\n",
    "plot_fourier(sample_rate, Atone_data, freq_lim = 1000.)\n"
   ]
  },
  {
   "cell_type": "code",
   "execution_count": null,
   "metadata": {
    "collapsed": true
   },
   "outputs": [],
   "source": [
    "'''Play the A tone at twice the sampling rate '''\n",
    "import numpy as np\n",
    "import os\n",
    "from scipy.io.wavfile import write\n",
    "\n",
    "freq = 440.\n",
    "sample_rate = 44100.\n",
    "duration = 3\n",
    "time_pts = np.linspace(0, duration, duration*sample_rate)\n",
    "amp = 2**7\n",
    "tone_data = amp*np.sin(np.pi*2*freq*time_pts)\n",
    "tone_data = np.uint8(tone_data)\n",
    "\n",
    "write('tone2.wav', sample_rate*2, tone_data)\n",
    "os.system(\"afplay Atone.wav\") \n",
    "os.system(\"afplay tone2.wav\") \n",
    "# Do scientific python note A and sample rate"
   ]
  },
  {
   "cell_type": "code",
   "execution_count": null,
   "metadata": {
    "collapsed": true
   },
   "outputs": [],
   "source": [
    "'''Play the A tone at 440 Hz and another at 880 Hz '''\n",
    "import numpy as np\n",
    "import os\n",
    "from scipy.io.wavfile import write\n",
    "\n",
    "freq = 440.\n",
    "sample_rate = 44100.\n",
    "duration = 2\n",
    "time_pts = np.linspace(0, duration, duration*sample_rate)\n",
    "\n",
    "Atone_data = np.sin(np.pi*2*freq*time_pts)\n",
    "Atone_dbl = np.sin(np.pi*2*freq*2*time_pts)\n",
    "#Atone_tpl = amp*np.sin(np.pi*3*freq*2*time_pts)\n",
    "\n",
    "\n",
    "amp1 = 2**6\n",
    "amp2 = 2**5\n",
    "\n",
    "#sound_data = amp1*Atone_data + amp2*Atone_dbl \n",
    "\n",
    "\n",
    "Atone_tpl = amp*np.sin(np.pi*3*freq*2*time_pts)\n",
    "amp3 = 2**3\n",
    "sound_data = amp1*Atone_data + amp2*Atone_dbl + amp3*Atone_tpl \n",
    "sound_data = sound_data.astype(np.uint8)\n",
    "\n",
    "write('sound.wav', sample_rate, sound_data)\n",
    "#os.system(\"afplay Atone.wav\") \n",
    "os.system(\"afplay sound.wav\") \n",
    "# Do scientific python note A and sample rate"
   ]
  },
  {
   "cell_type": "code",
   "execution_count": null,
   "metadata": {
    "collapsed": true
   },
   "outputs": [],
   "source": [
    "import numpy as np\n",
    "from scipy.io.wavfile import write\n",
    "lo_rate = rate/8\n",
    "write('lo_pitch_dolph.wav', lo_rate, dolph_snd)\n",
    "os.system(\"afplay tuimelaar.wav\") \n",
    "os.system(\"afplay lo_pitch_dolph.wav\") "
   ]
  },
  {
   "cell_type": "markdown",
   "metadata": {},
   "source": [
    "## Breakout:\n",
    "## Write a function that takes a numpy array, and a play rate, creates a temp wav file, plays the sound, then removes (rm) the temp file.  Call it playsound()."
   ]
  },
  {
   "cell_type": "code",
   "execution_count": null,
   "metadata": {
    "collapsed": true
   },
   "outputs": [],
   "source": [
    "import numpy as np\n",
    "from scipy.io.wavfile import write\n",
    "\n",
    "data = np.random.uniform(-1,1,44100) # 44100 random samples between -1 and 1\n",
    "scaled = np.int16(data/np.max(np.abs(data)) * 32767)\n",
    "write('test.wav', 44100, scaled)\n",
    "print 'done'"
   ]
  },
  {
   "cell_type": "code",
   "execution_count": null,
   "metadata": {
    "collapsed": true
   },
   "outputs": [],
   "source": [
    "%matplotlib inline\n",
    "import matplotlib.pyplot as plt\n",
    "import numpy as np\n",
    "import matplotlib.pyplot as plt\n",
    "from scipy.io.wavfile import read, write\n",
    "import os\n",
    "rate, barry_white = read(\"BarryWhite30sec.wav\")\n",
    "#numpy.array(a[1],dtype=float)\n",
    "#dolphin_snd = np.array(a[1], dtype = float)\n",
    "print 'rate', rate\n",
    "print 'data type', barry_white.dtype\n",
    "\n",
    "# It has two columns: stereosound!\n",
    "print barry_white.shape\n",
    "start_time = 1\n",
    "end_time = 15\n",
    "duration = end_time - start_time\n",
    "shortBW = barry_white[start_time*rate: end_time*rate, :]\n",
    "print shortBW.shape\n",
    "plt.plot(shortBW)\n",
    "\n",
    "# shortBW = shortBW/2\n",
    "# print 'data type', shortBW.dtype\n",
    "\n",
    "\n",
    "# just one channel\n",
    "shortBW = shortBW[:, 0]\n",
    "print shortBW.shape\n",
    "# shortBW = shortBW/2\n",
    "# print 'data type', shortBW.dtype\n",
    "\n",
    "\n",
    "playsound(rate, shortBW)\n",
    "\n",
    "# write('shortBW.wav', rate, shortBW)\n",
    "# os.system('afplay shortBW.wav')\n",
    "plt.figure()\n",
    "plt.plot(shortBW)\n",
    "plt.show()\n",
    "\n",
    "\n"
   ]
  },
  {
   "cell_type": "code",
   "execution_count": null,
   "metadata": {
    "collapsed": true
   },
   "outputs": [],
   "source": [
    "sp = np.fft.fft(shortBW.astype(np.float))\n",
    "t = np.linspace(start_time, end_time, shortBW.shape[0])\n",
    "plt.figure()\n",
    "plt.plot(t)\n",
    "#freq = np.fft.fftfreq(t.shape[-1])\n",
    "#freq = np.linspace(-rate/2., rate/2., sp.shape[0])\n",
    "print freq.shape\n",
    "# freq = np.fft.fftfreq( (shortBW*rate).shape[-1] )\n",
    "# plt.plot(freq, sp.real, 'b.')\n",
    "# plt.figure()\n",
    "# plt.plot(freq, sp.imag, 'g.')\n",
    "# plt.show()\n",
    "plt.figure()\n",
    "plt.plot(freq, sp.real, 'b.')\n",
    "plt.figure()\n",
    "plt.plot(freq, sp.imag, 'g.')\n",
    "plt.show()"
   ]
  },
  {
   "cell_type": "code",
   "execution_count": null,
   "metadata": {
    "collapsed": true
   },
   "outputs": [],
   "source": [
    "BW_back = np.fft.ifft(sp).real\n",
    "print 'data type', BW_back.dtype\n",
    "BW_back = np.int16(BW_back)\n",
    "playsound(rate, BW_back)\n",
    "\n",
    "plt.plot(BW_back)\n",
    "plt.show()\n",
    "# write('BW_back.wav', rate, BW_back)\n",
    "# os.system('afplay BW_back.wav')\n",
    "\n"
   ]
  },
  {
   "cell_type": "markdown",
   "metadata": {},
   "source": [
    "## End of week 9"
   ]
  },
  {
   "cell_type": "code",
   "execution_count": null,
   "metadata": {
    "collapsed": true
   },
   "outputs": [],
   "source": [
    "os.system(\"afplay test.wav\") "
   ]
  },
  {
   "cell_type": "markdown",
   "metadata": {},
   "source": [
    "## Breakout: download animal sounds in wav format and make a class that make jungle sound\n",
    "\n",
    "### You can specify the kinds of animals\n",
    "### how many of each\n",
    "### how loud each should be\n",
    "### optional: time-variation of an animal sound"
   ]
  },
  {
   "cell_type": "markdown",
   "metadata": {},
   "source": [
    "## Slides: Then talk about Fourier Transform and then DFT and FFT\n",
    "## End with FFT of the dolphin sound signal -- that's what you see as the equalizer -- then enhance the low freq part of the sound: now you get a dolphin that sounds like Barry White. (Alternatively take a Barry White sound clip (The beginning of Can't Get Enough of Your Love Baby, remove the low freq part -- outrageous!)"
   ]
  },
  {
   "cell_type": "code",
   "execution_count": null,
   "metadata": {
    "collapsed": true
   },
   "outputs": [],
   "source": [
    "f = 440.\n",
    "sample_rate = 44100.\n",
    "duration = 2\n",
    "time_pts = np.linspace(0, duration, duration*sample_rate)\n",
    "amp = 2**7\n",
    "Atone_data = amp*np.sin(np.pi*2*f*time_pts)\n",
    "\n",
    "sp = np.fft.fft(Atone_data.astype(np.float))\n",
    "t = np.linspace(0, duration, Atone_data.shape[0])\n",
    "plt.figure()\n",
    "plt.plot(t)\n",
    "freq = np.space(-1/)\n",
    "#freq = np.fft.fftfreq(t.shape[-1])\n",
    "plt.figure()\n",
    "plt.plot(freq, sp.real, 'b.')\n",
    "plt.figure()\n",
    "plt.plot(freq, sp.imag, 'g.')\n",
    "plt.show()\n"
   ]
  },
  {
   "cell_type": "code",
   "execution_count": null,
   "metadata": {
    "collapsed": true
   },
   "outputs": [],
   "source": [
    "import numpy as np\n",
    "from scipy.io.wavfile import write\n",
    "# loud_dolph = (dolph_snd * 1.5).astype(int)\n",
    "loud_dolph = np.uint8(dolph_snd * 2.5)\n",
    "print rate, loud_dolph.max()\n",
    "plt.plot(loud_dolph)\n",
    "write('loud_dolph.wav', rate, loud_dolph)\n",
    "os.system(\"afplay quiet_dolph.wav\") \n",
    "os.system(\"afplay loud_dolph.wav\") "
   ]
  },
  {
   "cell_type": "code",
   "execution_count": null,
   "metadata": {
    "collapsed": true
   },
   "outputs": [],
   "source": [
    "'''remove low frequencies'''\n",
    "plt.plot(freq, sp.real, 'b.')\n",
    "plt.xlim([-1e-2, 1e-2])\n",
    "plt.show()"
   ]
  },
  {
   "cell_type": "code",
   "execution_count": null,
   "metadata": {
    "collapsed": true
   },
   "outputs": [],
   "source": [
    "sp = np.fft.fft(sound_data.astype(np.float))\n",
    "t = np.linspace(0, duration, sound_data.shape[0])\n",
    "plt.figure()\n",
    "plt.plot(t)\n",
    "freq = np.fft.fftfreq(t.shape[-1])\n",
    "plt.figure()\n",
    "plt.plot(freq, sp.real, 'b.')\n",
    "plt.figure()\n",
    "plt.plot(freq, sp.imag, 'g.')\n",
    "plt.show()\n",
    "\n"
   ]
  },
  {
   "cell_type": "code",
   "execution_count": null,
   "metadata": {
    "collapsed": true
   },
   "outputs": [],
   "source": [
    "'''get fft for 2 freq right'''\n",
    "\n",
    "f = 440.\n",
    "sample_rate = 44100.\n",
    "duration = 2\n",
    "time_pts = np.linspace(0, duration, duration*sample_rate)\n",
    "amp = 2**7\n",
    "Atone_data = amp*np.sin(np.pi*2*f*time_pts)\n",
    "\n",
    "sp = np.fft.fft(Atone_data.astype(np.float))\n",
    "t = np.linspace(0, duration, Atone_data.shape[0])\n",
    "plt.figure()\n",
    "plt.plot(t)\n",
    "freq = np.space(-1/)\n",
    "#freq = np.fft.fftfreq(t.shape[-1])\n",
    "plt.figure()\n",
    "plt.plot(freq, sp.real, 'b.')\n",
    "plt.figure()\n",
    "plt.plot(freq, sp.imag, 'g.')\n",
    "plt.show()\n"
   ]
  },
  {
   "cell_type": "markdown",
   "metadata": {},
   "source": [
    "## Next Week\n",
    "## What does a square wave sound like?  How many Fourier components do you have to keep in order to make the Fouirer decomposition sound like the original square wave?\n",
    "## 1. Talk about a subtlety: Aliasing\n",
    "## 1. FFT for 2D image\n",
    "## 2. Convolution of a 2D image with its border\n",
    "## 3. Cleaning up a 2D image\n",
    "## 4. Fractal"
   ]
  },
  {
   "cell_type": "code",
   "execution_count": null,
   "metadata": {
    "collapsed": true
   },
   "outputs": [],
   "source": [
    "import matplotlib.pyplot as plt\n",
    "t = np.arange(256)\n",
    "print t.shape, t.shape[0]\n",
    "sp = np.fft.fft(np.sin(t))\n",
    "freq = np.fft.fftfreq(t.shape[0])\n",
    "plt.plot(freq, sp.real, 'b.')\n",
    "plt.figure()\n",
    "plt.plot(freq, sp.imag, 'g.')\n",
    "plt.show()"
   ]
  },
  {
   "cell_type": "code",
   "execution_count": null,
   "metadata": {
    "collapsed": true
   },
   "outputs": [],
   "source": [
    "# don't run this: too long and no way to stop\n",
    "os.system(\"afplay Ya_Lo_Se.m4a\")"
   ]
  },
  {
   "cell_type": "code",
   "execution_count": null,
   "metadata": {
    "collapsed": true
   },
   "outputs": [],
   "source": [
    "import scitools"
   ]
  },
  {
   "cell_type": "code",
   "execution_count": null,
   "metadata": {
    "collapsed": true
   },
   "outputs": [],
   "source": [
    "import pygame"
   ]
  },
  {
   "cell_type": "code",
   "execution_count": null,
   "metadata": {
    "collapsed": true
   },
   "outputs": [],
   "source": [
    "s = Sound() \n",
    "s.read('sound.wav') \n",
    "s.play()"
   ]
  }
 ],
 "metadata": {
  "kernelspec": {
   "display_name": "Python 3",
   "language": "python",
   "name": "python3"
  },
  "language_info": {
   "codemirror_mode": {
    "name": "ipython",
    "version": 3
   },
   "file_extension": ".py",
   "mimetype": "text/x-python",
   "name": "python",
   "nbconvert_exporter": "python",
   "pygments_lexer": "ipython3",
   "version": "3.6.3"
  }
 },
 "nbformat": 4,
 "nbformat_minor": 1
}
