{
 "cells": [
  {
   "cell_type": "markdown",
   "metadata": {},
   "source": [
    "# Topics\n",
    "\n",
    "## 1. Fourier Descriptor  "
   ]
  },
  {
   "cell_type": "code",
   "execution_count": 1,
   "metadata": {
    "collapsed": true
   },
   "outputs": [],
   "source": [
    "%matplotlib inline\n",
    "import matplotlib.pyplot as plt\n",
    "import numpy as np\n",
    "import os\n",
    "from pdb import set_trace\n",
    "from copy import copy\n",
    "\n",
    "import matplotlib.image as mpimg"
   ]
  },
  {
   "cell_type": "code",
   "execution_count": 2,
   "metadata": {},
   "outputs": [
    {
     "name": "stdout",
     "output_type": "stream",
     "text": [
      "(1+2j)\n"
     ]
    }
   ],
   "source": [
    "'''Reminder: Complex Numbers'''\n",
    "a = 1.\n",
    "b = 2.\n",
    "# It's not c = a + b*j!!\n",
    "c = a + b*1j\n",
    "\n",
    "print(c)"
   ]
  },
  {
   "cell_type": "markdown",
   "metadata": {},
   "source": [
    "## Breakout Exercise: Draw a square, by using numpy arrays and matplotlib.  You should be able to specify: \n",
    "\n",
    "- ### the number of point per side\n",
    "- ### the coordinates of the lower left corner and upper right corner\n",
    "- ###  go around the square in counter-clockwise fashion"
   ]
  },
  {
   "cell_type": "code",
   "execution_count": 3,
   "metadata": {
    "collapsed": true
   },
   "outputs": [],
   "source": [
    "def draw_square(num_pts, lower_left, upper_right):\n",
    "    # Bottom line\n",
    "    x0 = np.linspace(lower_left[0], upper_right[0], num_pts)\n",
    "    y0 = np.ones(num_pts) * lower_left[1]\n",
    "    \n",
    "    # Right line\n",
    "    x1 = np.ones(num_pts) * upper_right[0]\n",
    "    y1 = np.linspace(lower_left[1], upper_right[1], num_pts)\n",
    "    \n",
    "    # Top line\n",
    "    x2 = np.linspace(upper_right[0], lower_left[0], num_pts)\n",
    "    y2 = np.ones(num_pts) * upper_right[1]\n",
    "    \n",
    "    # Left line\n",
    "    x3 = np.ones(num_pts) * lower_left[0]\n",
    "    y3 = np.linspace(upper_right[1], lower_left[1], num_pts)\n",
    "    \n",
    "    x = np.concatenate((x0,x1,x2,x3))\n",
    "    y = np.concatenate((y0,y1,y2,y3))\n",
    "\n",
    "    plt.figure(figsize=(5,5))\n",
    "    plt.plot(x,y)\n",
    "    plt.show\n",
    "    "
   ]
  },
  {
   "cell_type": "code",
   "execution_count": 4,
   "metadata": {},
   "outputs": [
    {
     "data": {
      "image/png": "[encoded data removed]",
      "text/plain": [
       "<matplotlib.figure.Figure at 0x10562c0b8>"
      ]
     },
     "metadata": {},
     "output_type": "display_data"
    }
   ],
   "source": [
    "# draw_square(100, (-1,-1), (1,1))\n",
    "draw_square(100, (1,1), (10,10))\n"
   ]
  },
  {
   "cell_type": "code",
   "execution_count": 5,
   "metadata": {},
   "outputs": [
    {
     "data": {
      "text/plain": [
       "<function matplotlib.pyplot.show>"
      ]
     },
     "execution_count": 5,
     "metadata": {},
     "output_type": "execute_result"
    },
    {
     "data": {
      "image/png": "[encoded data removed]",
      "text/plain": [
       "<matplotlib.figure.Figure at 0x1021d4c50>"
      ]
     },
     "metadata": {},
     "output_type": "display_data"
    }
   ],
   "source": [
    "xlo = 1\n",
    "xhi = 11\n",
    "ylo = 1\n",
    "yhi = 11\n",
    "\n",
    "num_pts = 100\n",
    "sz = xhi - xlo\n",
    "\n",
    "x1 = np.linspace(xlo, xhi, num_pts)\n",
    "y1 = np.ones(num_pts) * ylo\n",
    "\n",
    "x2 = np.ones(num_pts) * xhi\n",
    "y2 = np.linspace(ylo, yhi, num_pts)\n",
    "\n",
    "x3 = np.linspace(xhi, xlo, num_pts)\n",
    "y3 = np.ones(num_pts) * yhi\n",
    "\n",
    "x4 = np.ones(num_pts) * xlo\n",
    "y4 = np.linspace(yhi, ylo, num_pts)\n",
    "\n",
    "\n",
    "x = np.concatenate((x1,x2,x3,x4))\n",
    "y = np.concatenate((y1,y2,y3,y4))\n",
    "\n",
    "plt.figure(figsize=(5,5))\n",
    "plt.plot(x,y)\n",
    "plt.show"
   ]
  },
  {
   "cell_type": "markdown",
   "metadata": {},
   "source": [
    "## Fourier Descriptor (FD): FT of \n",
    "\n",
    "## $z = x + iy$, \n",
    "## where x and y are the coordinates of the outline of a shape.\n"
   ]
  },
  {
   "cell_type": "code",
   "execution_count": 6,
   "metadata": {
    "scrolled": false
   },
   "outputs": [
    {
     "name": "stdout",
     "output_type": "stream",
     "text": [
      "Spatial interval: 0.1000\n",
      "lowest possible (non-zero) frequency: 0.0250\n",
      "Sampling rate: 10.0000\n",
      "Highest possible (Nyquist) frequency: 5.0000\n",
      "Highest k kept:0.1250\n",
      "FD components kept:11\n"
     ]
    },
    {
     "data": {
      "image/png": "[encoded data removed]",
      "text/plain": [
       "<matplotlib.figure.Figure at 0x10566bbe0>"
      ]
     },
     "metadata": {},
     "output_type": "display_data"
    },
    {
     "name": "stdout",
     "output_type": "stream",
     "text": [
      "k after filtering:  [ 0.     0.025  0.05   0.075  0.1    0.125 -0.125 -0.1   -0.075 -0.05\n",
      " -0.025]\n"
     ]
    },
    {
     "data": {
      "image/png": "[encoded data removed]",
      "text/plain": [
       "<matplotlib.figure.Figure at 0x101f7d048>"
      ]
     },
     "metadata": {},
     "output_type": "display_data"
    },
    {
     "data": {
      "image/png": "[encoded data removed]",
      "text/plain": [
       "<matplotlib.figure.Figure at 0x10de55be0>"
      ]
     },
     "metadata": {},
     "output_type": "display_data"
    },
    {
     "data": {
      "image/png": "[encoded data removed]",
      "text/plain": [
       "<matplotlib.figure.Figure at 0x10de6e3c8>"
      ]
     },
     "metadata": {},
     "output_type": "display_data"
    }
   ],
   "source": [
    "%matplotlib inline\n",
    "\n",
    "'''\n",
    "\n",
    "Fourier Descriptor (FD): FT of (x + 1j*y), where x and y are the coordinates \n",
    "of the outline of a shape.\n",
    "\n",
    "There is a subtle point:\n",
    "without the [filt] step there is an artifical point at (0, 0) in Fourier space\n",
    "which doesn't contribute to the reconstruction.  Note the the (0, 0) point is \n",
    "completely artificial -- the first 0 does NOT correspond to 0 freq, but instead\n",
    "it's the result of k*filt!\n",
    "\n",
    "\n",
    "'''\n",
    "\n",
    "\n",
    "import numpy as np\n",
    "N = len(x)\n",
    "\n",
    "z = x + y*1j\n",
    "\n",
    "Z = np.fft.fft(z)\n",
    "# spatial resolution \n",
    "d = sz / num_pts\n",
    "print('Spatial interval: {:.4f}'.format(d))\n",
    "k = np.fft.fftfreq(len(z), d = d)\n",
    "\n",
    "# \"fundamental frequency\" (lowest possible spatial frequency): 1/circumference\n",
    "# this is equivalent to f1 = 1/T for sound\n",
    "k_lo = 1/(4*sz)\n",
    "print(\"lowest possible (non-zero) frequency: {:.4f}\".format(k_lo))\n",
    "\n",
    "\n",
    "# Sampling rate and Nyquist frequency\n",
    "sr = 1/d\n",
    "print(\"Sampling rate: {:.4f}\".format(sr))\n",
    "k_hi = sr/2\n",
    "print(\"Highest possible (Nyquist) frequency: {:.4f}\".format(k_hi))\n",
    "\n",
    "\n",
    "\n",
    "order_keep = 5\n",
    "k_keep = order_keep*k_lo\n",
    "filt = np.abs(k) <= k_keep\n",
    "print(\"Highest k kept:{:.4f}\".format(k_keep))\n",
    "print(\"FD components kept:{:d}\".format(filt.sum()))\n",
    "\n",
    "plt.title('FD filter')\n",
    "plt.plot(k, filt, 'r.' )\n",
    "plt.xlim(-k_keep*3, k_keep*3)\n",
    "plt.ylim(-1, 2)\n",
    "plt.show()\n",
    "\n",
    "\n",
    "# Recovery -- note how things change with more and more Fourier components included\n",
    "# Note: \n",
    "# 1. How few components are needed to recover the basic shape\n",
    "# 2. A *lot* of fourier components go into get the sharp corners right!  \n",
    "# (Get those right require high freq terms; but they are not necessary for \n",
    "# pattern recognition.)\n",
    "\n",
    "Z *= filt\n",
    "k *= filt\n",
    "\n",
    "# note the order: from 0 to the highest frequency,\n",
    "# then highest negative frequency down to lowest negative frequency\n",
    "print(\"k after filtering: \", k[filt])\n",
    "\n",
    "plt.figure(figsize = (5, 5))\n",
    "plt.title('FD real')\n",
    "plt.plot(k[filt], Z.real[filt], 'b.')\n",
    "plt.xlim([-k_keep*1.1, k_keep*1.1])\n",
    "plt.xlabel('k (spatial frequency)')\n",
    "plt.ylabel('Real part of the Fourier components')\n",
    "# plt.xlim([-1, 1])\n",
    "# plt.ylim([-100, 100])\n",
    "\n",
    "\n",
    "plt.figure()\n",
    "plt.title('FD imag')\n",
    "plt.plot(k[filt], Z.imag[filt], 'g.')\n",
    "plt.xlim([-k_keep*1.1, k_keep*1.1])\n",
    "plt.xlabel('k (spatial frequency)')\n",
    "plt.ylabel('Imaginary part of the Fourier components')\n",
    "\n",
    "# plt.xlim([-1, 1])\n",
    "# plt.ylim([-100, 100])\n",
    "\n",
    "z_rec = np.fft.ifft(Z)\n",
    "\n",
    "x_rec = z_rec.real\n",
    "y_rec = z_rec.imag\n",
    "\n",
    "plt.figure(figsize = (5, 5))\n",
    "plt.plot(x_rec, y_rec, 'b.')\n",
    "plt.show()\n",
    "\n"
   ]
  },
  {
   "cell_type": "markdown",
   "metadata": {},
   "source": [
    "## Breakout Exercise: Write the following 4 useful functions:\n",
    "\n",
    "### 1. FD(x, y, plot_FD = False, y_lim = None) \n",
    "- ###     if plot_FD is True, plot the real and imaginary parts of FD on the same figure.\n",
    "- ###     if y_lim is None, autoscale.  If it's specified, then set the vertical scale to be between              -y_lim and +y_lim.\n",
    "- ###     returns Z (i.e., the FD's) and k (the spatial frequency).\n",
    "\n",
    "### 2. filt_FD(Z, k, k_keep, no_zeroth = False) \n",
    "- ###      returns Z\\*filt, k\\*filt.  The truth table of filt depends on k_keep, of course.\n",
    "- ###      If no_zeroth = True, the zeroth order of FD\n",
    "### 3. recover_shape(Z)\n",
    "### 4. plot_shape(x, y, plot_style = 'b.'):\n",
    "\n"
   ]
  },
  {
   "cell_type": "code",
   "execution_count": 46,
   "metadata": {
    "collapsed": true
   },
   "outputs": [],
   "source": [
    "def FD(x, y, plot_FD = False, y_lim = None): \n",
    "\n",
    "    N = len(x)\n",
    "\n",
    "    z = x + y*1j\n",
    "    \n",
    "    Z = np.fft.fft(z)\n",
    "    # spatial resolution\n",
    "    d = len(Z) / num_pts\n",
    "    print('Spatial interval: {:.4f}'.format(d))\n",
    "    k = np.fft.fftfreq(len(z), d = d)\n",
    "#     k_lo = np.abs(k[np.argsort()])\n",
    "    if plot_FD == True:\n",
    "        plt.plot(k, Z.real)\n",
    "        plt.xlim(-k_keep*3, k_keep*3)\n",
    "        if y_lim != None:\n",
    "            plt.plot(-y_lim, y_lim)\n",
    "            plt.show()\n",
    "        plt.plot(k, Z.imag)\n",
    "        plt.xlim(-k_keep*3, k_keep*3)\n",
    "        if y_lim != None:\n",
    "            plt.plot(-y_lim, y_lim)\n",
    "            plt.show()\n",
    "        \n",
    "    return Z, k\n",
    "\n",
    "def filt_FD(Z, k, k_keep, no_zeroth = False):\n",
    "    filt = np.abs(k) <= k_keep\n",
    "    return Z*filt, k*filt\n",
    "    \n",
    "def recover_shape(Z):\n",
    "    z_rec = np.fft.ifft(Z)\n",
    "    x_rec = z_rec.real\n",
    "    y_rec = z_rec.imag\n",
    "    return x_rec, y_rec\n",
    "    \n",
    "def plot_shape(x, y, plot_style = 'b.'):\n",
    "    plt.figure(figsize = (5, 5))\n",
    "    plt.plot(x_rec, y_rec, 'b.')\n",
    "    plt.show()"
   ]
  },
  {
   "cell_type": "code",
   "execution_count": 47,
   "metadata": {},
   "outputs": [
    {
     "name": "stdout",
     "output_type": "stream",
     "text": [
      "Spatial interval: 4.0000\n"
     ]
    },
    {
     "data": {
      "image/png": "[encoded data removed]",
      "text/plain": [
       "<matplotlib.figure.Figure at 0x105671e48>"
      ]
     },
     "metadata": {},
     "output_type": "display_data"
    },
    {
     "data": {
      "image/png": "[encoded data removed]",
      "text/plain": [
       "<matplotlib.figure.Figure at 0x10dce5860>"
      ]
     },
     "metadata": {},
     "output_type": "display_data"
    },
    {
     "name": "stdout",
     "output_type": "stream",
     "text": [
      "0.000625\n"
     ]
    },
    {
     "data": {
      "image/png": "[encoded data removed]",
      "text/plain": [
       "<matplotlib.figure.Figure at 0x10e4e54a8>"
      ]
     },
     "metadata": {},
     "output_type": "display_data"
    }
   ],
   "source": [
    "'''\n",
    "\n",
    "Check to see if the functinos in breakout1 work.\n",
    "\n",
    "To emphasize:\n",
    "\n",
    "- 0th order: average (or sum, depending on DFT convention adopted) \n",
    "of all points\n",
    "\n",
    "'''\n",
    "#************************************Main Program*************************************\n",
    "# Note: this is how most programs should be written.\n",
    "Z, k = FD(x, y, plot_FD=True, y_lim = 10)\n",
    "k_lo = np.abs(k[np.argsort(np.abs(k))][1])\n",
    "print(k_lo)\n",
    "order_keep = 5\n",
    "Z_filt, k = filt_FD(Z, k, order_keep*k_lo)\n",
    "x_rec, y_rec = recover_shape(Z_filt)\n",
    "plot_shape(x_rec, y_rec)\n"
   ]
  },
  {
   "cell_type": "markdown",
   "metadata": {},
   "source": [
    "## Breakout Exercise:\n",
    "\n",
    "### Draw a square whose edges have noise"
   ]
  },
  {
   "cell_type": "code",
   "execution_count": null,
   "metadata": {
    "collapsed": true
   },
   "outputs": [],
   "source": []
  },
  {
   "cell_type": "code",
   "execution_count": 9,
   "metadata": {},
   "outputs": [
    {
     "ename": "NameError",
     "evalue": "name 'plot_shape' is not defined",
     "output_type": "error",
     "traceback": [
      "\u001b[0;31m---------------------------------------------------------------------------\u001b[0m",
      "\u001b[0;31mNameError\u001b[0m                                 Traceback (most recent call last)",
      "\u001b[0;32m<ipython-input-9-6e7016b2da71>\u001b[0m in \u001b[0;36m<module>\u001b[0;34m()\u001b[0m\n\u001b[1;32m     30\u001b[0m \u001b[0;34m\u001b[0m\u001b[0m\n\u001b[1;32m     31\u001b[0m \u001b[0;34m\u001b[0m\u001b[0m\n\u001b[0;32m---> 32\u001b[0;31m \u001b[0mplot_shape\u001b[0m\u001b[0;34m(\u001b[0m\u001b[0mx\u001b[0m\u001b[0;34m,\u001b[0m \u001b[0my\u001b[0m\u001b[0;34m,\u001b[0m \u001b[0mtitle\u001b[0m \u001b[0;34m=\u001b[0m \u001b[0;34m'Noisy Square'\u001b[0m\u001b[0;34m)\u001b[0m\u001b[0;34m\u001b[0m\u001b[0m\n\u001b[0m\u001b[1;32m     33\u001b[0m \u001b[0;34m\u001b[0m\u001b[0m\n",
      "\u001b[0;31mNameError\u001b[0m: name 'plot_shape' is not defined"
     ]
    }
   ],
   "source": [
    "'''\n",
    "Breakout Exercise:\n",
    "\n",
    "Noisy square\n",
    "'''\n",
    "\n",
    "\n",
    "import numpy as np\n",
    "import matplotlib.pyplot as plt\n",
    "\n",
    "num_pts = 100\n",
    "sz = 10\n",
    "noiz_sz = 0.1\n",
    "\n",
    "x1 = np.linspace(1, sz, num_pts)\n",
    "x2 = np.ones(num_pts)*sz\n",
    "x3 = np.linspace(sz, 1, num_pts)\n",
    "x4 = np.ones(num_pts)\n",
    "x = np.concatenate((x1, x2, x3, x4))\n",
    "x += np.random.randn(len(x))*noiz_sz\n",
    "\n",
    "\n",
    "\n",
    "y1 = np.ones(num_pts)\n",
    "y2 = np.linspace(1, sz, num_pts)\n",
    "y3 = np.ones(num_pts)*sz\n",
    "y4 = np.linspace(sz, 1, num_pts)\n",
    "y = np.concatenate((y1, y2, y3, y4))\n",
    "y += np.random.randn(len(y))*noiz_sz\n",
    "\n",
    "\n",
    "plot_shape(x, y, title = 'Noisy Square')\n",
    "\n"
   ]
  },
  {
   "cell_type": "code",
   "execution_count": 10,
   "metadata": {},
   "outputs": [
    {
     "ename": "NameError",
     "evalue": "name 'FD' is not defined",
     "output_type": "error",
     "traceback": [
      "\u001b[0;31m---------------------------------------------------------------------------\u001b[0m",
      "\u001b[0;31mNameError\u001b[0m                                 Traceback (most recent call last)",
      "\u001b[0;32m<ipython-input-10-e53b227fb27d>\u001b[0m in \u001b[0;36m<module>\u001b[0;34m()\u001b[0m\n\u001b[0;32m----> 1\u001b[0;31m \u001b[0mZ\u001b[0m\u001b[0;34m,\u001b[0m \u001b[0mk\u001b[0m \u001b[0;34m=\u001b[0m \u001b[0mFD\u001b[0m\u001b[0;34m(\u001b[0m\u001b[0mx\u001b[0m\u001b[0;34m,\u001b[0m \u001b[0my\u001b[0m\u001b[0;34m,\u001b[0m \u001b[0mplot_FD\u001b[0m\u001b[0;34m=\u001b[0m\u001b[0;32mTrue\u001b[0m\u001b[0;34m,\u001b[0m \u001b[0my_lim\u001b[0m \u001b[0;34m=\u001b[0m \u001b[0;36m10\u001b[0m\u001b[0;34m)\u001b[0m\u001b[0;34m\u001b[0m\u001b[0m\n\u001b[0m\u001b[1;32m      2\u001b[0m \u001b[0mZ_filt\u001b[0m\u001b[0;34m,\u001b[0m \u001b[0mk_filt\u001b[0m \u001b[0;34m=\u001b[0m \u001b[0mfilt_FD\u001b[0m\u001b[0;34m(\u001b[0m\u001b[0mZ\u001b[0m\u001b[0;34m,\u001b[0m \u001b[0mk\u001b[0m\u001b[0;34m,\u001b[0m \u001b[0;36m3\u001b[0m\u001b[0;34m*\u001b[0m\u001b[0mk_lo\u001b[0m\u001b[0;34m)\u001b[0m\u001b[0;34m\u001b[0m\u001b[0m\n\u001b[1;32m      3\u001b[0m \u001b[0mx_rec\u001b[0m\u001b[0;34m,\u001b[0m \u001b[0my_rec\u001b[0m \u001b[0;34m=\u001b[0m \u001b[0mrecover_shape\u001b[0m\u001b[0;34m(\u001b[0m\u001b[0mZ_filt\u001b[0m\u001b[0;34m)\u001b[0m\u001b[0;34m\u001b[0m\u001b[0m\n\u001b[1;32m      4\u001b[0m \u001b[0mplot_shape\u001b[0m\u001b[0;34m(\u001b[0m\u001b[0mx_rec\u001b[0m\u001b[0;34m,\u001b[0m \u001b[0my_rec\u001b[0m\u001b[0;34m)\u001b[0m\u001b[0;34m\u001b[0m\u001b[0m\n",
      "\u001b[0;31mNameError\u001b[0m: name 'FD' is not defined"
     ]
    }
   ],
   "source": [
    "Z, k = FD(x, y, plot_FD=True, y_lim = 10)\n",
    "Z_filt, k_filt = filt_FD(Z, k, 3*k_lo)\n",
    "x_rec, y_rec = recover_shape(Z_filt)\n",
    "plot_shape(x_rec, y_rec)\n"
   ]
  },
  {
   "cell_type": "markdown",
   "metadata": {},
   "source": [
    "## End of week11-1"
   ]
  },
  {
   "cell_type": "markdown",
   "metadata": {},
   "source": [
    "## The Order of the Points Matters"
   ]
  },
  {
   "cell_type": "code",
   "execution_count": null,
   "metadata": {
    "collapsed": true
   },
   "outputs": [],
   "source": [
    "%matplotlib inline\n",
    "'''\n",
    "\n",
    "Two Purposes:\n",
    "\n",
    "1. Introduce the idea of an edge detector.\n",
    "2. Show the order of points matters a great deal.\n",
    "\n",
    "\n",
    "'''\n",
    "\n",
    "# ----------> Below are two new imports <------------\n",
    "from scipy import ndimage as ndi\n",
    "from skimage import feature\n",
    "\n",
    "\n",
    "# Generate noisy image of a square\n",
    "im = np.zeros((128, 128))\n",
    "im[32:-32, 32:-32] = 1\n",
    "\n",
    "# rotation\n",
    "#im = ndi.rotate(im, 15, mode='constant')\n",
    "# Gaussian smoothing\n",
    "im = ndi.gaussian_filter(im, 4)\n",
    "# Add noise\n",
    "im += 0.1*np.random.random(im.shape)\n",
    "\n",
    "# Compute the Canny filter for two values of sigma\n",
    "edges = feature.canny(im, sigma=3)\n",
    "\n",
    "# display results -- creating figure and subplots at the same time.\n",
    "fig, (ax1, ax2) = plt.subplots(nrows=1, ncols=2, figsize=(8, 3), sharex=True, sharey=True)\n",
    "\n",
    "ax1.imshow(im, cmap=plt.cm.jet)\n",
    "ax1.axis('off')\n",
    "ax1.set_title('noisy image', fontsize=20)\n",
    "\n",
    "\n",
    "ax2.imshow(edges, cmap=plt.cm.gray, interpolation='none')\n",
    "ax2.axis('off')\n",
    "ax2.set_title('Canny filter, $\\sigma=3$', fontsize=20)\n",
    "\n",
    "fig.subplots_adjust(wspace=0.02, hspace=0.02, top=0.9,\n",
    "                    bottom=0.02, left=0.02, right=0.98)\n",
    "\n",
    "plt.show()"
   ]
  },
  {
   "cell_type": "code",
   "execution_count": null,
   "metadata": {
    "collapsed": true
   },
   "outputs": [],
   "source": [
    "print(edges.shape, edges.dtype)"
   ]
  },
  {
   "cell_type": "code",
   "execution_count": null,
   "metadata": {
    "collapsed": true
   },
   "outputs": [],
   "source": [
    "%matplotlib inline\n",
    "'''Converting edge image to arrays'''\n",
    "\n",
    "\n",
    "import numpy as np\n",
    "import matplotlib.pyplot as plt\n",
    "x_arr = []\n",
    "y_arr = []\n",
    "\n",
    "for i in range(edges.shape[0]):\n",
    "    for j in range(edges.shape[1]):\n",
    "        if edges[i, j] > 0:\n",
    "            x_arr.append(i)\n",
    "            y_arr.append(j)\n",
    "\n",
    "x_arr = np.array(x_arr)\n",
    "y_arr = np.array(y_arr)\n",
    "plt.plot(x_arr, y_arr, 'k.')\n",
    "\n",
    "plt.show()"
   ]
  },
  {
   "cell_type": "code",
   "execution_count": null,
   "metadata": {
    "collapsed": true
   },
   "outputs": [],
   "source": [
    "Z = FD(x_arr, y_arr, plot_FD=True, y_lim = 1000)\n",
    "Z_filt = filt_FD(Z, 10)\n",
    "x_rec, y_rec = recover_shape(Z_filt)\n",
    "plot_shape(x_rec, y_rec)\n",
    "\n",
    "# Uh oh, what's going on????\n"
   ]
  },
  {
   "cell_type": "code",
   "execution_count": null,
   "metadata": {
    "collapsed": true
   },
   "outputs": [],
   "source": [
    "'''\n",
    "\n",
    "Order the points in polar coordinates so that they are sequential.\n",
    "\n",
    "Note the usage of arctan2() again.\n",
    "\n",
    "'''\n",
    "\n",
    "import numpy as np\n",
    "import matplotlib.patches as patches\n",
    "\n",
    "pts = zip(x_arr, y_arr)\n",
    "# compute centroid\n",
    "cent=(sum([p[0] for p in pts])/len(pts),sum([p[1] for p in pts])/len(pts))\n",
    "# sort by polar angle\n",
    "pts.sort(key=lambda p: np.arctan2(p[1]-cent[1],p[0]-cent[0]))\n",
    "\n",
    "x = np.array([p[0] for p in pts])\n",
    "y = np.array([p[1] for p in pts])\n",
    "\n",
    "# plot points\n",
    "plt.scatter(x, y)\n",
    "plt.show()"
   ]
  },
  {
   "cell_type": "code",
   "execution_count": null,
   "metadata": {
    "collapsed": true
   },
   "outputs": [],
   "source": [
    "%matplotlib inline\n",
    "\n",
    "'''\n",
    "With points in the right order, all is right.\n",
    "\n",
    "'''\n",
    "\n",
    "Z = FD(x, y, plot_FD=True, y_lim = 1000)\n",
    "Z_filt = filt_FD(Z, 5)\n",
    "x_rec, y_rec = recover_shape(Z_filt)\n",
    "plot_shape(x_rec, y_rec)\n",
    "\n"
   ]
  },
  {
   "cell_type": "markdown",
   "metadata": {},
   "source": [
    "## Use Contour Plots \n",
    "## (The points are always arranged in the right order)"
   ]
  },
  {
   "cell_type": "code",
   "execution_count": null,
   "metadata": {
    "collapsed": true
   },
   "outputs": [],
   "source": [
    "%matplotlib inline\n",
    "'''\n",
    "\n",
    "\n",
    "To get the order of the points right the first time: Using contours.\n",
    "\n",
    "- Advantage: Get the order right and can deal with concave polygons and polygons with holes \n",
    "  very easily (compared with edge detector)\n",
    "- Disadvantage: Harder to deal with a noisy image (compared with edge detector)\n",
    "- For OCR with hi-def images, no problem -- for more sophisticated OCR techniques, \n",
    "  next semester!\n",
    "\n",
    "\n",
    "'''\n",
    "\n",
    "plt.figure()\n",
    "plt.imshow(im, cmap=plt.cm.gray)\n",
    "plt.title('The Image')\n",
    "\n",
    "# Note: by convention, in this case, y values comes from the 0th index.\n",
    "# Otherwise one has to transpose the image and the contour will appear sideways \n",
    "# (no an issue here since it's a square).\n",
    "x = np.arange(im.shape[1])\n",
    "y = np.arange(im.shape[0])\n",
    "# make 2D coordinate grid \n",
    "X, Y = np.meshgrid(x, y)\n",
    "\n",
    "# Find and plot contours\n",
    "plt.figure()\n",
    "# Note the peculiarity of needing the transpose operation.\n",
    "plt.title('Contour')\n",
    "CS = plt.contour(X, Y, im, 1)\n",
    "levels = CS.levels\n",
    "print('contour level', levels)\n",
    "\n",
    "# Find the (x, y) coodinates of the contour lines.\n",
    "cs_paths = CS.collections[0].get_paths()\n",
    "\n",
    "print('number of contour path', len(cs_paths))\n",
    "p = cs_paths[0]\n",
    "v = p.vertices\n",
    "x_arr = v[:,0]\n",
    "y_arr = v[:,1]\n",
    "\n",
    "plt.figure()\n",
    "plt.title(\"Verify the contour points are correct\")\n",
    "plt.scatter(x_arr, y_arr)\n",
    "\n",
    "plt.show()\n"
   ]
  },
  {
   "cell_type": "markdown",
   "metadata": {},
   "source": [
    "## A More Interesting Example: The Letter \"E\""
   ]
  },
  {
   "cell_type": "code",
   "execution_count": null,
   "metadata": {
    "collapsed": true
   },
   "outputs": [],
   "source": [
    "%matplotlib inline\n",
    "'''\n",
    "\n",
    "Use the letter \"E\" as the example case.\n",
    "\n",
    "Given an image of a letter, the code below will find it's shape (complext) vector \n",
    "by using contour.\n",
    "\n",
    "\n",
    "'''\n",
    "\n",
    "import matplotlib.image as mpimg\n",
    "import matplotlib.pyplot as plt\n",
    "import numpy as np\n",
    "from skimage import feature\n",
    "\n",
    "\n",
    "im = mpimg.imread('letterE.jpg')\n",
    "\n",
    "# Take only one of RGB channels\n",
    "im = im[:, :, 0]\n",
    "\n",
    "\n",
    "plt.figure()\n",
    "plt.imshow(im, cmap=plt.cm.gray)\n",
    "plt.title('The Image')\n",
    "\n",
    "# Note: x is associated with index 1 and y with 0 -- it's a better choice here;\n",
    "# it's simply a matter of convention.\n",
    "x = np.arange(im.shape[1])\n",
    "y = np.arange(im.shape[0])\n",
    "# make 2D coordinate grid \n",
    "X, Y = np.meshgrid(x, y)\n",
    "\n",
    "# Find and plot contours\n",
    "plt.figure()\n",
    "plt.title('Contour')\n",
    "CS = plt.contour(X, Y, im, 1)\n",
    "levels = CS.levels\n",
    "print('contour level', levels)\n",
    "\n",
    "# Find the (x, y) coodinates of the contour lines.\n",
    "cs_paths = CS.collections[0].get_paths()\n",
    "\n",
    "print('number of contour path', len(cs_paths))\n",
    "p = cs_paths[0]\n",
    "v = p.vertices\n",
    "x = v[:,0]\n",
    "y = v[:,1]\n",
    "\n",
    "plt.figure()\n",
    "plt.title(\"Verify the contour points are correct\")\n",
    "plt.scatter(x, y)\n",
    "\n",
    "plt.show()\n"
   ]
  },
  {
   "cell_type": "code",
   "execution_count": null,
   "metadata": {
    "collapsed": true
   },
   "outputs": [],
   "source": [
    "Z = FD(x, y, plot_FD=True, y_lim = 1000)\n",
    "\n",
    "# Let's see how order = 5 will do, and how about 10?\n",
    "# Note: the Nyquist index is 1258, and yet we've only gone up to n = 10!\n",
    "# Put it another way: there are 1258*2 pairs of (x, y) in the contour, but it turns out\n",
    "# we only need 10*2*2 (remember each FD is a complex number), or 40 numbers to capture \n",
    "# the essence of the shape!\n",
    "order = 10\n",
    "Z_filt = filt_FD(Z, order)\n",
    "x_rec, y_rec = recover_shape(Z_filt)\n",
    "plot_shape(x_rec, y_rec)\n"
   ]
  },
  {
   "cell_type": "markdown",
   "metadata": {},
   "source": [
    "##  Breakout 2: Write a function extract_shape_v0(im_file, blowup = 1., plot_img = False, plot_contour = False, plot_contour_pts = False)\n",
    "\n",
    "### - returns the x and y arrays of the outline (contour) of the shape.\n",
    "\n",
    "### - should check whether the image has a single and mutliple channels.  If the later, take the 0th (usu. R) channels\n",
    "\n",
    "### - should have the ability of blowing up the image by a factor specified by blowup.\n",
    "\n"
   ]
  },
  {
   "cell_type": "code",
   "execution_count": null,
   "metadata": {
    "collapsed": true
   },
   "outputs": [],
   "source": []
  },
  {
   "cell_type": "code",
   "execution_count": null,
   "metadata": {
    "collapsed": true
   },
   "outputs": [],
   "source": [
    "'''Test to see if the function extract_shape_v0() works'''\n",
    "x, y = extract_shape_v0('letterE.jpg')\n",
    "plot_shape(x, y)\n"
   ]
  },
  {
   "cell_type": "markdown",
   "metadata": {},
   "source": [
    "## The Meaning of the Terms in FD -- Order by Order"
   ]
  },
  {
   "cell_type": "markdown",
   "metadata": {},
   "source": [
    "### The descriptors Z[k] (Fourier Desriptors, or FD's) are components of a shape in frequency space (or more precisely, \"k-space\"): Components with low k provides low frequency information -- an approximation to the shape, and components with higher frequencies provide details.\n",
    "\n",
    "### 1. Translational Invariance.  For k = 0, Z[k] represents the position of the center of gravity of the shape. This term is not interesting for the shape description. Without this term, the description won't be affected by a translation of the shape.  \n",
    "\n",
    "\n",
    "\n",
    "### 2. Size Invariance.  The first frequency component, Z[k] for k = 1 (more precisely, the first and last terms), describes the size of the shape. If all the other components are set to zero, the shape becomes an ellipse (actually, a N-sided polygon).  The product of the first and last terms -- Z[1] and Z[-1] in Python notation -- is related to the area of the ellipse (basically area = pi\\*a\\*b -- you can think of the these two terms as being related to the major and minor axes of an ellipse [I think Z[1] and Z[-1] may be proportionally related to a and b -- just look at HW07, the size-normalized hole for the number 6 is huge; this could be because the area is small and thus the size-normalized shape is huge.]).  One can use this component to normalize the other Fourier descriptors.  This way, two identical shapes, but with different sizes, can recognized as such.  To the first order (literally!):  all enclosed shapes are ellipses with the major and minor axes determined by the aspect ratio and the overall size of the shape)\n",
    "\n",
    "\n",
    "\n",
    "### 3. Convavity.  The seond frequency components, Z[2] and Z[-2], together show which way the shape bends (\"concavity\").\n",
    "\n",
    "\n",
    "\n",
    "### 4. The other frequency components will make higher frequency alterations.  \n",
    "\n",
    "\n",
    "\n",
    "### 5. The phase of Z[k] describes the place where the higher order corrections are applied -- just like in linear FT, the phase in sin/cos will affect where the corrections will be applied.  \n",
    "\n",
    "### 6. Rotational Invariance.  Related to \\#5, multiplying Z[k] by an additional phase factor amounts to rotating the shape.  This means |Z[k]|'s are the same whichever the orientation of the shape may be.\n",
    "\n",
    "\n",
    "(Adapted from http://www.tsi.telecom-paristech.fr/pages/enseignement/ressources/beti/descript_fourier/Part1.htmlf)"
   ]
  },
  {
   "cell_type": "code",
   "execution_count": null,
   "metadata": {
    "collapsed": true
   },
   "outputs": [],
   "source": [
    "'''\n",
    "1. Translational Invariance Example\n",
    "'''\n",
    "\n",
    "x, y = extract_shape_v0('letterE.jpg')\n",
    "Z = FD(x, y, plot_FD=True, y_lim = 1000)\n",
    "\n",
    "order = 10\n",
    "# Observe the effects of whether or not we include the zeroth order term.\n",
    "#Z_filt = filt_FD(Z, order)\n",
    "Z_filt = filt_FD(Z, order, no_zeroth=False)\n",
    "x_rec, y_rec = recover_shape(Z_filt)\n",
    "plt.figure()\n",
    "plt.plot(x, y)\n",
    "plt.plot(x_rec, y_rec)\n",
    "plt.show()\n"
   ]
  },
  {
   "cell_type": "code",
   "execution_count": null,
   "metadata": {
    "collapsed": true
   },
   "outputs": [],
   "source": [
    "'''\n",
    "2. Size Invariance\n",
    "\n",
    "- without normalization\n",
    "'''\n",
    "\n",
    "x_L, y_L = extract_shape_v0('letterE.jpg', blowup = 10.)\n",
    "Z = FD(x_L, y_L, plot_FD=True, y_lim = 1000)\n",
    "\n",
    "order = 10\n",
    "Z_filt = filt_FD(Z, order)\n",
    "x_rec, y_rec = recover_shape(Z_filt)\n",
    "plt.figure()\n",
    "plt.plot(x_L, y_L)\n",
    "plt.plot(x_rec, y_rec)\n",
    "plt.show()\n"
   ]
  },
  {
   "cell_type": "code",
   "execution_count": null,
   "metadata": {
    "collapsed": true
   },
   "outputs": [],
   "source": [
    "'''\n",
    "2. Size Invariance\n",
    "\n",
    "Comparing two E's with very different sizes: Without and with normalization. \n",
    "'''\n",
    "\n",
    "def size_norm(Z):\n",
    "    return Z/np.sqrt( np.abs(Z[1])*np.abs(Z[-1]) )\n",
    "\n",
    "x_L, y_L = extract_shape_v0('letterE.jpg', blowup = 10.)\n",
    "Z = FD(x_L, y_L)\n",
    "\n",
    "order = 10\n",
    "Z_filt = filt_FD(Z, order)\n",
    "#normalization\n",
    "Z_filt = size_norm(Z_filt)\n",
    "x_L_rec, y_L_rec = recover_shape(Z_filt)\n",
    "\n",
    "\n",
    "x, y = extract_shape_v0('letterE.jpg', blowup = 1.)\n",
    "Z = FD(x, y)\n",
    "\n",
    "order = 10\n",
    "Z_filt = filt_FD(Z, order)\n",
    "# normalization\n",
    "Z_filt = size_norm(Z_filt)\n",
    "x_rec, y_rec = recover_shape(Z_filt)\n",
    "\n",
    "\n",
    "plt.figure()\n",
    "plt.plot(x_rec, y_rec, 'gx')   # after normalization, use 'gx' as plot symbol\n",
    "plt.plot(x_L_rec, y_L_rec, 'b-', lw = 2)\n",
    "plt.show()\n"
   ]
  },
  {
   "cell_type": "code",
   "execution_count": null,
   "metadata": {
    "collapsed": true
   },
   "outputs": [],
   "source": [
    "'''\n",
    "3. Concavity (and the beginning of \"order-by-order\")\n",
    "\n",
    "- 0th: Centroid\n",
    "- 1st: Size\n",
    "- 2nd: Convavity.\n",
    "\n",
    "'''\n",
    "\n",
    "x, y = extract_shape_v0('letterE.jpg')\n",
    "Z = FD(x, y)\n",
    "\n",
    "order = 0\n",
    "Z_filt = filt_FD(Z, order, no_zeroth=False)\n",
    "x_rec, y_rec = recover_shape(Z_filt)\n",
    "plt.figure()\n",
    "plt.plot(x, y)\n",
    "plt.plot(x_rec, y_rec, 'gx')\n",
    "plt.show()\n",
    "\n",
    "order = 1\n",
    "Z_filt = filt_FD(Z, order, no_zeroth=False)\n",
    "x_rec, y_rec = recover_shape(Z_filt)\n",
    "plt.figure()\n",
    "plt.plot(x, y)\n",
    "plt.plot(x_rec, y_rec, 'g.')\n",
    "plt.show()\n",
    "\n",
    "order = 2\n",
    "Z_filt = filt_FD(Z, order, no_zeroth=False)\n",
    "x_rec, y_rec = recover_shape(Z_filt)\n",
    "plt.figure()\n",
    "plt.plot(x, y)\n",
    "plt.plot(x_rec, y_rec, 'g.')\n",
    "plt.show()"
   ]
  },
  {
   "cell_type": "code",
   "execution_count": null,
   "metadata": {
    "collapsed": true
   },
   "outputs": [],
   "source": [
    "'''\n",
    "4. Higher Order Terms (and the continuation of \"order-by-order\")\n",
    "\n",
    "'''\n",
    "\n",
    "\n",
    "order = 5\n",
    "Z_filt = filt_FD(Z, order, no_zeroth=False)\n",
    "x_rec, y_rec = recover_shape(Z_filt)\n",
    "plt.figure()\n",
    "plt.plot(x, y)\n",
    "plt.plot(x_rec, y_rec, 'g.')\n",
    "plt.show()\n",
    "\n",
    "order = 10\n",
    "Z_filt = filt_FD(Z, order, no_zeroth=False)\n",
    "x_rec, y_rec = recover_shape(Z_filt)\n",
    "plt.figure()\n",
    "plt.plot(x, y)\n",
    "plt.plot(x_rec, y_rec, 'g.')\n",
    "plt.show()\n"
   ]
  },
  {
   "cell_type": "code",
   "execution_count": null,
   "metadata": {
    "collapsed": true
   },
   "outputs": [],
   "source": [
    "'''\n",
    "Rotational Invariance.\n",
    "\n",
    "Multiplying Z[k] by an additional phase factor amounts to rotating the shape. \n",
    "\n",
    "'''\n",
    "\n",
    "\n",
    "x, y = extract_shape_v0('letterE.jpg')\n",
    "# rotate shape in configuration space\n",
    "z = x + 1j*y\n",
    "z *= np.exp(1j*np.pi/3.)\n",
    "\n",
    "x_pr, y_pr = z.real, z.imag\n",
    "\n",
    "Z_pr = FD(x_pr, y_pr)\n",
    "\n",
    "\n",
    "order = 10\n",
    "Z_filt = filt_FD(Z_pr, order)\n",
    "x_rec, y_rec = recover_shape(Z_filt)\n",
    "plt.figure()\n",
    "plt.plot(x_pr, y_pr)\n",
    "plt.plot(x_rec, y_rec, 'gx')\n",
    "plt.show()\n"
   ]
  },
  {
   "cell_type": "code",
   "execution_count": null,
   "metadata": {
    "collapsed": true
   },
   "outputs": [],
   "source": [
    "'''\n",
    "Rotational Invariance.\n",
    "\n",
    "Multiplying Z[k] by an additional phase factor amounts to rotating the shape...\n",
    "the two shapes, though identical, would have different FD's.\n",
    "\n",
    "\n",
    "'''\n",
    "\n",
    "\n",
    "x, y = extract_shape_v0('letterE.jpg')\n",
    "\n",
    "order = 10\n",
    "\n",
    "Z = FD(x, y)\n",
    "Z_filt = filt_FD(Z, order)\n",
    "Z_filt = size_norm(Z_filt)\n",
    "x_rec, y_rec = recover_shape(Z_filt)\n",
    "plt.figure()\n",
    "plt.plot(x_rec, y_rec)\n",
    "\n",
    "\n",
    "# rotate shape in configuration space\n",
    "z = x + 1j*y\n",
    "z *= np.exp(1j*np.pi/3.)\n",
    "x_pr, y_pr = z.real, z.imag\n",
    "Z_pr = FD(x_pr, y_pr)\n",
    "\n",
    "Z_filt_pr = filt_FD(Z_pr, order)\n",
    "Z_filt_pr = size_norm(Z_filt_pr)\n",
    "\n",
    "x_rec, y_rec = recover_shape(Z_filt_pr)\n",
    "plt.plot(x_rec, y_rec)\n",
    "plt.show()\n",
    "\n",
    "# Clearly the FD would be different for the two E's.\n",
    "plt.figure()\n",
    "plt.title(\"10 size-normalized FD's for 2 E's with Different Orientations\")\n",
    "plt.plot(Z_filt.real, Z_filt_pr.real, 'r.')\n",
    "plt.plot(Z_filt.imag, Z_filt_pr.imag, 'yx')\n",
    "plt.show()"
   ]
  },
  {
   "cell_type": "code",
   "execution_count": null,
   "metadata": {
    "collapsed": true
   },
   "outputs": [],
   "source": [
    "'''\n",
    "Rotational Invariance.\n",
    "\n",
    "Multiplying Z[k] by an additional phase factor amounts to rotating the shape...\n",
    "This means |Z[k]|'s are the same whichever the orientation of the shape may be.\n",
    "\n",
    "'''\n",
    "\n",
    "\n",
    "x, y = extract_shape_v0('letterE.jpg')\n",
    "\n",
    "order = 10\n",
    "\n",
    "Z = FD(x, y)\n",
    "Z_filt = filt_FD(Z, order)\n",
    "Z_filt = size_norm(Z_filt)\n",
    "x_rec, y_rec = recover_shape(Z_filt)\n",
    "plt.figure()\n",
    "plt.plot(x_rec, y_rec)\n",
    "\n",
    "\n",
    "# rotate shape in configuration space\n",
    "z = x + 1j*y\n",
    "z *= np.exp(1j*np.pi/3.)\n",
    "x_pr, y_pr = z.real, z.imag\n",
    "Z_pr = FD(x_pr, y_pr)\n",
    "\n",
    "Z_filt_pr = filt_FD(Z_pr, order)\n",
    "Z_filt_pr = size_norm(Z_filt_pr)\n",
    "\n",
    "x_rec, y_rec = recover_shape(Z_filt_pr)\n",
    "plt.plot(x_rec, y_rec)\n",
    "plt.show()\n",
    "\n",
    "# But the |FD| are the same.  We thus have achieved rotational invariance!\n",
    "plt.figure()\n",
    "plt.title(\"10 size-normalized FD's for 2 E's with Different Orientations\")\n",
    "plt.plot(np.abs(Z_filt), np.abs(Z_filt_pr), 'r.')\n",
    "plt.show()"
   ]
  },
  {
   "cell_type": "markdown",
   "metadata": {},
   "source": [
    "## Breakout 3 \n",
    "## Write a function get_FD_abs(x, y, order = 10, norm = True, no_zeroth = True)\n",
    "\n",
    "### - returns fd_mag, x_rec, y_rec"
   ]
  },
  {
   "cell_type": "code",
   "execution_count": null,
   "metadata": {
    "collapsed": true
   },
   "outputs": [],
   "source": []
  },
  {
   "cell_type": "markdown",
   "metadata": {},
   "source": [
    "## What's All This Good for??\n",
    "## Shape recognition regardless of location, size or orientation!\n",
    "## ...the beginning of computer vision!\n",
    "## E.g., Traffic Signs -- HW"
   ]
  },
  {
   "cell_type": "code",
   "execution_count": null,
   "metadata": {
    "collapsed": true
   },
   "outputs": [],
   "source": [
    "'''To tell E from H'''\n",
    "\n",
    "order = 10\n",
    "\n",
    "def get_FD_abs(x, y, order = 10):\n",
    "    '''Finds the Fourier Descriptors and the recovered x and y for a shape.'''\n",
    "    Z = FD(x, y)\n",
    "    print('len(Z)', len(Z))\n",
    "\n",
    "    Z_filt = filt_FD(Z, order)\n",
    "    Z_filt = size_norm(Z_filt)\n",
    "    print('len(Z_filt)', len(Z_filt))\n",
    "    x_rec, y_rec = recover_shape(Z_filt)\n",
    "\n",
    "    # throw away zero terms\n",
    "    fd_mag = np.abs(Z_filt[Z_filt != 0])\n",
    "    \n",
    "    return fd_mag, x_rec, y_rec\n",
    "\n",
    "x, y = extract_shape_v0('letterE.jpg')\n",
    "fd_E, x_rec_E, y_rec_E = get_FD_abs(x, y, order = order)\n",
    "\n",
    "x, y = extract_shape_v0('letterH.jpg')\n",
    "fd_H, x_rec_H, y_rec_H = get_FD_abs(x, y, order = order)\n",
    "\n",
    "\n",
    "plt.figure()\n",
    "plt.plot(x_rec_E, y_rec_E)\n",
    "plt.figure()\n",
    "plt.plot(x_rec_H, y_rec_H)\n",
    "\n",
    "plt.figure()\n",
    "plt.plot(np.arange(2, 2*order), fd_E[1:-1], 'gx')\n",
    "plt.plot(np.arange(2, 2*order), fd_H[1:-1], 'bo')\n",
    "plt.axis([0, 2*order + 2, -0.5, 3])\n",
    "plt.show()\n",
    "\n",
    "print(len(fd_H), len(fd_E))"
   ]
  },
  {
   "cell_type": "markdown",
   "metadata": {},
   "source": [
    "## Final Word: This is a blunt way of achieving roational invariance.  For numbers and letters with sharp edges (i.e., very little noise) this maybe good enough.  \n",
    "\n",
    "## But For more complicated shapes, you may run into the issue of degeneracy -- two or more distinct shapes having the same |FD|'s.  \n",
    "\n",
    "## Then you'd want to keep the phase and for each shape, try all possible orientations and see if one of them fits.  This falls into a category of problems knowns as \"least square fit\", which we will get into in CP II."
   ]
  },
  {
   "cell_type": "markdown",
   "metadata": {},
   "source": [
    "## FD offers the first step in shape recognition regardless of location, size or orientation\n",
    "## ...the beginning of computer vision!"
   ]
  },
  {
   "cell_type": "markdown",
   "metadata": {},
   "source": [
    "## Short Breakout: Find out what  whatsthis.png is by looking at its reconstruction from 5, 10, 15, 20, 25, 30, 100, 1000 FD's"
   ]
  },
  {
   "cell_type": "code",
   "execution_count": null,
   "metadata": {
    "collapsed": true
   },
   "outputs": [],
   "source": []
  },
  {
   "cell_type": "markdown",
   "metadata": {},
   "source": [
    "## End of week 11, Lecture 1"
   ]
  }
 ],
 "metadata": {
  "kernelspec": {
   "display_name": "Python 3",
   "language": "python",
   "name": "python3"
  },
  "language_info": {
   "codemirror_mode": {
    "name": "ipython",
    "version": 3
   },
   "file_extension": ".py",
   "mimetype": "text/x-python",
   "name": "python",
   "nbconvert_exporter": "python",
   "pygments_lexer": "ipython3",
   "version": "3.6.3"
  }
 },
 "nbformat": 4,
 "nbformat_minor": 1
}
