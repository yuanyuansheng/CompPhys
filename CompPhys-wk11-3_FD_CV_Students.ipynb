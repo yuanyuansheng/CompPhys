{
 "cells": [
  {
   "cell_type": "markdown",
   "metadata": {},
   "source": [
    "# Topics\n",
    "\n",
    "## 1. Fourier Descriptor  \n",
    "## 2. The Order of the Points Matters\n",
    "## 3. Contours\n",
    "## 4. Meaning the FD's, order by order"
   ]
  },
  {
   "cell_type": "code",
   "execution_count": 1,
   "metadata": {
    "collapsed": true
   },
   "outputs": [],
   "source": [
    "%matplotlib inline\n",
    "\n",
    "import matplotlib.pyplot as plt\n",
    "import numpy as np\n",
    "import os\n",
    "from pdb import set_trace\n",
    "from copy import copy\n",
    "\n",
    "import matplotlib.image as mpimg"
   ]
  },
  {
   "cell_type": "code",
   "execution_count": 2,
   "metadata": {
    "collapsed": true
   },
   "outputs": [],
   "source": [
    "'''\n",
    "Breakout Solution from last time\n",
    "\n",
    "Useful functions\n",
    "\n",
    "'''\n",
    "\n",
    "def FD(x, y, plot_FD = False, y_lim = None):\n",
    "\n",
    "    N = len(x)\n",
    "    z = x + y*1j\n",
    "\n",
    "    Z = np.fft.fft(z)\n",
    "        \n",
    "    # For very noisy data d would appear longer than the \n",
    "    # the actual separation between 2 adjacent points for the\n",
    "    # \"true\" shape underneath.\n",
    "    d_complex = np.gradient(z)\n",
    "    d = np.abs(d_complex).mean()\n",
    "    print('Average distance bewteen adjacent points:{}'.format(d))\n",
    "    \n",
    "    \n",
    "    print('Spatial interval: {:.4f}'.format(d))\n",
    "    k = np.fft.fftfreq(len(z), d = d)\n",
    "    k_lo = np.abs(k[np.argsort(np.abs(k))][1])\n",
    "\n",
    "    if plot_FD:\n",
    "        plt.figure()\n",
    "        plt.title('FD real')\n",
    "        plt.plot(k, Z.real, 'b.')\n",
    "        plt.xlabel('k')\n",
    "        plt.ylabel('Re[FD]')\n",
    "        if y_lim != None:\n",
    "            plt.ylim([-y_lim, y_lim])\n",
    "        plt.figure()\n",
    "        plt.title('FD imag')\n",
    "        plt.plot(k, Z.imag, 'g.')\n",
    "        plt.xlabel('k')\n",
    "        plt.ylabel('Im[FD]')\n",
    "        if y_lim != None:\n",
    "            plt.ylim([-y_lim, y_lim])\n",
    "\n",
    "    return Z, k, k_lo\n",
    "\n",
    "def filt_FD(Z, k, k_keep): #, no_zeroth = True):\n",
    "\n",
    "    filt = np.abs(k) <= k_keep\n",
    "    print(\"FD components kept:\", filt.sum())\n",
    "    return Z*filt, k*filt\n",
    "\n",
    "\n",
    "\n",
    "def recover_shape(Z):\n",
    "    z_rec = np.fft.ifft(Z)\n",
    "\n",
    "    x_rec = z_rec.real\n",
    "    y_rec = z_rec.imag\n",
    "    \n",
    "    return x_rec, y_rec\n",
    "\n",
    "\n",
    "def plot_shape(x, y, plot_style = 'b.'):\n",
    "    fig = plt.figure(figsize = (5, 5))\n",
    "    ax = fig.add_subplot(111)  \n",
    "    ax.set_title('Recovered Shape')\n",
    "    try:\n",
    "        xlen = len(x)\n",
    "    except:\n",
    "        ax.plot(x, y, plot_style)\n",
    "    else:\n",
    "        for i in range(xlen):\n",
    "            ax.plot(x[i], y[i], plot_style)\n"
   ]
  },
  {
   "cell_type": "markdown",
   "metadata": {},
   "source": [
    "## The Letter E"
   ]
  },
  {
   "cell_type": "code",
   "execution_count": 3,
   "metadata": {},
   "outputs": [
    {
     "data": {
      "text/plain": [
       "<function matplotlib.pyplot.show>"
      ]
     },
     "execution_count": 3,
     "metadata": {},
     "output_type": "execute_result"
    },
    {
     "data": {
      "image/png": "[encoded data removed]",
      "text/plain": [
       "<matplotlib.figure.Figure at 0x10db66518>"
      ]
     },
     "metadata": {},
     "output_type": "display_data"
    }
   ],
   "source": [
    "im = mpimg.imread('letterE.jpg')\n",
    "plt.imshow(im)\n",
    "plt.show"
   ]
  },
  {
   "cell_type": "code",
   "execution_count": 4,
   "metadata": {
    "collapsed": true
   },
   "outputs": [],
   "source": [
    "'''\n",
    "Breakout3 Solution from last time\n",
    "\n",
    "'''\n",
    "\n",
    "def extract_shape_v0(im_file, blowup = 1., plot_img = False, plot_contour = False, plot_contour_pts = False):\n",
    "\n",
    "    import matplotlib.image as mpimg\n",
    "    import matplotlib.pyplot as plt\n",
    "    import numpy as np\n",
    "    from skimage import feature\n",
    "    \n",
    "    im = mpimg.imread(im_file)\n",
    "    # Take one of RGB(A) channels\n",
    "    if len(im.shape) > 2:\n",
    "        im = im[:, :, 0]\n",
    "    \n",
    "    if plot_img:\n",
    "        plt.figure()\n",
    "        plt.title('Original Shape')\n",
    "        plt.imshow(im, cmap = plt.cm.gray)\n",
    "\n",
    "    x = np.arange(im.T.shape[0])*blowup  \n",
    "    y = np.arange(im.T.shape[1])*blowup\n",
    "    \n",
    "    # Have to flip y to get the orientation right, again just a peculiar convention we have to work around\n",
    "    # Note the [::] notation: a[3:20:2] means from the 3rd element to the 20th element, choose every 2nd element.\n",
    "    y = y[::-1]\n",
    "\n",
    "    # In case I want to shift x.\n",
    "    #x_shift = 200\n",
    "    #x += x_shift\n",
    "\n",
    "    X, Y = np.meshgrid(x, y)\n",
    "    \n",
    "    plt.figure()\n",
    "    plt.title('Contours')\n",
    "    # Note the dimensions of x and y may NOT the same, thus the necessity of the \n",
    "    # tranpose operation (an oddity, I admit...)\n",
    "    CS = plt.contour(X, Y, im, 1)\n",
    "    levels = CS.levels\n",
    "    print('contour level', levels)\n",
    "    if not plot_contour:\n",
    "        plt.close()\n",
    "\n",
    "    cs_paths = CS.collections[0].get_paths()\n",
    "\n",
    "    print('number of contour path', len(cs_paths))\n",
    "\n",
    "    p = cs_paths[0]\n",
    "    v = p.vertices\n",
    "    x_arr = v[:,0]\n",
    "    y_arr = v[:,1]\n",
    "\n",
    "    if plot_contour_pts:\n",
    "        plt.figure()\n",
    "        plt.title(\"Verify the contour points are correct\")\n",
    "        plt.plot(x_arr, y_arr)\n",
    "\n",
    "    return x_arr, y_arr"
   ]
  },
  {
   "cell_type": "code",
   "execution_count": 5,
   "metadata": {},
   "outputs": [
    {
     "name": "stdout",
     "output_type": "stream",
     "text": [
      "contour level [ 150.]\n",
      "number of contour path 1\n"
     ]
    },
    {
     "data": {
      "image/png": "[encoded data removed]",
      "text/plain": [
       "<matplotlib.figure.Figure at 0x1164cabe0>"
      ]
     },
     "metadata": {},
     "output_type": "display_data"
    }
   ],
   "source": [
    "'''Test to see if the function extract_shape_v0() works'''\n",
    "x, y = extract_shape_v0('letterE.jpg')\n",
    "plot_shape(x, y)\n"
   ]
  },
  {
   "cell_type": "code",
   "execution_count": 6,
   "metadata": {},
   "outputs": [
    {
     "name": "stdout",
     "output_type": "stream",
     "text": [
      "contour level [ 150.]\n",
      "number of contour path 1\n",
      "Average distance bewteen adjacent points:0.9953126687152395\n",
      "Spatial interval: 0.9953\n",
      "Total number of points (N): 2515\n",
      "FD components kept: 21\n",
      "len(Z_filt) 2515\n"
     ]
    },
    {
     "data": {
      "image/png": "[encoded data removed]",
      "text/plain": [
       "<matplotlib.figure.Figure at 0x1c1b086b00>"
      ]
     },
     "metadata": {},
     "output_type": "display_data"
    },
    {
     "data": {
      "image/png": "[encoded data removed]",
      "text/plain": [
       "<matplotlib.figure.Figure at 0x1c1aee87b8>"
      ]
     },
     "metadata": {},
     "output_type": "display_data"
    }
   ],
   "source": [
    "'''\n",
    "Breakout 4 Solution from last time\n",
    "'''\n",
    "\n",
    "def size_norm(Z):\n",
    "    return Z/np.sqrt( np.abs(Z[1])*np.abs(Z[-1]) )\n",
    "\n",
    "\n",
    "def get_FD_abs(x, y, order = 10, norm = True):\n",
    "    '''Finds the Fourier Descriptors and the recovered x and y for a shape.'''\n",
    "    Z, k, k_lo = FD(x, y)\n",
    "    N = len(x)\n",
    "    print('Total number of points (N):', N)\n",
    "\n",
    "    Z_filt, k_filt = filt_FD(Z, k, order*k_lo)\n",
    "    if norm:\n",
    "        Z_filt = size_norm(Z_filt)\n",
    "    print('len(Z_filt)', len(Z_filt))\n",
    "    x_rec, y_rec = recover_shape(Z_filt)\n",
    "\n",
    "    # throw away zero terms\n",
    "    fd_mag = np.abs(Z_filt[Z_filt != 0])\n",
    "    k_kept = k[Z_filt != 0]\n",
    "    #     fd_mag = fd_mag[fd_mag > 0]\n",
    "    \n",
    "    return fd_mag, k_kept, x_rec, y_rec\n",
    "\n",
    "order = 10\n",
    "x, y = extract_shape_v0('letterE.jpg')\n",
    "# fd, x_rec, y_rec = get_FD_abs(x, y, order = order, norm = False, no_zeroth = True)\n",
    "fd, k_kept, x_rec, y_rec = get_FD_abs(x, y, order = order)\n",
    "\n",
    "plt.figure(figsize = (5, 5))\n",
    "plt.plot(x_rec, y_rec, 'b')\n",
    "\n",
    "plt.figure()\n",
    "plt.plot(k_kept, fd, 'b.')\n",
    "# plt.plot(np.arange(2, 2*order), fd[1:-1], 'bo')\n",
    "# print(len(np.arange(2, 2*order)), len(fd[1:-1]))\n",
    "plt.show()"
   ]
  },
  {
   "cell_type": "markdown",
   "metadata": {},
   "source": [
    "## What's All This Good for??\n",
    "## Shape recognition regardless of location, size or orientation!\n",
    "## Breakout Exercise: use get_FD_abs() to find and then plot the magnitudes of the first 11 FD's for the letter E and H."
   ]
  },
  {
   "cell_type": "markdown",
   "metadata": {},
   "source": [
    "## Final Word: This is a blunt way of achieving roational invariance.  For numbers and letters with sharp edges (i.e., very little noise) this maybe good enough.  \n",
    "\n",
    "## But For more complicated shapes, you may run into the issue of degeneracy -- two or more distinct shapes having the same |FD|'s.  \n",
    "\n",
    "## Then you'd want to keep the phase and for each shape, try all possible orientations and see if one of them fits.  This falls into a category of problems knowns as \"least square fit\", which we will get into in CP II."
   ]
  },
  {
   "cell_type": "markdown",
   "metadata": {},
   "source": [
    "## FD offers the first step in shape recognition regardless of location, size or orientation\n",
    "## ...the beginning of computer vision!"
   ]
  },
  {
   "cell_type": "markdown",
   "metadata": {},
   "source": [
    "## Short Breakout: Find out what  whatsthis.png is by looking at its reconstruction from 5, 10, 15, 20, 25, 30, 100, 1000 FD's\n",
    "\n",
    "## How many FD's do you need to recognize the shape?  (This is one way to compress data: instead of saving pixels, you save their FD's)"
   ]
  },
  {
   "cell_type": "markdown",
   "metadata": {},
   "source": [
    "## End of week11-3"
   ]
  },
  {
   "cell_type": "code",
   "execution_count": null,
   "metadata": {
    "collapsed": true
   },
   "outputs": [],
   "source": []
  }
 ],
 "metadata": {
  "kernelspec": {
   "display_name": "Python 3",
   "language": "python",
   "name": "python3"
  },
  "language_info": {
   "codemirror_mode": {
    "name": "ipython",
    "version": 3
   },
   "file_extension": ".py",
   "mimetype": "text/x-python",
   "name": "python",
   "nbconvert_exporter": "python",
   "pygments_lexer": "ipython3",
   "version": "3.6.3"
  }
 },
 "nbformat": 4,
 "nbformat_minor": 1
}
