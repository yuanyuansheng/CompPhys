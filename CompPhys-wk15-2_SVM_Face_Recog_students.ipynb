{
 "cells": [
  {
   "cell_type": "markdown",
   "metadata": {},
   "source": [
    "# Topics\n",
    "\n",
    "## 1. PCA Applied to Face Images and \"Whitening\" \n",
    "## 2. PCA and SVM on Face Recognition\n",
    "## 3. The Confusion Matrix"
   ]
  },
  {
   "cell_type": "code",
   "execution_count": 1,
   "metadata": {
    "collapsed": true
   },
   "outputs": [],
   "source": [
    "%matplotlib inline\n",
    "\n",
    "''' Initial Imports'''\n",
    "\n",
    "import numpy as np\n",
    "import matplotlib.pyplot as plt\n",
    "from scipy import stats\n",
    "\n",
    "from sklearn.decomposition import PCA\n",
    "from sklearn.svm import SVC\n"
   ]
  },
  {
   "cell_type": "markdown",
   "metadata": {},
   "source": [
    "# \\*\\*\\*\\*\\*\\*\\*\\*\\*\\*\\*\\* \n",
    "# Place the data set on google drive \n",
    "# for some reason, it takes a long time to download \n",
    "# the data. \n",
    "# \\*\\*\\*\\*\\*\\*\\*\\*\\*\\*\\*\\*\n",
    "\n",
    "## To Downloading Faces (233MB)\n",
    "\n",
    "## (This takes a while and you should start now):\n",
    "\n",
    "http://vis-www.cs.umass.edu/lfw/lfw-funneled.tgz \n"
   ]
  },
  {
   "cell_type": "code",
   "execution_count": 2,
   "metadata": {},
   "outputs": [
    {
     "name": "stdout",
     "output_type": "stream",
     "text": [
      "height and width of images: 50 37\n",
      "X.shape (1288, 1850)\n",
      "target_names.shape (7,)\n",
      "target_names ['Ariel Sharon' 'Colin Powell' 'Donald Rumsfeld' 'George W Bush'\n",
      " 'Gerhard Schroeder' 'Hugo Chavez' 'Tony Blair']\n",
      "Total dataset size:\n",
      "n_samples (number of faces): 1288\n",
      "n_features (number of pixels): 1850\n",
      "n_classes (number of people): 7\n"
     ]
    }
   ],
   "source": [
    "\"\"\"\n",
    "sklearn face data base\n",
    "\n",
    "\"\"\"\n",
    "\n",
    "from sklearn import datasets\n",
    "\n",
    "###############################################################################\n",
    "# Download the data, if not already on disk and load it as numpy arrays\n",
    "\n",
    "lfw_people = datasets.fetch_lfw_people(min_faces_per_person=70, \\\n",
    "                                       resize=0.4)\n",
    "\n",
    "# introspect the images arrays to find the shapes (for plotting)\n",
    "n_samples, h, w = lfw_people.images.shape\n",
    "print('height and width of images:', h, w)\n",
    "\n",
    "# The images in X have been collapsed into a 1D array\n",
    "# just like for the handwritten digits\n",
    "X = lfw_people.data\n",
    "\n",
    "# X.shape[0] tells you the number of images (faces);\n",
    "# this is the same as n_samples ahove\n",
    "# X.shape[1] gives the number of pixels for each image\n",
    "# or, \"features\"\n",
    "\n",
    "print('X.shape', X.shape)\n",
    "n_features = X.shape[1]\n",
    "\n",
    "\n",
    "# the label/target to predict is the id of the person -- y is an integer\n",
    "y = lfw_people.target\n",
    "# target_names are actually names\n",
    "target_names = lfw_people.target_names\n",
    "print('target_names.shape', target_names.shape)\n",
    "print('target_names', target_names)\n",
    "\n",
    "# n_classes gives the number of people \n",
    "# Different from the number of faces (n_samples)!!\n",
    "n_classes = target_names.shape[0]\n",
    "\n",
    "print(\"Total dataset size:\")\n",
    "print(\"n_samples (number of faces): {0}\".format(n_samples))\n",
    "# n_features = 1850, which is 50x37, the dimension of the images.\n",
    "print(\"n_features (number of pixels): {0}\".format(n_features))\n",
    "print(\"n_classes (number of people): {0}\".format(n_classes))\n"
   ]
  },
  {
   "cell_type": "markdown",
   "metadata": {},
   "source": [
    "## \"Whitening\"\n",
    "\n",
    "## Breakout Exercise:\n",
    "\n",
    "- ## Do PCA on the first 500 images.  Use only 4 components\n",
    "- ## Print out the PCA components (eigenvectors)\n",
    "- ## Print out the PCA variances (eigenvalues)\n",
    "- ## Calculate yourself the variance of along the 0th and 1st PCA axes\n",
    "\n",
    "## Turn on whitening in your PCA instantiation: \n",
    "\n",
    "          whiten = True\n",
    "          \n",
    "## Run the cell again -- can you tell what changed?"
   ]
  },
  {
   "cell_type": "code",
   "execution_count": 3,
   "metadata": {},
   "outputs": [
    {
     "name": "stdout",
     "output_type": "stream",
     "text": [
      "eigenvector: [[-0.00171167 -0.00188718 -0.00477223 ..., -0.01426285 -0.01422086\n",
      "  -0.01390798]\n",
      " [-0.0254456  -0.02447076 -0.02559022 ...,  0.03231155  0.0320539\n",
      "   0.03345388]\n",
      " [-0.02074062 -0.01764376 -0.01742082 ..., -0.04799965 -0.041061\n",
      "  -0.03706346]\n",
      " [-0.03556924 -0.03758161 -0.03788461 ..., -0.02902506 -0.03130636\n",
      "  -0.02524168]]\n",
      "variances: [ 506687.5625    389540.4375    194728.296875  153637.6875  ]\n",
      "505674.0\n",
      "388761.0\n"
     ]
    }
   ],
   "source": [
    "x500 = X[:500, ]\n",
    "# print(x500.shape)\n",
    "pca = PCA(4)\n",
    "# pca = PCA(4, whiten = True)\n",
    "x_trans = pca.fit_transform(x500)\n",
    "# x_trans = pca.fit(x500)\n",
    "print(\"eigenvector:\", pca.components_)\n",
    "print(\"variances:\", pca.explained_variance_)\n",
    "# print(pca.components_[0].shape)\n",
    "variance0 = np.var(x_trans[:, 0])\n",
    "variance1 = np.var(x_trans[:, 1])\n",
    "print(variance0)\n",
    "print(variance1)"
   ]
  },
  {
   "cell_type": "markdown",
   "metadata": {},
   "source": [
    "## Discussing the solution\n",
    "\n",
    "- ### The importance of whiten = True\n",
    "    \n",
    "- ### To understand why this helps: \n",
    "\n",
    "    ### Imagine just doing this with just 2 PCA components.  With whitening, in that 2D PCA space, the variance in each PCA direction is 1.  Then you expect to see clusters that are similar in extent in either direction -- meaning they would apear more circular.  This makes it easier to draw boundaries between clusters.\n",
    "\n",
    "- ### This is a helpful resource \n",
    "\n",
    "    ### To see what whitening does:\n",
    "\n",
    "    ### From http://ufldl.stanford.edu/tutorial/unsupervised/PCAWhitening/\n",
    "\n",
    "    ### Look under the Section \"Whitening\", subsection \"2D example\"\n",
    "    \n",
    "   ### Can plot the data in the 2D space of the first two PCA components, with and without whitening to show the effect -- either for the digit data (not much difference) or the face data \n"
   ]
  },
  {
   "cell_type": "markdown",
   "metadata": {},
   "source": [
    "## Breakout Exercise:\n",
    "\n",
    "### Write a function, plot_faces() [similar to plot_dig()] to plot and label the faces with their correct names. (You may consider expanding the functionality of plot_faces() a bit so that it can label each image with both the correct names and predicted names.)\n"
   ]
  },
  {
   "cell_type": "code",
   "execution_count": 4,
   "metadata": {},
   "outputs": [
    {
     "data": {
      "image/png": "[encoded data removed]",
      "text/plain": [
       "<matplotlib.figure.Figure at 0x119b44160>"
      ]
     },
     "metadata": {},
     "output_type": "display_data"
    }
   ],
   "source": [
    "def plot_faces(imgs, y, names, select_idx):\n",
    "\n",
    "    fig = plt.figure(figsize=(8, 8))\n",
    "    plt.subplot(1, 1, 1, frameon=False, xticks=[], yticks=[])\n",
    "    nside = 10\n",
    "    \n",
    "#     im = np.vstack([np.hstack([Xproj[i, j] for j in range(nside)])\n",
    "#                     for i in range(nside)])\n",
    "    im = imgs[select_idx]\n",
    "    plt.imshow(im, cmap = 'gray')\n",
    "    plt.grid(False)\n",
    "    plt.title(\"name = {}\".format(names[y[select_idx]]),\n",
    "                 size=18)\n",
    "    # Not sure what this line does.\n",
    "#     plt.clim(0, 16)\n",
    "    \n",
    "# with 8 components, the '9' in the second row looks like 3!\n",
    "# Even with 64 components, that '9' is still not clear!\n",
    "plot_faces(lfw_people.images, y, target_names, 0)\n",
    "plt.show()"
   ]
  },
  {
   "cell_type": "code",
   "execution_count": null,
   "metadata": {
    "collapsed": true
   },
   "outputs": [],
   "source": []
  },
  {
   "cell_type": "markdown",
   "metadata": {},
   "source": [
    "## Breakout Exercse: Using this data set (the 7 people, each with at least 70 faces to do face recognition)\n",
    "\n",
    "- ### First do training-testing split :\n",
    "\n",
    "    split the sample (X) into two parts -- X_train and X_test.  For now let X_train be the first 1000 images, and X_test be the rest of the images (288).\n",
    "    \n",
    "    Perform PCA and SVM on X_train.  Then project X_test onto the PCA axes, and then use the trained SVM to predict for X_test.\n",
    "    \n",
    "    This is referred to as \"k-fold.\"  Along with \"leave-one-out\", this is another way to test how good your algorithm is before using it in the \"real world\"\n",
    "\n",
    "    (To connect with what we did for classifying digit image: in classify_dig_svm() from Week15-1, we did a (n-1, 1) split; here we do a train-test split or roughly (3:1), otherwise it's the same.  There the return value is y_pred[0], because there is only one element.  Here's it should just be y_pred since it's an array.)\n",
    "\n",
    "\n",
    "- ### Find the success rate by comparing the prediction for X_test and the correct labels/targets for X_test.\n"
   ]
  },
  {
   "cell_type": "code",
   "execution_count": 5,
   "metadata": {},
   "outputs": [
    {
     "name": "stdout",
     "output_type": "stream",
     "text": [
      "(1000, 50)\n",
      "(288, 50)\n",
      "82.2916666667\n"
     ]
    }
   ],
   "source": [
    "from sklearn import svm\n",
    "\n",
    "Xtrain = X[:1000, ]\n",
    "Xtest = X[1000:, ]\n",
    "# print(X_train.shape)\n",
    "# print(X_test.shape)\n",
    "# ytrain = y[:1000, ]\n",
    "ytrain = y[:1000, ]\n",
    "ytest = y[1000:, ]\n",
    "\n",
    "n_comp = 50\n",
    "pca = PCA(n_comp, whiten = True)\n",
    "\n",
    "# finding pca axes\n",
    "pca.fit(Xtrain)\n",
    "# projecting training data onto pca axes\n",
    "Xtrain_proj = pca.transform(Xtrain)\n",
    "# projecting test data onto pca axes\n",
    "Xtest_proj = pca.transform(Xtest)\n",
    "\n",
    "print(Xtrain_proj.shape)\n",
    "print(Xtest_proj.shape)\n",
    "\n",
    "# ************************************* The SVM Section ********************************\n",
    "\n",
    "# instantiating an SVM classifier\n",
    "clf = svm.SVC(gamma=0.001, C=100.)\n",
    "\n",
    "# apply SVM to training data and draw boundaries.\n",
    "clf.fit(Xtrain_proj, ytrain)\n",
    "# Use SVM-determined boundaries to make\n",
    "# a prediction for the test data point.\n",
    "ypred = clf.predict(Xtest_proj)\n",
    "\n",
    "correct = np.sum(ytest == ypred)\n",
    "        \n",
    "print(correct/288*100)\n",
    "# print(ytest)"
   ]
  },
  {
   "cell_type": "markdown",
   "metadata": {},
   "source": [
    "## Precision vs. Recall\n",
    "\n",
    "### \"The precision-recall curve shows the tradeoff between precision and recall for different threshold. A high area under the curve represents both high recall and high precision, where high precision relates to a low false positive rate, and high recall relates to a low false negative rate.\n",
    "\n",
    "### Precision (P) is defined as the number of true positives ($T_p$) over the number of true positives plus the number of false positives ($F_p$).\n",
    "\n",
    "### $P = \\frac{T_p}{T_p+F_p}$\n",
    "\n",
    "### Recall (R) is defined as the number of true positives ($T_p$) over the number of true positives plus the number of false negatives ($F_n$).\n",
    "\n",
    "### $R = \\frac{T_p}{T_p + F_n}$\n",
    "\n",
    "### These quantities are also related to the ($F_1$) score, which is defined as the harmonic mean of precision and recall.\n",
    "\n",
    "### $F1 = 2\\frac{P \\times R}{P+R}$\"\n",
    "\n",
    "\n",
    "### Finally,\n",
    "\n",
    "### \"The support is the number of occurrences of each class in y_true.\"\n",
    "\n",
    "(For more details, see\n",
    "\n",
    "http://scikit-learn.org/stable/auto_examples/model_selection/plot_precision_recall.html\n",
    "\n",
    "and\n",
    "\n",
    "http://scikit-learn.org/stable/modules/generated/sklearn.metrics.precision_recall_fscore_support.html#sklearn.metrics.precision_recall_fscore_support)\n"
   ]
  },
  {
   "cell_type": "markdown",
   "metadata": {},
   "source": [
    "## End of Week15-3"
   ]
  }
 ],
 "metadata": {
  "kernelspec": {
   "display_name": "Python 3",
   "language": "python",
   "name": "python3"
  },
  "language_info": {
   "codemirror_mode": {
    "name": "ipython",
    "version": 3
   },
   "file_extension": ".py",
   "mimetype": "text/x-python",
   "name": "python",
   "nbconvert_exporter": "python",
   "pygments_lexer": "ipython3",
   "version": "3.6.3"
  }
 },
 "nbformat": 4,
 "nbformat_minor": 1
}
