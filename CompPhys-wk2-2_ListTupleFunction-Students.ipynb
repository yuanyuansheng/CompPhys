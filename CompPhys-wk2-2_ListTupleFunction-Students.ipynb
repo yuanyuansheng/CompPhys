{
 "cells": [
  {
   "cell_type": "markdown",
   "metadata": {},
   "source": [
    "# Topics\n",
    "\n",
    "## 1. \"is equal to\" vs. \"is\" \n",
    "## 2. List Comprehension\n",
    "## 3. Nested Lists \n",
    "## 4. Tuples\n",
    "## 5. Functions"
   ]
  },
  {
   "cell_type": "code",
   "execution_count": 1,
   "metadata": {
    "collapsed": true
   },
   "outputs": [],
   "source": [
    "from __future__ import division, print_function"
   ]
  },
  {
   "cell_type": "markdown",
   "metadata": {},
   "source": [
    "## \"is equal to\" vs. \"is\" "
   ]
  },
  {
   "cell_type": "code",
   "execution_count": 2,
   "metadata": {},
   "outputs": [
    {
     "name": "stdout",
     "output_type": "stream",
     "text": [
      "b == a: True\n",
      "b is a: True\n",
      "c == a: True\n",
      "c is a: False\n"
     ]
    }
   ],
   "source": [
    "a = [0]*10\n",
    "b = a\n",
    "c = a[:]\n",
    "print('b == a:', b == a)\n",
    "print('b is a:', b is a)\n",
    "print('c == a:', c == a)\n",
    "print('c is a:', c is a)\n"
   ]
  },
  {
   "cell_type": "code",
   "execution_count": 3,
   "metadata": {},
   "outputs": [
    {
     "name": "stdout",
     "output_type": "stream",
     "text": [
      "a =  [0, 2, 0, 10, 0, 0, 0, 0, 0, 0]\n",
      "b =  [0, 2, 0, 10, 0, 0, 0, 0, 0, 0]\n",
      "c =  [0, 0, 0, 0, 0, 0, 0, 0, 0, 0]\n"
     ]
    }
   ],
   "source": [
    "# And that b is **the same** as a: whatever happens to a happens to b. \n",
    "a = [0]*10\n",
    "b = a\n",
    "c = a[:]\n",
    "\n",
    "# The following shows clearly a and b point to the same object -- i.e. they are the same object.\n",
    "# Whatever happens to one happens to the other.\n",
    "b[1] = 2\n",
    "a[3] = 10\n",
    "print('a = ', a)\n",
    "print('b = ', b)\n",
    "print('c = ', c)"
   ]
  },
  {
   "cell_type": "markdown",
   "metadata": {},
   "source": [
    "## Introduce the docstring \"\"\"    \"\"\" or '''    '''"
   ]
  },
  {
   "cell_type": "code",
   "execution_count": 4,
   "metadata": {},
   "outputs": [
    {
     "name": "stdout",
     "output_type": "stream",
     "text": [
      "range(-25, 40, 5)\n",
      "[-13.0, -4.0, 5.0, 14.0, 23.0, 32.0, 41.0, 50.0, 59.0, 68.0, 77.0, 86.0, 95.0]\n"
     ]
    }
   ],
   "source": [
    "# Below is called a docstring -- typically at the beginning of your code, \n",
    "# explaining what it does.\n",
    "''' \n",
    "Using range() in python 3:\n",
    "\n",
    "In most cases, you wouldn't notice a difference from its usage in Python 2 -- e.g., the code below runs\n",
    "in Python 2 and Python 3.  \n",
    "\n",
    "But as I showed before, range(n), where n is an integer, is no longer a list.  You need to keep that in mind.\n",
    "\n",
    "'''\n",
    "Cdegrees = range(-25, 40, 5)\n",
    "Fdegrees = [0.0]*len(Cdegrees)  # list that consists of len(Cdegrees) of 0.0's.  Again this is initialization.\n",
    "for i in range(len(Cdegrees)): \n",
    "    Fdegrees[i] = (9./5)*Cdegrees[i] + 32.\n",
    "print(Cdegrees)\n",
    "print(Fdegrees)\n",
    "\n"
   ]
  },
  {
   "cell_type": "code",
   "execution_count": 5,
   "metadata": {},
   "outputs": [
    {
     "name": "stdout",
     "output_type": "stream",
     "text": [
      "c == a: True\n",
      "c is a: False\n"
     ]
    }
   ],
   "source": [
    "'''\n",
    "Some people don't like using the notation of c = a[:] to indicate making a copy of a.\n",
    "Instead, they advocate explicitly making a copy by using the copy module.  \n",
    "\n",
    "I tend to agree.\n",
    "\n",
    "Suggestion: use the [:] type of notation only for slicing lists.  For example, d = a[2:8]\n",
    "'''\n",
    "from copy import copy\n",
    "\n",
    "a = [0]*10\n",
    "c = copy(a)\n",
    "print('c == a:', c == a)\n",
    "print('c is a:', c is a)"
   ]
  },
  {
   "cell_type": "code",
   "execution_count": 8,
   "metadata": {},
   "outputs": [
    {
     "name": "stdout",
     "output_type": "stream",
     "text": [
      "a: [0, 0, 0, 0, 0, 0, 0, 0, 0, 0, 140000.0]\n",
      "b: [0, 0, 0, 0, 0, 0, 0, 0, 0, 0, 140000.0]\n",
      "c: [0, 0, 0, 0, 0, 0, 0, 0, 0, 0]\n"
     ]
    }
   ],
   "source": [
    "'''Another example of being a copy vs. being the same as'''\n",
    "a = [0]*10\n",
    "b = a\n",
    "c = copy(a)\n",
    "a.append(1.4e5)\n",
    "print('a:', a)\n",
    "print('b:', b)\n",
    "print('c:', c)\n"
   ]
  },
  {
   "cell_type": "markdown",
   "metadata": {},
   "source": [
    "## Example: Another Way to Do Temperature Conversion "
   ]
  },
  {
   "cell_type": "code",
   "execution_count": 9,
   "metadata": {},
   "outputs": [
    {
     "data": {
      "text/plain": [
       "range(10, 40, 5)"
      ]
     },
     "execution_count": 9,
     "metadata": {},
     "output_type": "execute_result"
    }
   ],
   "source": [
    "x_rng = range(10, 40, 5)  #note this usage of range (not just range(n)).  \n",
    "x_rng"
   ]
  },
  {
   "cell_type": "code",
   "execution_count": 10,
   "metadata": {},
   "outputs": [
    {
     "name": "stdout",
     "output_type": "stream",
     "text": [
      "x_lst: [10, 15, 20, 25, 30, 35]\n",
      "0 10\n",
      "1 17\n",
      "2 24\n",
      "3 31\n",
      "4 38\n",
      "5 45\n"
     ]
    }
   ],
   "source": [
    "#if you need access to both an element in a list and its index: use enumerate.\n",
    "x_lst = list(x_rng)\n",
    "print('x_lst:', x_lst)\n",
    "for i, x in enumerate(x_lst):\n",
    "    # re-assign the values of the elements in x_lst\n",
    "    x_lst[i] += 2*i\n",
    "    print(i, x_lst[i])"
   ]
  },
  {
   "cell_type": "markdown",
   "metadata": {},
   "source": [
    "## Breakout Problem: What if the increment of temp is fractional?"
   ]
  },
  {
   "cell_type": "code",
   "execution_count": 4,
   "metadata": {
    "collapsed": true
   },
   "outputs": [],
   "source": [
    "Cstart = 1.\n",
    "Cend = 5.\n",
    "Cstep = .5\n",
    "n = int((Cend - Cstart)/Cstep) + 1\n",
    "\n",
    "# list[1.0, 10.0, 0.3]\n",
    "Cdegrees = [y * 0.5 for y in range(1, 100)]"
   ]
  },
  {
   "cell_type": "code",
   "execution_count": 5,
   "metadata": {},
   "outputs": [
    {
     "ename": "TypeError",
     "evalue": "'float' object cannot be interpreted as an integer",
     "output_type": "error",
     "traceback": [
      "\u001b[0;31m---------------------------------------------------------------------------\u001b[0m",
      "\u001b[0;31mTypeError\u001b[0m                                 Traceback (most recent call last)",
      "\u001b[0;32m<ipython-input-5-83b5c4280d99>\u001b[0m in \u001b[0;36m<module>\u001b[0;34m()\u001b[0m\n\u001b[0;32m----> 1\u001b[0;31m \u001b[0mrange\u001b[0m\u001b[0;34m(\u001b[0m\u001b[0;36m1\u001b[0m\u001b[0;34m,\u001b[0m \u001b[0;36m5\u001b[0m\u001b[0;34m,\u001b[0m \u001b[0;36m0.5\u001b[0m\u001b[0;34m)\u001b[0m\u001b[0;34m\u001b[0m\u001b[0m\n\u001b[0m",
      "\u001b[0;31mTypeError\u001b[0m: 'float' object cannot be interpreted as an integer"
     ]
    }
   ],
   "source": [
    "range(1, 5, 0.5)"
   ]
  },
  {
   "cell_type": "markdown",
   "metadata": {},
   "source": [
    "## List Comprehesion: compact syntax for creating a new list out of an existing list:\n",
    "\\>>> newlist = [f(e) for e in list]\n",
    "\n",
    "f: an operation on e."
   ]
  },
  {
   "cell_type": "code",
   "execution_count": 6,
   "metadata": {},
   "outputs": [
    {
     "data": {
      "text/plain": [
       "[1.0, 1.5, 2.0, 2.5, 3.0, 3.5, 4.0, 4.5, 5.0]"
      ]
     },
     "execution_count": 6,
     "metadata": {},
     "output_type": "execute_result"
    }
   ],
   "source": [
    "# Example of List Comprehension\n",
    "# the best way to generate a list of real value temperatures -- takes one line.\n",
    "# Note: the for loop is implied\n",
    "\n",
    "Cdegrees = [1+0.5*i  for i in range(n)]   \n",
    "Cdegrees"
   ]
  },
  {
   "cell_type": "markdown",
   "metadata": {},
   "source": [
    "## Breakout Problem: Convert Temperature in Celsius to Fahrenheit from 1 to 5 degrees in 0.5 increments (see two cells above) with list comprehension."
   ]
  },
  {
   "cell_type": "code",
   "execution_count": 8,
   "metadata": {},
   "outputs": [
    {
     "data": {
      "text/plain": [
       "[33.8, 34.7, 35.6, 36.5, 37.4, 38.3, 39.2, 40.1, 41.0]"
      ]
     },
     "execution_count": 8,
     "metadata": {},
     "output_type": "execute_result"
    }
   ],
   "source": [
    "Cdegrees = [1 + 0.5*i  for i in range(n)]\n",
    "Fdegrees = [(9./5)*c + 32. for c in Cdegrees]\n",
    "Fdegrees"
   ]
  },
  {
   "cell_type": "code",
   "execution_count": 38,
   "metadata": {},
   "outputs": [
    {
     "name": "stdout",
     "output_type": "stream",
     "text": [
      "[1.0, 1.5, 2.0, 2.5, 3.0, 3.5, 4.0, 4.5, 5.0]\n",
      "[33.8, 34.7, 35.6, 36.5, 37.4, 38.3, 39.2, 40.1, 41.0]\n"
     ]
    }
   ],
   "source": [
    "'''Note how clean the code looks with list comprehension'''\n",
    "Cdegrees = [1.+0.5*i  for i in range(n)]  \n",
    "Fdegrees = [(9./5)*c + 32. for c in Cdegrees]  \n",
    "\n",
    "print(Cdegrees)\n",
    "print(Fdegrees)   "
   ]
  },
  {
   "cell_type": "code",
   "execution_count": 39,
   "metadata": {},
   "outputs": [
    {
     "name": "stdout",
     "output_type": "stream",
     "text": [
      "[0.8414709848078965, 0.9974949866040544, 0.9092974268256817, 0.5984721441039564, 0.1411200080598672, -0.35078322768961984, -0.7568024953079282, -0.977530117665097, -0.9589242746631385]\n"
     ]
    }
   ],
   "source": [
    "# another example\n",
    "from math import sin\n",
    "# if you have programmed in most other languages, \n",
    "# you're likely to be amazed by this (and you should!)\n",
    "sinCdeg = [sin(c) for c in Cdegrees] \n",
    "print(sinCdeg)"
   ]
  },
  {
   "cell_type": "markdown",
   "metadata": {},
   "source": [
    "## Multiple Lists:"
   ]
  },
  {
   "cell_type": "code",
   "execution_count": 42,
   "metadata": {},
   "outputs": [
    {
     "name": "stdout",
     "output_type": "stream",
     "text": [
      "<zip object at 0x1084a9748>\n",
      "(1.0, 33.8)\n",
      "(1.5, 34.7)\n",
      "(2.0, 35.6)\n",
      "(2.5, 36.5)\n",
      "(3.0, 37.4)\n",
      "(3.5, 38.3)\n",
      "(4.0, 39.2)\n",
      "(4.5, 40.1)\n",
      "(5.0, 41.0)\n"
     ]
    }
   ],
   "source": [
    "'''The zip() function: creates a list of tuples'''\n",
    "CF_deg = zip(Cdegrees, Fdegrees)\n",
    "print(CF_deg)\n",
    "\n",
    "for elem in CF_deg:\n",
    "    print(elem)"
   ]
  },
  {
   "cell_type": "code",
   "execution_count": 45,
   "metadata": {},
   "outputs": [
    {
     "name": "stdout",
     "output_type": "stream",
     "text": [
      "(1.0, 33.8, 1.0)\n",
      "(1.5, 34.7, 1.5)\n",
      "(2.0, 35.6, 2.0)\n",
      "(2.5, 36.5, 2.5)\n",
      "(3.0, 37.4, 3.0)\n",
      "(3.5, 38.3, 3.5)\n",
      "(4.0, 39.2, 4.0)\n",
      "(4.5, 40.1, 4.5)\n",
      "(5.0, 41.0, 5.0)\n"
     ]
    }
   ],
   "source": [
    "# another example\n",
    "for elem in zip(Cdegrees, Fdegrees, Cdegrees):\n",
    "    print(elem)"
   ]
  },
  {
   "cell_type": "code",
   "execution_count": 27,
   "metadata": {},
   "outputs": [
    {
     "name": "stdout",
     "output_type": "stream",
     "text": [
      "  1.0  33.8\n",
      "  1.5  34.7\n",
      "  2.0  35.6\n",
      "  2.5  36.5\n",
      "  3.0  37.4\n",
      "  3.5  38.3\n",
      "  4.0  39.2\n",
      "  4.5  40.1\n",
      "  5.0  41.0\n"
     ]
    }
   ],
   "source": [
    "# You can easily extract the elements in each individual list in a zip object\n",
    "for C, F in zip(Cdegrees, Fdegrees):\n",
    "    print('{:5.1f} {:5.1f}'.format(C, F))"
   ]
  },
  {
   "cell_type": "markdown",
   "metadata": {},
   "source": [
    "## Mutliple-List Comprehension: compact syntax for creating a new list out of 2 existing lists."
   ]
  },
  {
   "cell_type": "code",
   "execution_count": 46,
   "metadata": {},
   "outputs": [
    {
     "name": "stdout",
     "output_type": "stream",
     "text": [
      "[0.02958579881656805, 0.04322766570605187, 0.056179775280898875, 0.0684931506849315, 0.08021390374331551, 0.09138381201044388, 0.1020408163265306, 0.11221945137157106, 0.12195121951219512]\n"
     ]
    }
   ],
   "source": [
    "ratio = [C/F for C, F in zip(Cdegrees, Fdegrees)]\n",
    "print(ratio)"
   ]
  },
  {
   "cell_type": "code",
   "execution_count": 50,
   "metadata": {},
   "outputs": [
    {
     "name": "stdout",
     "output_type": "stream",
     "text": [
      "Cedgrees: [1.0, 1.5, 2.0, 2.5, 3.0, 3.5, 4.0, 4.5, 5.0]\n",
      "Fdegrees: [33.8, 34.7, 35.6, 36.5, 37.4, 38.3, 39.2, 40.1, 41.0]\n",
      "table1: [[1.0, 1.5, 2.0, 2.5, 3.0, 3.5, 4.0, 4.5, 5.0], [33.8, 34.7, 35.6, 36.5, 37.4, 38.3, 39.2, 40.1, 41.0]]\n",
      "<class 'list'>\n"
     ]
    }
   ],
   "source": [
    "# you can easily create a 2 x 9 table -- a list of two lists\n",
    "table1 = [Cdegrees, Fdegrees]\n",
    "print('Cedgrees:', Cdegrees)\n",
    "print('Fdegrees:', Fdegrees)\n",
    "print('table1:', table1)\n",
    "print(type(table1))  #a nested list"
   ]
  },
  {
   "cell_type": "markdown",
   "metadata": {},
   "source": [
    "## Breakout Exercise: \n",
    "\n",
    "### Given 2 lists, Cdegrees and Fdegrees, create a table where each Cedegree value to be paired with its corresponding Fdegree value.  "
   ]
  },
  {
   "cell_type": "code",
   "execution_count": 10,
   "metadata": {},
   "outputs": [
    {
     "name": "stdout",
     "output_type": "stream",
     "text": [
      "(1.0, 33.8)\n",
      "(1.5, 34.7)\n",
      "(2.0, 35.6)\n",
      "(2.5, 36.5)\n",
      "(3.0, 37.4)\n",
      "(3.5, 38.3)\n",
      "(4.0, 39.2)\n",
      "(4.5, 40.1)\n",
      "(5.0, 41.0)\n"
     ]
    }
   ],
   "source": [
    "CF_deg = zip(Cdegrees, Fdegrees)\n",
    "\n",
    "for elem in CF_deg:\n",
    "    print(elem)"
   ]
  },
  {
   "cell_type": "markdown",
   "metadata": {},
   "source": [
    "## Slicing a List"
   ]
  },
  {
   "cell_type": "code",
   "execution_count": 51,
   "metadata": {},
   "outputs": [
    {
     "data": {
      "text/plain": [
       "2.5"
      ]
     },
     "execution_count": 51,
     "metadata": {},
     "output_type": "execute_result"
    }
   ],
   "source": [
    "table1[0][3]"
   ]
  },
  {
   "cell_type": "code",
   "execution_count": 52,
   "metadata": {},
   "outputs": [
    {
     "data": {
      "text/plain": [
       "[[1.0, 1.5, 2.0, 2.5, 3.0, 3.5, 4.0, 4.5, 5.0]]"
      ]
     },
     "execution_count": 52,
     "metadata": {},
     "output_type": "execute_result"
    }
   ],
   "source": [
    "table1[0:1]"
   ]
  },
  {
   "cell_type": "code",
   "execution_count": 53,
   "metadata": {},
   "outputs": [
    {
     "data": {
      "text/plain": [
       "[1.0, 1.5, 2.0, 2.5, 3.0, 3.5, 4.0, 4.5, 5.0]"
      ]
     },
     "execution_count": 53,
     "metadata": {},
     "output_type": "execute_result"
    }
   ],
   "source": [
    "table1[0:1][0]  #what's the difference with the previous cell?"
   ]
  },
  {
   "cell_type": "code",
   "execution_count": 54,
   "metadata": {},
   "outputs": [
    {
     "data": {
      "text/plain": [
       "[1.0, 1.5, 2.0, 2.5, 3.0, 3.5, 4.0, 4.5, 5.0]"
      ]
     },
     "execution_count": 54,
     "metadata": {},
     "output_type": "execute_result"
    }
   ],
   "source": [
    "# ...which is the same as\n",
    "table1[0]"
   ]
  },
  {
   "cell_type": "code",
   "execution_count": 55,
   "metadata": {},
   "outputs": [
    {
     "name": "stdout",
     "output_type": "stream",
     "text": [
      "[[1.0, 33.8], [1.5, 34.7], [2.0, 35.6], [2.5, 36.5], [3.0, 37.4], [3.5, 38.3], [4.0, 39.2], [4.5, 40.1], [5.0, 41.0]]\n"
     ]
    }
   ],
   "source": [
    "print(table2) "
   ]
  },
  {
   "cell_type": "code",
   "execution_count": 56,
   "metadata": {},
   "outputs": [
    {
     "name": "stdout",
     "output_type": "stream",
     "text": [
      "[[1.0, 33.8],\n",
      " [1.5, 34.7],\n",
      " [2.0, 35.6],\n",
      " [2.5, 36.5],\n",
      " [3.0, 37.4],\n",
      " [3.5, 38.3],\n",
      " [4.0, 39.2],\n",
      " [4.5, 40.1],\n",
      " [5.0, 41.0]]\n"
     ]
    }
   ],
   "source": [
    "# if the following doesn't work for you, don't worry, \n",
    "# it's only cosmetics\n",
    "from pprint import pprint\n",
    "pprint(table2)  #note the different syntax: it's *not* >>>pprint table1  "
   ]
  },
  {
   "cell_type": "code",
   "execution_count": 58,
   "metadata": {},
   "outputs": [
    {
     "name": "stdout",
     "output_type": "stream",
     "text": [
      "  3.5  38.3\n",
      "  4.0  39.2\n",
      "  4.5  40.1\n"
     ]
    }
   ],
   "source": [
    "# suppose I only want to pring the 5th, 6th and 7th entries\n",
    "for C, F in table2[5:8]:\n",
    "    print('{:5.1f} {:5.1f}'.format(C, F))"
   ]
  },
  {
   "cell_type": "code",
   "execution_count": 59,
   "metadata": {},
   "outputs": [
    {
     "name": "stdout",
     "output_type": "stream",
     "text": [
      "4\n",
      "  3.0  37.4\n",
      "  3.5  38.3\n",
      "  4.0  39.2\n",
      "  4.5  40.1\n"
     ]
    }
   ],
   "source": [
    "# If you want an index for an element\n",
    "print(Cdegrees.index(3.0))\n",
    "# Suppose I want to print out the portion of the table corresponding to \n",
    "# temperatures between 3 and 5 C but I don't know how many elements are \n",
    "# in that range.  \n",
    "for C, F in table2[Cdegrees.index(3.):Cdegrees.index(5.)]:\n",
    "    print('{:5.1f} {:5.1f}'.format(C, F))"
   ]
  },
  {
   "cell_type": "markdown",
   "metadata": {},
   "source": [
    "## Tuples"
   ]
  },
  {
   "cell_type": "code",
   "execution_count": 60,
   "metadata": {},
   "outputs": [
    {
     "data": {
      "text/plain": [
       "2"
      ]
     },
     "execution_count": 60,
     "metadata": {},
     "output_type": "execute_result"
    }
   ],
   "source": [
    "t = ('shark', 2, 'text.txt', 6.0)\n",
    "t[1]"
   ]
  },
  {
   "cell_type": "code",
   "execution_count": 61,
   "metadata": {},
   "outputs": [
    {
     "ename": "TypeError",
     "evalue": "'tuple' object does not support item assignment",
     "output_type": "error",
     "traceback": [
      "\u001b[0;31m---------------------------------------------------------------------------\u001b[0m",
      "\u001b[0;31mTypeError\u001b[0m                                 Traceback (most recent call last)",
      "\u001b[0;32m<ipython-input-61-3c83bdf6ef08>\u001b[0m in \u001b[0;36m<module>\u001b[0;34m()\u001b[0m\n\u001b[1;32m      1\u001b[0m \u001b[0;31m# But you can't do this:\u001b[0m\u001b[0;34m\u001b[0m\u001b[0;34m\u001b[0m\u001b[0m\n\u001b[0;32m----> 2\u001b[0;31m \u001b[0mt\u001b[0m\u001b[0;34m[\u001b[0m\u001b[0;36m1\u001b[0m\u001b[0;34m]\u001b[0m \u001b[0;34m=\u001b[0m \u001b[0;36m4\u001b[0m\u001b[0;34m\u001b[0m\u001b[0m\n\u001b[0m",
      "\u001b[0;31mTypeError\u001b[0m: 'tuple' object does not support item assignment"
     ]
    }
   ],
   "source": [
    "# But you can't do this:\n",
    "t[1] = 4"
   ]
  },
  {
   "cell_type": "code",
   "execution_count": 63,
   "metadata": {},
   "outputs": [
    {
     "name": "stdout",
     "output_type": "stream",
     "text": [
      "4\n"
     ]
    }
   ],
   "source": [
    "# With a list, you can.  Tuples are \"immutable\".\n",
    "l = ['shark', 2, 'text.txt', 6.0]\n",
    "l[1] = 4\n",
    "print(l[1])"
   ]
  },
  {
   "cell_type": "markdown",
   "metadata": {},
   "source": [
    "## Tuple Concatenation"
   ]
  },
  {
   "cell_type": "code",
   "execution_count": 64,
   "metadata": {},
   "outputs": [
    {
     "name": "stdout",
     "output_type": "stream",
     "text": [
      "['shark', 2, 'text.txt', 6.0]\n",
      "['shark', 2, 'text.txt', 6.0, 4, 5]\n"
     ]
    }
   ],
   "source": [
    "# With lists you can concatenate:\n",
    "l = ['shark', 2, 'text.txt', 6.0]\n",
    "print(l)\n",
    "l = l + [4, 5]\n",
    "print(l)"
   ]
  },
  {
   "cell_type": "code",
   "execution_count": 65,
   "metadata": {},
   "outputs": [
    {
     "name": "stdout",
     "output_type": "stream",
     "text": [
      "('shark', 2, 'text.txt', 6.0)\n",
      "('shark', 2, 'text.txt', 6.0, 4, 5)\n"
     ]
    }
   ],
   "source": [
    "# The same is true for tuples.\n",
    "t = ('shark', 2, 'text.txt', 6.0)\n",
    "print(t)\n",
    "t = t + (4, 5)\n",
    "print(t)\n"
   ]
  },
  {
   "cell_type": "markdown",
   "metadata": {},
   "source": [
    "## Question: how to add just one element to the tuple?"
   ]
  },
  {
   "cell_type": "code",
   "execution_count": 66,
   "metadata": {},
   "outputs": [
    {
     "data": {
      "text/plain": [
       "('shark', 2, 'text.txt', 6.0, 4)"
      ]
     },
     "execution_count": 66,
     "metadata": {},
     "output_type": "execute_result"
    }
   ],
   "source": [
    "# t = t + 4 or t = t + (4) doesn't work.  Solution below\n",
    "t = ('shark', 2, 'text.txt', 6.0)\n",
    "t = t + (4,)\n",
    "t"
   ]
  },
  {
   "cell_type": "markdown",
   "metadata": {},
   "source": [
    "# Functions"
   ]
  },
  {
   "cell_type": "code",
   "execution_count": 12,
   "metadata": {},
   "outputs": [
    {
     "data": {
      "text/plain": [
       "50.0"
      ]
     },
     "execution_count": 12,
     "metadata": {},
     "output_type": "execute_result"
    }
   ],
   "source": [
    "'''Function are very powerful and flexible'''\n",
    "def Fah(C):\n",
    "    return (9./5)*C + 32.\n",
    "a = 10.\n",
    "F = Fah(a)\n",
    "F"
   ]
  },
  {
   "cell_type": "code",
   "execution_count": 13,
   "metadata": {},
   "outputs": [
    {
     "name": "stdout",
     "output_type": "stream",
     "text": [
      "51.8\n"
     ]
    }
   ],
   "source": [
    "print(Fah(a+1))"
   ]
  },
  {
   "cell_type": "markdown",
   "metadata": {},
   "source": [
    "## Positional Arguments vs. Key Arguments (Expediency vs. Clarity)"
   ]
  },
  {
   "cell_type": "code",
   "execution_count": 14,
   "metadata": {},
   "outputs": [
    {
     "ename": "NameError",
     "evalue": "name 'C' is not defined",
     "output_type": "error",
     "traceback": [
      "\u001b[0;31m---------------------------------------------------------------------------\u001b[0m",
      "\u001b[0;31mNameError\u001b[0m                                 Traceback (most recent call last)",
      "\u001b[0;32m<ipython-input-14-737ce09cb324>\u001b[0m in \u001b[0;36m<module>\u001b[0;34m()\u001b[0m\n\u001b[1;32m     16\u001b[0m \u001b[0mFval\u001b[0m \u001b[0;34m=\u001b[0m \u001b[0mFah\u001b[0m\u001b[0;34m(\u001b[0m\u001b[0mCval\u001b[0m\u001b[0;34m)\u001b[0m\u001b[0;34m\u001b[0m\u001b[0m\n\u001b[1;32m     17\u001b[0m \u001b[0;31m# The LHS is a tuple (no, you don't need () around a tuple)\u001b[0m\u001b[0;34m\u001b[0m\u001b[0;34m\u001b[0m\u001b[0m\n\u001b[0;32m---> 18\u001b[0;31m \u001b[0mFCratio\u001b[0m\u001b[0;34m,\u001b[0m \u001b[0mFCprod\u001b[0m \u001b[0;34m=\u001b[0m \u001b[0mFCfunc\u001b[0m\u001b[0;34m(\u001b[0m\u001b[0mF\u001b[0m\u001b[0;34m,\u001b[0m \u001b[0mC\u001b[0m\u001b[0;34m)\u001b[0m\u001b[0;34m\u001b[0m\u001b[0m\n\u001b[0m\u001b[1;32m     19\u001b[0m \u001b[0mprint\u001b[0m\u001b[0;34m(\u001b[0m\u001b[0mFCratio\u001b[0m\u001b[0;34m,\u001b[0m \u001b[0;34m','\u001b[0m\u001b[0;34m,\u001b[0m \u001b[0mFCprod\u001b[0m\u001b[0;34m)\u001b[0m\u001b[0;34m\u001b[0m\u001b[0m\n",
      "\u001b[0;31mNameError\u001b[0m: name 'C' is not defined"
     ]
    }
   ],
   "source": [
    "def FCfunc(F, C):\n",
    "    '''\n",
    "    A function can have its own docstring\n",
    "    \n",
    "    This function computes the ratio and product between temperatures measured in Fahrenheit and Celsius\n",
    "    \n",
    "    '''\n",
    "    if C == 0: \n",
    "        print(\"Can't compute F/C ratio because C is zero. Returning...\")\n",
    "        return\n",
    "    ratio = F/C\n",
    "    prod = F*C\n",
    "    return ratio, prod\n",
    "\n",
    "Cval = 30\n",
    "Fval = Fah(Cval)\n",
    "# The LHS is a tuple (no, you don't need () around a tuple)\n",
    "FCratio, FCprod = FCfunc(F, C)\n",
    "print(FCratio, ',', FCprod)"
   ]
  },
  {
   "cell_type": "code",
   "execution_count": 71,
   "metadata": {},
   "outputs": [
    {
     "name": "stdout",
     "output_type": "stream",
     "text": [
      "(2.8666666666666667, 2580.0)\n",
      "(2.12, 21200)\n"
     ]
    }
   ],
   "source": [
    "def FCfunc2(F = 212 , C = 100):\n",
    "    '''\n",
    "    Same as above, but\n",
    "    now using Keyargurments. \n",
    "    \n",
    "    '''\n",
    "    if C == 0: \n",
    "        print(\"Can't compute F/c ratio because C is zero. Returning...\")\n",
    "        return\n",
    "    ratio = F/C\n",
    "    prod = F*C\n",
    "    return ratio, prod\n",
    "Cval = 30\n",
    "Fval = Fah(Cval)\n",
    "print(FCfunc2(F = Fval, C = Cval ))\n",
    "# Question: why is it OK even though no argument is given?\n",
    "print(FCfunc2())"
   ]
  },
  {
   "cell_type": "code",
   "execution_count": 15,
   "metadata": {},
   "outputs": [
    {
     "name": "stdout",
     "output_type": "stream",
     "text": [
      "1.8\n"
     ]
    }
   ],
   "source": [
    "def FCfunc3(F, C, offset = 32):\n",
    "    '''\n",
    "    You can mix positional and keyword arguments.\n",
    "    \n",
    "    But position arguments have to be placed in front of keyword arguments\n",
    "    \n",
    "    '''\n",
    "    if C == 0: \n",
    "        print(\"Can't compute F/c ratio because C is zero. Returning...\")\n",
    "        return\n",
    "    return (F - offset)/C\n",
    "\n",
    "Cval = 40\n",
    "Fval = Fah(Cval)\n",
    "print(FCfunc3(Fval, Cval))"
   ]
  },
  {
   "cell_type": "markdown",
   "metadata": {},
   "source": [
    "## Breakout Exercise\n",
    "\n",
    "### Write a fucntion yfunc():\n",
    "\n",
    "- It should have three arguments: one positional, t; the other two keyword, v0 and g, with their respective default values being 0 and 9.8\n",
    "\n",
    "- It should return the height and velocity of an object at t\n",
    "\n",
    "- Make a list of t values between 0 and 1 in 0.1 sec intervals using list comprehension \n",
    "\n",
    "- Compute (h, v) on Earth for every value of t in the list above, using list comprehension\n",
    "\n",
    "- Print out this list of (h, v) values\n",
    "\n",
    "- Compute (h, v) on the Moon for every value of t in the list above, using list comprehension\n",
    "\n",
    "- Print out this list of (h, v) values"
   ]
  },
  {
   "cell_type": "code",
   "execution_count": 29,
   "metadata": {},
   "outputs": [
    {
     "name": "stdout",
     "output_type": "stream",
     "text": [
      "[(100.0, 0.0), (99.951, -0.9800000000000001), (99.804, -1.9600000000000002), (99.559, -2.940000000000001), (99.216, -3.9200000000000004), (98.775, -4.9), (98.236, -5.880000000000002), (97.599, -6.860000000000001), (96.864, -7.840000000000001), (96.031, -8.82), (95.1, -9.8)]\n",
      "[(100.0, 0.0), (99.99183333333333, -0.16333333333333336), (99.96733333333333, -0.3266666666666667), (99.9265, -0.49000000000000016), (99.86933333333333, -0.6533333333333334), (99.79583333333333, -0.8166666666666668), (99.706, -0.9800000000000003), (99.59983333333334, -1.1433333333333335), (99.47733333333333, -1.3066666666666669), (99.3385, -1.4700000000000002), (99.18333333333334, -1.6333333333333335)]\n"
     ]
    }
   ],
   "source": [
    "def yfunc(t, h0 = 100, v0 = 0, g = 9.8):\n",
    "    h = h0 + v0*t - 1/2*g*t**2\n",
    "    v = v0 - g*t\n",
    "    return h, v\n",
    "\n",
    "Ts = [0.1*i  for i in range(11)]\n",
    "earth = [yfunc(i)  for i in Ts]\n",
    "print(earth)\n",
    "\n",
    "moon = [yfunc(i, g = 9.8/6)  for i in Ts]\n",
    "print(moon)\n",
    "\n",
    "for C in Ts:\n",
    "    print('{2.1f}'.format(C))\n",
    "\n",
    "\n",
    "\n"
   ]
  },
  {
   "cell_type": "code",
   "execution_count": 11,
   "metadata": {},
   "outputs": [
    {
     "name": "stdout",
     "output_type": "stream",
     "text": [
      "Height, velocity: -490.5 -98.10000000000001\n",
      "\n",
      "Height and velocity on Earth:\n",
      "[(0.0, 0.0), (-0.04905000000000001, -0.9810000000000001), (-0.19620000000000004, -1.9620000000000002), (-0.4414500000000001, -2.9430000000000005), (-0.7848000000000002, -3.9240000000000004), (-1.22625, -4.905), (-1.7658000000000005, -5.886000000000001), (-2.4034500000000008, -6.867000000000001), (-3.1392000000000007, -7.848000000000001), (-3.9730500000000006, -8.829), (-4.905, -9.81)]\n",
      "\n",
      "Height and velocity on the Moon:\n",
      "[(0.0, 0.0), (-0.008175000000000002, -0.1635), (-0.03270000000000001, -0.327), (-0.07357500000000002, -0.4905000000000001), (-0.13080000000000003, -0.654), (-0.204375, -0.8175), (-0.29430000000000006, -0.9810000000000002), (-0.40057500000000007, -1.1445), (-0.5232000000000001, -1.308), (-0.6621750000000001, -1.4715), (-0.8175, -1.635)]\n"
     ]
    }
   ],
   "source": [
    "def yfunc(t, v0 = 0, g = 9.81):\n",
    "    \"\"\"\n",
    "    finds displacement with constant gravitational \n",
    "    acceleration (default g is for Earth).\n",
    "    \n",
    "    \"\"\"\n",
    "\n",
    "    y = v0*t - 0.5*g*t**2\n",
    "    v = v0 - g*t \n",
    "    return y, v\n",
    "\n",
    "h, v = yfunc(10)  \n",
    "print(\"Height, velocity:\", h, v)\n",
    "print()\n",
    "\n",
    "tvals = [0.1*i for i in range(11)]\n",
    "h_v_earth = [yfunc(t) for t in tvals]\n",
    "print(\"Height and velocity on Earth:\")\n",
    "print(h_v_earth)\n",
    "\n",
    "print()\n",
    "\n",
    "h_v_moon = [yfunc(t, g = 9.81/6) for t in tvals]\n",
    "print(\"Height and velocity on the Moon:\")\n",
    "print(h_v_moon)"
   ]
  }
 ],
 "metadata": {
  "kernelspec": {
   "display_name": "Python 3",
   "language": "python",
   "name": "python3"
  },
  "language_info": {
   "codemirror_mode": {
    "name": "ipython",
    "version": 3
   },
   "file_extension": ".py",
   "mimetype": "text/x-python",
   "name": "python",
   "nbconvert_exporter": "python",
   "pygments_lexer": "ipython3",
   "version": "3.6.3"
  }
 },
 "nbformat": 4,
 "nbformat_minor": 1
}
