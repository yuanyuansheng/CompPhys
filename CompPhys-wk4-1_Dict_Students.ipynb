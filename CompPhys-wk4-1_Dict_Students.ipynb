{
 "cells": [
  {
   "cell_type": "markdown",
   "metadata": {},
   "source": [
    "# Topics\n",
    "\n",
    "## 1. Dictionaries\n"
   ]
  },
  {
   "cell_type": "code",
   "execution_count": 1,
   "metadata": {
    "collapsed": true
   },
   "outputs": [],
   "source": [
    "import numpy as np\n",
    "import matplotlib.pyplot as plt"
   ]
  },
  {
   "cell_type": "code",
   "execution_count": null,
   "metadata": {
    "collapsed": true
   },
   "outputs": [],
   "source": [
    "temps_lst = [45., 50., 54., 60.]                   #  list\n",
    "temps_dict = {0:45., 1:50., 2:54., 3:60.}          #  dictionary: key-value pairs; \n",
    "## Notice the usage of curly brackets:  {}"
   ]
  },
  {
   "cell_type": "code",
   "execution_count": null,
   "metadata": {},
   "outputs": [],
   "source": [
    "print(type(temps_lst), type(temps_dict))\n",
    "print(temps_lst[0], temps_dict[0])   # a key acts as an index"
   ]
  },
  {
   "cell_type": "markdown",
   "metadata": {},
   "source": [
    "## So, in a sense, a list is a dictionary with implied keys being 0-indexed integers.\n",
    "\n",
    "## But dictionaries are much, much more flexible:\n",
    "\n",
    "## One can use any kind of number/string as the keys."
   ]
  },
  {
   "cell_type": "code",
   "execution_count": null,
   "metadata": {
    "collapsed": true
   },
   "outputs": [],
   "source": [
    "temps_dict = {'Seattle':45., 'Portland':50., 'San Francisco':54., \\\n",
    "              'Los Angeles':60.}"
   ]
  },
  {
   "cell_type": "code",
   "execution_count": null,
   "metadata": {},
   "outputs": [],
   "source": [
    "print(temps_dict['Portland'])"
   ]
  },
  {
   "cell_type": "code",
   "execution_count": null,
   "metadata": {},
   "outputs": [],
   "source": [
    "print('Dictionary:')\n",
    "for city in temps_dict:      # note: my order may be different from yours\n",
    "                             # dictionary is inherently orderless.\n",
    "    print(city, temps_dict[city])    \n",
    "# This does the same as \n",
    "print('List:')\n",
    "for i in range(len(temps_lst)):\n",
    "    print(temps_lst[i])"
   ]
  },
  {
   "cell_type": "code",
   "execution_count": null,
   "metadata": {},
   "outputs": [],
   "source": [
    "temps_sorted = sorted(temps_dict)   # the keys are sorted.\n",
    "print(temps_sorted)                 \n",
    "# no longer a dictionary!  A dictionary is inherently orderless.\n",
    "print(type(temps_sorted))"
   ]
  },
  {
   "cell_type": "markdown",
   "metadata": {},
   "source": [
    "## Mini-Breakout Exercise: Print out city-temperature pairs with the cities sorted"
   ]
  },
  {
   "cell_type": "code",
   "execution_count": null,
   "metadata": {},
   "outputs": [],
   "source": [
    "for i in sorted(temps_dict):\n",
    "    print(i, temps_dict[i])"
   ]
  },
  {
   "cell_type": "code",
   "execution_count": null,
   "metadata": {},
   "outputs": [],
   "source": [
    "# To add a key-value pair:\n",
    "temps_dict['San Diego'] = 63.0\n",
    "print(temps_dict)"
   ]
  },
  {
   "cell_type": "code",
   "execution_count": null,
   "metadata": {},
   "outputs": [],
   "source": [
    "# To remove a key-value pair\n",
    "del temps_dict['Seattle']\n",
    "print(temps_dict)"
   ]
  },
  {
   "cell_type": "code",
   "execution_count": null,
   "metadata": {},
   "outputs": [],
   "source": [
    "#Extracting the keys and values as lists\n",
    "cities = temps_dict.keys()\n",
    "temps = temps_dict.values()\n",
    "print(cities, type(cities))\n",
    "print(temps, type(temps))"
   ]
  },
  {
   "cell_type": "code",
   "execution_count": null,
   "metadata": {},
   "outputs": [],
   "source": [
    "# Copy vs. \"is\"\n",
    "temps_dict2 = temps_dict\n",
    "temps_dict_copy = temps_dict.copy()   # a dictionary has the method .copy()\n",
    "                                      # analogous to lst_copy = copy(lst) for a list.\n",
    "temps_dict['San Diego'] = 100.0\n",
    "print(temps_dict2 is temps_dict, temps_dict_copy is temps_dict)"
   ]
  },
  {
   "cell_type": "code",
   "execution_count": null,
   "metadata": {},
   "outputs": [],
   "source": [
    "temps_dict['Santa Barbara'] = 58.\n",
    "print(temps_dict)\n",
    "print(temps_dict2)\n",
    "print(temps_dict_copy)"
   ]
  },
  {
   "cell_type": "markdown",
   "metadata": {},
   "source": [
    "## How to iterate through a dictionary"
   ]
  },
  {
   "cell_type": "code",
   "execution_count": null,
   "metadata": {},
   "outputs": [],
   "source": [
    "'''Approach 1'''\n",
    "for key in temps_dict:\n",
    "    print(key, temps_dict[key])"
   ]
  },
  {
   "cell_type": "code",
   "execution_count": null,
   "metadata": {},
   "outputs": [],
   "source": [
    "'''Approach 2'''\n",
    "# Note the result of hitting tab after the dot -- all methods are shown!\n",
    "for key, value in temps_dict.items():\n",
    "    print(key, value)"
   ]
  },
  {
   "cell_type": "code",
   "execution_count": null,
   "metadata": {},
   "outputs": [],
   "source": [
    "'''Approach 3'''\n",
    "# Note the result of hitting tab after the dot -- all methods are shown!\n",
    "for key in temps_dict.keys():\n",
    "    print(key, temps_dict[key])"
   ]
  },
  {
   "cell_type": "code",
   "execution_count": null,
   "metadata": {},
   "outputs": [],
   "source": [
    "'''\n",
    "Example of Using Dictionaries: Computing the value of \n",
    "an arbitary polynomial, e.g.\n",
    "\n",
    "a*x^-3 + b + c*x^2 + d*x^5\n",
    "\n",
    "'''\n",
    "# key - power; value - coeff\n",
    "coeffs = {-3:5.5, 0: 2.3, 2: 7.1, 5: 0.2}  \n",
    "def polynom(coeffs, x):\n",
    "    '''\n",
    "    Computes an arbitrary polynomial according the specification of \n",
    "    the input dictionary, coeffs - {power: coeff}\n",
    "    '''\n",
    "    total = 0.\n",
    "    # pwr is the key, and coeff is the value\n",
    "    for pwr in coeffs:\n",
    "        total += coeffs[pwr]*x**pwr\n",
    "    return total\n",
    "print(polynom(coeffs, 2.0))"
   ]
  },
  {
   "cell_type": "code",
   "execution_count": null,
   "metadata": {},
   "outputs": [],
   "source": [
    "'''Combining Dictionary with Numpy Array'''\n",
    "coeffs = {-3:5.5, 0: 2.3, 2: 7.1, 5: 0.2}  ## key-value: power-coeff\n",
    "\n",
    "x = np.linspace(1., 2., 5)\n",
    "print('x: {:.3f}, {:.3f}, {:.3f}'.format(*x))\n",
    "print('y: {:.3f}, {:.3f}, {:.3f}'.format(*polynom(coeffs, x)))\n",
    "print(polynom(coeffs, x))"
   ]
  },
  {
   "cell_type": "markdown",
   "metadata": {},
   "source": [
    "## Breakout Excercise: Find the values (y) of the following cosine series for 100 values between x = 0 and $\\pi$:\n",
    "\n",
    "### $y = 0.5 + 0.2 cos(\\pi x/2.) + 0.15 cos(2\\pi x/2.) + 0.1 cos(4\\pi x/2.) + 0.05 cos(8\\pi x/2.)$\n",
    "\n",
    "- ### Plot y vs. x as an inline plot\n",
    "\n",
    "- ### Implement a doctest -- it's possible to do so in the notebook but \n",
    "      i) you can't use the verbose mode (you can deliberately fail it to see it's in effect)\n",
    "          \n",
    "      ii) you need to include the line\n",
    "          \n",
    "          doctest.testmod()"
   ]
  },
  {
   "cell_type": "code",
   "execution_count": 2,
   "metadata": {},
   "outputs": [
    {
     "data": {
      "image/png": "[encoded data removed]",
      "text/plain": [
       "<matplotlib.figure.Figure at 0x108bf0ba8>"
      ]
     },
     "metadata": {},
     "output_type": "display_data"
    }
   ],
   "source": [
    "\n",
    "coeffs = {0:0.5, 1: 0.2, 2: 0.15, 4: 0.1, 8: 0.05}\n",
    "\n",
    "def cos_ser(coeffs, x):\n",
    "    '''\n",
    "    >>> np.abs(cos_ser({-3:1, 0:1, 2:1, 5:1}, 0.) - 4) < 1e-7\n",
    "    True\n",
    "    '''\n",
    "    total = 0\n",
    "    for n, coeff in coeffs.items():\n",
    "        total += coeff*np.cos(n*np.pi*x/2.)\n",
    "    return total\n",
    "\n",
    "import doctest\n",
    "doctest.testmod()\n",
    "    \n",
    "x = np.linspace(0., np.pi, 100)\n",
    "y = cos_ser(coeffs, x)\n",
    "plt.plot(x, y)\n",
    "plt.show()"
   ]
  },
  {
   "cell_type": "markdown",
   "metadata": {},
   "source": [
    "## End of week4-1"
   ]
  }
 ],
 "metadata": {
  "kernelspec": {
   "display_name": "Python 3",
   "language": "python",
   "name": "python3"
  },
  "language_info": {
   "codemirror_mode": {
    "name": "ipython",
    "version": 3
   },
   "file_extension": ".py",
   "mimetype": "text/x-python",
   "name": "python",
   "nbconvert_exporter": "python",
   "pygments_lexer": "ipython3",
   "version": "3.6.3"
  }
 },
 "nbformat": 4,
 "nbformat_minor": 1
}
