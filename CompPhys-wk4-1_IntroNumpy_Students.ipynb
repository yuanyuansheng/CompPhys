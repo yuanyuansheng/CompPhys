{
 "cells": [
  {
   "cell_type": "markdown",
   "metadata": {},
   "source": [
    "# Topics\n",
    "\n",
    "## 1. Representation Errors\n",
    "## 2. Arrays and Numpy\n",
    "## 3. Matplotlib"
   ]
  },
  {
   "cell_type": "code",
   "execution_count": null,
   "metadata": {
    "collapsed": true
   },
   "outputs": [],
   "source": [
    "import math\n",
    "\n",
    "# New import.  Typically:\n",
    "import numpy as np\n"
   ]
  },
  {
   "cell_type": "markdown",
   "metadata": {},
   "source": [
    "- Can save code in notebook as .py: File --> Download as-->Python(.py)\n",
    "\n",
    "- How to write raw text (instead of code) in cells."
   ]
  },
  {
   "cell_type": "markdown",
   "metadata": {},
   "source": [
    "## Representation Error\n",
    "\n",
    "- ### 1/3 does NOT have an exact representation in the digital system using a finite number of digits\n",
    "\n",
    "- ### 0.1 does NOT have an exact representation in the digital system using a finite number of bits"
   ]
  },
  {
   "cell_type": "code",
   "execution_count": null,
   "metadata": {
    "collapsed": true
   },
   "outputs": [],
   "source": [
    "# check this out:\n",
    "0.10000000000000001 == 0.10"
   ]
  },
  {
   "cell_type": "code",
   "execution_count": null,
   "metadata": {
    "collapsed": true
   },
   "outputs": [],
   "source": [
    "format(0.1, '.10f')"
   ]
  },
  {
   "cell_type": "code",
   "execution_count": null,
   "metadata": {
    "collapsed": true
   },
   "outputs": [],
   "source": [
    "format(0.1, '.16f')"
   ]
  },
  {
   "cell_type": "code",
   "execution_count": null,
   "metadata": {
    "collapsed": true
   },
   "outputs": [],
   "source": [
    "# below you will see why you get about 16 significant figures that are accurate, \n",
    "# but not beyond.\n",
    "format(0.1, '.17f')"
   ]
  },
  {
   "cell_type": "markdown",
   "metadata": {},
   "source": [
    "## These days, usually one doesn't have to worry about it.  \n",
    "\n",
    "### For more:\n",
    "\n",
    "https://docs.python.org/3/tutorial/floatingpoint.html#representation-error\n",
    "\n",
    "\"Almost all machines today (November 2000) use IEEE-754 floating point arithmetic, and almost all platforms map Python floats to IEEE-754 “double precision”. 754 doubles contain 53 bits of precision\"\n",
    "\n",
    "### 2^53 ~ 1e16 --> this roughly translates to 16 significant figures of accurarcy"
   ]
  },
  {
   "cell_type": "markdown",
   "metadata": {},
   "source": [
    "## Numpy Arrays"
   ]
  },
  {
   "cell_type": "markdown",
   "metadata": {},
   "source": [
    "An array object can be viewed as a variant of a list, but with the following assumptions and features: \n",
    "\n",
    "• All elements must be of the same type, usually integers, real or complex numbers, or strings, for efficient numerical computing and storage. \n",
    "\n",
    "• The number of elements must be known when the array is created. \n",
    "\n",
    "• Arrays are not part of standard Python - one needs an additional package called Numerical Python, often abbreviated as NumPy. The Python name of the package, to be used in import statements, is numpy. \n",
    "\n",
    "• With numpy, a wide range of mathematical operations can be done on the entire array, thereby removing the need for loops over array elements. This is commonly called vectorization and may cause a dramatic speed-up of Python programs (and greatly enhance the readability of your code). \n",
    "\n",
    "• Arrays with one index are often called vectors. Arrays with two indices are used as an efficient data structure for tables, instead of lists of lists. Arrays can also have three or more indices.\n"
   ]
  },
  {
   "cell_type": "code",
   "execution_count": null,
   "metadata": {
    "collapsed": true
   },
   "outputs": [],
   "source": [
    "(0.1 + 0.1 + 0.1) == 0.3"
   ]
  },
  {
   "cell_type": "code",
   "execution_count": null,
   "metadata": {
    "collapsed": true
   },
   "outputs": [],
   "source": [
    "# representation error still exists for np arrays \n",
    "arr2 = np.array([0.1, 0.1, 0.1, 0.3])\n",
    "sum0to2 = arr2[0] + arr2[1] + arr2[2] \n",
    "elem3 = arr2[3]\n",
    "\n",
    "print(sum0to2)\n",
    "print(elem3)\n",
    "print(sum0to2 == elem3)"
   ]
  },
  {
   "cell_type": "markdown",
   "metadata": {},
   "source": [
    "## Numpy vs. List Comprehension.  Numpy is\n",
    "\n",
    "- ### Faster\n",
    "- ### Syntactically more intuitive"
   ]
  },
  {
   "cell_type": "code",
   "execution_count": null,
   "metadata": {
    "collapsed": true
   },
   "outputs": [],
   "source": [
    "# turning a list into a numpy array\n",
    "r = range(1, 100)\n",
    "a = np.array(r)   # a is an array; or in the CS lingo: a vector.\n",
    "print(type(r), type(a))\n",
    "print(a)"
   ]
  },
  {
   "cell_type": "code",
   "execution_count": null,
   "metadata": {
    "collapsed": true
   },
   "outputs": [],
   "source": [
    "%timeit [math.sin(x) for x in r]"
   ]
  },
  {
   "cell_type": "code",
   "execution_count": null,
   "metadata": {
    "collapsed": true
   },
   "outputs": [],
   "source": [
    "%timeit np.sin(a)"
   ]
  },
  {
   "cell_type": "markdown",
   "metadata": {},
   "source": [
    "## Useful Numpy Functions"
   ]
  },
  {
   "cell_type": "code",
   "execution_count": null,
   "metadata": {
    "collapsed": true
   },
   "outputs": [],
   "source": [
    "b = np.zeros(10)  \n",
    "print(b, type(b))"
   ]
  },
  {
   "cell_type": "code",
   "execution_count": null,
   "metadata": {
    "collapsed": true
   },
   "outputs": [],
   "source": [
    "c = np.ones(10)  \n",
    "print(c, type(c))"
   ]
  },
  {
   "cell_type": "code",
   "execution_count": null,
   "metadata": {
    "collapsed": true
   },
   "outputs": [],
   "source": [
    "# note: linspace is inclusive at BOTH ends\n",
    "d = np.linspace(1, 12.4, 20)\n",
    "print(d, type(d))\n",
    "print(len(d))"
   ]
  },
  {
   "cell_type": "code",
   "execution_count": null,
   "metadata": {
    "collapsed": true
   },
   "outputs": [],
   "source": [
    "# accessing an individual element of an array\n",
    "a = np.zeros(10)\n",
    "print(a[3])\n",
    "a[2] = 1\n",
    "print(a)"
   ]
  },
  {
   "cell_type": "markdown",
   "metadata": {},
   "source": [
    "## Array Index Slicing "
   ]
  },
  {
   "cell_type": "code",
   "execution_count": null,
   "metadata": {
    "collapsed": true
   },
   "outputs": [],
   "source": [
    "a = np.array(range(10))\n",
    "b = a[1:-1]\n",
    "print(a)\n",
    "print(b)"
   ]
  },
  {
   "cell_type": "markdown",
   "metadata": {},
   "source": [
    "## Mini-breakout Exercise\n",
    "\n",
    "### Initialize a numpy array of 100 evenly distributed numbers between 0.1 and 2 (inclusive); call it x.\n",
    "- ### For all the values in x, find $$y = e^x$$\n",
    "\n",
    "### call the resulting array y.\n",
    "  \n",
    "\n",
    "\n",
    "- ### Print the arrays x and y."
   ]
  },
  {
   "cell_type": "markdown",
   "metadata": {},
   "source": [
    "## End of wk4-1"
   ]
  }
 ],
 "metadata": {
  "kernelspec": {
   "display_name": "Python 3",
   "language": "python",
   "name": "python3"
  },
  "language_info": {
   "codemirror_mode": {
    "name": "ipython",
    "version": 3
   },
   "file_extension": ".py",
   "mimetype": "text/x-python",
   "name": "python",
   "nbconvert_exporter": "python",
   "pygments_lexer": "ipython3",
   "version": "3.6.3"
  }
 },
 "nbformat": 4,
 "nbformat_minor": 1
}
