{
 "cells": [
  {
   "cell_type": "markdown",
   "metadata": {},
   "source": [
    "# Topics\n",
    "\n",
    "\n",
    "## 1. Class\n",
    "\n",
    "- ### Introspection\n",
    "- ### Versatility\n",
    "\n"
   ]
  },
  {
   "cell_type": "markdown",
   "metadata": {},
   "source": [
    "# Class"
   ]
  },
  {
   "cell_type": "code",
   "execution_count": 1,
   "metadata": {},
   "outputs": [
    {
     "name": "stdout",
     "output_type": "stream",
     "text": [
      "3\n"
     ]
    }
   ],
   "source": [
    "class T:\n",
    "    a = 3\n",
    "\n",
    "t = T()\n",
    "print(t.a)\n"
   ]
  },
  {
   "cell_type": "code",
   "execution_count": 2,
   "metadata": {},
   "outputs": [
    {
     "name": "stdout",
     "output_type": "stream",
     "text": [
      "3\n"
     ]
    },
    {
     "ename": "NameError",
     "evalue": "name 'a' is not defined",
     "output_type": "error",
     "traceback": [
      "\u001b[0;31m---------------------------------------------------------------------------\u001b[0m",
      "\u001b[0;31mNameError\u001b[0m                                 Traceback (most recent call last)",
      "\u001b[0;32m<ipython-input-2-a849770549a9>\u001b[0m in \u001b[0;36m<module>\u001b[0;34m()\u001b[0m\n\u001b[1;32m     11\u001b[0m \u001b[0mt\u001b[0m \u001b[0;34m=\u001b[0m \u001b[0mT\u001b[0m\u001b[0;34m(\u001b[0m\u001b[0;34m)\u001b[0m\u001b[0;34m\u001b[0m\u001b[0m\n\u001b[1;32m     12\u001b[0m \u001b[0mprint\u001b[0m\u001b[0;34m(\u001b[0m\u001b[0mt\u001b[0m\u001b[0;34m.\u001b[0m\u001b[0ma\u001b[0m\u001b[0;34m)\u001b[0m\u001b[0;34m\u001b[0m\u001b[0m\n\u001b[0;32m---> 13\u001b[0;31m \u001b[0mt\u001b[0m\u001b[0;34m.\u001b[0m\u001b[0mtest\u001b[0m\u001b[0;34m(\u001b[0m\u001b[0;34m)\u001b[0m\u001b[0;34m\u001b[0m\u001b[0m\n\u001b[0m",
      "\u001b[0;32m<ipython-input-2-a849770549a9>\u001b[0m in \u001b[0;36mtest\u001b[0;34m(self)\u001b[0m\n\u001b[1;32m      8\u001b[0m     \u001b[0ma\u001b[0m \u001b[0;34m=\u001b[0m \u001b[0;36m3\u001b[0m\u001b[0;34m\u001b[0m\u001b[0m\n\u001b[1;32m      9\u001b[0m     \u001b[0;32mdef\u001b[0m \u001b[0mtest\u001b[0m\u001b[0;34m(\u001b[0m\u001b[0mself\u001b[0m\u001b[0;34m)\u001b[0m\u001b[0;34m:\u001b[0m\u001b[0;34m\u001b[0m\u001b[0m\n\u001b[0;32m---> 10\u001b[0;31m         \u001b[0mprint\u001b[0m\u001b[0;34m(\u001b[0m\u001b[0ma\u001b[0m\u001b[0;34m)\u001b[0m\u001b[0;34m\u001b[0m\u001b[0m\n\u001b[0m\u001b[1;32m     11\u001b[0m \u001b[0mt\u001b[0m \u001b[0;34m=\u001b[0m \u001b[0mT\u001b[0m\u001b[0;34m(\u001b[0m\u001b[0;34m)\u001b[0m\u001b[0;34m\u001b[0m\u001b[0m\n\u001b[1;32m     12\u001b[0m \u001b[0mprint\u001b[0m\u001b[0;34m(\u001b[0m\u001b[0mt\u001b[0m\u001b[0;34m.\u001b[0m\u001b[0ma\u001b[0m\u001b[0;34m)\u001b[0m\u001b[0;34m\u001b[0m\u001b[0m\n",
      "\u001b[0;31mNameError\u001b[0m: name 'a' is not defined"
     ]
    }
   ],
   "source": [
    "'''\n",
    "What is the \"self\"??\n",
    "The following won't work.\n",
    "'''\n",
    "\n",
    "\n",
    "class T:\n",
    "    a = 3\n",
    "    def test(self):\n",
    "        print(a)\n",
    "t = T()\n",
    "print(t.a)\n",
    "t.test()"
   ]
  },
  {
   "cell_type": "code",
   "execution_count": 3,
   "metadata": {},
   "outputs": [
    {
     "name": "stdout",
     "output_type": "stream",
     "text": [
      "3\n",
      "3\n"
     ]
    }
   ],
   "source": [
    "'''\n",
    "What is the \"self\"??\n",
    "\n",
    "'''\n",
    "\n",
    "class T:\n",
    "    a = 3\n",
    "    def test(self):\n",
    "        print(self.a)\n",
    "t = T()\n",
    "print(t.a)\n",
    "t.test()"
   ]
  },
  {
   "cell_type": "code",
   "execution_count": 4,
   "metadata": {},
   "outputs": [
    {
     "ename": "NameError",
     "evalue": "name 'self' is not defined",
     "output_type": "error",
     "traceback": [
      "\u001b[0;31m---------------------------------------------------------------------------\u001b[0m",
      "\u001b[0;31mNameError\u001b[0m                                 Traceback (most recent call last)",
      "\u001b[0;32m<ipython-input-4-eb205b75c2c7>\u001b[0m in \u001b[0;36m<module>\u001b[0;34m()\u001b[0m\n\u001b[1;32m      7\u001b[0m \u001b[0;34m\u001b[0m\u001b[0m\n\u001b[1;32m      8\u001b[0m \u001b[0;34m\u001b[0m\u001b[0m\n\u001b[0;32m----> 9\u001b[0;31m \u001b[0;32mclass\u001b[0m \u001b[0mT\u001b[0m\u001b[0;34m:\u001b[0m\u001b[0;34m\u001b[0m\u001b[0m\n\u001b[0m\u001b[1;32m     10\u001b[0m     \u001b[0ma\u001b[0m \u001b[0;34m=\u001b[0m \u001b[0;36m3\u001b[0m\u001b[0;34m\u001b[0m\u001b[0m\n\u001b[1;32m     11\u001b[0m     \u001b[0;32mdef\u001b[0m \u001b[0mtest\u001b[0m\u001b[0;34m(\u001b[0m\u001b[0mself\u001b[0m\u001b[0;34m)\u001b[0m\u001b[0;34m:\u001b[0m\u001b[0;34m\u001b[0m\u001b[0m\n",
      "\u001b[0;32m<ipython-input-4-eb205b75c2c7>\u001b[0m in \u001b[0;36mT\u001b[0;34m()\u001b[0m\n\u001b[1;32m     11\u001b[0m     \u001b[0;32mdef\u001b[0m \u001b[0mtest\u001b[0m\u001b[0;34m(\u001b[0m\u001b[0mself\u001b[0m\u001b[0;34m)\u001b[0m\u001b[0;34m:\u001b[0m\u001b[0;34m\u001b[0m\u001b[0m\n\u001b[1;32m     12\u001b[0m         \u001b[0mprint\u001b[0m\u001b[0;34m(\u001b[0m\u001b[0mself\u001b[0m\u001b[0;34m.\u001b[0m\u001b[0ma\u001b[0m\u001b[0;34m)\u001b[0m\u001b[0;34m\u001b[0m\u001b[0m\n\u001b[0;32m---> 13\u001b[0;31m     \u001b[0mprint\u001b[0m\u001b[0;34m(\u001b[0m\u001b[0mself\u001b[0m\u001b[0;34m.\u001b[0m\u001b[0ma\u001b[0m\u001b[0;34m)\u001b[0m\u001b[0;34m\u001b[0m\u001b[0m\n\u001b[0m\u001b[1;32m     14\u001b[0m \u001b[0;34m\u001b[0m\u001b[0m\n\u001b[1;32m     15\u001b[0m \u001b[0;34m\u001b[0m\u001b[0m\n",
      "\u001b[0;31mNameError\u001b[0m: name 'self' is not defined"
     ]
    }
   ],
   "source": [
    "'''\n",
    "What is the \"self\"??\n",
    "\n",
    "This won't work either: because self is not defined in the body of \n",
    "the class (only for the methods).\n",
    "'''\n",
    "\n",
    "\n",
    "class T:\n",
    "    a = 3\n",
    "    def test(self):\n",
    "        print(self.a)\n",
    "    print(self.a)\n",
    "        \n",
    "    \n",
    "# t = T()\n",
    "# print(t.a)\n",
    "# t.test()"
   ]
  },
  {
   "cell_type": "code",
   "execution_count": 5,
   "metadata": {},
   "outputs": [
    {
     "name": "stdout",
     "output_type": "stream",
     "text": [
      "0.379999999999999\n"
     ]
    }
   ],
   "source": [
    "'''\n",
    "A class of rocket that has a certain initial velocity v0. \n",
    "'''\n",
    "\n",
    "class Y:\n",
    "    def __init__(self, v0):\n",
    "        self.v0 = v0     # a variable parameter:\n",
    "                         # can be changed at the time of instantiation\n",
    "        self.g = 9.81    # a constant parameter: cannot be changed \n",
    "                         # at the time of instantiation \n",
    "    \n",
    "    def value(self, t):\n",
    "        return self.v0*t - 0.5*self.g*t**2\n",
    "    \n",
    "# Now we can create an instance of the class Y:\n",
    "y = Y(10)    # y --> self, 10 --> v0\n",
    "print(y.value(2.))"
   ]
  },
  {
   "cell_type": "code",
   "execution_count": 6,
   "metadata": {},
   "outputs": [
    {
     "data": {
      "text/plain": [
       "9.81"
      ]
     },
     "execution_count": 6,
     "metadata": {},
     "output_type": "execute_result"
    }
   ],
   "source": [
    "y.g"
   ]
  },
  {
   "cell_type": "code",
   "execution_count": 7,
   "metadata": {
    "collapsed": true
   },
   "outputs": [],
   "source": [
    "# let's go to the Moon!\n",
    "y.g /= 6"
   ]
  },
  {
   "cell_type": "code",
   "execution_count": 8,
   "metadata": {},
   "outputs": [
    {
     "name": "stdout",
     "output_type": "stream",
     "text": [
      "1.635\n"
     ]
    }
   ],
   "source": [
    "print(y.g)"
   ]
  },
  {
   "cell_type": "code",
   "execution_count": 9,
   "metadata": {},
   "outputs": [
    {
     "name": "stdout",
     "output_type": "stream",
     "text": [
      "h(t = 2; v0 = 10) = 0.38\n",
      "Formula: v0*t - 0.5*g*t**2; parameters: v0 = 10, g = 9.81 (constant).\n",
      "Initial velocity: 10.0\n",
      "Gravity: 9.81\n"
     ]
    }
   ],
   "source": [
    "'''\n",
    "To make code more readable and therefore easier to modify and debug.\n",
    "Unlike functions, an instance of a class is \"introspective\".\n",
    "\n",
    "(Although in Python, functions are objects too, just not explicitly so.)\n",
    "\n",
    "'''\n",
    "class Y:\n",
    "    # The \"Constructor\"\n",
    "    # It is a good habit always to have a constructor \n",
    "    # in a class and to initialize class attributes\n",
    "    def __init__(self, v0):\n",
    "        self.v0 = v0     \n",
    "        self.g = 9.81    \n",
    "\n",
    "    # .v0 and .g are called attributes.  \n",
    "    # They are basically assignment statements that \n",
    "    # initialized varaibles or constant.\n",
    "\n",
    "    def value(self, t):\n",
    "        return self.v0*t - 0.5*self.g*t**2\n",
    "    def formula(self):\n",
    "        return 'v0*t - 0.5*g*t**2; parameters: v0 = {:g}, g = {:g} (constant).'.format(self.v0, self.g)\n",
    "\n",
    "    # .value and .formula are called methods\n",
    "    # They are like functions: they do \"stuff\" and return outputs\n",
    "    # -- here they return either the result of a calculation or a string.\n",
    "\n",
    "y = Y(10.)\n",
    "t = 2.\n",
    "h = y.value(t)\n",
    "print('h(t = {:g}; v0 = {:g}) = {:g}'.format(t, y.v0, h))\n",
    "# The three statments below: Introspection\n",
    "# You can probably achieve something similar with \n",
    "# functions -- but not as easily.\n",
    "print('Formula:', y.formula())\n",
    "print('Initial velocity:', y.v0)\n",
    "print(\"Gravity:\", y.g)"
   ]
  },
  {
   "cell_type": "code",
   "execution_count": 10,
   "metadata": {},
   "outputs": [
    {
     "name": "stdout",
     "output_type": "stream",
     "text": [
      "h(t = 2, v0 = 10) = 0.38\n",
      "Formula: v0*t - 0.5*g*t**2; parameters: v0 = 10, g = 9.81 (constant).\n",
      "Initial velocity: 10.0\n",
      "Gravity: 9.81\n"
     ]
    }
   ],
   "source": [
    "'''\n",
    "Keyword arguments for class.\n",
    "\n",
    "'''\n",
    "class Y:\n",
    "    '''\n",
    "    (A class definition should have a docstring, too.)\n",
    "    This class calculates the height of a vertical projectile.\n",
    "    '''\n",
    "    def __init__(self, g = 9.81, v0 = 10.):\n",
    "        self.g = g    \n",
    "        self.v0 = v0\n",
    "            \n",
    "    def value(self, t):\n",
    "        return self.v0*t - 0.5*self.g*t**2\n",
    "    def formula(self):\n",
    "        return 'v0*t - 0.5*g*t**2; parameters: v0 = {:g}, g = {:g} (constant).'.format(self.v0, self.g)\n",
    "\n",
    "y = Y() \n",
    "# or \n",
    "#y = Y(g = 9.81/6, v0 = 10)\n",
    "\n",
    "t = 2.\n",
    "h = y.value(t)\n",
    "print('h(t = {:g}, v0 = {:g}) = {:g}'.format(t, y.v0, h))\n",
    "print('Formula:', y.formula())\n",
    "print('Initial velocity:', y.v0)\n",
    "print(\"Gravity:\", y.g)"
   ]
  },
  {
   "cell_type": "code",
   "execution_count": null,
   "metadata": {
    "collapsed": true
   },
   "outputs": [],
   "source": [
    "'''\n",
    "Can think of the definition of the attributes as the definition of \n",
    "a dictionary: {'v0':v0, 'g':9.81}\n",
    "in fact every class instance has a dictionary: __dict__\n",
    "'''\n",
    "y = Y()   ### here v0 has been assigned the value 2.0.\n",
    "print(y.__dict__)"
   ]
  },
  {
   "cell_type": "code",
   "execution_count": 11,
   "metadata": {},
   "outputs": [
    {
     "data": {
      "text/plain": [
       "['__class__',\n",
       " '__delattr__',\n",
       " '__dict__',\n",
       " '__dir__',\n",
       " '__doc__',\n",
       " '__eq__',\n",
       " '__format__',\n",
       " '__ge__',\n",
       " '__getattribute__',\n",
       " '__gt__',\n",
       " '__hash__',\n",
       " '__init__',\n",
       " '__init_subclass__',\n",
       " '__le__',\n",
       " '__lt__',\n",
       " '__module__',\n",
       " '__ne__',\n",
       " '__new__',\n",
       " '__reduce__',\n",
       " '__reduce_ex__',\n",
       " '__repr__',\n",
       " '__setattr__',\n",
       " '__sizeof__',\n",
       " '__str__',\n",
       " '__subclasshook__',\n",
       " '__weakref__',\n",
       " 'formula',\n",
       " 'g',\n",
       " 'v0',\n",
       " 'value']"
      ]
     },
     "execution_count": 11,
     "metadata": {},
     "output_type": "execute_result"
    }
   ],
   "source": [
    "'''\n",
    "To get all attributes and methods\n",
    "\n",
    "By combining .__dict__ and dir(), you can figure out which ones are \n",
    "attrubute, and which ones are methods (in this case, formula).\n",
    "\n",
    "Note there are two other \"dunders\": __doc__ and __init__.\n",
    "\n",
    "'''\n",
    "dir(y)"
   ]
  },
  {
   "cell_type": "code",
   "execution_count": 12,
   "metadata": {},
   "outputs": [
    {
     "name": "stdout",
     "output_type": "stream",
     "text": [
      "The docstring for the class: \n",
      "    (A class definition should have a docstring, too.)\n",
      "    This class calculates the height of a vertical projectile.\n",
      "    \n"
     ]
    }
   ],
   "source": [
    "print('The docstring for the class:', y.__doc__)"
   ]
  },
  {
   "cell_type": "code",
   "execution_count": 13,
   "metadata": {},
   "outputs": [
    {
     "name": "stdout",
     "output_type": "stream",
     "text": [
      "200.0 1.635\n"
     ]
    }
   ],
   "source": [
    "y.v0 = 200.\n",
    "y.g /= 6\n",
    "print(y.v0, y.g)"
   ]
  },
  {
   "cell_type": "code",
   "execution_count": 14,
   "metadata": {},
   "outputs": [
    {
     "name": "stdout",
     "output_type": "stream",
     "text": [
      "10.0 9.81\n"
     ]
    }
   ],
   "source": [
    "'''\n",
    "__init__() is always implicitly excuted at the time of the instantiation.\n",
    "\n",
    "But you can also explicitly invoke it at any time.\n",
    "\n",
    "'''\n",
    "y.__init__()\n",
    "print(y.v0, y.g)"
   ]
  },
  {
   "cell_type": "code",
   "execution_count": 15,
   "metadata": {},
   "outputs": [
    {
     "data": {
      "text/plain": [
       "0.3999999999999986"
      ]
     },
     "execution_count": 15,
     "metadata": {},
     "output_type": "execute_result"
    }
   ],
   "source": [
    "'''What about a function?'''\n",
    "def Z(v0, t, g = 9.8):\n",
    "    '''A function that computes the height of a vertical projectile.'''\n",
    "    return v0*t - 0.5*g*t**2\n",
    "Z(10, 2)"
   ]
  },
  {
   "cell_type": "code",
   "execution_count": 16,
   "metadata": {},
   "outputs": [
    {
     "data": {
      "text/plain": [
       "['__annotations__',\n",
       " '__call__',\n",
       " '__class__',\n",
       " '__closure__',\n",
       " '__code__',\n",
       " '__defaults__',\n",
       " '__delattr__',\n",
       " '__dict__',\n",
       " '__dir__',\n",
       " '__doc__',\n",
       " '__eq__',\n",
       " '__format__',\n",
       " '__ge__',\n",
       " '__get__',\n",
       " '__getattribute__',\n",
       " '__globals__',\n",
       " '__gt__',\n",
       " '__hash__',\n",
       " '__init__',\n",
       " '__init_subclass__',\n",
       " '__kwdefaults__',\n",
       " '__le__',\n",
       " '__lt__',\n",
       " '__module__',\n",
       " '__name__',\n",
       " '__ne__',\n",
       " '__new__',\n",
       " '__qualname__',\n",
       " '__reduce__',\n",
       " '__reduce_ex__',\n",
       " '__repr__',\n",
       " '__setattr__',\n",
       " '__sizeof__',\n",
       " '__str__',\n",
       " '__subclasshook__']"
      ]
     },
     "execution_count": 16,
     "metadata": {},
     "output_type": "execute_result"
    }
   ],
   "source": [
    "'''\n",
    "Underneath a function is implemented as a class object\n",
    "as is everything else in python -- everything in python is an object\n",
    "-- that is, everything is an instance of some class.\n",
    "\n",
    "But there are not custom methods and attributes\n",
    "'''\n",
    "dir(Z)"
   ]
  },
  {
   "cell_type": "code",
   "execution_count": 17,
   "metadata": {},
   "outputs": [
    {
     "data": {
      "text/plain": [
       "'A function that computes the height of a vertical projectile.'"
      ]
     },
     "execution_count": 17,
     "metadata": {},
     "output_type": "execute_result"
    }
   ],
   "source": [
    "Z.__doc__"
   ]
  },
  {
   "cell_type": "code",
   "execution_count": 19,
   "metadata": {},
   "outputs": [
    {
     "data": {
      "text/plain": [
       "{}"
      ]
     },
     "execution_count": 19,
     "metadata": {},
     "output_type": "execute_result"
    }
   ],
   "source": [
    "'''\n",
    ".__dict__ only lists custom attributes (the ones you have defined)\n",
    "\n",
    "'''\n",
    "Z.__dict__"
   ]
  },
  {
   "cell_type": "code",
   "execution_count": 20,
   "metadata": {},
   "outputs": [
    {
     "data": {
      "text/plain": [
       "{'g': 9.81, 'v0': 10.0}"
      ]
     },
     "execution_count": 20,
     "metadata": {},
     "output_type": "execute_result"
    }
   ],
   "source": [
    "y.__dict__"
   ]
  },
  {
   "cell_type": "markdown",
   "metadata": {},
   "source": [
    "## Short breakout: add a method that computes velocity"
   ]
  },
  {
   "cell_type": "code",
   "execution_count": 21,
   "metadata": {},
   "outputs": [
    {
     "name": "stdout",
     "output_type": "stream",
     "text": [
      "-39.050000000000004\n"
     ]
    }
   ],
   "source": [
    "class Y:\n",
    "    '''\n",
    "    (A class definition should have a docstring, too.)\n",
    "    This class calculates the height of a vertical projectile.\n",
    "    '''\n",
    "    def __init__(self, g = 9.81, v0 = 10.):\n",
    "        self.g = g    \n",
    "        self.v0 = v0\n",
    "            \n",
    "    def value(self, t):\n",
    "        return self.v0*t - 0.5*self.g*t**2\n",
    "    def formula(self):\n",
    "        return 'v0*t - 0.5*g*t**2; parameters: v0 = {:g}, g = {:g} (constant).'.format(self.v0, self.g)\n",
    "    def velocity(self, t):\n",
    "        return self.v0 - self.g * t\n",
    "y = Y() \n",
    "print(y.velocity(5))"
   ]
  },
  {
   "cell_type": "markdown",
   "metadata": {},
   "source": [
    "## Breakout Exercise:\n",
    "\n",
    "### Write a class BankAccount, that has the following attributes:\n",
    "\n",
    "- ### name\n",
    "- ### account number\n",
    "- ### balance\n",
    "\n",
    "### All three have to be specified at the time of instantiation \n",
    "\n",
    "### The class should have three methods:\n",
    "\n",
    "- ### deposit() -- it will take the monetary amount as argument and add it to the balance.\n",
    "- ### withdraw() -- it will subtract a specified amount of money from balance.\n",
    "- ### dump() -- it will print the up-to-date account information: the name of the account holder, the account number, and the balance at this time.\n",
    "\n",
    "### Create an account for Guido van Rossum; call it GVR."
   ]
  },
  {
   "cell_type": "code",
   "execution_count": null,
   "metadata": {
    "collapsed": true
   },
   "outputs": [],
   "source": []
  },
  {
   "cell_type": "code",
   "execution_count": 3,
   "metadata": {},
   "outputs": [
    {
     "ename": "NameError",
     "evalue": "name 'BankAccount' is not defined",
     "output_type": "error",
     "traceback": [
      "\u001b[0;31m---------------------------------------------------------------------------\u001b[0m",
      "\u001b[0;31mNameError\u001b[0m                                 Traceback (most recent call last)",
      "\u001b[0;32m<ipython-input-3-184e4edacdad>\u001b[0m in \u001b[0;36m<module>\u001b[0;34m()\u001b[0m\n\u001b[1;32m     11\u001b[0m '''\n\u001b[1;32m     12\u001b[0m \u001b[0;34m\u001b[0m\u001b[0m\n\u001b[0;32m---> 13\u001b[0;31m \u001b[0mFPZ\u001b[0m \u001b[0;34m=\u001b[0m \u001b[0mBankAccount\u001b[0m\u001b[0;34m(\u001b[0m\u001b[0;34m'Fernando Perez'\u001b[0m\u001b[0;34m,\u001b[0m \u001b[0;34m'11112222'\u001b[0m\u001b[0;34m,\u001b[0m \u001b[0;36m100000\u001b[0m\u001b[0;34m)\u001b[0m\u001b[0;34m\u001b[0m\u001b[0m\n\u001b[0m\u001b[1;32m     14\u001b[0m \u001b[0mGVR\u001b[0m \u001b[0;34m=\u001b[0m \u001b[0mBankAccount\u001b[0m\u001b[0;34m(\u001b[0m\u001b[0;34m'Guido van Rossum'\u001b[0m\u001b[0;34m,\u001b[0m \u001b[0;34m'22223333'\u001b[0m\u001b[0;34m,\u001b[0m \u001b[0;36m200000\u001b[0m\u001b[0;34m)\u001b[0m\u001b[0;34m\u001b[0m\u001b[0m\n\u001b[1;32m     15\u001b[0m \u001b[0;34m\u001b[0m\u001b[0m\n",
      "\u001b[0;31mNameError\u001b[0m: name 'BankAccount' is not defined"
     ]
    }
   ],
   "source": [
    "'''\n",
    "Create two accounts, one for Fernando Perez; call is FPZ. \n",
    "\n",
    "and one for Guido van Rossum; call it GVR.  \n",
    "\n",
    "Make sure each account has at least $1000.\n",
    "\n",
    "Then let FPZ lend $500 to GVR \n",
    "(from one bank account to the other through venmo, say)\n",
    "\n",
    "'''\n",
    "\n",
    "FPZ = BankAccount('Fernando Perez', '11112222', 100000)\n",
    "GVR = BankAccount('Guido van Rossum', '22223333', 200000)\n",
    "\n",
    "\n",
    "borrow_amt = 500\n",
    "FPZ.withdraw(borrow_amt)\n",
    "GVR.deposit(borrow_amt)\n",
    "\n",
    "print(\"Fernando Perez's balance:\", FPZ.balance)\n",
    "print(GVR.dump())\n",
    "\n"
   ]
  },
  {
   "cell_type": "markdown",
   "metadata": {},
   "source": [
    "## From this example, I hope you can see the utility of defining classes: you now can apply the same structure (the attributes \"data\" and the methods) to many people. "
   ]
  },
  {
   "cell_type": "code",
   "execution_count": 2,
   "metadata": {},
   "outputs": [
    {
     "ename": "NameError",
     "evalue": "name 'FPZ' is not defined",
     "output_type": "error",
     "traceback": [
      "\u001b[0;31m---------------------------------------------------------------------------\u001b[0m",
      "\u001b[0;31mNameError\u001b[0m                                 Traceback (most recent call last)",
      "\u001b[0;32m<ipython-input-2-bde62f6b7767>\u001b[0m in \u001b[0;36m<module>\u001b[0;34m()\u001b[0m\n\u001b[1;32m      5\u001b[0m '''\n\u001b[1;32m      6\u001b[0m \u001b[0;34m\u001b[0m\u001b[0m\n\u001b[0;32m----> 7\u001b[0;31m \u001b[0mFPZ\u001b[0m\u001b[0;34m.\u001b[0m\u001b[0m__init__\u001b[0m\u001b[0;34m(\u001b[0m\u001b[0;34m'Bugs Bunny'\u001b[0m\u001b[0;34m,\u001b[0m \u001b[0;34m'123'\u001b[0m\u001b[0;34m,\u001b[0m \u001b[0;36m200\u001b[0m\u001b[0;34m)\u001b[0m\u001b[0;34m\u001b[0m\u001b[0m\n\u001b[0m\u001b[1;32m      8\u001b[0m \u001b[0mFPZ\u001b[0m\u001b[0;34m.\u001b[0m\u001b[0mname\u001b[0m\u001b[0;34m\u001b[0m\u001b[0m\n",
      "\u001b[0;31mNameError\u001b[0m: name 'FPZ' is not defined"
     ]
    }
   ],
   "source": [
    "'''\n",
    "if you want to change the identity of a1, \n",
    "you can certainly do a1 = AmazonAccount('New Name', 'New Number', new_initial_points)\n",
    "But you can also do this:\n",
    "'''\n",
    "\n",
    "FPZ.__init__('Bugs Bunny', '123', 200)\n",
    "FPZ.name"
   ]
  },
  {
   "cell_type": "markdown",
   "metadata": {},
   "source": [
    "## Breakout Problem: \n",
    "\n",
    "### Create a class Turtle that \n",
    "\n",
    "- ### has attributes: name and weight\n",
    "- ### when an instance of this class is created, immediately announce to the world its creation by printing a statement in a sensible way\n",
    "- ### has methods: \n",
    "\n",
    "\n",
    "     i) eat -- you can specify the amount that will be added to its weight.\n",
    "\n",
    "\n",
    "    ii) hibernate -- an object that is an instance of this class will lose 10% of its weight every time this method is called."
   ]
  },
  {
   "cell_type": "code",
   "execution_count": 5,
   "metadata": {
    "collapsed": true
   },
   "outputs": [],
   "source": [
    "class Turtle:\n",
    "    \n",
    "    def __init__(self, name, weight):\n",
    "        self.name = name\n",
    "        self.weight = weight\n",
    "        print(\"Turtle is created\")\n",
    "    \n",
    "    def eat(self, w):\n",
    "        self.weight += w\n",
    "        \n",
    "    def libernate(self):\n",
    "        self.weight *= 0.9"
   ]
  },
  {
   "cell_type": "code",
   "execution_count": 6,
   "metadata": {},
   "outputs": [
    {
     "data": {
      "text/plain": [
       "True"
      ]
     },
     "execution_count": 6,
     "metadata": {},
     "output_type": "execute_result"
    }
   ],
   "source": [
    "isinstance(2, int)"
   ]
  },
  {
   "cell_type": "code",
   "execution_count": 7,
   "metadata": {},
   "outputs": [
    {
     "name": "stdout",
     "output_type": "stream",
     "text": [
      "Turtle is created\n"
     ]
    }
   ],
   "source": [
    "'''\n",
    "Can delete an existing instance of a class:\n",
    "'''\n",
    "if isinstance(t, Turtle):\n",
    "    del t\n",
    "t = Turtle('Crush', 150)  \n",
    "\n",
    "# From Finding Nemo, but actually sea turtles generally don't hibernate.\n",
    "# Oh well!"
   ]
  },
  {
   "cell_type": "code",
   "execution_count": 8,
   "metadata": {},
   "outputs": [
    {
     "data": {
      "text/plain": [
       "155"
      ]
     },
     "execution_count": 8,
     "metadata": {},
     "output_type": "execute_result"
    }
   ],
   "source": [
    "t.eat(5)\n",
    "t.weight"
   ]
  },
  {
   "cell_type": "code",
   "execution_count": 9,
   "metadata": {},
   "outputs": [
    {
     "ename": "AttributeError",
     "evalue": "'Turtle' object has no attribute 'hibernate'",
     "output_type": "error",
     "traceback": [
      "\u001b[0;31m---------------------------------------------------------------------------\u001b[0m",
      "\u001b[0;31mAttributeError\u001b[0m                            Traceback (most recent call last)",
      "\u001b[0;32m<ipython-input-9-e9b489826b8d>\u001b[0m in \u001b[0;36m<module>\u001b[0;34m()\u001b[0m\n\u001b[1;32m      1\u001b[0m \u001b[0;31m# can use tab completion\u001b[0m\u001b[0;34m\u001b[0m\u001b[0;34m\u001b[0m\u001b[0m\n\u001b[0;32m----> 2\u001b[0;31m \u001b[0mt\u001b[0m\u001b[0;34m.\u001b[0m\u001b[0mhibernate\u001b[0m\u001b[0;34m(\u001b[0m\u001b[0;34m)\u001b[0m\u001b[0;34m\u001b[0m\u001b[0m\n\u001b[0m\u001b[1;32m      3\u001b[0m \u001b[0mt\u001b[0m\u001b[0;34m.\u001b[0m\u001b[0mweight\u001b[0m\u001b[0;34m\u001b[0m\u001b[0m\n",
      "\u001b[0;31mAttributeError\u001b[0m: 'Turtle' object has no attribute 'hibernate'"
     ]
    }
   ],
   "source": [
    "# can use tab completion\n",
    "t.hibernate()\n",
    "t.weight"
   ]
  },
  {
   "cell_type": "code",
   "execution_count": null,
   "metadata": {
    "collapsed": true
   },
   "outputs": [],
   "source": [
    "isinstance(1, int)"
   ]
  },
  {
   "cell_type": "markdown",
   "metadata": {},
   "source": [
    "## Special Methods\n",
    "\n",
    "- ### \\_\\_init\\_\\_ is called a special method.\n",
    "\n",
    "- ### All methods that start and end with \\_\\_ are special methods.\n",
    "\n",
    "- ### Their invocation is usually implict\n",
    "\n",
    "   Here's another example of a special: the method \\_\\_call\\_\\_"
   ]
  },
  {
   "cell_type": "code",
   "execution_count": 10,
   "metadata": {},
   "outputs": [
    {
     "name": "stdout",
     "output_type": "stream",
     "text": [
      "h(t = 2; v0 = 10) = 0.38\n",
      "False\n"
     ]
    }
   ],
   "source": [
    "class Y:\n",
    "    def __init__(self, v0, g = 9.81):   \n",
    "        self.v0 = v0     \n",
    "        self.g = g    \n",
    "        \n",
    "    def value(self, t):\n",
    "        v0, g = self.v0, self.g   # if you want...\n",
    "        return v0*t - 0.5*g*t**2\n",
    "\n",
    "    def formula(self):\n",
    "        return 'h = v0*t - 0.5*g*t**2; parameters: v0 = {:g}, g = {:g} (constant).'.format(self.v0, self.g)\n",
    "\n",
    "\n",
    "y = Y(10.)\n",
    "t = 2.\n",
    "h = y.value(t)\n",
    "print('h(t = {:g}; v0 = {:g}) = {:g}'.format(t, y.v0, h))\n",
    "print(callable(y))\n"
   ]
  },
  {
   "cell_type": "code",
   "execution_count": 11,
   "metadata": {},
   "outputs": [
    {
     "name": "stdout",
     "output_type": "stream",
     "text": [
      "h(t = 2; v0 = 10) = 0.38\n",
      "True\n"
     ]
    }
   ],
   "source": [
    "class Y:\n",
    "    def __init__(self, v0, g = 9.81):   \n",
    "        self.v0 = v0     \n",
    "        self.g = g    \n",
    "        \n",
    "    def value(self, t):\n",
    "        v0, g = self.v0, self.g   # if you want...\n",
    "        return v0*t - 0.5*g*t**2\n",
    "\n",
    "    def __call__(self, t):\n",
    "        return self.v0*t - 0.5*self.g*t**2\n",
    "\n",
    "    def formula(self):\n",
    "        return 'h = v0*t - 0.5*g*t**2; parameters: v0 = {:g}, g = {:g} (constant).'.format(self.v0, self.g)\n",
    "\n",
    "y = Y(10)\n",
    "t = 2.\n",
    "h = y(t)\n",
    "print('h(t = {:g}; v0 = {:g}) = {:g}'.format(t, y.v0, h))\n",
    "print(callable(y))"
   ]
  },
  {
   "cell_type": "code",
   "execution_count": 12,
   "metadata": {},
   "outputs": [
    {
     "name": "stdout",
     "output_type": "stream",
     "text": [
      "0.379999999999999\n",
      "0.379999999999999\n"
     ]
    }
   ],
   "source": [
    "'''\n",
    "When you do h = y(t), you are implicitly invoking the method __call__;\n",
    "i.e., it's the same as h = y.__call__(t):\n",
    "'''\n",
    "\n",
    "y = Y(10)\n",
    "t = 2.\n",
    "h = y(t)\n",
    "print(h)\n",
    "h2 = y.__call__(t)\n",
    "print(h2)"
   ]
  },
  {
   "cell_type": "markdown",
   "metadata": {},
   "source": [
    "### The difference between a regular method and .\\_\\_call\\_\\_() is that .value() is *not* a special method and has to be called explicitly whereas .\\_\\_call\\_\\_() is a special method and can be invoked implicitly.\n",
    "\n",
    "### This implicity makes the code more elegant, and very importantly, more readable."
   ]
  },
  {
   "cell_type": "code",
   "execution_count": 13,
   "metadata": {},
   "outputs": [
    {
     "name": "stdout",
     "output_type": "stream",
     "text": [
      "h(t = 2; v0 = 10) = 0.38\n",
      "9.81\n",
      "True\n"
     ]
    }
   ],
   "source": [
    "'''Using functions and classes together'''\n",
    "\n",
    "def vert_dist(g, v0, t):\n",
    "    return v0*t - 0.5*g*t**2\n",
    "\n",
    "class Y:\n",
    "    def __init__(self, v0, g = 9.81):   # The \"Constructor\"\n",
    "        self.v0 = v0     # a variable parameter: can be changed programmatically.\n",
    "        self.g = g    \n",
    "\n",
    "    def value(self, t):\n",
    "        v0, g = self.v0, self.g   # if you want...\n",
    "        return vert_dist(g, v0, t)\n",
    "\n",
    "    def __call__(self, t):\n",
    "        v0, g = self.v0, self.g   \n",
    "        return vert_dist(g, v0, t)\n",
    "\n",
    "    def formula(self):\n",
    "        return 'h = v0*t - 0.5*g*t**2; parameters: v0 = {:g}, g = {:g} (constant).'.format(self.v0, self.g)\n",
    "\n",
    "y = Y(10)\n",
    "t = 2.\n",
    "h = y(t)\n",
    "print('h(t = {:g}; v0 = {:g}) = {:g}'.format(t, y.v0, h))\n",
    "print(y.g)\n",
    "print(callable(y))"
   ]
  },
  {
   "cell_type": "markdown",
   "metadata": {},
   "source": [
    "## One way to think of the above cell considered as a python program:\n",
    "\n",
    "### 1. At the heart of the program (or more accurately, the \"brain\" of the program) is the function vert_dist()\n",
    "\n",
    "### 2. The class Y is a \"wrapper\" around that function.  The idea of a wrapper is very important in python.\n",
    "It provides \"bells and whistles\" to an otherwise barebone function:\n",
    "\n",
    "### a) It provides nice peripherals/introspection to the barebone function, e.g., one can do\n",
    "\n",
    "\\>\\>\\> y.formula\n",
    "\n",
    "### b) It provides different ways of calling the function and making it more versatile.  E.g., as written vert_dist() doesn't work with diff().  But using the class Y, this can be done easily:"
   ]
  },
  {
   "cell_type": "code",
   "execution_count": null,
   "metadata": {
    "collapsed": true
   },
   "outputs": [],
   "source": [
    "diff = lambda f, x, h = 1e-10:(f(x+h) - f(x-h))/(2*h)\n",
    "\n",
    "diff(y.value, 0.1)"
   ]
  },
  {
   "cell_type": "code",
   "execution_count": null,
   "metadata": {
    "collapsed": true
   },
   "outputs": [],
   "source": [
    "#Since we defined the method __call__, it can be done with better visual:\n",
    "diff = lambda f, x, h = 1e-10:(f(x+h) - f(x-h))/(2*h)\n",
    "\n",
    "diff(y, 0.1)"
   ]
  },
  {
   "cell_type": "code",
   "execution_count": null,
   "metadata": {
    "collapsed": true
   },
   "outputs": [],
   "source": [
    "# To do this with a barebone function, you need to define it this way:\n",
    "def vert_dist_rigid(t):\n",
    "    v0 = 10.\n",
    "    g = 9.81\n",
    "    return v0*t - 0.5*g*t**2\n",
    "diff(vert_dist_rigid, 0.1)\n",
    "# But then you cannot change v0 and g programmatically; \n",
    "# you have to do it \"by hand\".  \n",
    "# -- not elegant, nor convenient!"
   ]
  },
  {
   "cell_type": "code",
   "execution_count": null,
   "metadata": {
    "collapsed": true
   },
   "outputs": [],
   "source": [
    "''' \n",
    "One more special method: __str__\n",
    "If __str__ is not defined\n",
    ">>> print(y)\n",
    "gives \n",
    "\n",
    "<__main__.Y instance at 0x4fbee68>\n",
    "\n",
    "If it is, whatever in the body of the method will be printed\n",
    "'''\n",
    "\n",
    "def vert_dist(g, v0, t):\n",
    "    return v0*t - 0.5*g*t**2\n",
    "\n",
    "class Y:\n",
    "    def __init__(self, v0, g = 9.81):   \n",
    "        self.v0 = v0    \n",
    "        self.g = g    \n",
    "\n",
    "    def __call__(self, t):\n",
    "        v0, g = self.v0, self.g   ### if you want...\n",
    "        return vert_dist(g, v0, t)\n",
    "\n",
    "    def __str__(self):\n",
    "        return 'h = v0*t - 0.5*g*t**2; parameters: v0 = {:g}, g = {:g} (constant).'.format(self.v0, self.g)\n",
    "        \n",
    "\n",
    "\n",
    "y = Y(10)\n",
    "t = 2.\n",
    "print(y)\n",
    "### this is the same as\n",
    "print(y.__str__())\n"
   ]
  },
  {
   "cell_type": "markdown",
   "metadata": {},
   "source": [
    "## Connection with string object"
   ]
  },
  {
   "cell_type": "code",
   "execution_count": null,
   "metadata": {
    "collapsed": true
   },
   "outputs": [],
   "source": [
    "a = 'hello world'\n",
    "# your guess would be it should have a __str__ method,\n",
    "# just as you expected a function object would have the __call__ method\n",
    "dir(a)"
   ]
  },
  {
   "cell_type": "code",
   "execution_count": null,
   "metadata": {
    "collapsed": true
   },
   "outputs": [],
   "source": [
    "# e.g.: the method upper()\n",
    "b = a.upper()\n",
    "print(b)"
   ]
  },
  {
   "cell_type": "code",
   "execution_count": 14,
   "metadata": {},
   "outputs": [
    {
     "data": {
      "text/plain": [
       "'hello'"
      ]
     },
     "execution_count": 14,
     "metadata": {},
     "output_type": "execute_result"
    }
   ],
   "source": [
    "# What do you expect to get?\n",
    "'hello'.__str__()"
   ]
  },
  {
   "cell_type": "code",
   "execution_count": 15,
   "metadata": {},
   "outputs": [
    {
     "data": {
      "text/plain": [
       "['__abs__',\n",
       " '__add__',\n",
       " '__and__',\n",
       " '__bool__',\n",
       " '__ceil__',\n",
       " '__class__',\n",
       " '__delattr__',\n",
       " '__dir__',\n",
       " '__divmod__',\n",
       " '__doc__',\n",
       " '__eq__',\n",
       " '__float__',\n",
       " '__floor__',\n",
       " '__floordiv__',\n",
       " '__format__',\n",
       " '__ge__',\n",
       " '__getattribute__',\n",
       " '__getnewargs__',\n",
       " '__gt__',\n",
       " '__hash__',\n",
       " '__index__',\n",
       " '__init__',\n",
       " '__init_subclass__',\n",
       " '__int__',\n",
       " '__invert__',\n",
       " '__le__',\n",
       " '__lshift__',\n",
       " '__lt__',\n",
       " '__mod__',\n",
       " '__mul__',\n",
       " '__ne__',\n",
       " '__neg__',\n",
       " '__new__',\n",
       " '__or__',\n",
       " '__pos__',\n",
       " '__pow__',\n",
       " '__radd__',\n",
       " '__rand__',\n",
       " '__rdivmod__',\n",
       " '__reduce__',\n",
       " '__reduce_ex__',\n",
       " '__repr__',\n",
       " '__rfloordiv__',\n",
       " '__rlshift__',\n",
       " '__rmod__',\n",
       " '__rmul__',\n",
       " '__ror__',\n",
       " '__round__',\n",
       " '__rpow__',\n",
       " '__rrshift__',\n",
       " '__rshift__',\n",
       " '__rsub__',\n",
       " '__rtruediv__',\n",
       " '__rxor__',\n",
       " '__setattr__',\n",
       " '__sizeof__',\n",
       " '__str__',\n",
       " '__sub__',\n",
       " '__subclasshook__',\n",
       " '__truediv__',\n",
       " '__trunc__',\n",
       " '__xor__',\n",
       " 'bit_length',\n",
       " 'conjugate',\n",
       " 'denominator',\n",
       " 'from_bytes',\n",
       " 'imag',\n",
       " 'numerator',\n",
       " 'real',\n",
       " 'to_bytes']"
      ]
     },
     "execution_count": 15,
     "metadata": {},
     "output_type": "execute_result"
    }
   ],
   "source": [
    "b = 2\n",
    "dir(b)"
   ]
  },
  {
   "cell_type": "markdown",
   "metadata": {},
   "source": [
    "## What have we achieved with the class Y:\n",
    "\n",
    "### 1. Self-inspection\n",
    "### 2. Can be called just like a function\n",
    "### 3. But can also be treated as string!\n",
    "### 4. Can be used as argument for another funciton\n",
    "\n",
    "### A \"traditional\" function can only do \\#2 above."
   ]
  },
  {
   "cell_type": "markdown",
   "metadata": {},
   "source": [
    "## End of wk 4-2\n"
   ]
  },
  {
   "cell_type": "markdown",
   "metadata": {},
   "source": [
    "# Note there might material I can use from PhysPy-wk5-2"
   ]
  },
  {
   "cell_type": "code",
   "execution_count": 16,
   "metadata": {},
   "outputs": [
    {
     "ename": "NameError",
     "evalue": "name 'a' is not defined",
     "output_type": "error",
     "traceback": [
      "\u001b[0;31m---------------------------------------------------------------------------\u001b[0m",
      "\u001b[0;31mNameError\u001b[0m                                 Traceback (most recent call last)",
      "\u001b[0;32m<ipython-input-16-70d4ed478067>\u001b[0m in \u001b[0;36m<module>\u001b[0;34m()\u001b[0m\n\u001b[0;32m----> 1\u001b[0;31m \u001b[0ma\u001b[0m\u001b[0;34m.\u001b[0m\u001b[0m__doc__\u001b[0m\u001b[0;34m\u001b[0m\u001b[0m\n\u001b[0m",
      "\u001b[0;31mNameError\u001b[0m: name 'a' is not defined"
     ]
    }
   ],
   "source": [
    "a.__doc__"
   ]
  },
  {
   "cell_type": "code",
   "execution_count": null,
   "metadata": {
    "collapsed": true
   },
   "outputs": [],
   "source": []
  },
  {
   "cell_type": "code",
   "execution_count": null,
   "metadata": {
    "collapsed": true
   },
   "outputs": [],
   "source": [
    "# In other words, when you do \n",
    "a1 = AmazonAccount('Bugs Bunner', '123', 200)\n",
    "# you are implicitly calling the method __init__."
   ]
  },
  {
   "cell_type": "markdown",
   "metadata": {},
   "source": [
    "Note: Seemingly no argument is supplied to __str__.  But Python looks into __str__ and sees self as the argument, and it then grabs y, which is in front of the . so everything is fine, just as in __call__ above.\n",
    "\n",
    "So when you use print y, two things are implicit:\n",
    "1. You are implicitly invoking the __str__ method\n",
    "2. As you implicitly involke the __str__ method, you also implicitly supply the argument for self: y.\n",
    "(You may say: when you do \n",
    "\n",
    "    print(y)\n",
    "\n",
    "the y is explicitly there.  Why do I say it's passed as an argument implicitly?\n",
    "\n",
    "I say: because\n",
    "\n",
    "    print(y)\n",
    "\n",
    "is the same as \n",
    "\n",
    "    print(y.__str__())\n",
    "\n",
    "and since the () is empty, the argument for self has been supplied implicitly."
   ]
  },
  {
   "cell_type": "code",
   "execution_count": null,
   "metadata": {
    "collapsed": true
   },
   "outputs": [],
   "source": [
    "# Now, another class definition.\n",
    "class AmazonAccount:\n",
    "    def __init__(self, name, account_number, initial_points):\n",
    "        self.name = name\n",
    "        self.no = account_number\n",
    "        self.points = initial_points  \n",
    "    \n",
    "    def purchase(self, pts):\n",
    "        self.points += pts\n",
    "    \n",
    "    def redeem(self, pts):\n",
    "        self.points -= pts\n",
    "        \n",
    "    def dump(self):\n",
    "        s = '{:s} {:s}, balance: {:s}'.format(self.name, self.no, self.points)\n",
    "        print(s)"
   ]
  },
  {
   "cell_type": "raw",
   "metadata": {},
   "source": [
    "Note: there is a strong parallel (and subtle differences) between module.function and instance.method.  (I don't know what the differences are.  I think Primer mentioned that there are differences at the beginning of Ch 7, but now I can't find it.)\n",
    "\n",
    "The parallel is quite strong.  See the next example:"
   ]
  },
  {
   "cell_type": "code",
   "execution_count": null,
   "metadata": {
    "collapsed": true
   },
   "outputs": [],
   "source": [
    "#What about using kwargs?\n",
    "def vert_dist_rigid2(t, v0 = 5., g = 9.81):\n",
    "    return v0*t - 0.5*g*t**2\n",
    "\n",
    "### But you still can't change v0 and g programmatically if you want to apply diff to vert_dist_rigid2:\n",
    "diff(vert_dist_rigid2, 0.1)\n",
    "### because diff only takes three variable: f, x, and h!"
   ]
  },
  {
   "cell_type": "code",
   "execution_count": null,
   "metadata": {
    "collapsed": true
   },
   "outputs": [],
   "source": []
  },
  {
   "cell_type": "code",
   "execution_count": null,
   "metadata": {
    "collapsed": true
   },
   "outputs": [],
   "source": [
    "vel = lambda f, x, h = 1e-10:(f(x+h) - f(x-h))/(2*h)\n",
    "\n",
    "v = vel(y.value, 0.1)\n",
    "print 'velocity', v"
   ]
  },
  {
   "cell_type": "raw",
   "metadata": {},
   "source": [
    "#########################################"
   ]
  },
  {
   "cell_type": "code",
   "execution_count": null,
   "metadata": {
    "collapsed": true
   },
   "outputs": [],
   "source": [
    "### Teach them how to use self.something is not None...  (sectoin 7.2.1, except try use a different example)"
   ]
  },
  {
   "cell_type": "raw",
   "metadata": {},
   "source": [
    "#########################################"
   ]
  },
  {
   "cell_type": "code",
   "execution_count": null,
   "metadata": {
    "collapsed": true
   },
   "outputs": [],
   "source": [
    "import urllib\n",
    "url = 'http://weather.yahoo.com/united-states/california/san-francisco-2487956/'\n",
    "infile = urllib.urlopen(url)      \n",
    "print 'type of infile:', type(infile)   \n",
    "lines = infile.readlines()   "
   ]
  },
  {
   "cell_type": "code",
   "execution_count": null,
   "metadata": {
    "collapsed": true
   },
   "outputs": [],
   "source": [
    "### OK, there is an easier -- but the preceding was for your edification.\n",
    "import urllib\n",
    "url = 'http://weather.yahoo.com/united-states/california/san-francisco-2487956/'\n",
    "infile = urllib.urlopen(url)      \n",
    "print 'type of infile:', type(infile)   \n",
    "lines = infile.readlines()   \n",
    "soup = BeautifulSoup(''.join(lines))\n",
    "s = soup.prettify()\n",
    "cur_temp = s.find(\"temp-f\", end_ind)\n",
    "print s[end_ind]"
   ]
  },
  {
   "cell_type": "code",
   "execution_count": null,
   "metadata": {
    "collapsed": true
   },
   "outputs": [],
   "source": [
    "#HOW TO sort a dictionary by value?"
   ]
  },
  {
   "cell_type": "raw",
   "metadata": {},
   "source": [
    "#######################"
   ]
  },
  {
   "cell_type": "raw",
   "metadata": {},
   "source": [
    "#######################"
   ]
  },
  {
   "cell_type": "code",
   "execution_count": null,
   "metadata": {
    "collapsed": true
   },
   "outputs": [],
   "source": [
    "#cleanlines = [e.encode('utf-8') for e in s.strip('[]').split(',')]"
   ]
  },
  {
   "cell_type": "code",
   "execution_count": null,
   "metadata": {
    "collapsed": true
   },
   "outputs": [],
   "source": [
    "import urllib\n",
    "url = 'http://weather.yahoo.com/united-states/california/san-francisco-2487956/'  \n",
    "infile = urllib.urlopen(url)  \n",
    "print type(infile)"
   ]
  },
  {
   "cell_type": "code",
   "execution_count": null,
   "metadata": {
    "collapsed": true
   },
   "outputs": [],
   "source": [
    "import urllib2\n",
    "import webbrowser\n",
    "opener = urllib2.build_opener()#\n",
    "#opener.addheaders = [('User-agent', 'Mozilla/5.0')]\n",
    "url = 'http://weather.yahoo.com/united-states/california/san-francisco-2487956/'\n",
    "infile = opener.open(url)\n",
    "page = infile.read()\n",
    "print page[:300]"
   ]
  },
  {
   "cell_type": "code",
   "execution_count": null,
   "metadata": {
    "collapsed": true
   },
   "outputs": [],
   "source": [
    "import urllib\n",
    "url = 'http://pdg.lbl.gov/'\n",
    "urllib.urlretrieve(url, filename = 'pdg.html')"
   ]
  },
  {
   "cell_type": "code",
   "execution_count": null,
   "metadata": {
    "collapsed": true
   },
   "outputs": [],
   "source": [
    "# Turn this into a HW: plot temp vs lattitude\n",
    "\n",
    "# There prob'ly is a better way to do this: web query\n",
    "# create a dictionary of city:[temp, lattitude]\n",
    "\n",
    "import urllib\n",
    "\n",
    "cities = {\n",
    "    'Sandefjord':\n",
    "    'http://weather.yahoo.com/forecast/NOXX0032_c.html',\n",
    "    'Oslo':\n",
    "    'http://weather.yahoo.com/forecast/NOXX0029_c.html',\n",
    "    'Gothenburg':\n",
    "    'http://weather.yahoo.com/forecast/SWXX0007_c.html',\n",
    "    'Copenhagen':\n",
    "    'http://weather.yahoo.com/forecast/DAXX0009_c.html',\n",
    "    }\n",
    "\n",
    "def get_data(url):\n",
    "    urllib.urlretrieve(url=url, filename='tmp_weather.html')\n",
    "\n",
    "    infile = open('tmp_weather.html')\n",
    "    lines = infile.readlines()\n",
    "    for i in range(len(lines)):\n",
    "        line = lines[i]  # short form\n",
    "        if 'Current conditions' in line:\n",
    "            weather = lines[i+1][4:-6]\n",
    "        if 'forecast-temperature' in line:\n",
    "            temperature = float(lines[i+1][4:].split('&')[0])\n",
    "            break  # everything is found, jump out of loop\n",
    "    infile.close()\n",
    "    return weather, temperature\n",
    "\n",
    "print get_data(cities['Oslo'])\n",
    "#for city in cities:\n",
    "#    weather, temperature = get_data(cities[city])\n",
    "#    print city, weather, temperature\n"
   ]
  },
  {
   "cell_type": "raw",
   "metadata": {},
   "source": [
    "pickle (http://docs.python.org/2/tutorial/inputoutput.html)"
   ]
  },
  {
   "cell_type": "code",
   "execution_count": null,
   "metadata": {
    "collapsed": true
   },
   "outputs": [],
   "source": [
    "table = [[3.1415, 2.718, 1.414, 1.732], [6.67, 6.63, 2.99, 1.60], [1.67, 9.11, 1.99 ,5.97]]\n",
    "import pickle\n",
    "with open('my_data_pickled.txt', 'w') as f:\n",
    "    pickle.dump(table, f)"
   ]
  },
  {
   "cell_type": "code",
   "execution_count": null,
   "metadata": {
    "collapsed": true
   },
   "outputs": [],
   "source": [
    "#Example of a polynomial\n",
    "coeffs = {-3:5.5, 0: 2.3, 2: 7.1, 5: 0.2}  ## key-value: power-coeff\n",
    "def polynom2(coeffs, x):\n",
    "    return sum([coeffs[pwr]*x**pwr for pwr in coeffs])\n",
    "print polynom(coeffs, 2.0)\n",
    "\n",
    "## a disadvantage:\n",
    "import numpy as np\n",
    "x = np.linspace(1., 2., 2)\n",
    "print x\n",
    "print polynom2(coeffs, x)"
   ]
  },
  {
   "cell_type": "code",
   "execution_count": null,
   "metadata": {
    "collapsed": true
   },
   "outputs": [],
   "source": [
    "with open('my_data_pickled.txt', 'r') as f:\n",
    "    x = pickle.load(f)\n",
    "print x"
   ]
  },
  {
   "cell_type": "code",
   "execution_count": null,
   "metadata": {
    "collapsed": true
   },
   "outputs": [],
   "source": [
    "with open('files/read_pairs1.dat', 'r') as f:\n",
    "    filestr = f.read()\n",
    "print filestr.split()"
   ]
  },
  {
   "cell_type": "raw",
   "metadata": {},
   "source": [
    "Add another Monty Python video\n",
    "\n",
    "http://www.youtube.com/watch?v=kQFKtI6gn9Y\n",
    "\n",
    "argument clinic (look for script and read through -- make sure there are no foul words too bad and that I understand everything.)"
   ]
  }
 ],
 "metadata": {
  "kernelspec": {
   "display_name": "Python 3",
   "language": "python",
   "name": "python3"
  },
  "language_info": {
   "codemirror_mode": {
    "name": "ipython",
    "version": 3
   },
   "file_extension": ".py",
   "mimetype": "text/x-python",
   "name": "python",
   "nbconvert_exporter": "python",
   "pygments_lexer": "ipython3",
   "version": "3.6.3"
  }
 },
 "nbformat": 4,
 "nbformat_minor": 1
}
