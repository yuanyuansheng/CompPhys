{
 "cells": [
  {
   "cell_type": "markdown",
   "metadata": {},
   "source": [
    "\n",
    "# Topics\n",
    "\n",
    "## 1. Class - Continued\n"
   ]
  },
  {
   "cell_type": "markdown",
   "metadata": {},
   "source": [
    "# Class"
   ]
  },
  {
   "cell_type": "code",
   "execution_count": 13,
   "metadata": {
    "collapsed": true
   },
   "outputs": [],
   "source": [
    "import numpy as np"
   ]
  },
  {
   "cell_type": "markdown",
   "metadata": {},
   "source": [
    "## String is a class of ojects that have various methods. "
   ]
  },
  {
   "cell_type": "code",
   "execution_count": null,
   "metadata": {
    "collapsed": true
   },
   "outputs": [],
   "source": [
    "# e.g.: the method upper()\n",
    "b = 'hello world'.upper()\n",
    "print(b)"
   ]
  },
  {
   "cell_type": "code",
   "execution_count": null,
   "metadata": {
    "collapsed": true
   },
   "outputs": [],
   "source": [
    "'''\n",
    "Another method: .split()\n",
    "\n",
    "'''\n",
    "strg = 'Hello world.  Hello San Francisco.'\n",
    "\n",
    "strg_split = strg.split('.')\n",
    "print(strg_split)\n",
    "\n",
    "# Try this\n",
    "strg_split = strg.split('o')\n",
    "print(strg_split)"
   ]
  },
  {
   "cell_type": "markdown",
   "metadata": {},
   "source": [
    "## Breakout Problem:\n",
    "\n",
    "## Make a class F that implements the function \n",
    "## $f(x; a, w) = e − axsin(wx)$\n",
    "\n",
    "## Write two main programs that do:\n",
    "\n",
    "  ### a) To practice changing attributes and to illustrate that an instance of this class can be used as a function and a string.  \n",
    "\n",
    "\n",
    "        from numpy import pi\n",
    "        f = F(a = 1.0, w = 0.1)\n",
    "        print(f(pi))\n",
    "        f.a = 2\n",
    "        print(f(pi))\n",
    "        print(f) \n",
    "        \n",
    "        # Use __str__ and one should get, in the present case: \n",
    "        e - a*x*sin(w*x); parameters: a = 2, w = 0.1.\n",
    "\n",
    "   ### b) To further illustrate that an instance of this class can be used as a function -- integrate it from x1 to x2 by using quad\n",
    "\n",
    "        from scipy.integrate import quad\n",
    "        f = F(a = 1.0, w = 0.1)\n",
    "        x1 = pi/3\n",
    "        x2 = 2*pi/3\n",
    "\n",
    "   ### It should print out the followig statement:\n",
    "\n",
    "        The integral of f(x; a, w) = e − ax sin(wx) between x = pi/3 and 2*pi/3 is (the result of the integral you get).\n",
    "\n",
    "### The formula f(x; a, w) = e − ax sin(wx) should be lifted from the \\_\\_str\\_\\_ method instead of being re-written.\n"
   ]
  },
  {
   "cell_type": "code",
   "execution_count": 11,
   "metadata": {},
   "outputs": [
    {
     "name": "stdout",
     "output_type": "stream",
     "text": [
      "2.579921828748761\n"
     ]
    }
   ],
   "source": [
    "import numpy\n",
    "from scipy.integrate import quad\n",
    "from numpy import e, sin\n",
    "import math\n",
    "class F:\n",
    "    def __init__(self, a, w):\n",
    "        self.a = a\n",
    "        self.w = w\n",
    "    \n",
    "    def __call__(self, x):\n",
    "        return numpy.e - self.a * x * numpy.sin(self.w * x)\n",
    "    def __str__(self):\n",
    "        return 'e - a*x*sin(w*x)'\n",
    "f = F(1.0, 0.1)\n",
    "i = quad(f, math.pi/3, 2*math.pi/3)[0]\n",
    "print(i)"
   ]
  },
  {
   "cell_type": "markdown",
   "metadata": {},
   "source": [
    "## Procedural/Functional vs. Object-Oriented Programming:\n",
    "\n",
    "## \"The focus of procedural programming is to break down a programming task into a collection of variables, data structures, and subroutines [i.e. functions in Python], whereas in object-oriented programming it is to break down a programming task into objects that expose behavior (methods) and data (members or attributes) using interfaces. The most important distinction is that while procedural programming uses procedures [functions in Python] to operate on data structures, object-oriented programming bundles the two together, so an \"object\", which is an instance of a class, operates on its \"own\" data structure.\"    (Wikipedia)"
   ]
  },
  {
   "cell_type": "code",
   "execution_count": null,
   "metadata": {
    "collapsed": true
   },
   "outputs": [],
   "source": []
  },
  {
   "cell_type": "code",
   "execution_count": 15,
   "metadata": {},
   "outputs": [
    {
     "name": "stdout",
     "output_type": "stream",
     "text": [
      "4.0\n",
      "17.3564510977\n"
     ]
    }
   ],
   "source": [
    "'''\n",
    "Procedural/Functional approach to a problem:\n",
    "''' \n",
    "def perimeter(polygon):\n",
    "    \"\"\"\n",
    "    Given a list of vector vertices (in proper order), \n",
    "    returns the perimeter for the associated polygon.\n",
    "    \"\"\"\n",
    "    total = 0\n",
    "    for i in range(len(polygon)):\n",
    "        vertex1 = polygon[i]\n",
    "        # a nice way to make sure the last point connects with the the 0th point:\n",
    "        # For a polygon with N corners, the Nth corner is the 0th corner\n",
    "        vertex2 = polygon[(i+1) % len(polygon)]       \n",
    "        \n",
    "        distance = np.sqrt((vertex2[0]-vertex1[0])**2 + \\\n",
    "                             (vertex2[1]-vertex1[1])**2)\n",
    "        total += distance\n",
    "    return total\n",
    "\n",
    "# Returns 4.0 -- this can implemented as a doctest\n",
    "print(perimeter([[0,0],[1,0],[1,1],[0,1]]))        \n",
    "\n",
    "print(perimeter([[0,-2],[1,1],[3,3],[5,1],[4,0],[4,-3]])) # should return 17.356451097651515\n",
    "\n"
   ]
  },
  {
   "cell_type": "markdown",
   "metadata": {},
   "source": [
    "## Breakout: Turn the above into a class Polygon"
   ]
  },
  {
   "cell_type": "code",
   "execution_count": null,
   "metadata": {
    "collapsed": true
   },
   "outputs": [],
   "source": []
  },
  {
   "cell_type": "markdown",
   "metadata": {},
   "source": [
    "## The concepts of classes and object-oriented programming first appeared in the Simula programming language in the 1960s. Simula was invented by the Norwegian computer scientists Ole-Johan Dahl and Kristen Nygaard, and the impact of the language is particularly evident in C++, Java, and C#, three of the most dominating programming languages in the world today. The invention of object-oriented programming was a remarkable achievement, and the professors Dahl and Nygaard recieved two very prestigious prizes: the von Neumann medal and the Turing prize (popularly known as the Nobel prize of computer science).\n"
   ]
  },
  {
   "cell_type": "markdown",
   "metadata": {},
   "source": [
    "## A little more about the \"self\" "
   ]
  },
  {
   "cell_type": "code",
   "execution_count": 17,
   "metadata": {
    "collapsed": true
   },
   "outputs": [],
   "source": [
    "class Line:\n",
    "    '''a class for straight lines, y = c0 + c1*x'''\n",
    "    import numpy as np\n",
    "    def __init__(self, c0, c1):\n",
    "        self.c0 = c0\n",
    "        self.c1 = c1\n",
    "    \n",
    "    def __call__(self, x):\n",
    "        return self.c0 + self.c1*x\n",
    "    \n",
    "    def table(self, xlo, xhi, n):\n",
    "        '''returns a table with n points for x in domain [xlo, xhi].'''\n",
    "        # initialize s to be an empty string.\n",
    "        s = ''\n",
    "        for x in np.linspace(xlo, xhi, n):\n",
    "            # Note the usage here: self(x).  \n",
    "            # This works because the special method __call__ is defined.\n",
    "            # This nicely eliminates the need to define a separate function\n",
    "            # in order to avoid redundant code.\n",
    "            y = self(x)        \n",
    "            s += '{:12g} {:12g}\\n'.format(x, y)\n",
    "        return s\n"
   ]
  },
  {
   "cell_type": "code",
   "execution_count": 18,
   "metadata": {},
   "outputs": [
    {
     "name": "stdout",
     "output_type": "stream",
     "text": [
      "Data for line 1:\n",
      "\n",
      "           1            7\n",
      "           2           10\n",
      "           3           13\n",
      "           4           16\n",
      "           5           19\n",
      "           6           22\n",
      "           7           25\n",
      "           8           28\n",
      "           9           31\n",
      "          10           34\n",
      "\n",
      "Data for line 2:\n",
      "\n",
      "           1          7.5\n",
      "           2         12.5\n",
      "           3         17.5\n",
      "           4         22.5\n",
      "           5         27.5\n",
      "           6         32.5\n",
      "           7         37.5\n",
      "           8         42.5\n",
      "           9         47.5\n",
      "          10         52.5\n",
      "\n"
     ]
    },
    {
     "data": {
      "image/png": "[encoded data removed]",
      "text/plain": [
       "<matplotlib.figure.Figure at 0x150fcea400>"
      ]
     },
     "metadata": {},
     "output_type": "display_data"
    }
   ],
   "source": [
    "%matplotlib inline\n",
    "'''Create two instances of the Class Line'''\n",
    "import matplotlib.pyplot as plt\n",
    "import numpy as np\n",
    "\n",
    "\n",
    "xlo, xhi = 1., 10.\n",
    "n = 10\n",
    "\n",
    "ln1 = Line(c0 = 4., c1 = 3.)\n",
    "t1 = ln1.table(xlo, xhi, n)\n",
    "\n",
    "ln2 = Line(c0 = 2.5, c1 = 5.)\n",
    "t2 = ln2.table(xlo, xhi, n)\n",
    "\n",
    "print('Data for line 1:\\n')\n",
    "print(t1)\n",
    "print('Data for line 2:\\n')\n",
    "print(t2)\n",
    "\n",
    "x = np.linspace(xlo, xhi, n)\n",
    "plt.plot (x, ln1(x), x, ln2(x))\n",
    "plt.show()\n"
   ]
  },
  {
   "cell_type": "markdown",
   "metadata": {},
   "source": [
    "## Building class upon class \n",
    "(just as you can call a function within another function)"
   ]
  },
  {
   "cell_type": "code",
   "execution_count": 21,
   "metadata": {
    "collapsed": true
   },
   "outputs": [],
   "source": [
    "'''\n",
    "You can take advantage the class Line, which is already defined,\n",
    "BY USING THE ALREADY DEFINED LINE CLASS AS THE ARGUMENT FOR THE NEW CLASS \n",
    "\n",
    "Note: the new class definition accepts an argument!\n",
    "'''\n",
    "class SomeNewClass(Line):\n",
    "    pass\n",
    "\n",
    "# If you include pass, SomeNewClass is now a class identical to Line."
   ]
  },
  {
   "cell_type": "code",
   "execution_count": 20,
   "metadata": {
    "collapsed": true
   },
   "outputs": [],
   "source": [
    "class Parabola(Line):\n",
    "    '''\n",
    "    creating the Parabola class by inheriting \n",
    "    the class Line and adding an extra term.\n",
    "    '''\n",
    "    # At this point, the class Parabola inherits all attributes & methods in the class Line.\n",
    "\n",
    "    # Now let's make the necessary changes:\n",
    "    def __init__(self, c0, c1, c2):\n",
    "        Line.__init__(self, c0, c1)  # since we're passing 3 attributes we need to \n",
    "                                     # make explicit which two are going to inherit \n",
    "                                     # the two attributes from Line.\n",
    "        # To verify inheritance:\n",
    "        print('Attributes & methods inherited from the class Line:', dir(self))\n",
    "   \n",
    "        # new attribute:\n",
    "        self.c2 = c2                 \n",
    "        # To verify addition:\n",
    "        print('Added c2 as attribute:', dir(self))\n",
    "        "
   ]
  },
  {
   "cell_type": "markdown",
   "metadata": {},
   "source": [
    "## Mini-breakout Exercise\n",
    "### Finish the above class definition by adding a __call__ method.\n",
    "### Remember the class Line has already been inherited in this class;\n",
    "### you should take advantage of that!"
   ]
  },
  {
   "cell_type": "code",
   "execution_count": null,
   "metadata": {
    "collapsed": true
   },
   "outputs": [],
   "source": []
  },
  {
   "cell_type": "code",
   "execution_count": 22,
   "metadata": {},
   "outputs": [
    {
     "name": "stdout",
     "output_type": "stream",
     "text": [
      "Attributes & methods inherited from the class Line: ['__call__', '__class__', '__delattr__', '__dict__', '__dir__', '__doc__', '__eq__', '__format__', '__ge__', '__getattribute__', '__gt__', '__hash__', '__init__', '__init_subclass__', '__le__', '__lt__', '__module__', '__ne__', '__new__', '__reduce__', '__reduce_ex__', '__repr__', '__setattr__', '__sizeof__', '__str__', '__subclasshook__', '__weakref__', 'c0', 'c1', 'np', 'table']\n",
      "Added c2 as attribute: ['__call__', '__class__', '__delattr__', '__dict__', '__dir__', '__doc__', '__eq__', '__format__', '__ge__', '__getattribute__', '__gt__', '__hash__', '__init__', '__init_subclass__', '__le__', '__lt__', '__module__', '__ne__', '__new__', '__reduce__', '__reduce_ex__', '__repr__', '__setattr__', '__sizeof__', '__str__', '__subclasshook__', '__weakref__', 'c0', 'c1', 'c2', 'np', 'table']\n",
      "Data for a parabola:\n",
      "\n",
      "           0            0\n",
      "    0.526316      1.31579\n",
      "     1.05263      2.63158\n",
      "     1.57895      3.94737\n",
      "     2.10526      5.26316\n",
      "     2.63158      6.57895\n",
      "     3.15789      7.89474\n",
      "     3.68421      9.21053\n",
      "     4.21053      10.5263\n",
      "     4.73684      11.8421\n",
      "     5.26316      13.1579\n",
      "     5.78947      14.4737\n",
      "     6.31579      15.7895\n",
      "     6.84211      17.1053\n",
      "     7.36842      18.4211\n",
      "     7.89474      19.7368\n",
      "     8.42105      21.0526\n",
      "     8.94737      22.3684\n",
      "     9.47368      23.6842\n",
      "          10           25\n",
      "\n"
     ]
    },
    {
     "data": {
      "image/png": "[encoded data removed]",
      "text/plain": [
       "<matplotlib.figure.Figure at 0x151820d240>"
      ]
     },
     "metadata": {},
     "output_type": "display_data"
    }
   ],
   "source": [
    "xlo, xhi = 0., 10.\n",
    "n = 20\n",
    "\n",
    "para = Parabola(c0 = 0., c1 = 2.5, c2 = 4.8)\n",
    "\n",
    "# note: we didn't define the attribute table for Parabola;\n",
    "# it's inherited from Line!\n",
    "t_para = para.table(xlo, xhi, n)\n",
    "print('Data for a parabola:\\n')\n",
    "print(t_para)\n",
    "\n",
    "x = np.linspace(xlo, xhi, n)\n",
    "plt.plot(x, para(x))\n",
    "plt.show()\n"
   ]
  },
  {
   "cell_type": "code",
   "execution_count": 23,
   "metadata": {},
   "outputs": [
    {
     "name": "stdout",
     "output_type": "stream",
     "text": [
      "Base created\n",
      "Base created\n"
     ]
    },
    {
     "data": {
      "text/plain": [
       "<__main__.ChildB at 0x15182484e0>"
      ]
     },
     "execution_count": 23,
     "metadata": {},
     "output_type": "execute_result"
    }
   ],
   "source": [
    "'''\n",
    "Can use the built-in function super()\n",
    "\n",
    "https://docs.python.org/3/library/functions.html#super\n",
    "\n",
    "It adds flexibilty and allows you to use more than one base class more\n",
    "easily.\n",
    "\n",
    "'''\n",
    "\n",
    "class Base():\n",
    "    def __init__(self, p):\n",
    "        print(\"Base created\")\n",
    "\n",
    "class ChildA(Base):\n",
    "    def __init__(self, p):\n",
    "        Base.__init__(self, p)\n",
    "\n",
    "class ChildB(Base):\n",
    "    def __init__(self, p):\n",
    "        super().__init__(p)\n",
    "\n",
    "p = 2\n",
    "ChildA(p) \n",
    "ChildB(p)"
   ]
  },
  {
   "cell_type": "markdown",
   "metadata": {},
   "source": [
    "## Mini-Breakout\n",
    "\n",
    "## Use\n",
    "\n",
    "        super()\n",
    "## to define the class\n",
    "\n",
    "        Parabolas\n",
    "        \n",
    "## It should do everything the class\n",
    "\n",
    "        Parabola\n",
    "        \n",
    "## does (see above)."
   ]
  },
  {
   "cell_type": "code",
   "execution_count": null,
   "metadata": {
    "collapsed": true
   },
   "outputs": [],
   "source": []
  },
  {
   "cell_type": "code",
   "execution_count": 24,
   "metadata": {},
   "outputs": [
    {
     "name": "stdout",
     "output_type": "stream",
     "text": [
      "['__call__', '__class__', '__delattr__', '__dict__', '__dir__', '__doc__', '__eq__', '__format__', '__ge__', '__getattribute__', '__gt__', '__hash__', '__init__', '__init_subclass__', '__le__', '__lt__', '__module__', '__ne__', '__new__', '__reduce__', '__reduce_ex__', '__repr__', '__setattr__', '__sizeof__', '__str__', '__subclasshook__', '__weakref__', 'c0', 'c1', 'c2', 'np', 'table']\n",
      "[ 0.  0.  0.  0.  0.  0.  0.  0.  0.  0.]\n"
     ]
    }
   ],
   "source": [
    "# note: we didn't include np in the class defintion of Parabolas\n",
    "print(dir(para))\n",
    "# since the the np namespace is now under Line, it's under Parabola, too.\n",
    "print(para.np.zeros(10))"
   ]
  },
  {
   "cell_type": "markdown",
   "metadata": {},
   "source": [
    "## Let's take a moment here and absorb the awesomeness of all this!"
   ]
  },
  {
   "cell_type": "markdown",
   "metadata": {},
   "source": [
    "## Line: Superclass\n",
    "## Parabola, Parabolas: Subclass"
   ]
  },
  {
   "cell_type": "markdown",
   "metadata": {},
   "source": [
    "## This allows you to much more easily take an existing numpy class and customize it!"
   ]
  },
  {
   "cell_type": "markdown",
   "metadata": {},
   "source": [
    "## End of Week 4-3"
   ]
  }
 ],
 "metadata": {
  "kernelspec": {
   "display_name": "Python 3",
   "language": "python",
   "name": "python3"
  },
  "language_info": {
   "codemirror_mode": {
    "name": "ipython",
    "version": 3
   },
   "file_extension": ".py",
   "mimetype": "text/x-python",
   "name": "python",
   "nbconvert_exporter": "python",
   "pygments_lexer": "ipython3",
   "version": "3.6.3"
  }
 },
 "nbformat": 4,
 "nbformat_minor": 1
}
