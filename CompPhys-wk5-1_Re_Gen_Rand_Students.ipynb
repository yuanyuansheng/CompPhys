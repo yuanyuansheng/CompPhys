{
 "cells": [
  {
   "cell_type": "markdown",
   "metadata": {},
   "source": [
    "# Topics (related to the midterm project):\n",
    "\n",
    "## 1. Regular Expression (regex, or sometimes RE)\n",
    "## 2. return vs. yield\n",
    "## 3. random.sample, numpy.random, and histogram plots "
   ]
  },
  {
   "cell_type": "markdown",
   "metadata": {},
   "source": [
    "## Regular expression\n",
    "\n",
    "\n",
    "### \"The limits of my language mean the limits of my world.\"  \n",
    "\n",
    "### \\- Ludwig Wittgenstein\n",
    "\n",
    "\n",
    "Resources:\n",
    "\n",
    "* *Effective Computation in Physics * Chapter 8\n",
    "\n",
    "* https://docs.python.org/3/library/re.html"
   ]
  },
  {
   "cell_type": "code",
   "execution_count": 1,
   "metadata": {
    "collapsed": true
   },
   "outputs": [],
   "source": [
    "#---------> new import\n",
    "import re"
   ]
  },
  {
   "cell_type": "raw",
   "metadata": {},
   "source": [
    "Expression   Matches\n",
    "\n",
    "uvwxyz       uvwxyz\n",
    "\n",
    "'.'          any character except a newline. \n",
    "\n",
    "'*'          0 or more repetitions of the preceding RE \n",
    "             (e.g., ab* will match ‘a’, ‘ab’, or ‘a’ followed by any number of ‘b's)\n",
    "+            1 or more repetitions of the preceding RE.  \n",
    "             (e.g., ab+ will match 'ab' or 'abb')\n",
    "'?'          0 or 1 repetitions of the preceding RE. ab? will match either ‘a’ or ‘ab’.\n",
    "\n",
    "\n",
    ".*           0 or more of any character, such as 'supercalifragilisticexpialidocious' or '42'\n",
    "\n",
    "\n",
    "\n",
    "\n",
    "[A-Z]        any character between A and Z\n",
    "[a-z]        any character between a and z\n",
    "[0-9]        any digit        \n",
    "[^]          not, e.g. [^0-9] means not a digit\n",
    "\\s           any white space characters (usually single space or tab)\n",
    "\\d           any digits (equivalent to [0-9])\n",
    "\n",
    "[u-z]        One of either u, v, w, x, y, or z"
   ]
  },
  {
   "cell_type": "markdown",
   "metadata": {},
   "source": [
    "### re.match(pattern, string, flags=0)\n",
    "\n",
    "\n",
    "### pattern:\tThis is the regular expression to be matched.\n",
    "\n",
    "### string:\tThis is the string, which would be searched to match the pattern at the beginning of string.\n",
    "\n",
    "### flags:\tYou can specify different flags, e.g., to do case insensitive search, use flags = re.I (for all flags:\n",
    "\n",
    "https://docs.python.org/3/howto/regex.html)\n",
    "\n",
    "\n",
    "### The match() function returns a match object on success, and\n",
    "\n",
    "        None \n",
    "        \n",
    "### on failure.  \n",
    "\n",
    "### Use group(num) or group() method of match object to access matched expression.\n",
    "\n",
    "\n",
    "### *Note: match() checks for a match only at the beginning of the string*"
   ]
  },
  {
   "cell_type": "code",
   "execution_count": 8,
   "metadata": {},
   "outputs": [
    {
     "name": "stdout",
     "output_type": "stream",
     "text": [
      "<_sre.SRE_Match object; span=(0, 3), match='200'>\n",
      "200\n"
     ]
    }
   ],
   "source": [
    "'''\n",
    "A match!\n",
    "'''\n",
    "# m = re.match(\"20\", '2001')\n",
    "m = re.match(\"20+\", '2001')\n",
    "\n",
    "print(m)\n",
    "print(m.group())"
   ]
  },
  {
   "cell_type": "code",
   "execution_count": 9,
   "metadata": {},
   "outputs": [
    {
     "name": "stdout",
     "output_type": "stream",
     "text": [
      "First with * (0 or more repetitions)\n",
      "<_sre.SRE_Match object; span=(0, 1), match='2'>\n",
      "2\n",
      "\n",
      "Now with + (1 or more repetitions)\n",
      "None\n"
     ]
    },
    {
     "ename": "AttributeError",
     "evalue": "'NoneType' object has no attribute 'group'",
     "output_type": "error",
     "traceback": [
      "\u001b[0;31m---------------------------------------------------------------------------\u001b[0m",
      "\u001b[0;31mAttributeError\u001b[0m                            Traceback (most recent call last)",
      "\u001b[0;32m<ipython-input-9-da223546f291>\u001b[0m in \u001b[0;36m<module>\u001b[0;34m()\u001b[0m\n\u001b[1;32m     11\u001b[0m \u001b[0mm\u001b[0m \u001b[0;34m=\u001b[0m \u001b[0mre\u001b[0m\u001b[0;34m.\u001b[0m\u001b[0mmatch\u001b[0m\u001b[0;34m(\u001b[0m\u001b[0;34m\"20+\"\u001b[0m\u001b[0;34m,\u001b[0m \u001b[0;34m'2'\u001b[0m\u001b[0;34m)\u001b[0m\u001b[0;34m\u001b[0m\u001b[0m\n\u001b[1;32m     12\u001b[0m \u001b[0mprint\u001b[0m\u001b[0;34m(\u001b[0m\u001b[0mm\u001b[0m\u001b[0;34m)\u001b[0m\u001b[0;34m\u001b[0m\u001b[0m\n\u001b[0;32m---> 13\u001b[0;31m \u001b[0mprint\u001b[0m\u001b[0;34m(\u001b[0m\u001b[0mm\u001b[0m\u001b[0;34m.\u001b[0m\u001b[0mgroup\u001b[0m\u001b[0;34m(\u001b[0m\u001b[0;34m)\u001b[0m\u001b[0;34m)\u001b[0m\u001b[0;34m\u001b[0m\u001b[0m\n\u001b[0m\u001b[1;32m     14\u001b[0m \u001b[0;34m\u001b[0m\u001b[0m\n",
      "\u001b[0;31mAttributeError\u001b[0m: 'NoneType' object has no attribute 'group'"
     ]
    }
   ],
   "source": [
    "'''\n",
    "Difference between the qualifier * and +\n",
    "'''\n",
    "print('First with * (0 or more repetitions)')\n",
    "m = re.match(\"20*\", '2')\n",
    "print(m)\n",
    "print(m.group())\n",
    "\n",
    "print()\n",
    "print('Now with + (1 or more repetitions)')\n",
    "m = re.match(\"20+\", '2')\n",
    "print(m)\n",
    "print(m.group())\n",
    "\n"
   ]
  },
  {
   "cell_type": "code",
   "execution_count": 4,
   "metadata": {},
   "outputs": [
    {
     "name": "stdout",
     "output_type": "stream",
     "text": [
      "<_sre.SRE_Match object; span=(0, 10), match='2005-12-16'>\n",
      "2005-12-16\n"
     ]
    }
   ],
   "source": [
    "'''\n",
    "A match!\n",
    "Using . -- because the year, month, date maybe separated by\n",
    "- or . or ,\n",
    "'''\n",
    "m = re.match(\"20[01][0-9].[0-9][0-9].[0-9][0-9]\", '2005-12-16')\n",
    "print(m)\n",
    "print(m.group())"
   ]
  },
  {
   "cell_type": "code",
   "execution_count": 10,
   "metadata": {},
   "outputs": [
    {
     "name": "stdout",
     "output_type": "stream",
     "text": [
      "<_sre.SRE_Match object; span=(0, 23), match='2015(year) 12(month) 16'>\n",
      "2015(year) 12(month) 16\n"
     ]
    }
   ],
   "source": [
    "'''\n",
    "A match!\n",
    "\n",
    "Note that \n",
    "\n",
    "a) \"[0-9][0-9]\" at the end is NOT doing anything.\n",
    "b) there doesn't seem to be anything to catch the '(day)' at the end \n",
    "-- but it didn't matter.\n",
    "\n",
    ".* will match as many characters as possible.  That there are unused expressions\n",
    "in the search string (namely, \"[0-9][0-9]\") -- that's OK! \n",
    "\n",
    "'''\n",
    "reg_exp1 = \"20[01][0-9].*[0-9][0-9].*[0-9][0-9]\"\n",
    "m = re.match(reg_exp1, '2015(year) 12(month) 16(day)')\n",
    "print(m)\n",
    "print(m.group())"
   ]
  },
  {
   "cell_type": "code",
   "execution_count": 11,
   "metadata": {},
   "outputs": [
    {
     "name": "stdout",
     "output_type": "stream",
     "text": [
      "<_sre.SRE_Match object; span=(0, 28), match='2015(year) 12(month) 16(day)'>\n",
      "2015(year) 12(month) 16(day)\n"
     ]
    }
   ],
   "source": [
    "'''\n",
    "To verify: after removing \"[0-9][0-9]\" in the search string, \n",
    "we still get a match!\n",
    "'''\n",
    "reg_exp2 = \"20[01][0-9].*[0-9][0-9].*\"\n",
    "m = re.match(reg_exp2, '2015(year) 12(month) 16(day)')\n",
    "print(m)\n",
    "print(m.group())"
   ]
  },
  {
   "cell_type": "code",
   "execution_count": 12,
   "metadata": {},
   "outputs": [
    {
     "name": "stdout",
     "output_type": "stream",
     "text": [
      "<_sre.SRE_Match object; span=(0, 20), match='2015(year) 12(month)'>\n",
      "2015(year) 12(month)\n"
     ]
    }
   ],
   "source": [
    "'''\n",
    ".* is stopped by a newline character.\n",
    "'''\n",
    "m = re.match(\"20[01][0-9].*[0-9][0-9].*\", '2015(year) 12(month)\\n 16(day)')\n",
    "print(m)\n",
    "print(m.group())\n"
   ]
  },
  {
   "cell_type": "code",
   "execution_count": 14,
   "metadata": {},
   "outputs": [
    {
     "name": "stdout",
     "output_type": "stream",
     "text": [
      "<_sre.SRE_Match object; span=(0, 23), match='2015(year) 12(month) 16'>\n",
      "2015(year) 12(month) 16\n"
     ]
    }
   ],
   "source": [
    "'''\n",
    ".* is also stopped by an exact match\n",
    "'''\n",
    "m = re.match(\"20[01][0-9].*[0-9][0-9].*16\", '2015(year) 12(month) 16(day)')\n",
    "print(m)\n",
    "print(m.group())\n"
   ]
  },
  {
   "cell_type": "code",
   "execution_count": 15,
   "metadata": {},
   "outputs": [
    {
     "name": "stdout",
     "output_type": "stream",
     "text": [
      "<_sre.SRE_Match object; span=(0, 28), match='2015(year) 12(month) 16(day)'>\n",
      "2015(year) 12(month) 16(day)\n"
     ]
    }
   ],
   "source": [
    "# A match!  [0-9] --> \\d\n",
    "m = re.match(\"20[01]\\d.*[0-9][0-9].*\", '2015(year) 12(month) 16(day)')\n",
    "print(m)\n",
    "print(m.group())"
   ]
  },
  {
   "cell_type": "code",
   "execution_count": 16,
   "metadata": {},
   "outputs": [
    {
     "name": "stdout",
     "output_type": "stream",
     "text": [
      "2015a12b16\n"
     ]
    }
   ],
   "source": [
    "# match or not?  '2015-12-16' --> '2015a12b16'\n",
    "import re\n",
    "m = re.match(\"20[01][0-9].*[0-9][ 0-9].*\", '2015a12b16')\n",
    "if m:\n",
    "    print(m.group())"
   ]
  },
  {
   "cell_type": "code",
   "execution_count": 17,
   "metadata": {},
   "outputs": [
    {
     "name": "stdout",
     "output_type": "stream",
     "text": [
      "no match\n"
     ]
    }
   ],
   "source": [
    "# match or not?  second '.*' --> [^a-z]\n",
    "import re\n",
    "m = re.match(\"20[01][0-9].*[0-9][0-9][^a-z][0-9][0-9]\", '2015a12b16')\n",
    "\n",
    "# but this would match\n",
    "#m = re.match(\"20[01][0-9].*[0-9][0-9][^a-z][0-9][0-9]\", '2015a12-16')\n",
    "\n",
    "if m:\n",
    "    print(m.group())\n",
    "else:\n",
    "    print('no match')"
   ]
  },
  {
   "cell_type": "code",
   "execution_count": 18,
   "metadata": {},
   "outputs": [
    {
     "name": "stdout",
     "output_type": "stream",
     "text": [
      "2015a12b16\n"
     ]
    }
   ],
   "source": [
    "# match or not?  [^a-z] --> [^a]\n",
    "m = re.match(\"20[01][ 0-9].*[0-9][0-9][^a][0-9][0-9]\", '2015a12b16')\n",
    "if m:\n",
    "    print(m.group())\n",
    "else:\n",
    "    print('no match')"
   ]
  },
  {
   "cell_type": "code",
   "execution_count": 19,
   "metadata": {},
   "outputs": [
    {
     "name": "stdout",
     "output_type": "stream",
     "text": [
      "2019adlkfj are1216\n"
     ]
    }
   ],
   "source": [
    "'''The question of how far .* extends to'''\n",
    "import re\n",
    "m = re.match(\"20[01][0-9].*[0-9][0-9]\", '2019adlkfj are1216')\n",
    "if m:\n",
    "    print(m.group())\n",
    "else:\n",
    "    print('no match')"
   ]
  },
  {
   "cell_type": "code",
   "execution_count": null,
   "metadata": {
    "collapsed": true
   },
   "outputs": [],
   "source": [
    "# match or not? and why?\n",
    "m = re.match(\" 20[01][0-9].*[0-9][0-9].*\", '2015a12&16')\n",
    "if m:\n",
    "    print(m.group())\n",
    "else:\n",
    "    print('no match')"
   ]
  },
  {
   "cell_type": "code",
   "execution_count": null,
   "metadata": {
    "collapsed": true
   },
   "outputs": [],
   "source": [
    "# match or not?\n",
    "import re\n",
    "m = re.match(\"20[01][0-9].*[0-9][0-9].*[0-9][0-9]\", 'Something very\\\n",
    "interesting will happen on 2018-12-16.  You just wait and see.')\n",
    "if m:\n",
    "    print(m.group())\n",
    "else:\n",
    "    print('no match')"
   ]
  },
  {
   "cell_type": "code",
   "execution_count": null,
   "metadata": {
    "collapsed": true
   },
   "outputs": [],
   "source": [
    "# match or not?  Note: here .* is stopped by the exact match of \"20\"\n",
    "import re\n",
    "m = re.match(\".*20[01][0-9].*[0-9][0-9].*\", 'Something very intereting \\\n",
    "will happen on 2018-12-16.  You just wait and see.')\n",
    "if m:\n",
    "    print(m.group())\n",
    "else:\n",
    "    print('no match')"
   ]
  },
  {
   "cell_type": "code",
   "execution_count": null,
   "metadata": {
    "collapsed": true
   },
   "outputs": [],
   "source": [
    "# A silly example: Match or not?\n",
    "import re\n",
    "m = re.match(\".*20[01][0-9]-[0-9][0-9]-[0-9][0-9]\", 'Something very interesting \\\n",
    "will happen on 2018.12.16.  You just wait and see.')\n",
    "if m:\n",
    "    print(m.group())\n",
    "else:\n",
    "    print('no match')"
   ]
  },
  {
   "cell_type": "markdown",
   "metadata": {},
   "source": [
    "## re.search()\n",
    "\n",
    "### If you want to locate a match anywhere in string, use search()"
   ]
  },
  {
   "cell_type": "code",
   "execution_count": 20,
   "metadata": {},
   "outputs": [
    {
     "name": "stdout",
     "output_type": "stream",
     "text": [
      "<_sre.SRE_Match object; span=(42, 52), match='2020-12-16'>\n",
      "2020-12-16\n"
     ]
    }
   ],
   "source": [
    "m = re.search(\"20[02][0-9]-[0-9][0-9]-[0-9][0-9]\", 'Something very \\\n",
    "interesting will happen on 2020-12-16.  You just wait and see.')\n",
    "print(m)\n",
    "print(m.group())"
   ]
  },
  {
   "cell_type": "code",
   "execution_count": 21,
   "metadata": {},
   "outputs": [
    {
     "name": "stdout",
     "output_type": "stream",
     "text": [
      "2020-12-16\n",
      "2020-12-16\n",
      "True\n",
      "year: 2020\n",
      "month: 12\n",
      "date: 16\n"
     ]
    }
   ],
   "source": [
    "'''\n",
    "the .group() method, and note: the second occurrence was ignored.\n",
    "The ()'s in the pattern delineate the groups.\n",
    "'''\n",
    "m = re.search(\"(20[02][0-9])-([0-9][0-9])-([0-9][0-9])\", \\\n",
    "              'Something very interesting will happen on 2020-12-16. \\\n",
    "              You just wait and see, only after 2020-12-16.')\n",
    "\n",
    "# all groups\n",
    "print(m.group())\n",
    "print(m.group(0))\n",
    "print(m.group(0) == m.group())\n",
    "\n",
    "# individual groups\n",
    "print('year:', m.group(1))\n",
    "print('month:', m.group(2))\n",
    "print('date:', m.group(3))"
   ]
  },
  {
   "cell_type": "markdown",
   "metadata": {},
   "source": [
    "## re.findall()\n",
    "\n",
    "### To find all occurrences, use findall() -- returns the results as a list"
   ]
  },
  {
   "cell_type": "code",
   "execution_count": 22,
   "metadata": {},
   "outputs": [
    {
     "name": "stdout",
     "output_type": "stream",
     "text": [
      "['2020-12-16', '2020-12-16'] <class 'list'>\n"
     ]
    }
   ],
   "source": [
    "m = re.findall(\"20[02][0-9]-[0-9][0-9]-[0-9][0-9]\",\\\n",
    "               'Something very interesting will happen on 2020-12-16.\\\n",
    "               You just wait and see, only after 2020-12-16.')\n",
    "print(m, type(m))"
   ]
  },
  {
   "cell_type": "code",
   "execution_count": 23,
   "metadata": {},
   "outputs": [
    {
     "name": "stdout",
     "output_type": "stream",
     "text": [
      "[('2020', '12', '16'), ('2020', '12', '16')] <class 'list'>\n",
      "12\n"
     ]
    }
   ],
   "source": [
    "'''\n",
    "if you want groups for each occurence, \n",
    "the groups will show up in a tuple\n",
    "'''\n",
    "m = re.findall(\"(20[02][0-9])-([0-9][0-9])-([0-9][0-9])\",\\\n",
    "               'Something very intereting will happen on 2020-12-16.\\\n",
    "               You just wait and see, only after 2020-12-16.')\n",
    "print(m, type(m))\n",
    "print(m[0][1])"
   ]
  },
  {
   "cell_type": "markdown",
   "metadata": {},
   "source": [
    "## Breakout Problem:\n",
    "\n",
    "### The following text is copied from wikipedia,\n",
    "\n",
    "### \"The current men's world record is 9.58 seconds, set by Jamaica's Usain Bolt in 2009,\"\n",
    "\n",
    "### By using re.match(), extract the world record time.  You cannot use any actual words in your pattern, e.g. \"seconds\" would not be allowed.\n",
    "\n",
    "### To escape the \n",
    "        . \n",
    "\n",
    "### use \n",
    "\n",
    "        \\.\n"
   ]
  },
  {
   "cell_type": "code",
   "execution_count": 50,
   "metadata": {},
   "outputs": [
    {
     "name": "stdout",
     "output_type": "stream",
     "text": [
      "Shortest human time for 100 meters: 9.58\n"
     ]
    }
   ],
   "source": [
    "line = \"The current men's world record is 9.58 seconds, set by Jamaica's Usain Bolt in 2009,\"\n",
    "matchObj = re.match('.* (\\d*\\.\\d*).*', line)\n",
    "if matchObj:\n",
    "    print(\"Shortest human time for 100 meters:\", matchObj.group(1))\n",
    "else:\n",
    "    print('no match')"
   ]
  },
  {
   "cell_type": "markdown",
   "metadata": {},
   "source": [
    "## return vs. yield"
   ]
  },
  {
   "cell_type": "code",
   "execution_count": 54,
   "metadata": {},
   "outputs": [
    {
     "name": "stdout",
     "output_type": "stream",
     "text": [
      "10\n",
      "True\n",
      "y[3] 3\n",
      "True\n",
      "(0, 0)\n"
     ]
    },
    {
     "ename": "AttributeError",
     "evalue": "'enumerate' object has no attribute 'next'",
     "output_type": "error",
     "traceback": [
      "\u001b[0;31m---------------------------------------------------------------------------\u001b[0m",
      "\u001b[0;31mAttributeError\u001b[0m                            Traceback (most recent call last)",
      "\u001b[0;32m<ipython-input-54-efa4f5663d4c>\u001b[0m in \u001b[0;36m<module>\u001b[0;34m()\u001b[0m\n\u001b[1;32m     19\u001b[0m \u001b[0mprint\u001b[0m\u001b[0;34m(\u001b[0m\u001b[0mnext\u001b[0m\u001b[0;34m(\u001b[0m\u001b[0mz\u001b[0m\u001b[0;34m)\u001b[0m\u001b[0;34m)\u001b[0m\u001b[0;34m\u001b[0m\u001b[0m\n\u001b[1;32m     20\u001b[0m \u001b[0;31m# print(z.next())\u001b[0m\u001b[0;34m\u001b[0m\u001b[0;34m\u001b[0m\u001b[0m\n\u001b[0;32m---> 21\u001b[0;31m \u001b[0mprint\u001b[0m\u001b[0;34m(\u001b[0m\u001b[0mz\u001b[0m\u001b[0;34m.\u001b[0m\u001b[0mnext\u001b[0m\u001b[0;34m(\u001b[0m\u001b[0;34m)\u001b[0m\u001b[0;34m)\u001b[0m\u001b[0;34m\u001b[0m\u001b[0m\n\u001b[0m\u001b[1;32m     22\u001b[0m \u001b[0;31m# print(z.next())\u001b[0m\u001b[0;34m\u001b[0m\u001b[0;34m\u001b[0m\u001b[0m\n\u001b[1;32m     23\u001b[0m \u001b[0;31m# #print('z[3]', z[3])                      # will also get error.\u001b[0m\u001b[0;34m\u001b[0m\u001b[0;34m\u001b[0m\u001b[0m\n",
      "\u001b[0;31mAttributeError\u001b[0m: 'enumerate' object has no attribute 'next'"
     ]
    }
   ],
   "source": [
    "'''\n",
    "A peculiar thing about enumerate(): you can't use len() with enumerate()!\n",
    "\n",
    "Compare list and enumerate below\n",
    "'''\n",
    "from collections import Iterable\n",
    "\n",
    "# list\n",
    "y = range(10)\n",
    "print(len(y))\n",
    "print(isinstance(y, Iterable))\n",
    "print('y[3]', y[3])\n",
    "\n",
    "\n",
    "# enuermate\n",
    "z = enumerate(range(10))\n",
    "print(isinstance(z, Iterable))\n",
    "#print(len(z))                     # will get error.\n",
    "print(next(z))\n",
    "# print(z.next())\n",
    "print(z.next())\n",
    "# print(z.next())\n",
    "# #print('z[3]', z[3])                      # will also get error."
   ]
  },
  {
   "cell_type": "markdown",
   "metadata": {},
   "source": [
    "## eunmerate() *is* an iterable; but not all iterables have a length!"
   ]
  },
  {
   "cell_type": "code",
   "execution_count": 56,
   "metadata": {},
   "outputs": [
    {
     "name": "stdout",
     "output_type": "stream",
     "text": [
      "[0, 1, 2, 3, 4, 5]\n"
     ]
    }
   ],
   "source": [
    "# return:\n",
    "def create_integers(N):\n",
    "    lst=[]\n",
    "    for i in range(N):\n",
    "        lst.append(i)\n",
    "    return lst\n",
    "newints = create_integers(6)    \n",
    "print(newints) \n"
   ]
  },
  {
   "cell_type": "code",
   "execution_count": 57,
   "metadata": {},
   "outputs": [
    {
     "name": "stdout",
     "output_type": "stream",
     "text": [
      "<class 'function'> <class 'list'>\n"
     ]
    }
   ],
   "source": [
    "print(type(create_integers), type(newints))\n"
   ]
  },
  {
   "cell_type": "code",
   "execution_count": 4,
   "metadata": {},
   "outputs": [
    {
     "name": "stdout",
     "output_type": "stream",
     "text": [
      "<class 'function'> <class 'generator'>\n"
     ]
    }
   ],
   "source": [
    "# yield:\n",
    "from pdb import set_trace\n",
    "def generate_integers(N):\n",
    "    for i in range(N):\n",
    "        # note: yield inside the for loop!\n",
    "        # and NOT at the end of the function!\n",
    "        yield i\n",
    "        #set_trace()\n",
    "        print('The {:d}th time generate_integers() is called'.format(i+1))\n",
    "\n",
    "N = 10        \n",
    "gen = generate_integers(N)\n",
    "print(type(generate_integers), type(gen))\n"
   ]
  },
  {
   "cell_type": "code",
   "execution_count": 5,
   "metadata": {},
   "outputs": [
    {
     "data": {
      "text/plain": [
       "0"
      ]
     },
     "execution_count": 5,
     "metadata": {},
     "output_type": "execute_result"
    }
   ],
   "source": [
    "# It shows you that the next generate_integers() is called, \n",
    "# python starts from the statement immediately below the yield statement.\n",
    "next(gen)"
   ]
  },
  {
   "cell_type": "code",
   "execution_count": 60,
   "metadata": {},
   "outputs": [
    {
     "name": "stdout",
     "output_type": "stream",
     "text": [
      "The 1th time generate_integers() is called\n",
      "1\n",
      "The 2th time generate_integers() is called\n",
      "2\n",
      "The 3th time generate_integers() is called\n",
      "3\n",
      "The 4th time generate_integers() is called\n",
      "4\n",
      "The 5th time generate_integers() is called\n",
      "5\n",
      "The 6th time generate_integers() is called\n",
      "6\n"
     ]
    }
   ],
   "source": [
    "# Note: it started from 1 (and not 0)!\n",
    "for i in range(6):\n",
    "    intg = next(gen)\n",
    "    print(intg)"
   ]
  },
  {
   "cell_type": "code",
   "execution_count": 6,
   "metadata": {},
   "outputs": [
    {
     "name": "stdout",
     "output_type": "stream",
     "text": [
      "The 1th time generate_integers() is called\n",
      "1\n",
      "The 2th time generate_integers() is called\n",
      "2\n",
      "The 3th time generate_integers() is called\n",
      "3\n",
      "The 4th time generate_integers() is called\n",
      "4\n",
      "The 5th time generate_integers() is called\n",
      "5\n",
      "The 6th time generate_integers() is called\n",
      "6\n"
     ]
    }
   ],
   "source": [
    "'''\n",
    "You will get error if the previous cell has been run.\n",
    "a generator cannot be easily reset\n",
    "'''\n",
    "for i in range(6):\n",
    "    print(next(gen))"
   ]
  },
  {
   "cell_type": "markdown",
   "metadata": {},
   "source": [
    "## Breakout Problem: Write a function that generates all Fibonacci numbers less than 300 by using yield.  \n",
    "\n",
    "Definition: \n",
    "\n",
    "$F_n = F_{n-1} + F_{n-2}$; \n",
    "\n",
    "$F_0 = 0$ and $F_1 = 1$.  \n",
    "\n",
    "_Hint_: Once you have calculated $F_3$, you have no need for $F_0$ and $F_1$; once you know $F_4$, you have no need for $F_3$ and $F_2$; and so forth.\n",
    "\n",
    "So for every new round, you only need to keep the previous two numbers.\n",
    "\n",
    "Computing by hand:\n",
    "\n",
    "$F_0 = 0$\n",
    "            \n",
    "$F_1 = 1$\n",
    "\n",
    "$F_2 = 1$\n",
    "\n",
    "$F_3 = 2$\n",
    "\n",
    "...\n"
   ]
  },
  {
   "cell_type": "code",
   "execution_count": 41,
   "metadata": {},
   "outputs": [
    {
     "name": "stdout",
     "output_type": "stream",
     "text": [
      "0\n",
      "1\n",
      "1\n",
      "2\n",
      "3\n",
      "5\n",
      "8\n",
      "13\n",
      "21\n",
      "34\n",
      "55\n",
      "89\n",
      "144\n",
      "233\n"
     ]
    }
   ],
   "source": [
    "def fib():\n",
    "    a = 0\n",
    "    b = 1\n",
    "    while True:\n",
    "        yield a\n",
    "        old_a = a\n",
    "        a = b\n",
    "        b = b + old_a\n",
    "#         a,b = b,a+b\n",
    "        \n",
    "fibo_ind = 0\n",
    "for fibo in fib():\n",
    "    fibo_ind += 1\n",
    "    if fibo > 300:\n",
    "        break\n",
    "    else:\n",
    "        print(fibo)"
   ]
  },
  {
   "cell_type": "code",
   "execution_count": null,
   "metadata": {
    "collapsed": true
   },
   "outputs": [],
   "source": [
    "'''\n",
    "since fib() yields the next value\n",
    "you can treat it like an iterable.\n",
    "'''\n",
    "fibo_ind = 0\n",
    "for fibo in fib():\n",
    "    #print 'ind = ', ind\n",
    "    fibo_ind += 1\n",
    "    if fibo > 300:\n",
    "        break\n",
    "    else:\n",
    "        print(fibo)\n",
    "        \n",
    "# Let's work out the flow of the code.\n",
    "# This is an elegant, memory efficient way of generating Fibonacci numbers \n",
    "# (note: at any time only the latest two Fibonacci numbers take up memory, \n",
    "# as is necessary for the calculation of the next Fib number.   \n",
    "# All previous Fib numbers are \"forgotten\"!)\n",
    "# This is very different from the \"list\" way of doing things, \n",
    "# where every element takes up memory.\n"
   ]
  },
  {
   "cell_type": "markdown",
   "metadata": {},
   "source": [
    "## The random module\n",
    "\n",
    "- random.shuffle()\n",
    "- random.random()\n",
    "- random.sample()\n",
    "\n",
    "from http://docs.python.org/2/library/random.html:"
   ]
  },
  {
   "cell_type": "code",
   "execution_count": null,
   "metadata": {
    "collapsed": true
   },
   "outputs": [],
   "source": [
    "import random\n",
    "lst = ['a', 'b', 'c', 'd', 'x', 'y', 'z']\n",
    "random.shuffle(lst)   # this shuffles the list in place.  \n",
    "print(lst)   # you can run this as many times as you want."
   ]
  },
  {
   "cell_type": "code",
   "execution_count": null,
   "metadata": {
    "collapsed": true
   },
   "outputs": [],
   "source": [
    "'''\n",
    "to generate one random number between 0 and 1 from a uniform distribution\n",
    "'''\n",
    "import random\n",
    "random.random()"
   ]
  },
  {
   "cell_type": "markdown",
   "metadata": {},
   "source": [
    "## random.sample(population, k)\n",
    "\n",
    "Return a k length list of unique elements chosen from the population sequence. \n",
    "\n",
    "Returns a new list containing elements from the population while leaving the original population unchanged. \n"
   ]
  },
  {
   "cell_type": "code",
   "execution_count": 2,
   "metadata": {},
   "outputs": [
    {
     "name": "stdout",
     "output_type": "stream",
     "text": [
      "[1757455, 728029, 2597772, 988483, 2989755, 4740728, 6863502, 8480601, 1353395, 9249758]\n"
     ]
    }
   ],
   "source": [
    "# Example of random.sample:\n",
    "from random import sample\n",
    "print(sample(range(10000000), 10))\n"
   ]
  },
  {
   "cell_type": "code",
   "execution_count": 3,
   "metadata": {},
   "outputs": [
    {
     "name": "stdout",
     "output_type": "stream",
     "text": [
      "<class 'str'> 26\n",
      "abcdefghijklmnopqrstuvwxyz\n",
      "['e', 't', 'o', 'q', 'y', 'b', 'k', 'l', 'f', 'a']\n"
     ]
    }
   ],
   "source": [
    "### Another example: \n",
    "from string import ascii_lowercase\n",
    "print(type(ascii_lowercase), len(ascii_lowercase))\n",
    "# So yes, you can only import modules, functions but also strings and other objects.\n",
    "# In Python: almost everything is an object (modules, functions, strings, ints, floats,\n",
    "# dictionaries, lists, classes, etc.)\n",
    "# and therefore, there is no fundamental difference between them in terms of how they\n",
    "# are treated and used in Python.\n",
    "print(ascii_lowercase)\n",
    "print(sample(ascii_lowercase, 10))"
   ]
  },
  {
   "cell_type": "markdown",
   "metadata": {},
   "source": [
    "## ASCII stands for: American Standard Code for Information Interchange"
   ]
  },
  {
   "cell_type": "markdown",
   "metadata": {},
   "source": [
    "## numpy.random\n",
    "\n",
    "\n",
    "- numpy.random.randn()\n",
    "- numpy.random.rand()\n",
    "\n",
    "http://docs.scipy.org/doc/numpy/reference/routines.random.html\n",
    "\n",
    "Gaussian distribution -- $\\mu$ (mu) is the mean, and $\\sigma$ (sigma) is the standard deviation. "
   ]
  },
  {
   "cell_type": "code",
   "execution_count": 4,
   "metadata": {},
   "outputs": [
    {
     "name": "stdout",
     "output_type": "stream",
     "text": [
      "-1.327680154558133\n"
     ]
    }
   ],
   "source": [
    "from numpy.random import randn\n",
    "x = randn()\n",
    "print(x)"
   ]
  },
  {
   "cell_type": "code",
   "execution_count": 5,
   "metadata": {},
   "outputs": [
    {
     "name": "stdout",
     "output_type": "stream",
     "text": [
      "0.881551151474803\n"
     ]
    }
   ],
   "source": [
    "from numpy.random import rand\n",
    "x = rand()\n",
    "print(x)"
   ]
  },
  {
   "cell_type": "code",
   "execution_count": 6,
   "metadata": {},
   "outputs": [
    {
     "name": "stdout",
     "output_type": "stream",
     "text": [
      "3.00427492339\n",
      "1.9958002268\n"
     ]
    }
   ],
   "source": [
    "'''\n",
    "To vary the mean and the standard deviation\n",
    "'''\n",
    "import numpy as np\n",
    "from numpy.random import randn\n",
    "x = randn(10000)*2. + 3.\n",
    "#print(x)\n",
    "print(np.mean(x))\n",
    "print(np.std(x))"
   ]
  },
  {
   "cell_type": "code",
   "execution_count": 7,
   "metadata": {},
   "outputs": [
    {
     "data": {
      "image/png": "[encoded data removed]",
      "text/plain": [
       "<matplotlib.figure.Figure at 0x114347588>"
      ]
     },
     "metadata": {},
     "output_type": "display_data"
    }
   ],
   "source": [
    "'''Histogram Plot'''\n",
    "\n",
    "%matplotlib inline\n",
    "import numpy as np\n",
    "import matplotlib.pyplot as plt\n",
    "\n",
    "\n",
    "x = np.random.randn(10000)*15 + 100\n",
    "fig = plt.figure()\n",
    "ax = fig.add_subplot(111)\n",
    "\n",
    "# the histogram of the data\n",
    "\n",
    "Nbins = 50\n",
    "ax.hist(x, Nbins)\n",
    "# hist uses np.histogram under the hood to create 'n' and 'bins'.\n",
    "# np.histogram returns the bin edges, so there will be Nbin probability\n",
    "# density values (n), Nbin+1 bin edges (bins), and finally, Nbin patches.\n",
    "\n",
    "plt.show()\n"
   ]
  },
  {
   "cell_type": "code",
   "execution_count": 8,
   "metadata": {},
   "outputs": [
    {
     "name": "stdout",
     "output_type": "stream",
     "text": [
      "n (normalized height, or probability density): [  4.24826114e-05   0.00000000e+00   1.27447834e-04   4.24826114e-05\n",
      "   2.54895669e-04   8.49652228e-05   4.24826114e-04   9.34617451e-04\n",
      "   9.77100063e-04   1.35944357e-03   2.03916535e-03   2.54895669e-03\n",
      "   3.27116108e-03   4.46067420e-03   5.99004821e-03   8.75141795e-03\n",
      "   1.23199573e-02   1.28722313e-02   1.72054576e-02   1.73329055e-02\n",
      "   2.18360623e-02   2.46399146e-02   2.39177102e-02   2.71039061e-02\n",
      "   2.54046016e-02   2.59568756e-02   2.50647407e-02   2.50222581e-02\n",
      "   2.21759232e-02   2.02642056e-02   1.78851794e-02   1.59309793e-02\n",
      "   1.30846443e-02   1.09605137e-02   8.41155706e-03   7.22204394e-03\n",
      "   5.73515254e-03   4.20577853e-03   2.93130019e-03   2.08164796e-03\n",
      "   1.18951312e-03   1.01958267e-03   8.92134840e-04   2.54895669e-04\n",
      "   1.27447834e-04   1.27447834e-04   4.24826114e-05   8.49652228e-05\n",
      "   4.24826114e-05   1.69930446e-04] 50\n",
      "bins (locations of bin edges): [  41.15597585   43.50988011   45.86378437   48.21768863   50.57159289\n",
      "   52.92549715   55.27940141   57.63330567   59.98720993   62.34111419\n",
      "   64.69501845   67.04892271   69.40282697   71.75673123   74.11063549\n",
      "   76.46453975   78.81844401   81.17234827   83.52625253   85.88015679\n",
      "   88.23406105   90.58796531   92.94186957   95.29577383   97.64967809\n",
      "  100.00358235  102.35748661  104.71139087  107.06529513  109.41919939\n",
      "  111.77310365  114.12700791  116.48091217  118.83481643  121.18872069\n",
      "  123.54262495  125.89652921  128.25043347  130.60433773  132.95824199\n",
      "  135.31214625  137.66605051  140.01995477  142.37385903  144.72776329\n",
      "  147.08166755  149.43557181  151.78947607  154.14338033  156.49728459\n",
      "  158.85118885] 51\n"
     ]
    },
    {
     "data": {
      "image/png": "[encoded data removed]",
      "text/plain": [
       "<matplotlib.figure.Figure at 0x11cc43a90>"
      ]
     },
     "metadata": {},
     "output_type": "display_data"
    }
   ],
   "source": [
    "'''\n",
    "Histogram Plot\n",
    "\n",
    "Now, let's make it a little better\n",
    "\n",
    "'''\n",
    "\n",
    "%matplotlib inline\n",
    "import numpy as np\n",
    "import matplotlib.pyplot as plt\n",
    "\n",
    "\n",
    "x = np.random.randn(10000)*15 + 100\n",
    "fig = plt.figure()\n",
    "ax = fig.add_subplot(111)\n",
    "\n",
    "# the histogram of the data\n",
    "\n",
    "Nbins = 50\n",
    "# normed=1: the total area adds up to 1; # alpha: level of tranparency.\n",
    "n, bins, patches = ax.hist(x, Nbins, normed=1, facecolor='g', alpha=.5)\n",
    "print('n (normalized height, or probability density):', n, len(n))\n",
    "print('bins (locations of bin edges):', bins, len(bins))\n",
    "\n",
    "# hist uses np.histogram under the hood to create 'n' and 'bins'.\n",
    "# np.histogram returns the bin edges, so there will be Nbin probability\n",
    "# density values (n), Nbin+1 bin edges (bins), and finally, Nbin patches.\n",
    "\n",
    "plt.show()\n"
   ]
  },
  {
   "cell_type": "markdown",
   "metadata": {},
   "source": [
    "## Breakout Exercise:\n",
    "\n",
    "## Give the above plot:\n",
    "\n",
    "- ### A title: Histogram of IQ: mu=100, sigma=15\n",
    "- ### Appropriate labels for the x and y axes \n",
    "- ### Appropriate and aesthetically pleasing x and y limits."
   ]
  },
  {
   "cell_type": "code",
   "execution_count": null,
   "metadata": {
    "collapsed": true
   },
   "outputs": [],
   "source": []
  },
  {
   "cell_type": "markdown",
   "metadata": {},
   "source": [
    "## End of wk 5-1"
   ]
  }
 ],
 "metadata": {
  "kernelspec": {
   "display_name": "Python 3",
   "language": "python",
   "name": "python3"
  },
  "language_info": {
   "codemirror_mode": {
    "name": "ipython",
    "version": 3
   },
   "file_extension": ".py",
   "mimetype": "text/x-python",
   "name": "python",
   "nbconvert_exporter": "python",
   "pygments_lexer": "ipython3",
   "version": "3.6.3"
  }
 },
 "nbformat": 4,
 "nbformat_minor": 1
}
