{
 "cells": [
  {
   "cell_type": "markdown",
   "metadata": {},
   "source": [
    "# Topics\n",
    "## 1. Two Small Topics\n",
    "\n",
    "## 2. String Methods Revisited\n",
    "\n",
    "## 3. HTML and Retrieving Data from the Web\n"
   ]
  },
  {
   "cell_type": "code",
   "execution_count": 7,
   "metadata": {
    "collapsed": true
   },
   "outputs": [],
   "source": [
    "import re"
   ]
  },
  {
   "cell_type": "markdown",
   "metadata": {},
   "source": [
    "## If a class f is defined, the difference between \n",
    "\n",
    "## g = f \n",
    "\n",
    "## and \n",
    "\n",
    "## g = f()"
   ]
  },
  {
   "cell_type": "code",
   "execution_count": 8,
   "metadata": {},
   "outputs": [
    {
     "data": {
      "text/plain": [
       "27.0"
      ]
     },
     "execution_count": 8,
     "metadata": {},
     "output_type": "execute_result"
    }
   ],
   "source": [
    "class f:\n",
    "    def __init__(self, a = 3.):\n",
    "        self.a = a\n",
    "    def __call__(self, x):\n",
    "        return self.a*x**2\n",
    "fun = f()\n",
    "fun(3)"
   ]
  },
  {
   "cell_type": "code",
   "execution_count": 9,
   "metadata": {},
   "outputs": [
    {
     "data": {
      "text/plain": [
       "48.0"
      ]
     },
     "execution_count": 9,
     "metadata": {},
     "output_type": "execute_result"
    }
   ],
   "source": [
    "g = f\n",
    "gun = g()\n",
    "gun(4)"
   ]
  },
  {
   "cell_type": "markdown",
   "metadata": {},
   "source": [
    "## Interactive Command Line Input\n",
    "### input()"
   ]
  },
  {
   "cell_type": "code",
   "execution_count": 10,
   "metadata": {},
   "outputs": [
    {
     "name": "stdout",
     "output_type": "stream",
     "text": [
      "Enter a letter:\n",
      "\n"
     ]
    }
   ],
   "source": [
    "a = input(\"Enter a letter:\\n\")"
   ]
  },
  {
   "cell_type": "code",
   "execution_count": 23,
   "metadata": {},
   "outputs": [
    {
     "name": "stdout",
     "output_type": "stream",
     "text": [
      "Enter a number:\n",
      "56\n",
      "<class 'str'>\n"
     ]
    }
   ],
   "source": [
    "a = input(\"Enter a number:\\n\")\n",
    "print(type(a))"
   ]
  },
  {
   "cell_type": "code",
   "execution_count": 12,
   "metadata": {},
   "outputs": [
    {
     "name": "stdout",
     "output_type": "stream",
     "text": [
      "Enter a number:\n",
      "\n"
     ]
    },
    {
     "ename": "ValueError",
     "evalue": "could not convert string to float: ",
     "output_type": "error",
     "traceback": [
      "\u001b[0;31m---------------------------------------------------------------------------\u001b[0m",
      "\u001b[0;31mValueError\u001b[0m                                Traceback (most recent call last)",
      "\u001b[0;32m<ipython-input-12-4fc0a670327a>\u001b[0m in \u001b[0;36m<module>\u001b[0;34m()\u001b[0m\n\u001b[0;32m----> 1\u001b[0;31m \u001b[0ma\u001b[0m \u001b[0;34m=\u001b[0m \u001b[0mfloat\u001b[0m\u001b[0;34m(\u001b[0m\u001b[0minput\u001b[0m\u001b[0;34m(\u001b[0m\u001b[0;34m\"Enter a number:\\n\"\u001b[0m\u001b[0;34m)\u001b[0m\u001b[0;34m)\u001b[0m\u001b[0;34m\u001b[0m\u001b[0m\n\u001b[0m\u001b[1;32m      2\u001b[0m \u001b[0mprint\u001b[0m\u001b[0;34m(\u001b[0m\u001b[0mtype\u001b[0m\u001b[0;34m(\u001b[0m\u001b[0ma\u001b[0m\u001b[0;34m)\u001b[0m\u001b[0;34m)\u001b[0m\u001b[0;34m\u001b[0m\u001b[0m\n",
      "\u001b[0;31mValueError\u001b[0m: could not convert string to float: "
     ]
    }
   ],
   "source": [
    "a = float(input(\"Enter a number:\\n\"))\n",
    "print(type(a))"
   ]
  },
  {
   "cell_type": "markdown",
   "metadata": {},
   "source": [
    "## Mini-Breakout Exercise: Write a program that takes an input temperature in C and convert it to F."
   ]
  },
  {
   "cell_type": "markdown",
   "metadata": {},
   "source": [
    "## Basic String Methods\n",
    "\n",
    "### See https://docs.python.org/3/library/string.html"
   ]
  },
  {
   "cell_type": "code",
   "execution_count": 13,
   "metadata": {},
   "outputs": [
    {
     "name": "stdout",
     "output_type": "stream",
     "text": [
      "T\n",
      "h\n",
      "e\n",
      " \n",
      "W\n",
      "o\n",
      "r\n",
      "l\n",
      "d\n",
      " \n",
      "i\n",
      "s\n",
      " \n",
      "c\n",
      "h\n",
      "a\n",
      "n\n",
      "g\n",
      "e\n",
      "d\n",
      ".\n",
      "\n",
      "\n",
      "Number of elements in words: 22\n"
     ]
    }
   ],
   "source": [
    "# A string a list\n",
    "words = 'The World is changed.\\n'\n",
    "for c in words:\n",
    "    print(c)\n",
    "    \n",
    "print('Number of elements in words:', len(words))\n",
    "## But this is often not the most useful way to parse (take apart) a string."
   ]
  },
  {
   "cell_type": "code",
   "execution_count": 14,
   "metadata": {},
   "outputs": [
    {
     "name": "stdout",
     "output_type": "stream",
     "text": [
      "['The', 'World', 'is', 'changed.'] <class 'list'>\n"
     ]
    }
   ],
   "source": [
    "# The split() method -- default: string gets split at white space(s).\n",
    "words = 'The World is changed.\\n'\n",
    "words = words.split()\n",
    "print(words, type(words))   ## the formatting character \\n has been removed."
   ]
  },
  {
   "cell_type": "markdown",
   "metadata": {},
   "source": [
    "## Other important methods:\n",
    "\n",
    "- ### str.join():\n",
    "\n",
    "- ### str.split([delimiter]):  can be used with or without the delimiter specified\n",
    "\n",
    "- ### str.strip(): with the leading and trailing white space characters removed, including new lines.\n",
    "\n",
    "- ### str.replace(): \n",
    "\n",
    "\n",
    "### The full list:\n",
    "\n",
    "### https://docs.python.org/3/library/stdtypes.html"
   ]
  },
  {
   "cell_type": "code",
   "execution_count": 15,
   "metadata": {},
   "outputs": [
    {
     "name": "stdout",
     "output_type": "stream",
     "text": [
      "h-e-l-l-o- -w-o-r-l-d\n"
     ]
    }
   ],
   "source": [
    "str1 = '-'\n",
    "str2 = 'hello world'\n",
    "strg = str1.join(str2)\n",
    "print(strg)"
   ]
  },
  {
   "cell_type": "code",
   "execution_count": 16,
   "metadata": {},
   "outputs": [
    {
     "name": "stdout",
     "output_type": "stream",
     "text": [
      "whelloohellorhellolhellod\n"
     ]
    }
   ],
   "source": [
    "str1 = 'hello'\n",
    "str2 = 'world'\n",
    "strg = str1.join(str2)\n",
    "print(strg)   # note: it doesn't do what you might think it would do!"
   ]
  },
  {
   "cell_type": "code",
   "execution_count": 17,
   "metadata": {},
   "outputs": [
    {
     "name": "stdout",
     "output_type": "stream",
     "text": [
      "s1: ['8,4.4,', '9,', '5.3'] length: 3\n",
      "8,4.4,\n",
      "9,\n",
      "5.3\n"
     ]
    }
   ],
   "source": [
    "strg = '  8,4.4,      9, 5.3   '\n",
    "# no delimiter specified, split uses the default delimiter: (consecutive) white space(s).\n",
    "s1 = strg.split()  \n",
    "print('s1:', s1, 'length:', len(s1))\n",
    "for elem in s1:\n",
    "    print(elem)\n",
    "\n",
    "# Note: 1. All white spaces removed.\n",
    "#       2. First two number not separated because there was no white space between them."
   ]
  },
  {
   "cell_type": "code",
   "execution_count": 18,
   "metadata": {},
   "outputs": [
    {
     "name": "stdout",
     "output_type": "stream",
     "text": [
      "  8,4.4,      9, 5.3   \n"
     ]
    }
   ],
   "source": [
    "'''What do you expect?'''\n",
    "strg = '  8,4.4,      9, 5.3   '\n",
    "s1 = ''.join(strg)\n",
    "print(s1) \n",
    "\n",
    "# joining every element (each is a characater) in the list with a zero length string,\n",
    "# and makes a new string --> get the same thing back"
   ]
  },
  {
   "cell_type": "code",
   "execution_count": 19,
   "metadata": {},
   "outputs": [
    {
     "name": "stdout",
     "output_type": "stream",
     "text": [
      " xx xx8xx,xx4xx.xx4xx,xx xx xx xx xx xx xx9xx,xx xx5xx.xx3xx xx xx \n"
     ]
    }
   ],
   "source": [
    "'''What do you expect?'''\n",
    "strg = '  8,4.4,      9, 5.3   '\n",
    "s1 = 'xx'.join(strg)\n",
    "print(s1) \n"
   ]
  },
  {
   "cell_type": "code",
   "execution_count": 20,
   "metadata": {},
   "outputs": [
    {
     "name": "stdout",
     "output_type": "stream",
     "text": [
      "8,4.4,9,5.3\n",
      "['8', '4.4', '9', '5.3']\n"
     ]
    }
   ],
   "source": [
    "'''\n",
    "The .join() method takes a string or a list of strings\n",
    "and makes a new string.\n",
    "\n",
    "Note the behavior, this time, even 8 and 4.4 got split.\n",
    "\n",
    "You can always read the documentation.  Usually, people just do \n",
    "a simple experiment.\n",
    "\n",
    "Show students how to test out the first 3 lines in the ipython shell.\n",
    "'''\n",
    "s1 = ['8,4.4,', '9,', '5.3']\n",
    "s2 = ''.join(s1)    \n",
    "print(s2)\n",
    "# couldn't do this on s1 becaues it's a list of strings, \n",
    "# which doesn't have the method .split()\n",
    "print(s2.split(','))"
   ]
  },
  {
   "cell_type": "code",
   "execution_count": 21,
   "metadata": {},
   "outputs": [
    {
     "name": "stdout",
     "output_type": "stream",
     "text": [
      "8,4.4,9,5.3\n"
     ]
    }
   ],
   "source": [
    "#putting two methods together:\n",
    "strg = '  8,4.4,      9, 5.3   '\n",
    "s1 = ''.join(strg.split())  # split() removes white spaces; \n",
    "                            # ''.join() makes a new string that is delimited by ','.\n",
    "print(s1)\n",
    "\n"
   ]
  },
  {
   "cell_type": "code",
   "execution_count": 22,
   "metadata": {},
   "outputs": [
    {
     "name": "stdout",
     "output_type": "stream",
     "text": [
      "- 1  = exp(i*PI )\n"
     ]
    }
   ],
   "source": [
    "# method upon method.\n",
    "# \"horizontal programming\"\n",
    "strg = '  - 1  = exp(i*pi )      \\n'\n",
    "print(strg.replace('pi', 'PI').strip())\n",
    "# equivalently:\n",
    "# print(re.sub('pi', 'PI', strg.strip()))"
   ]
  },
  {
   "cell_type": "markdown",
   "metadata": {},
   "source": [
    "## HTML (from wikipedia):\n",
    "\n",
    "### HyperText Markup Language (HTML) is the main markup language for creating web pages and other information that can be displayed in a web browser.\n",
    "\n",
    "### HTML is written in the form of HTML elements consisting of tags enclosed in angle brackets (like < html >), within the web page content. HTML tags most commonly come in pairs like < h1 > and < /h1 >, although some tags, known as empty elements, are unpaired, for example < img >. The first tag in a pair is the start tag, the second tag is the end tag (they are also called opening tags and closing tags). In between these tags web designers can add text, tags, comments and other types of text-based content."
   ]
  },
  {
   "cell_type": "markdown",
   "metadata": {},
   "source": [
    "## URL: Uniform Resource Locator (or \"web address\")"
   ]
  },
  {
   "cell_type": "raw",
   "metadata": {},
   "source": [
    "Simple Example of html:\n",
    "\n",
    "\n",
    "<!--    Simple Example of html -->\n",
    "\n",
    "<!DOCTYPE html>\n",
    "<html>\n",
    "\n",
    "<body style=\"background-color:yellow;\">\n",
    "<h2 style=\"background-color:red;\">Popular Movies</h2>\n",
    "<!-- The <p> tag defines a paragraph. -->\n",
    "<p style=\"background-color:green;\">April</p>\n",
    "\n",
    "\n",
    "<table border=\"1\">\n",
    "  <tr>                      <!-- tr: table row -->\n",
    "    <th>Weekend</th>        <!-- th: table header -->\n",
    "    <th>Top Box Office</th>\n",
    "  </tr>\n",
    "  <tr>\n",
    "    <td>April 19</td>       <!-- td: table data -->\n",
    "    <td>Oblivion</td>\n",
    "  </tr>\n",
    "</table>\n",
    "\n",
    "<!--  <img src=\"oblivion-poster.jpg\" width=\"350\" height=\"500\"></body>  -->   \n",
    "<img src=\"http://filmonic.com/wp-content/uploads/2012/12/oblivion-movie-poster.jpg\" width=\"1000\" height=\"1500\">\n",
    "\n",
    "<!--  The tag div carves out a section -->\n",
    "<div style=\"color:#0000FF\">\n",
    "<!--  <div \"background-color:yellow;\">  -->\t\n",
    "  <h3>This is another heading</h3>\n",
    "  <p>This is another paragraph.</p>\n",
    "</div>\n",
    "\n",
    "\n",
    "\n",
    "</body>\n",
    "\n",
    "</html>\n",
    "\n",
    "\n",
    "Instructions:\n",
    "\n",
    "1. Copy/paste and save the code as my.html. \n",
    "\n",
    "2. Open my.html in your browser (on a Mac):\n",
    "\n",
    "> open -a Google\\ Chrome my.html\n",
    "\n"
   ]
  },
  {
   "cell_type": "markdown",
   "metadata": {},
   "source": [
    "## Creating a temporary directory\n",
    "### At the terminal:\n",
    "\n",
    "      > mkdir tmp"
   ]
  },
  {
   "cell_type": "code",
   "execution_count": 24,
   "metadata": {},
   "outputs": [
    {
     "ename": "FileNotFoundError",
     "evalue": "[Errno 2] No such file or directory: '/Users/xhuang22/CompPhys-I/code/Examples/tmp/tmp2.html'",
     "output_type": "error",
     "traceback": [
      "\u001b[0;31m---------------------------------------------------------------------------\u001b[0m",
      "\u001b[0;31mFileNotFoundError\u001b[0m                         Traceback (most recent call last)",
      "\u001b[0;32m<ipython-input-24-4978a53548dc>\u001b[0m in \u001b[0;36m<module>\u001b[0;34m()\u001b[0m\n\u001b[1;32m     39\u001b[0m \u001b[0mdir_path\u001b[0m \u001b[0;34m=\u001b[0m \u001b[0;34m\"/Users/xhuang22/CompPhys-I/code/Examples/\"\u001b[0m\u001b[0;34m\u001b[0m\u001b[0m\n\u001b[1;32m     40\u001b[0m \u001b[0mfilenm\u001b[0m \u001b[0;34m=\u001b[0m \u001b[0mdir_path\u001b[0m \u001b[0;34m+\u001b[0m \u001b[0;34m\"tmp/tmp2.html\"\u001b[0m\u001b[0;34m\u001b[0m\u001b[0m\n\u001b[0;32m---> 41\u001b[0;31m \u001b[0;32mwith\u001b[0m \u001b[0mopen\u001b[0m\u001b[0;34m(\u001b[0m\u001b[0mfilenm\u001b[0m\u001b[0;34m,\u001b[0m \u001b[0;34m\"w\"\u001b[0m\u001b[0;34m)\u001b[0m \u001b[0;32mas\u001b[0m \u001b[0mf\u001b[0m\u001b[0;34m:\u001b[0m\u001b[0;34m\u001b[0m\u001b[0m\n\u001b[0m\u001b[1;32m     42\u001b[0m     \u001b[0mf\u001b[0m\u001b[0;34m.\u001b[0m\u001b[0mwrite\u001b[0m\u001b[0;34m(\u001b[0m\u001b[0mhtml_data\u001b[0m\u001b[0;34m)\u001b[0m\u001b[0;34m\u001b[0m\u001b[0m\n\u001b[1;32m     43\u001b[0m \u001b[0;34m\u001b[0m\u001b[0m\n",
      "\u001b[0;31mFileNotFoundError\u001b[0m: [Errno 2] No such file or directory: '/Users/xhuang22/CompPhys-I/code/Examples/tmp/tmp2.html'"
     ]
    }
   ],
   "source": [
    "'''Another way to creast a webpage'''\n",
    "\n",
    "html_data = \"\"\"<!DOCTYPE html>\n",
    "<html>\n",
    "\n",
    "<body style=\"background-color:yellow;\">\n",
    "<h2 style=\"background-color:red;\">Popular Movies</h2>\n",
    "<p style=\"background-color:green;\">April</p>\n",
    "\n",
    "\n",
    "<table border=\"1\">\n",
    "  <tr>                      <!-- tr: table row -->\n",
    "    <th>Weekend</th>\n",
    "    <th>Top Box Office</th>\n",
    "  </tr>\n",
    "  <tr>\n",
    "    <td>April 19</td>       <!-- td: table data -->\n",
    "    <td>Oblivion</td>\n",
    "  </tr>\n",
    "</table>\n",
    "\n",
    "<!--<img src=\"oblivion-poster.jpg\" width=\"350\" height=\"500\"></body>-->   \n",
    "<img src=\"http://filmonic.com/wp-content/uploads/2012/12/oblivion-movie-poster.jpg\" width=\"350\" height=\"500\">\n",
    "\n",
    "<!--The tag div carves out a section -->\n",
    "<div style=\"color:#0000FF\">\n",
    "<!--<div \"background-color:yellow;\">-->\t\n",
    "  <h3>This is another heading</h3>\n",
    "  <p>This is another paragraph.</p>\n",
    "</div>\n",
    "\n",
    "\n",
    "\n",
    "</body>\n",
    "\n",
    "</html>\"\"\"\n",
    "\n",
    "import webbrowser    # a new module.\n",
    "dir_path = \"/Users/xhuang22/CompPhys-I/code/Examples/\"\n",
    "filenm = dir_path + \"tmp/tmp2.html\"                \n",
    "with open(filenm, \"w\") as f:\n",
    "    f.write(html_data)                      \n",
    "\n",
    "# file:/// analogous to http://\n",
    "_ = webbrowser.open(\"file:///\" + filenm)     \n"
   ]
  },
  {
   "cell_type": "markdown",
   "metadata": {},
   "source": [
    "## Breakout Problem:\n",
    "\n",
    "### Top box office movie for the weekend of April 12, 2013, was \"42.\"  Extend the table and include a poster for 42.  Save the new file as tmp2.html."
   ]
  },
  {
   "cell_type": "markdown",
   "metadata": {},
   "source": [
    "## Two ways of accessing information on a webpage:\n",
    "\n",
    "### 1. Save the content in a html file (on your local hard drive), and open it later.\n",
    "### 2. Create a file object in your Python program and store the content there  (it will disappear as soon as python quits)."
   ]
  },
  {
   "cell_type": "code",
   "execution_count": 25,
   "metadata": {
    "collapsed": true
   },
   "outputs": [],
   "source": [
    "# Method 1\n",
    "import webbrowser   \n",
    "from urllib.request import urlretrieve\n",
    "\n",
    "url = 'http://weather.yahoo.com/united-states/california/san-francisco-2487956/'\n",
    "#dir_path = \"/Users/xhuang22/CompPhys-I/code/Examples/\"\n",
    "filenm = dir_path + 'tmp/sf_weather.html'                \n",
    "\n",
    "filenm, headers = urlretrieve(url)\n",
    "html = open(filenm)\n",
    "# can now open sf_weather.html \n",
    "# -- and you can actually edit it if you want to change its appearance.\n",
    "\n",
    "# And if you want to see it rendered:\n",
    "_ = webbrowser.open(\"file:///\" + filenm)\n"
   ]
  },
  {
   "cell_type": "code",
   "execution_count": 49,
   "metadata": {
    "scrolled": true
   },
   "outputs": [
    {
     "name": "stdout",
     "output_type": "stream",
     "text": [
      "<class 'list'> 49 \n",
      "\n",
      "\n",
      "\n",
      "[b'<!DOCTYPE html><html id=\"atomic\" class=\"NoJs desktop\" lang=\"en-US\"><head prefix=\"og: http://ogp.me/ns#\"><script>window.performance && window.performance.mark && window.performance.mark(\\'PageStart\\');</script><meta charset=\"utf-8\"/><meta http-equiv=\"x-dns-prefetch-control\" content=\"on\"/><meta name=\"apple-itunes-app\" content=\"app-id=628677149\"/><meta name=\"render-optimize-policy\" content=\"first-screen-advance;enable\"/><meta name=\"twitter:description\" content=\"View the latest weather forecasts, maps, news and alerts on Yahoo Weather. Find local weather forecasts for San Francisco, United States throughout the world\"/><meta name=\"twitter:title\" content=\"San Francisco, United States - Weather Forecasts | Maps | News - Yahoo Weather\"/><meta name=\"description\" content=\"View the latest weather forecasts, maps, news and alerts on Yahoo Weather. Find local weather forecasts for San Francisco, United States throughout the world\"/><meta name=\"keywords\" content=\"weather forecasts, weather reports, weather maps, San Francisco, United States weather forecast, worldwide weather forecast, local weather forecast, 5 day forecasts, 10 day forecasts, news, weather alerts, yahoo weather, yahoo\"/><meta property=\"al:android:package\" content=\"com.yahoo.mobile.client.android.weather\"/><meta property=\"og:description\" content=\"View the latest weather forecasts, maps, news and alerts on Yahoo Weather. Find local weather forecasts for San Francisco, United States throughout the world\"/><meta property=\"og:title\" content=\"San Francisco, United States - Weather Forecasts | Maps | News - Yahoo Weather\"/><link rel=\"dns-prefetch\" href=\"//s.yimg.com\"/><link rel=\"dns-prefetch\" href=\"//geo.query.yahoo.com\"/><link rel=\"dns-prefetch\" href=\"//csc.beap.bc.yahoo.com\"/><link rel=\"dns-prefetch\" href=\"//beap.gemini.yahoo.com\"/><link rel=\"dns-prefetch\" href=\"//yep.video.yahoo.com\"/><link rel=\"dns-prefetch\" href=\"//video-api.yql.yahoo.com\"/><link rel=\"dns-prefetch\" href=\"//yrtas.btrll.com\"/><link rel=\"dns-prefetch\" href=\"//shim.btrll.com\"/><link rel=\"preconnect\" href=\"//s.yimg.com\"/><link rel=\"preconnect\" href=\"//geo.query.yahoo.com\"/><link rel=\"preconnect\" href=\"//csc.beap.bc.yahoo.com\"/><link rel=\"preconnect\" href=\"//beap.gemini.yahoo.com\"/><link rel=\"preconnect\" href=\"//yep.video.yahoo.com\"/><link rel=\"preconnect\" href=\"//video-api.yql.yahoo.com\"/><link rel=\"preconnect\" href=\"//yrtas.btrll.com\"/><link rel=\"preconnect\" href=\"//shim.btrll.com\"/><link rel=\"icon\" sizes=\"any\" href=\"https://s.yimg.com/os/mit/media/p/common/images/favicon_new-7483e38.svg\"/><link rel=\"icon\" type=\"image/x-icon\" href=\"/favicon.ico\"/><link rel=\"prefetch\" href=\"https://s.yimg.com/os/weather/1.0.1/flickr/logo@3x.png\" as=\"image\"/><title>San Francisco, United States - Weather Forecasts | Maps | News - Yahoo Weather</title><link rel=\"stylesheet\" href=\"https://s.yimg.com/os/yc/css/custom.10598154.css\"/><link rel=\"stylesheet\" href=\"https://s.yimg.com/os/yc/css/partner.c319d323.css\"/><link rel=\"stylesheet\" href=\"https://s.yimg.com/os/yc/css/bundle.ce149847.css\"/><link rel=\"stylesheet\" href=\"https://s.yimg.com/os/yc/css/atomic-desktop-ltr.4730abde.css\"/><link rel=\"stylesheet\" href=\"https://s.yimg.com/os/yc/css/atomic-context.c27e7dec.css\"/><link rel=\"stylesheet\" href=\"https://s.yimg.com/os/yc/css/patch.cd698090.css\"/><link rel=\"stylesheet\" href=\"https://s.yimg.com/os/yc/css/theme.2f876e26.css\"/><link rel=\"stylesheet\" href=\"https://s.yimg.com/os/fuji-style/css/fuji-rollup.min.4b1d0681.css\"/><link rel=\"stylesheet\" href=\"https://s.yimg.com/os/yc/css/content-canvas.358644ff.css\"/><script src=\"https://www.yahoo.com/polyfill.min.js?features=locale-data-en-us%2Carray.isarray%2Carray.prototype.every%2Carray.prototype.foreach%2Carray.prototype.indexof%2Carray.prototype.map%2Cdate.now%2Cfunction.prototype.bind%2Cobject.keys%2Cstring.prototype.trim%2Cobject.defineproperty%2Cobject.defineproperties%2Cobject.create%2Cobject.freeze%2Carray.prototype.filter%2Carray.prototype.reduce%2Cobject.assign%2Cpromise%2Crequestanimationframe%2Carray.prototype.some%2Cobject.getownpropertynames%2Cintl&amp;version=2.1.23\" defer=\"\"></script><script src=\"https://s.yimg.com/os/ri/2.4.0/en.js\"></script><script src=\"https://s.yimg.com/ss/rapid-3.42.4.js\"></script><script src=\"https://s.yimg.com/rq/darla/3-0-2/js/g-r-min.js\"></script><script src=\"https://s.yimg.com/os/yc/js/vendor.b88732090d2a8c4be13f.min.js\" defer=\"\"></script><script src=\"https://s.yimg.com/os/yc/js/common.896b1482b8de6cf761f3.min.js\" defer=\"\"></script><script>window.Modernizr=function(a,b,c){function d(a){q.cssText=a}function e(a,b){return typeof a===b}function f(a,b){return!!~(\"\"+a).indexOf(b)}function g(a,b){for(var d in a){var e=a[d];if(!f(e,\"-\")&&q[e]!==c)return\"pfx\"!=b||e}return!1}function h(a,b,d){for(var f in a){var g=b[a[f]];if(g!==c)return!1===d?a[f]:e(g,\"function\")?g.bind(d||b):g}return!1}function i(a,b,c){var d=a.charAt(0).toUpperCase()+a.slice(1),f=(a+\" \"+t.join(d+\" \")+d).split(\" \");return e(b,\"string\")||e(b,\"undefined\")?g(f,b):(f=(a+\" \"+u.join(d+\" \")+d).split(\" \"),h(f,b,c))}var j,k,l=\"2.8.3\",m={},n=b.documentElement,o=\"modernizr\",p=b.createElement(o),q=p.style,r=\" -webkit- -moz- -o- -ms- \".split(\" \"),s=\"Webkit Moz O ms\",t=s.split(\" \"),u=s.toLowerCase().split(\" \"),v={svg:\"http://www.w3.org/2000/svg\"},w={},x=[],y=x.slice,z=function(a,c,d,e){var f,g,h,i,j=b.createElement(\"div\"),k=b.body,l=k||b.createElement(\"body\");if(parseInt(d,10))for(;d--;)h=b.createElement(\"div\"),h.id=e?e[d]:o+(d+1),j.appendChild(h);return f=[\"&#173;\",\\'<style id=\"s\\',o,\\'\">\\',a,\"</style>\"].join(\"\"),j.id=o,(k?j:l).innerHTML+=f,l.appendChild(j),k||(l.style.background=\"\",l.style.overflow=\"hidden\",i=n.style.overflow,n.style.overflow=\"hidden\",n.appendChild(l)),g=c(j,a),k?j.parentNode.removeChild(j):(l.parentNode.removeChild(l),n.style.overflow=i),!!g},A={}.hasOwnProperty;k=e(A,\"undefined\")||e(A.call,\"undefined\")?function(a,b){return b in a&&e(a.constructor.prototype[b],\"undefined\")}:function(a,b){return A.call(a,b)},Function.prototype.bind||(Function.prototype.bind=function(a){var b=this;if(\"function\"!=typeof b)throw new TypeError;var c=y.call(arguments,1),d=function(){if(this instanceof d){var e=function(){};e.prototype=b.prototype;var f=new e,g=b.apply(f,c.concat(y.call(arguments)));return Object(g)===g?g:f}return b.apply(a,c.concat(y.call(arguments)))};return d}),w.canvas=function(){var a=b.createElement(\"canvas\");return!(!a.getContext||!a.getContext(\"2d\"))},w.history=function(){return!(!a.history||!history.pushState)},w.csstransforms3d=function(){var a=!!i(\"perspective\");return a&&\"webkitPerspective\"in n.style&&z(\"@media (transform-3d),(-webkit-transform-3d){#modernizr{left:9px;position:absolute;height:3px;}}\",function(b,c){a=9===b.offsetLeft&&3===b.offsetHeight}),a},w.csstransitions=function(){return i(\"transition\")},w.video=function(){var a=b.createElement(\"video\"),c=!1;try{(c=!!a.canPlayType)&&(c=new Boolean(c),c.ogg=a.canPlayType(\\'video/ogg; codecs=\"theora\"\\').replace(/^no$/,\"\"),c.h264=a.canPlayType(\\'video/mp4; codecs=\"avc1.42E01E\"\\').replace(/^no$/,\"\"),c.webm=a.canPlayType(\\'video/webm; codecs=\"vp8, vorbis\"\\').replace(/^no$/,\"\"))}catch(d){}return c},w.localstorage=function(){try{return localStorage.setItem(o,o),localStorage.removeItem(o),!0}catch(a){return!1}},w.sessionstorage=function(){try{return sessionStorage.setItem(o,o),sessionStorage.removeItem(o),!0}catch(a){return!1}},w.svg=function(){return!!b.createElementNS&&!!b.createElementNS(v.svg,\"svg\").createSVGRect},w.inlinesvg=function(){var a=b.createElement(\"div\");return a.innerHTML=\"<svg/>\",(a.firstChild&&a.firstChild.namespaceURI)==v.svg};for(var B in w)k(w,B)&&(j=B.toLowerCase(),m[j]=w[B](),x.push((m[j]?\"\":\"no-\")+j));return m.addTest=function(a,b){if(\"object\"==typeof a)for(var d in a)k(a,d)&&m.addTest(d,a[d]);else{if(a=a.toLowerCase(),m[a]!==c)return m;b=\"function\"==typeof b?b():b,\"undefined\"!=typeof enableClasses&&enableClasses&&(n.className+=\" \"+(b?\"\":\"no-\")+a),m[a]=b}return m},d(\"\"),p=null,m._version=l,m._prefixes=r,m._domPrefixes=u,m._cssomPrefixes=t,m.testProp=function(a){return g([a])},m.testAllProps=i,m.testStyles=z,m.prefixed=function(a,b,c){return b?i(a,b,c):i(a,\"pfx\")},m}(this,this.document);</script><script>(function(html){var c = html.className;c += \" JsEnabled\";c = c.replace(\"NoJs\",\"\");html.className = c;})(document.documentElement);</script><script>window.webpackManifest={\"0\":\"react-sports.b6217c4f0ea53d107597.min.js\",\"1\":\"react-finance.dde8c739747fcf8376a0.min.js\",\"2\":\"tdv2-applet-abu-news.y20.e40ff8692070690ca938.min.js\",\"3\":\"tdv2-applet-abu-news.abunews.0a6883e2e70b5b6a9e7e.min.js\",\"4\":\"react-finance.y20.92a1e31645c1685eed81.min.js\",\"5\":\"tdv2-applet-abu-news.1cb8153ee579e5f61c5c.min.js\",\"6\":\"react-finance.smartphone.3b77a4cf5f833e2d6ecb.min.js\",\"7\":\"tdv2-applet-content-canvas.aff6333fd815939eb537.min.js\",\"8\":\"tdv2-applet-stream.tiles.85747551f93ba808d584.min.js\",\"9\":\"react-sports.nav.7ebb85eb434d8941cb2f.min.js\",\"10\":\"react-sports.y20.74d330bd7b1f47991270.min.js\",\"11\":\"react-weather.a64b4726156dd3e4f28f.min.js\",\"12\":\"tdv2-applet-uh.3a6988b8e0059f8c5d4a.min.js\",\"13\":\"tdv2-applet-stream.9d8cdcc4f19e2503e0e6.min.js\",\"14\":\"tdv2-applet-video-lightbox.35053b199ce789b1588e.min.js\",\"15\":\"tdv2-applet-canvass.499ec5e05d081d234c87.min.js\",\"16\":\"tdv2-applet-navrail.5500dc35372baec695b3.min.js\",\"17\":\"tdv2-applet-sports-scores.287a4c23b6562c3c5319.min.js\",\"18\":\"td-app-yahoo.c130e613df70e2544b34.min.js\",\"19\":\"tdv2-applet-abu-chatbox.0f710a172aa0152be24d.min.js\",\"20\":\"tdv2-applet-navrail.tablet.631a42932227a5b614d7.min.js\",\"21\":\"tdv2-applet-navrail.smartphone.bff0433f3d4a2f2b3cea.min.js\",\"22\":\"tdv2-applet-poll.53851a33a06fe586a559.min.js\",\"23\":\"tdv2-applet-uh.smartphone.04589dc924c2531f3a36.min.js\",\"24\":\"tdv2-applet-stream-hero.56fe2c3548b87e39b4d9.min.js\",\"25\":\"tdv2-applet-uh.tablet.60dd5c5020cbdf561948.min.js\",\"26\":\"tdv2-applet-map.a7da55fe72b27faef94c.min.js\",\"27\":\"tdv2-applet-sports-bracket.03e3ae32f2702be1f895.min.js\",\"28\":\"yahoodotcom-layout.b5f72fe6d1f2ad733cc2.min.js\",\"29\":\"tdv2-applet-vertical-video.89bce86d844b3189ed1d.min.js\",\"30\":\"tdv2-applet-slideshow.944ce16156e3fcbd27ce.min.js\",\"31\":\"tdv2-applet-livecoverage.856cb569207cb1d5fd6f.min.js\",\"32\":\"tdv2-applet-discussion.9992cc30e538890facdf.min.js\",\"33\":\"react-weather.simple.8be17851187ed97aac24.min.js\",\"34\":\"react-tumblr-tile.d2c84032f25dbfddd09b.min.js\",\"35\":\"tdv2-applet-showtimes.333987948c7e254b705d.min.js\",\"36\":\"tdv2-applet-channels.dc59e80d64dbd9e87028.min.js\",\"37\":\"tdv2-applet-content-canvas.CommunityBar.c37a39a9752858250d26.min.js\",\"38\":\"yahoodotcom-layout.RC5ExperimentalLayout.fcf29802a1bd9fb03575.min.js\",\"39\":\"tdv2-applet-horoscope.c6e404ffe2ce27775b81.min.js\",\"40\":\"tdv2-applet-content-caas.9ef62c4f19aee3a86bf2.min.js\",\"41\":\"yahoodotcom-layout.RC5TwoColumnLayout.140ceae822ff9a4693e8.min.js\",\"42\":\"tdv2-applet-content-canvas.CanvasStickyShareButtons.4b7cfa2ebe8449212484.min.js\",\"43\":\"tdv2-applet-cardstrip.9e5ee3232dd02dd5b2d6.min.js\",\"44\":\"yahoodotcom-layout.RC5Layout.57a971205a48b4d5419a.min.js\",\"45\":\"tdv2-applet-content-canvas.UnifiedModalLayout.d9d7f47e6e5e0b790032.min.js\",\"46\":\"tdv2-applet-stream-hero.widehero.f8c6ba1cbd5a45a4eb94.min.js\",\"47\":\"tdv2-applet-stream-hero.carousel.c3401b6a27b1983de1ba.min.js\",\"48\":\"tdv2-applet-sports-promos.smartphone.642359bf4e38b9eb1513.min.js\",\"49\":\"tdv2-applet-sports-promos.62adbb2e6c152d1d6034.min.js\",\"50\":\"yahoodotcom-layout.MobileOneColumnLayout.e6da99589551752a7ff7.min.js\",\"51\":\"yahoodotcom-layout.FlexboxTwoColumnLayout.1dc0fbf598ecd5e48a8a.min.js\",\"52\":\"tdv2-applet-content-canvas.UnifiedFauxdalLayout.9eb2ac9b3ccf4bf134b1.min.js\",\"53\":\"yahoodotcom-layout.MegaModalLayout.2672842a9c9a5f5dbfdf.min.js\",\"54\":\"tdv2-applet-content-canvas.MegaModalLayout.d940a771d3b2a2ffb784.min.js\",\"55\":\"tdv2-applet-trending.355101a832d73f02aea8.min.js\",\"56\":\"tdv2-applet-sports-promos.y20.437de6497f6ae60ceebb.min.js\",\"57\":\"yahoodotcom-layout.RC5OneColumnLayout.614a55b432a56b3c5f62.min.js\",\"58\":\"yahoodotcom-layout.MegaLayout.eeafba99dc755669dcfc.min.js\",\"59\":\"tdv2-applet-notifications-center.2a72d214cf8fed17f3e0.min.js\",\"60\":\"tdv2-applet-content-canvas.FauxdalLayout.2cf36bf54b28a1c3768e.min.js\",\"61\":\"tdv2-applet-sports-scores.y20.8d39673315ed93f482ed.min.js\",\"62\":\"tdv2-applet-bubble.e656f38627d67229a2f3.min.js\",\"63\":\"yahoodotcom-layout.TwoColumnLayout.f76ba56732facb7a83fb.min.js\",\"64\":\"tdv2-applet-vibeutilities.8b07e68e7c7e3fb477cd.min.js\",\"65\":\"tdv2-applet-followauthor.e861bffd72818cafa055.min.js\",\"66\":\"tdv2-applet-featurebar.a8a564a6daac3432e4fe.min.js\",\"67\":\"yahoodotcom-layout.LightboxLayout.89cf7ecef33892e34449.min.js\",\"68\":\"tdv2-applet-nagbar.113ca5c584f151f4fb9e.min.js\",\"69\":\"tdv2-applet-everything.bcaa4126e7754ccf397d.min.js\",\"70\":\"tdv2-applet-video-modal.deced1c598938137b9c6.min.js\",\"71\":\"tdv2-applet-rawads.0c0de2829bc863b7c428.min.js\",\"72\":\"td-app-yahoo.cmmts.adca481440749ba408aa.min.js\",\"73\":\"tdv2-dev-info.2a5d566ed3f80ae64ac3.min.js\",\"74\":\"tdv2-applet-style.1229f3949eb1ffe0102f.min.js\",\"75\":\"tdv2-applet-swisschamp.ea6441db66b77823c48f.min.js\",\"76\":\"react-location-widget.58d7ff219f17e9bf8eec.min.js\",\"77\":\"react-adblock-promo.04df81426a698952239c.min.js\",\"78\":\"tdv2-applet-swisschamp.TwitterTimeline.2606e8f57a859ed0b6c2.min.js\",\"79\":\"tdv2-applet-stream.authorbio.e2ed5ec72bdde8f9ec50.min.js\",\"80\":\"tdv2-applet-footer.38be3f59a36fbc15b6a1.min.js\",\"81\":\"td-ads.f5416ee93547bdbf6538.min.js\",\"82\":\"tdv2-applet-sports-bracket.y20.501487fdcb38136fa0f4.min.js\",\"83\":\"tdv2-applet-discussion.flyout.1011cfa0da4c47cb43f7.min.js\",\"84\":\"tdv2-applet-content-canvas.vibe.891cb8d0e0e8aa5940bc.min.js\",\"85\":\"tdv2-service-storylines.386410ab32ea42119951.min.js\",\"86\":\"tdv2-service-profile.b4c2d6ff1a9bbf29e217.min.js\",\"87\":\"tdv2-applet-swisschamp.SidekickWrapper.3605d059d791f77de8a1.min.js\",\"88\":\"tdv2-applet-search-input.5db7f38bb5c8fa622cd1.min.js\",\"89\":\"tdv2-applet-follow.219891d04b6164432eee.min.js\",\"90\":\"tdv2-applet-account-switch.cd84ef8c18e74a298b2e.min.js\",\"91\":\"react-share-buttons.57e0c89bfe5b2e9f6fd6.min.js\",\"92\":\"react-page-transition.3b5ca7ddf5307049b797.min.js\",\"93\":\"react-lightbox.6057973ac4ee44ea1f84.min.js\",\"94\":\"common.896b1482b8de6cf761f3.min.js\",\"95\":\"main.7060090d49a121565312.min.js\"};</script><style>.tdv2-applet-canvass .action-appear,.tdv2-applet-canvass .action-enter{opacity:.01}.tdv2-applet-canvass .action-leave{opacity:1}.tdv2-applet-canvass .action-appear.action-appear-active,.tdv2-applet-canvass .action-enter.action-enter-active{opacity:1;transition:opacity .5s ease-in}.tdv2-applet-canvass .action-leave.action-leave-active{opacity:.01;transition:opacity 1s ease-in}.tdv2-applet-canvass .arrow_box,.tdv2-applet-canvass .arrow_box_tags{position:relative;background:#fff;border:1px solid #e0e4e9}.tdv2-applet-canvass .arrow_box:after,.tdv2-applet-canvass .arrow_box:before{bottom:100%;left:50%}.tdv2-applet-canvass .arrow_box_tags:after,.tdv2-applet-canvass .arrow_box_tags:before{border:solid transparent;content:\" \";height:0;width:0;position:absolute;pointer-events:none;left:47px;top:100%}.tdv2-applet-canvass .arrow_box:after,.tdv2-applet-canvass .arrow_box_tags:after{border-color:rgba(232,235,234,0);border-width:7px;margin-left:-7px}.tdv2-applet-canvass .arrow_box:after{border-bottom-color:#fff}.tdv2-applet-canvass .arrow_box_tags:after{border-top-color:#fff}.tdv2-applet-canvass .arrow_box:before,.tdv2-applet-canvass .arrow_box_tags:before{border-color:rgba(224,228,233,0);border-width:8px;margin-left:-8px}.tdv2-applet-canvass .arrow_box:before{border-bottom-color:#e0e4e9}.tdv2-applet-canvass .arrow_box_tags:before{border-top-color:#e0e4e9}</style><style>.jtdTrans-enter{transform:translateY(7px) scale(.9667)}.jtdTrans-enter.jtdTrans-enter-active{transform:translateY(0) scale(1);transition:all 350ms ease-out}.jtdTrans-leave{opacity:1;transform:translateX(0)}.jtdTrans-leave.jtdTrans-leave-active{opacity:.01;transform:translateX(100%);transition:all 350ms ease-in}.jtdBgTrans-enter{opacity:0;transform:translateY(7px) scale(.9667)}.jtdBgTrans-enter.jtdBgTrans-enter-active{opacity:1;transform:translateY(0) scale(1);transition:all 350ms ease-out}.jtdBgTrans-leave{opacity:0}@-webkit-keyframes moveAnimation{25%{transform:rotate(-90deg)}75%{transform:rotate(0)}}@keyframes moveAnimation{25%{transform:rotate(-90deg)}75%{transform:rotate(0)}}</style><style>.tdv2-applet-livecoverage .action-enter{opacity:.01}.tdv2-applet-livecoverage .action-enter.action-enter-active{opacity:1;transition:opacity .5s ease-in}.tdv2-applet-livecoverage .action-leave{opacity:1}.tdv2-applet-livecoverage .action-leave.action-leave-active{opacity:.01;transition:opacity 1s ease-in}.tdv2-applet-livecoverage .action-appear{opacity:.01}.tdv2-applet-livecoverage .action-appear.action-appear-active{opacity:1;transition:opacity .5s ease-in}.tdv2-applet-livecoverage .new-post{animation:transistion-bd-color 10s ease-in}@keyframes transistion-bd-color{0%,25%{border-color:#ff333a}100%{border-color:#188fff}}.tdv2-applet-livecoverage .twitter-tweet{margin:0!important}.tdv2-applet-livecoverage blockquote{border-left:2px #787d82 solid;padding-left:20px;color:#787d82;font:italic 700 18px Georgia,serif}</style><style>.trending-enter{opacity:.01;position:relative;transition:opacity .5s ease-in;transition-delay:.5s}.trending-enter.trending-enter-active{opacity:1;position:relative}.trending-leave{opacity:1;position:absolute;top:0;left:0;transition:opacity .5s ease-in}.trending-leave.trending-leave-active{position:absolute;top:0;left:0;opacity:.01}</style><style>@-webkit-keyframes spin{to{-webkit-transform:rotate(360deg);transform:rotate(360deg)}}@keyframes spin{to{-webkit-transform:rotate(360deg);transform:rotate(360deg)}}@-webkit-keyframes location-spinner{0%{-webkit-transform:scale(0);transform:scale(0)}100%{-webkit-transform:scale(1);transform:scale(1);opacity:0}}@keyframes location-spinner{0%{-webkit-transform:scale(0);transform:scale(0)}100%{-webkit-transform:scale(1);transform:scale(1);opacity:0}}.bgimg-enter{opacity:.01}.bgimg-enter.bgimg-enter-active{opacity:1;-webkit-transition:opacity .5s ease-in;transition:opacity .5s ease-in}.bgimg-leave{opacity:1}.bgimg-leave.bgimg-leave-active{opacity:.01;-webkit-transition:opacity .3s ease-in;transition:opacity .3s ease-in}</style><style>@-webkit-keyframes follow-anim{0%,100%{opacity:1;stroke-width:1px}50%{opacity:.8;stroke-width:4px}}@keyframes follow-anim{0%,100%{opacity:1;stroke-width:1px}50%{opacity:.8;stroke-width:4px}}</style><style>#atomic .render-target-modal #YDC-UH{display:none}#atomic #render-target-modal,#atomic #render-target-viewer{opacity:0}#atomic.modal-postopen #render-target-modal,#atomic.viewer-postopen #render-target-viewer{opacity:1}#atomic.modal-postopen #render-target-mrt,#atomic.modal-postopen .render-target-default,#atomic.viewer-postopen #render-target-mrt,#atomic.viewer-postopen .render-target-default{max-height:100%;overflow:hidden}#render-target-mrt{position:absolute;width:100%}#atomic.default-to-modal-fade .render-target-default,#atomic.default-to-viewer-fade .render-target-default,#atomic.modal-to-default-fade .render-target-modal,#atomic.mrt-to-modal-fade #render-target-mrt,#atomic.mrt-to-viewer-fade #render-target-mrt,#atomic.viewer-to-default-fade .render-target-viewer{position:absolute}#atomic.default-to-modal-fade .render-target-modal{-webkit-animation:fadein .15s ease-out forwards;animation:fadein .15s ease-out forwards}#atomic.modal-to-default-fade .render-target-modal{-webkit-animation:fadeout .15s ease-in forwards;animation:fadeout .15s ease-in forwards}#atomic.default-to-viewer-fade .render-target-viewer,#atomic.modal-to-viewer-fade .render-target-viewer{-webkit-animation:fadein .25s ease-out forwards;animation:fadein .25s ease-out forwards}#atomic.viewer-to-default-fade .render-target-viewer,#atomic.viewer-to-modal-fade .render-target-viewer{-webkit-animation:fadeout .25s ease-in forwards;animation:fadeout .25s ease-in forwards}@-webkit-keyframes fadein{0%{opacity:0}100%{opacity:1}}@-webkit-keyframes fadeout{0%{opacity:1}100%{opacity:0}}@keyframes fadein{0%{opacity:0}100%{opacity:1}}@keyframes fadeout{0%{opacity:1}100%{opacity:0}}</style><style>.yns-panel-data,.yns-panel-footer-action{border-top:solid 1px #f1f1f5}.yns-hide,.yns-promo{display:none}.yns-panel{overflow:hidden;font-size:14px}.yns-panel-loading{background:url(https://s.yimg.com/ok/u/assets/img/spinner-24x24-anim.gif) center center no-repeat;opacity:.5;z-index:1;min-height:58px}.yns-panel-padding-btm{padding-bottom:40px}.yns-panel-footer-action{background-color:#fff;padding:10px 0;text-align:center;position:absolute;left:0;right:0;bottom:0}.yns-navigate-center{color:#000;line-height:20px;text-decoration:none}.yns-navigate-center:focus,.yns-navigate-center:hover{color:#0078ff;line-height:20px;text-decoration:none}.yns-panel-header{padding:10px 0 10px 24px}.yns-panel-header-title{color:#26282a;font-weight:700;line-height:17px}.yns-panel-error{padding:20px 0;text-align:center}.yns-promo-title{color:#000}.display-push-promos .yns-promo{display:block}.yns-promo.yns-container .yns-content{padding-right:115px}.yns-promo.yns-container .yns-promo-ctr{background-color:#188fff;border-radius:2px;border:none;color:#fff;cursor:pointer;padding:10px 20px;font-size:13px}.yns-promo.yns-container .yns-promo-button{position:absolute;top:4px;right:4px}.yns-container.yns-empty{padding:72px 0;position:relative}.display-push-promos .yns-empty{border-top:solid 1px #f1f1f5}.yns-container.yns-empty:hover{background-color:#fff}.yns-empty .yns-content{position:absolute;padding:0;text-align:center;width:100%}</style><script>(function () {\\n', b'if (!window.YAHOO || !window.YAHOO.i13n || !window.YAHOO.i13n.Rapid) { return; }\\n']\n"
     ]
    }
   ],
   "source": [
    "'''\n",
    "Method 2\n",
    "\n",
    "Next time: can try the style\n",
    "\n",
    "with urlopen(url) as f:\n",
    "\n",
    "'''\n",
    "from urllib.request import urlopen\n",
    "url = 'http://weather.yahoo.com/united-states/california/san-francisco-2487956/'\n",
    "infile = urlopen(url)      \n",
    "#print 'type of infile:', type(infile)  # here you have created a file like object.\n",
    "                                        # but it only exists only as long as the current \n",
    "                                        # python session;\n",
    "\n",
    "# the object infile is of type file and so has the method .readlines()                                    \n",
    "lines = infile.readlines()   \n",
    "infile.close()\n",
    "print(type(lines), len(lines), '\\n\\n\\n')\n",
    "print(lines[:2])\n",
    "# if you want to see every line\n",
    "# for line in lines:\n",
    "#     print line"
   ]
  },
  {
   "cell_type": "code",
   "execution_count": 53,
   "metadata": {},
   "outputs": [
    {
     "name": "stdout",
     "output_type": "stream",
     "text": [
      "1zm11.647 21.092c-.232.596-.527 1.197-.84 1.73L24.628 41.627l-10.773-16.98c-.335-.565-.63-1.168-.875-1.786-.57-1.45-.862-2.99-.862-4.576 0-6.9 5.61-12.51 12.51-12.51 6.9 0 12.513 5.61 12.513 12.51 0 1.584-.288 3.124-.865 4.58zM19.706 18.735a4.962 4.962 0 1 0 9.924 0 4.962 4.962 0 1 0-9.924 0z\" data-reactid=\"16\"></path></svg><div class=\"Py(4px) Px(10px) D(ib)\" style=\"color:#ffd333;\" data-reactid=\"17\"><span data-reactid=\"18\">Change location</span></div></button><div class=\"Pos(a) W(300px)\" data-reactid=\"19\"><!-- react-empty: 20 --></div></div></div></section><section class=\"weather-card C(#fff) M(10px) Pos(a) B(0) Start(0) End(0)\" data-type=\"temperature\" data-reactid=\"21\"><div class=\"temperature Fz(14px) Tsh($temperature-text-shadow)\" data-reactid=\"22\"><div class=\"My(2px)\" data-reactid=\"23\"><span data-code=\"24\" class=\"Va(m)\" data-reactid=\"24\"><img alt=\"Windy\" height=\"32\" title=\"Windy\" width=\"32\" class=\" \" src=\"https://s.yimg.com/os/weather/1.0.1/shadow_icon/60x60/windy_day_night@2x.png\" data-reactid=\"25\"/></span><span class=\"description Va(m) Px(2px) Fz(1.3em)--sm Fz(1.6em)\" data-reactid=\"26\">Windy</span></div><div class=\"high-low My(2px) Fz(1.2em)--sm Fz(1.6em) Trsdu(.3s)\" data-reactid=\"27\"><div class=\"D(ib) Va(m) Px(6px) Cur(p)\" style=\"fill:#fff;stroke:#fff;stroke-width:0;vertical-align:bottom;width:20px;height:20px;\" data-icon=\"arrow-up\" data-reactid=\"28\"></div><span class=\"Va(m) Px(6px)\" data-reactid=\"29\"><!-- react-text: 30 -->51<!-- /react-text --><!-- react-text: 31 -->°<!-- /react-text --></span><div class=\"D(ib) Va(m) Px(6px) Cur(p)\" style=\"fill:#fff;stroke:#fff;stroke-width:0;vertical-align:bottom;width:20px;height:20px;\" data-icon=\"arrow-down\" data-reactid=\"32\"></div><span class=\"Va(m) Px(6px)\" data-reactid=\"33\"><!-- react-text: 34 -->44<!-- /react-text --><!-- react-text: 35 -->°<!-- /react-text --></span></div><div class=\"now Fz(8em)--sm Fz(10em) Lh(0.9em) Fw(100) My(2px) Trsdu(.3s)\" data-reactid=\"36\"><span class=\"Va(t)\" data-reactid=\"37\">48</span><span c\n",
      "291845\n"
     ]
    }
   ],
   "source": [
    "infile = urlopen(url)       \n",
    "weather_html_text = infile.read().decode(\"utf-8\")  \n",
    "infile.close()\n",
    "print(weather_html_text[45000:47000])   #[45000:47000] -- the characters between\n",
    "                                         # the 45000th and 46999th.\n",
    "\n",
    "print(len(weather_html_text))\n"
   ]
  },
  {
   "cell_type": "markdown",
   "metadata": {},
   "source": [
    "## Breakout Excercise:\n",
    "\n",
    "### Extract the high and low temperatures from weather_html_text in Fahrenheit (say they are 65 an 54), and\n",
    "\n",
    "### Suggestions:\n",
    "\n",
    "  ### 1. First search for the indices that correspond to the string 'high' (by using re.finditer)\n",
    "  ### 2. For all the indices that you find, print the string that includes 100 characters to the left and right of 'high'\n",
    "  ### 3. Inspect all the strings in 2. \n",
    "  ### 4. You will notice that one of them contains today's date: '2016-10-03'.  Search for this date in the strings you have found in 2.  \n",
    "  ### 5. Inspect the string you found in 4. and find the right way to extract the high and low temperatures\n",
    "  ### 6. You may want to specify a boolean variable, \n",
    "  \n",
    "       developing \n",
    "  \n",
    "  \n",
    "  ### If it's True, you can print out all kinds of stuff for the intermediate steps.  But it's False -- that is, when you are satified with your code, it only prints:\n",
    "\n",
    "       High and low temperatures are 60 and 54 F.\n",
    "\n"
   ]
  },
  {
   "cell_type": "markdown",
   "metadata": {},
   "source": [
    "## End of wk 5-2"
   ]
  }
 ],
 "metadata": {
  "kernelspec": {
   "display_name": "Python 3",
   "language": "python",
   "name": "python3"
  },
  "language_info": {
   "codemirror_mode": {
    "name": "ipython",
    "version": 3
   },
   "file_extension": ".py",
   "mimetype": "text/x-python",
   "name": "python",
   "nbconvert_exporter": "python",
   "pygments_lexer": "ipython3",
   "version": "3.6.3"
  }
 },
 "nbformat": 4,
 "nbformat_minor": 1
}
