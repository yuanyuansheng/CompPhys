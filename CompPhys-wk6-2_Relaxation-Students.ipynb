{
 "cells": [
  {
   "cell_type": "markdown",
   "metadata": {},
   "source": [
    "# Topics\n",
    "\n",
    "## 1. Relaxation Method\n"
   ]
  },
  {
   "cell_type": "code",
   "execution_count": 1,
   "metadata": {
    "collapsed": true
   },
   "outputs": [],
   "source": [
    "import numpy as np\n",
    "import matplotlib.pyplot as plt\n",
    "from pdb import set_trace"
   ]
  },
  {
   "cell_type": "code",
   "execution_count": 2,
   "metadata": {
    "collapsed": true
   },
   "outputs": [],
   "source": [
    "'''\n",
    "\n",
    "From wk6-1\n",
    "Breakout Solution -- version 1\n",
    "'''\n",
    "\n",
    "def solve_eqn(M, b):\n",
    "    try: \n",
    "        Minv = M.I\n",
    "    except:\n",
    "        print('Singular Matrix: No inverse.')\n",
    "        return\n",
    "    else:\n",
    "        return np.dot(Minv, b)"
   ]
  },
  {
   "cell_type": "code",
   "execution_count": 3,
   "metadata": {
    "collapsed": true
   },
   "outputs": [],
   "source": [
    "M3 = np.matrix([[-3. , -5., 1.], [9. ,14., 1.],  [18., 29., -2.]])"
   ]
  },
  {
   "cell_type": "code",
   "execution_count": 4,
   "metadata": {},
   "outputs": [
    {
     "name": "stdout",
     "output_type": "stream",
     "text": [
      "The matrix:\n",
      " [[ -3.  -5.   1.]\n",
      " [  9.  14.   1.]\n",
      " [ 18.  29.  -2.]]\n",
      "The diagonal elements:\n",
      " [ -3.  14.  -2.]\n",
      "The diagonal matrix:\n",
      " [[ -3.   0.   0.]\n",
      " [  0.  14.   0.]\n",
      " [  0.   0.  -2.]]\n"
     ]
    }
   ],
   "source": [
    "'''How to extract the diagonal part of a matrix'''\n",
    "\n",
    "D3 = np.diag(M3)\n",
    "print(\"The matrix:\\n\", M3)\n",
    "print(\"The diagonal elements:\\n\", D3)\n",
    "\n",
    "# Returns True if two arrays are element-wise equal \n",
    "# within a tolerance.\n",
    "# A bit like the Python built-in .any() or .all() methods.\n",
    "print(\"The diagonal matrix:\\n\", np.diagflat(D3))\n"
   ]
  },
  {
   "cell_type": "code",
   "execution_count": 5,
   "metadata": {},
   "outputs": [
    {
     "name": "stdout",
     "output_type": "stream",
     "text": [
      "[[-3. -5.  1.]]\n",
      "[[-3. -5.  1.]]\n"
     ]
    }
   ],
   "source": [
    "'''\n",
    "index slicing for matrice: the 0th row\n",
    "'''\n",
    "print(M3[0,:])\n",
    "print(M3[0,])"
   ]
  },
  {
   "cell_type": "code",
   "execution_count": 6,
   "metadata": {},
   "outputs": [
    {
     "name": "stdout",
     "output_type": "stream",
     "text": [
      "[[ 1.]\n",
      " [ 1.]\n",
      " [-2.]]\n"
     ]
    }
   ],
   "source": [
    "'''\n",
    "index slicing for matrice: the 2nd column\n",
    "'''\n",
    "print(M3[:, 2])\n",
    "# print(M3[, 2])"
   ]
  },
  {
   "cell_type": "code",
   "execution_count": 7,
   "metadata": {},
   "outputs": [
    {
     "data": {
      "text/plain": [
       "array([[ 0.41874414,  0.14901074,  0.00474184],\n",
       "       [ 0.87912722,  0.87112633,  0.35677493]])"
      ]
     },
     "execution_count": 7,
     "metadata": {},
     "output_type": "execute_result"
    }
   ],
   "source": [
    "randmat = np.random.rand(2, 3)\n",
    "randmat"
   ]
  },
  {
   "cell_type": "code",
   "execution_count": 8,
   "metadata": {},
   "outputs": [
    {
     "data": {
      "text/plain": [
       "(3, 3)"
      ]
     },
     "execution_count": 8,
     "metadata": {},
     "output_type": "execute_result"
    }
   ],
   "source": [
    "M3.shape"
   ]
  },
  {
   "cell_type": "code",
   "execution_count": 9,
   "metadata": {},
   "outputs": [
    {
     "data": {
      "text/plain": [
       "array([[ 0.12381583,  0.75884595,  0.92189665],\n",
       "       [ 0.92165085,  0.40934285,  0.81972509],\n",
       "       [ 0.58726281,  0.25901538,  0.27226031]])"
      ]
     },
     "execution_count": 9,
     "metadata": {},
     "output_type": "execute_result"
    }
   ],
   "source": [
    "np.random.rand(M3.shape[0], M3.shape[1])"
   ]
  },
  {
   "cell_type": "markdown",
   "metadata": {},
   "source": [
    "## Quiz:\n",
    "### What's a better way to do \n",
    "\n",
    "     np.random.rand(M3.shape[0], M3.shape[1])"
   ]
  },
  {
   "cell_type": "code",
   "execution_count": 10,
   "metadata": {},
   "outputs": [
    {
     "data": {
      "text/plain": [
       "array([[ 0.21706633,  0.65307209,  0.12733292],\n",
       "       [ 0.75650866,  0.80408214,  0.75624453],\n",
       "       [ 0.32539789,  0.97806243,  0.53717656]])"
      ]
     },
     "execution_count": 10,
     "metadata": {},
     "output_type": "execute_result"
    }
   ],
   "source": [
    "np.random.rand(*M3.shape)"
   ]
  },
  {
   "cell_type": "code",
   "execution_count": 11,
   "metadata": {
    "scrolled": true
   },
   "outputs": [
    {
     "name": "stdout",
     "output_type": "stream",
     "text": [
      "M3:\n",
      " [[ -3.  -5.   1.]\n",
      " [  9.  14.   1.]\n",
      " [ 18.  29.  -2.]]\n",
      "M4:\n",
      " [[ -2.9999536   -4.99996169   1.00008104]\n",
      " [  9.00009259  14.00004572   1.00005216]\n",
      " [ 18.00002471  29.00001856  -1.99997209]]\n",
      "Are M3 and M4 the same within a specified tolerance: True\n"
     ]
    }
   ],
   "source": [
    "'''Compare Matrices'''\n",
    "\n",
    "epsilon = 1e-4*np.random.rand(*M3.shape)\n",
    "\n",
    "                              \n",
    "M4 = M3 + epsilon\n",
    "\n",
    "print(\"M3:\\n\", M3)\n",
    "print(\"M4:\\n\", M4)\n",
    "\n",
    "tol = 1e-3\n",
    "print(\"Are M3 and M4 the same within a specified tolerance:\", \\\n",
    "      np.allclose(M3, M4, rtol = tol))"
   ]
  },
  {
   "cell_type": "markdown",
   "metadata": {},
   "source": [
    "## 2. Relaxation Method and the Laplace Equation.\n",
    "\n",
    "\n",
    "### The name, \"Relaxation Method\":\n",
    "\n",
    "### For example, for the diffusion equation, an initial temperature distribution $u(x, t)$ \"relaxes\" to an equilibrium solution as $t \\to \\infty$.\n",
    "\n",
    "(See Numerical Recipes 3rd. Ed. p. 1059)"
   ]
  },
  {
   "cell_type": "markdown",
   "metadata": {},
   "source": [
    "## Relaxation Methods: The Jacobi Method\n",
    "### Solving a linear set of equations"
   ]
  },
  {
   "cell_type": "markdown",
   "metadata": {},
   "source": [
    "## Breakout Exercise -- The Jacobi Method Part I:\n",
    "\n",
    "### Given\n",
    "\n",
    "\n",
    "$A = \\begin{bmatrix}\n",
    " 10 & -1 & 2 & 0 \\\\\n",
    " -1 & 11 & -1 & 3 \\\\\n",
    " 2 & -1 & 10 & -1 \\\\\n",
    " 0 & 3 & -1 & 8 \\\\\n",
    "\\end{bmatrix}$\n",
    "\n",
    "## and\n",
    "\n",
    "$b = \\begin{bmatrix}\n",
    " 6 \\\\\n",
    " 25 \\\\\n",
    " -11 \\\\\n",
    " 15 \\\\\n",
    "\\end{bmatrix}$\n",
    "\n",
    "\n",
    "## Find a way to print:\n",
    "    System of Linear Equations:\n",
    "    10.0*x1 + -1.0*x2 + 2.0*x3 + 0.0*x4=6.0\n",
    "    -1.0*x1 + 11.0*x2 + -1.0*x3 + 3.0*x4=25.0\n",
    "    2.0*x1 + -1.0*x2 + 10.0*x3 + -1.0*x4=-11.0\n",
    "    0.0*x1 + 3.0*x2 + -1.0*x3 + 8.0*x4=15.0\n",
    "    \n",
    "## _Hint_: Use list comprehension to create a formatted string for the terms for each row, and then use string method to insert the \"+\" sign."
   ]
  },
  {
   "cell_type": "code",
   "execution_count": 12,
   "metadata": {},
   "outputs": [
    {
     "name": "stdout",
     "output_type": "stream",
     "text": [
      "(4,)\n",
      "(1, 4)\n",
      "[ 0  2 -1  5]\n",
      "[[ 0]\n",
      " [ 2]\n",
      " [-1]\n",
      " [ 5]]\n",
      "[ True  True  True  True]\n"
     ]
    }
   ],
   "source": [
    "'''\n",
    "Differences between np.array and np.matrix:\n",
    "\n",
    "- certain methods only apply to np.matrix objects\n",
    "- np.matrix is always a 2D object, with *two* indices -- even for a column matrix;\n",
    "  but np.array, a 1D array only has one index: see examples below\n",
    "\n",
    "'''\n",
    "\n",
    "\n",
    "v_arr = np.array([0, 2, -1, 5])\n",
    "v_col_mat = np.matrix([0, 2, -1, 5])\n",
    "\n",
    "print(v_arr.shape)\n",
    "print(v_col_mat.shape)\n",
    "\n",
    "print(v_arr.T)\n",
    "print(v_col_mat.T)\n",
    "\n",
    "print(v_arr.T == v_arr)\n"
   ]
  },
  {
   "cell_type": "markdown",
   "metadata": {},
   "source": [
    "## Breakout Exercise -- The Jacobi Method Part II:\n",
    "\n",
    "- ### Use the Jacobi Method to solve this set of linear equation\n",
    "- ### Specify a tolerance, tol, and a maximum amount of iterations to take, max_iter.\n",
    "- ### Use simple matrix inversion to verify your answer"
   ]
  },
  {
   "cell_type": "code",
   "execution_count": 13,
   "metadata": {
    "collapsed": true
   },
   "outputs": [],
   "source": [
    "def jacobi(A, b, tol=1e-7):\n",
    "    d = np.diag(A)\n",
    "    D = np.matrix(np.diagflat(d))\n",
    "    R = A - D\n",
    "    x = np.dot(D.I, b)\n",
    "    x0 = np.dot(D.I, b - np.dot(R, x))\n",
    "    while (not np.allclose(x0, x, rtol = tol)):\n",
    "        x = np.dot(D.I, b - np.dot(R, x0))\n",
    "        x, x0 = x0, x\n",
    "        \n",
    "    return x0"
   ]
  },
  {
   "cell_type": "code",
   "execution_count": 14,
   "metadata": {
    "collapsed": true
   },
   "outputs": [],
   "source": [
    "def jacobi_i(A, b, tol=1e-7):\n",
    "    d = np.diag(A)\n",
    "#     D = np.matrix(np.diagflat(d))\n",
    "    R = A - D\n",
    "    x = np.dot(D.I, b)\n",
    "    x0 = np.dot(D.I, b - np.dot(R, x))\n",
    "    while (not np.allclose(x0, x, rtol = tol)):\n",
    "        for i in range(R.shape[0]):\n",
    "            x[i,] = 1 / d[i] * (b[i, ])"
   ]
  },
  {
   "cell_type": "code",
   "execution_count": 15,
   "metadata": {
    "collapsed": true
   },
   "outputs": [],
   "source": [
    "def jacobi_a(A, B, max_iter=100,tol=1e-4):\n",
    "    x = np.diag(A)\n",
    "    R = A - np.diagflat(D)\n",
    "    d = np.dot(D.I, b)\n",
    "    while (counter<max_iter):\n",
    "        d=np.dot(D.I,(B-d))"
   ]
  },
  {
   "cell_type": "code",
   "execution_count": 16,
   "metadata": {},
   "outputs": [
    {
     "name": "stdout",
     "output_type": "stream",
     "text": [
      "[[ 0.99999999]\n",
      " [ 2.00000002]\n",
      " [-1.00000001]\n",
      " [ 1.00000002]]\n",
      "[[  5.99999985]\n",
      " [ 25.00000028]\n",
      " [-11.0000002 ]\n",
      " [ 15.00000023]]\n"
     ]
    }
   ],
   "source": [
    "A = np.matrix([[10., -1., 2., 0.], [-1., 11., -1., 3.],  [2., -1., 10., -1.], [0., 3., -1., 8.]])\n",
    "# b = np.matrix(np.array([6., 25., -11., 15.]))\n",
    "b = np.matrix([[6.], [25.], [-11.], [15.]])\n",
    "x = jacobi(A, b)\n",
    "\n",
    "print(x)\n",
    "print(np.dot(A, x))"
   ]
  },
  {
   "cell_type": "code",
   "execution_count": 17,
   "metadata": {},
   "outputs": [
    {
     "name": "stdout",
     "output_type": "stream",
     "text": [
      "10.0*x1 + -1.0*x2 + 2.0*x3 + 0.0*x4=[[ 6.]]\n",
      "-1.0*x1 + 11.0*x2 + -1.0*x3 + 3.0*x4=[[ 25.]]\n",
      "2.0*x1 + -1.0*x2 + 10.0*x3 + -1.0*x4=[[-11.]]\n",
      "0.0*x1 + 3.0*x2 + -1.0*x3 + 8.0*x4=[[ 15.]]\n"
     ]
    }
   ],
   "source": [
    "for i in range(A.shape[0]):\n",
    "    row = [\"{}*x{}\".format(A[i, j], j + 1) for j in range(A.shape[1])]\n",
    "    print(\" + \".join(row) + \"=\" + str(b[i]))"
   ]
  },
  {
   "cell_type": "code",
   "execution_count": 18,
   "metadata": {},
   "outputs": [
    {
     "name": "stdout",
     "output_type": "stream",
     "text": [
      "[[ 0 -1  2  0]\n",
      " [-1  0 -1  3]\n",
      " [ 2 -1  0 -1]\n",
      " [ 0  3 -1  0]]\n"
     ]
    }
   ],
   "source": [
    "a = np.matrix([[10, -1, 2, 0], \n",
    "           [-1, 11, -1, 3], \n",
    "           [2, -1, 10, -1], \n",
    "           [0, 3, -1, 8]])\n",
    "print(a - np.diag(np.diag(a)))"
   ]
  },
  {
   "cell_type": "markdown",
   "metadata": {},
   "source": [
    "## Relaxation Methods: The Laplace Equation\n"
   ]
  },
  {
   "cell_type": "markdown",
   "metadata": {},
   "source": [
    "More at http://en.wikipedia.org/wiki/Relaxation_(iterative_method)"
   ]
  },
  {
   "cell_type": "code",
   "execution_count": 19,
   "metadata": {},
   "outputs": [
    {
     "name": "stdout",
     "output_type": "stream",
     "text": [
      "[ 0.          0.09999645  0.19999358  0.2999916   0.39999061  0.49999061\n",
      "  0.5999915   0.69999313  0.79999525  0.89999763  1.        ]\n"
     ]
    },
    {
     "data": {
      "image/png": "[encoded data removed]",
      "text/plain": [
       "<matplotlib.figure.Figure at 0x10ea8ac50>"
      ]
     },
     "metadata": {},
     "output_type": "display_data"
    }
   ],
   "source": [
    "%matplotlib inline\n",
    "'''Relaxation Method: One dimensional example'''\n",
    "import numpy as np\n",
    "import matplotlib.pyplot as plt\n",
    "\n",
    "NX = 11\n",
    "\n",
    "#initialization\n",
    "V = np.zeros(NX)\n",
    "\n",
    "\n",
    "#Boundary Conditions:\n",
    "V[NX-1] = 1.\n",
    "V[0] = 0\n",
    "maxdiff = 1e-6\n",
    "diff = 1\n",
    "x = np.arange(NX)\n",
    "\n",
    "while diff > maxdiff:\n",
    "    diff = 0.         #crucial!!\n",
    "    # start from 1 and end at NX-2: because you don't want to change the BC!!\n",
    "    for i in range(1, NX-1):    \n",
    "        newV = (V[i-1]+V[i+1])/2\n",
    "        prev_diff = abs(newV - V[i])\n",
    "        # to find the maximum difference in each loop (going over all interior points).\n",
    "        V[i] = newV\n",
    "        if diff < prev_diff:    \n",
    "            diff = prev_diff\n",
    "  \n",
    "            \n",
    "print(V)\n",
    "plt.plot(x, V)\n",
    "plt.show()\n",
    "          "
   ]
  },
  {
   "cell_type": "markdown",
   "metadata": {},
   "source": [
    "## The Physics:\n",
    "### This corresponds to the electric potential of a parallel plate capacitor \n",
    "### (length, width >> thickness)"
   ]
  },
  {
   "cell_type": "code",
   "execution_count": 20,
   "metadata": {},
   "outputs": [
    {
     "ename": "NameError",
     "evalue": "name 'rand' is not defined",
     "output_type": "error",
     "traceback": [
      "\u001b[0;31m---------------------------------------------------------------------------\u001b[0m",
      "\u001b[0;31mNameError\u001b[0m                                 Traceback (most recent call last)",
      "\u001b[0;32m<ipython-input-20-6577cf17fb07>\u001b[0m in \u001b[0;36m<module>\u001b[0;34m()\u001b[0m\n\u001b[1;32m     17\u001b[0m \u001b[0;34m\u001b[0m\u001b[0m\n\u001b[1;32m     18\u001b[0m \u001b[0;34m\u001b[0m\u001b[0m\n\u001b[0;32m---> 19\u001b[0;31m \u001b[0mV\u001b[0m \u001b[0;34m=\u001b[0m \u001b[0mrand\u001b[0m\u001b[0;34m(\u001b[0m\u001b[0mNX\u001b[0m\u001b[0;34m)\u001b[0m\u001b[0;34m*\u001b[0m\u001b[0;36m1e12\u001b[0m    \u001b[0;31m# or even crazily large random numbers!\u001b[0m\u001b[0;34m\u001b[0m\u001b[0m\n\u001b[0m\u001b[1;32m     20\u001b[0m \u001b[0;34m\u001b[0m\u001b[0m\n\u001b[1;32m     21\u001b[0m \u001b[0;34m\u001b[0m\u001b[0m\n",
      "\u001b[0;31mNameError\u001b[0m: name 'rand' is not defined"
     ]
    }
   ],
   "source": [
    "%matplotlib inline\n",
    "'''\n",
    "Now the subtleties\n",
    "1. I can remove the if statement\n",
    "2. I can use random numbers to initialize the interior points.\n",
    "'''\n",
    "import sys\n",
    "import numpy as np\n",
    "import matplotlib.pyplot as plt\n",
    "\n",
    "NX = 11\n",
    "\n",
    "#initialization\n",
    "# V = np.zeros(NX)\n",
    "\n",
    "# V = rand(NX)    #yes I can initialize with random numbers!\n",
    "\n",
    "\n",
    "V = rand(NX)*1e12    # or even crazily large random numbers!\n",
    "\n",
    "\n",
    "#Boundary Conditions:\n",
    "V[NX-1] = 1.\n",
    "V[0] = 0\n",
    "maxdiff = 1e-6\n",
    "diff = 1\n",
    "x = np.arange(NX)\n",
    "\n",
    "while diff > maxdiff:\n",
    "    for i in range(1, NX-1):    # start from 1 and end at NX-1: because you don't want to change the BC!!!!  \n",
    "        newV = (V[i-1]+V[i+1])/2\n",
    "        diff = abs(newV - V[i])\n",
    "        V[i] = newV\n",
    "\n",
    "            \n",
    "print(V)\n",
    "plt.plot(x, V)\n",
    "plt.show()\n",
    "          "
   ]
  },
  {
   "cell_type": "markdown",
   "metadata": {},
   "source": [
    "## Breakout Problem:\n",
    "### For a long rectangular tube (say 10 by 10), the potential on two opposite sides = 1 volt, and the potential on the other two sides = 0.  \n",
    "### Write a program to find V(x, y) in the interior of the tube. \n",
    "### Then plot the result as a surface plot."
   ]
  },
  {
   "cell_type": "markdown",
   "metadata": {},
   "source": [
    "## We will see the connection between PDE and linear algebra next week."
   ]
  },
  {
   "cell_type": "markdown",
   "metadata": {},
   "source": [
    "## End of week 6-2"
   ]
  }
 ],
 "metadata": {
  "kernelspec": {
   "display_name": "Python 3",
   "language": "python",
   "name": "python3"
  },
  "language_info": {
   "codemirror_mode": {
    "name": "ipython",
    "version": 3
   },
   "file_extension": ".py",
   "mimetype": "text/x-python",
   "name": "python",
   "nbconvert_exporter": "python",
   "pygments_lexer": "ipython3",
   "version": "3.6.3"
  }
 },
 "nbformat": 4,
 "nbformat_minor": 1
}
