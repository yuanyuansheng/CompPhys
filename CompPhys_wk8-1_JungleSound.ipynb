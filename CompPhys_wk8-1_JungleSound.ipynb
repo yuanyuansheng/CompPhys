{
 "cells": [
  {
   "cell_type": "markdown",
   "metadata": {},
   "source": [
    "## See also wk10-1\\_Complex\\_DFT\n",
    "\n",
    "## Breakout: download animal sounds in wav format and make a class that make jungle sound for 5 - 10 sec.\n",
    "\n",
    "- ### You can specify the kinds of animals\n",
    "- ### how many of each\n",
    "- ### how loud each should be\n",
    "- ### optional: time-variation of an animal sound\n",
    "- ### If you hear what sounds like noise: very likely it's due to sound saturation, meaning, sound level exceeding 2^16-1; a very likely scenario for the combined sound.\n",
    "- ### reformat_sound(play_rate, duration, sound_rate, sound)\n",
    "\n",
    "    This function brings all (higher) sampling rates down to play_rate.\n",
    "    \n",
    "    It also turns stereo channels into mono-channel.\n",
    "    \n",
    "    \n",
    "                    # make it mono-channel and with integer-second length\n",
    "                    if len(sound.shape) > 1:\n",
    "\n",
    "    \n",
    "- ### You may use the play_sound() function you wrote last time or Audio from IPython.lib.display"
   ]
  }
 ],
 "metadata": {
  "kernelspec": {
   "display_name": "Python 3",
   "language": "python",
   "name": "python3"
  },
  "language_info": {
   "codemirror_mode": {
    "name": "ipython",
    "version": 3
   },
   "file_extension": ".py",
   "mimetype": "text/x-python",
   "name": "python",
   "nbconvert_exporter": "python",
   "pygments_lexer": "ipython3",
   "version": "3.6.3"
  }
 },
 "nbformat": 4,
 "nbformat_minor": 1
}
